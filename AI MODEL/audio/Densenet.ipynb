{
  "nbformat": 4,
  "nbformat_minor": 0,
  "metadata": {
    "colab": {
      "name": "model.ipynb",
      "provenance": [],
      "collapsed_sections": []
    },
    "kernelspec": {
      "name": "python3",
      "display_name": "Python 3"
    },
    "accelerator": "GPU"
  },
  "cells": [
    {
      "cell_type": "code",
      "metadata": {
        "id": "XZmUplwOlW-v",
        "outputId": "3f9e6a7e-6213-4117-aa6f-f4d3135ce693",
        "colab": {
          "base_uri": "https://localhost:8080/"
        }
      },
      "source": [
        "from google.colab import drive\n",
        "drive.mount('/content/drive')"
      ],
      "execution_count": null,
      "outputs": [
        {
          "output_type": "stream",
          "text": [
            "Mounted at /content/drive\n"
          ],
          "name": "stdout"
        }
      ]
    },
    {
      "cell_type": "code",
      "metadata": {
        "id": "ebHM-A5skvtC"
      },
      "source": [
        "import pandas as pd\n",
        "import numpy as np\n",
        "import os\n",
        "import shutil\n",
        "from tqdm import tqdm\n",
        "import tensorflow as tf\n",
        "from tensorflow import keras\n",
        "import cv2\n",
        "import matplotlib.pyplot as plt\n",
        "from tensorflow.keras.preprocessing import image\n",
        "from tensorflow.keras.models import *\n",
        "from tensorflow.keras.layers import *\n",
        "from keras.callbacks import ModelCheckpoint, EarlyStopping, ReduceLROnPlateau\n",
        "from keras.optimizers import Adam"
      ],
      "execution_count": null,
      "outputs": []
    },
    {
      "cell_type": "code",
      "metadata": {
        "id": "CGqEIrO9k1Wm",
        "outputId": "1e8787ab-1dd8-43d1-a536-dab239ec53f0",
        "colab": {
          "base_uri": "https://localhost:8080/"
        }
      },
      "source": [
        "#keras 사전훈련모델 불러오기 \n",
        "feature_model = keras.applications.DenseNet201(input_shape=(224,224,3), weights=\"imagenet\", include_top=False)\n",
        "feature_model.trainable= False"
      ],
      "execution_count": null,
      "outputs": [
        {
          "output_type": "stream",
          "text": [
            "Downloading data from https://storage.googleapis.com/tensorflow/keras-applications/densenet/densenet201_weights_tf_dim_ordering_tf_kernels_notop.h5\n",
            "74842112/74836368 [==============================] - 1s 0us/step\n"
          ],
          "name": "stdout"
        }
      ]
    },
    {
      "cell_type": "code",
      "metadata": {
        "id": "BL7dy91IO59L"
      },
      "source": [
        "feature_model.summary()"
      ],
      "execution_count": null,
      "outputs": []
    },
    {
      "cell_type": "code",
      "metadata": {
        "id": "7pScqQJREpjl"
      },
      "source": [
        "feature_model.save('/content/drive/My Drive/Densnet_feature.h5')"
      ],
      "execution_count": null,
      "outputs": []
    },
    {
      "cell_type": "code",
      "metadata": {
        "id": "zQINnENQlDGY",
        "outputId": "b53cf050-c1a3-4f3f-e18b-58930a9b1786",
        "colab": {
          "base_uri": "https://localhost:8080/"
        }
      },
      "source": [
        "from tensorflow.python.keras.preprocessing.image import ImageDataGenerator\n",
        "\n",
        "image_size = 224\n",
        "batch_size = 32\n",
        "\n",
        "train_datagen = ImageDataGenerator(rescale=1./255., validation_split=0.25)\n",
        "\n",
        "train_generator = train_datagen.flow_from_directory(directory = '/content/drive/My Drive/audio_predict/train_image',\n",
        "                                                    subset = 'training',   \n",
        "                                                    batch_size = batch_size,\n",
        "                                                    seed = 0,\n",
        "                                                    shuffle = True,\n",
        "                                                    class_mode = 'categorical',\n",
        "                                                    target_size = (image_size,image_size))\n",
        "\n",
        "valid_generator = train_datagen.flow_from_directory(directory = '/content/drive/My Drive/audio_predict/train_image',\n",
        "                                                    subset = 'validation',\n",
        "                                                    batch_size = batch_size,\n",
        "                                                    seed = 0,\n",
        "                                                    shuffle = True,\n",
        "                                                    class_mode = 'categorical',\n",
        "                                                    target_size = (image_size,image_size))"
      ],
      "execution_count": null,
      "outputs": [
        {
          "output_type": "stream",
          "text": [
            "Found 3818 images belonging to 2 classes.\n",
            "Found 1272 images belonging to 2 classes.\n"
          ],
          "name": "stdout"
        }
      ]
    },
    {
      "cell_type": "code",
      "metadata": {
        "id": "tWFdhTtVl3XT",
        "outputId": "07149d49-c8df-4a2e-b5c4-c8b7dc4d7dc3",
        "colab": {
          "base_uri": "https://localhost:8080/"
        }
      },
      "source": [
        "train_generator.class_indices"
      ],
      "execution_count": null,
      "outputs": [
        {
          "output_type": "execute_result",
          "data": {
            "text/plain": [
              "{'0': 0, '1': 1}"
            ]
          },
          "metadata": {
            "tags": []
          },
          "execution_count": 12
        }
      ]
    },
    {
      "cell_type": "code",
      "metadata": {
        "id": "HaS4ahGDl6Ld",
        "outputId": "ab6b00f3-fe48-41e5-a694-6a0ad72630f5",
        "colab": {
          "base_uri": "https://localhost:8080/"
        }
      },
      "source": [
        "# 이미지 보강 2배\n",
        "batch_step = (3818) // 32 #데이터 증폭 시켜 배치 스텝구하기\n",
        "train_features = [] \n",
        "train_Y = [] \n",
        "\n",
        "for idx in tqdm(range(batch_step)):\n",
        "  x, y = train_generator.next()\n",
        "  train_Y.extend(y) \n",
        "\n",
        "  feature = feature_model.predict(x)\n",
        "  train_features.extend(feature)\n",
        "\n",
        "#array 전환 \n",
        "train_features = np.array(train_features)\n",
        "train_Y = np.array(train_Y)\n",
        "\n",
        "print(train_features.shape)\n",
        "print(train_Y.shape)\n",
        "print(train_Y)"
      ],
      "execution_count": null,
      "outputs": [
        {
          "output_type": "stream",
          "text": [
            "100%|██████████| 119/119 [30:45<00:00, 15.51s/it]\n"
          ],
          "name": "stderr"
        },
        {
          "output_type": "stream",
          "text": [
            "(3808, 7, 7, 1920)\n",
            "(3808, 2)\n",
            "[[1. 0.]\n",
            " [0. 1.]\n",
            " [0. 1.]\n",
            " ...\n",
            " [1. 0.]\n",
            " [1. 0.]\n",
            " [1. 0.]]\n"
          ],
          "name": "stdout"
        }
      ]
    },
    {
      "cell_type": "code",
      "metadata": {
        "id": "EvE85nOYmnAD"
      },
      "source": [
        "valid_features = [] \n",
        "valid_Y = [] \n",
        "\n",
        "batch_step = (1281) // 32\n",
        "\n",
        "for idx in tqdm(range(batch_step)):\n",
        "    \n",
        "    x, y = valid_generator.next()\n",
        "    valid_Y.extend(y)\n",
        "  \n",
        "    feature = feature_model.predict(x)\n",
        "    valid_features.extend(feature)\n",
        "\n",
        "valid_features = np.array(valid_features)\n",
        "valid_Y = np.array(valid_Y)\n",
        "\n",
        "print(valid_features.shape)\n",
        "print(valid_Y.shape)"
      ],
      "execution_count": null,
      "outputs": []
    },
    {
      "cell_type": "code",
      "metadata": {
        "id": "w4g6DFJ0uUoB"
      },
      "source": [
        "np.save('/content/drive/My Drive/train_features_Dense.npy',train_features )\n",
        "np.save('/content/drive/My Drive/train_Y_Dense.npy',train_Y )"
      ],
      "execution_count": null,
      "outputs": []
    },
    {
      "cell_type": "code",
      "metadata": {
        "id": "DJqfi-nO3U5I"
      },
      "source": [
        "np.save('/content/drive/My Drive/valid_features_Dense.npy',valid_features )\n",
        "np.save('/content/drive/My Drive/valid_Y_Dense.npy',valid_Y )"
      ],
      "execution_count": null,
      "outputs": []
    },
    {
      "cell_type": "code",
      "metadata": {
        "id": "N11E15iw3aiS"
      },
      "source": [
        "def build_model(feature_model):\n",
        "    \n",
        "    inputs = Input(shape=feature_model.output.shape[1:])\n",
        "    \n",
        "    x = GlobalAveragePooling2D()(inputs)\n",
        "    x = BatchNormalization()(x)\n",
        "    x = Dense(128, activation='relu')(x)\n",
        "    x = Dropout(0.5)(x)\n",
        "    \n",
        "    outputs = Dense(2, activation='softmax', name='covid_output')(x)\n",
        "\n",
        "    model = Model(inputs=inputs,\n",
        "                 outputs = outputs)\n",
        "    \n",
        "    init_lr = 0.0001\n",
        "    opt = Adam(lr=init_lr)\n",
        "    model.compile(optimizer=opt, \n",
        "                  loss= 'categorical_crossentropy',\n",
        "                  metrics='accuracy')\n",
        "    \n",
        "    \n",
        "    return model"
      ],
      "execution_count": null,
      "outputs": []
    },
    {
      "cell_type": "code",
      "metadata": {
        "id": "E9rsspb-CbPW",
        "outputId": "4fb05d84-ac50-496c-b666-7f8bbe9abf9a",
        "colab": {
          "base_uri": "https://localhost:8080/"
        }
      },
      "source": [
        "model = build_model(feature_model)\n",
        "\n",
        "\n",
        "model.summary()"
      ],
      "execution_count": null,
      "outputs": [
        {
          "output_type": "stream",
          "text": [
            "Model: \"functional_5\"\n",
            "_________________________________________________________________\n",
            "Layer (type)                 Output Shape              Param #   \n",
            "=================================================================\n",
            "input_4 (InputLayer)         [(None, 7, 7, 1920)]      0         \n",
            "_________________________________________________________________\n",
            "global_average_pooling2d_2 ( (None, 1920)              0         \n",
            "_________________________________________________________________\n",
            "batch_normalization_2 (Batch (None, 1920)              7680      \n",
            "_________________________________________________________________\n",
            "dense_2 (Dense)              (None, 128)               245888    \n",
            "_________________________________________________________________\n",
            "dropout_2 (Dropout)          (None, 128)               0         \n",
            "_________________________________________________________________\n",
            "covid_output (Dense)         (None, 2)                 258       \n",
            "=================================================================\n",
            "Total params: 253,826\n",
            "Trainable params: 249,986\n",
            "Non-trainable params: 3,840\n",
            "_________________________________________________________________\n"
          ],
          "name": "stdout"
        }
      ]
    },
    {
      "cell_type": "code",
      "metadata": {
        "id": "Z0_W30vwCtE0",
        "outputId": "99197525-ee50-45be-ba52-5d1d6f9e15f0",
        "colab": {
          "base_uri": "https://localhost:8080/"
        }
      },
      "source": [
        "from keras.callbacks import ModelCheckpoint, EarlyStopping\n",
        "\n",
        "checkpoint_path = '/content/drive/My Drive/check.h5'\n",
        "\n",
        "cp = ModelCheckpoint(filepath=checkpoint_path,\n",
        "                                save_weights_only=True,\n",
        "                                save_best_only=True,\n",
        "                                monitor='val_accuracy',\n",
        "                                verbose=1)\n",
        "\n",
        "es = EarlyStopping(patience=20, verbose=1)\n",
        "history = model.fit(train_features, train_Y, \n",
        "                    validation_data=(valid_features, valid_Y),\n",
        "                    epochs = 100,\n",
        "                    batch_size = 32,\n",
        "                    callbacks=[es,cp])\n",
        "model.summary()"
      ],
      "execution_count": null,
      "outputs": [
        {
          "output_type": "stream",
          "text": [
            "Epoch 1/100\n",
            "117/119 [============================>.] - ETA: 0s - loss: 0.6789 - accuracy: 0.6886\n",
            "Epoch 00001: val_accuracy improved from -inf to 0.72406, saving model to /content/drive/My Drive/check.h5\n",
            "119/119 [==============================] - 2s 16ms/step - loss: 0.6757 - accuracy: 0.6901 - val_loss: 0.5742 - val_accuracy: 0.7241\n",
            "Epoch 2/100\n",
            "115/119 [===========================>..] - ETA: 0s - loss: 0.5350 - accuracy: 0.7443\n",
            "Epoch 00002: val_accuracy improved from 0.72406 to 0.72484, saving model to /content/drive/My Drive/check.h5\n",
            "119/119 [==============================] - 1s 10ms/step - loss: 0.5345 - accuracy: 0.7463 - val_loss: 0.5520 - val_accuracy: 0.7248\n",
            "Epoch 3/100\n",
            "117/119 [============================>.] - ETA: 0s - loss: 0.4768 - accuracy: 0.7746\n",
            "Epoch 00003: val_accuracy did not improve from 0.72484\n",
            "119/119 [==============================] - 1s 10ms/step - loss: 0.4752 - accuracy: 0.7755 - val_loss: 0.5701 - val_accuracy: 0.7083\n",
            "Epoch 4/100\n",
            "114/119 [===========================>..] - ETA: 0s - loss: 0.4229 - accuracy: 0.8043\n",
            "Epoch 00004: val_accuracy improved from 0.72484 to 0.73192, saving model to /content/drive/My Drive/check.h5\n",
            "119/119 [==============================] - 1s 10ms/step - loss: 0.4214 - accuracy: 0.8044 - val_loss: 0.5558 - val_accuracy: 0.7319\n",
            "Epoch 5/100\n",
            "119/119 [==============================] - ETA: 0s - loss: 0.3913 - accuracy: 0.8275\n",
            "Epoch 00005: val_accuracy did not improve from 0.73192\n",
            "119/119 [==============================] - 1s 10ms/step - loss: 0.3913 - accuracy: 0.8275 - val_loss: 0.5638 - val_accuracy: 0.7303\n",
            "Epoch 6/100\n",
            "117/119 [============================>.] - ETA: 0s - loss: 0.3628 - accuracy: 0.8429\n",
            "Epoch 00006: val_accuracy did not improve from 0.73192\n",
            "119/119 [==============================] - 1s 10ms/step - loss: 0.3631 - accuracy: 0.8432 - val_loss: 0.6053 - val_accuracy: 0.7075\n",
            "Epoch 7/100\n",
            "113/119 [===========================>..] - ETA: 0s - loss: 0.3355 - accuracy: 0.8551\n",
            "Epoch 00007: val_accuracy improved from 0.73192 to 0.73742, saving model to /content/drive/My Drive/check.h5\n",
            "119/119 [==============================] - 1s 10ms/step - loss: 0.3376 - accuracy: 0.8527 - val_loss: 0.5800 - val_accuracy: 0.7374\n",
            "Epoch 8/100\n",
            "119/119 [==============================] - ETA: 0s - loss: 0.3212 - accuracy: 0.8566\n",
            "Epoch 00008: val_accuracy improved from 0.73742 to 0.74057, saving model to /content/drive/My Drive/check.h5\n",
            "119/119 [==============================] - 1s 10ms/step - loss: 0.3212 - accuracy: 0.8566 - val_loss: 0.5675 - val_accuracy: 0.7406\n",
            "Epoch 9/100\n",
            "119/119 [==============================] - ETA: 0s - loss: 0.3065 - accuracy: 0.8700\n",
            "Epoch 00009: val_accuracy improved from 0.74057 to 0.74371, saving model to /content/drive/My Drive/check.h5\n",
            "119/119 [==============================] - 1s 10ms/step - loss: 0.3065 - accuracy: 0.8700 - val_loss: 0.5639 - val_accuracy: 0.7437\n",
            "Epoch 10/100\n",
            "118/119 [============================>.] - ETA: 0s - loss: 0.2807 - accuracy: 0.8819\n",
            "Epoch 00010: val_accuracy improved from 0.74371 to 0.75708, saving model to /content/drive/My Drive/check.h5\n",
            "119/119 [==============================] - 1s 10ms/step - loss: 0.2800 - accuracy: 0.8826 - val_loss: 0.5474 - val_accuracy: 0.7571\n",
            "Epoch 11/100\n",
            "117/119 [============================>.] - ETA: 0s - loss: 0.2693 - accuracy: 0.8942\n",
            "Epoch 00011: val_accuracy did not improve from 0.75708\n",
            "119/119 [==============================] - 1s 10ms/step - loss: 0.2695 - accuracy: 0.8936 - val_loss: 0.5874 - val_accuracy: 0.7429\n",
            "Epoch 12/100\n",
            "117/119 [============================>.] - ETA: 0s - loss: 0.2437 - accuracy: 0.9036\n",
            "Epoch 00012: val_accuracy did not improve from 0.75708\n",
            "119/119 [==============================] - 1s 10ms/step - loss: 0.2433 - accuracy: 0.9039 - val_loss: 0.5733 - val_accuracy: 0.7406\n",
            "Epoch 13/100\n",
            "113/119 [===========================>..] - ETA: 0s - loss: 0.2393 - accuracy: 0.9065\n",
            "Epoch 00013: val_accuracy did not improve from 0.75708\n",
            "119/119 [==============================] - 1s 10ms/step - loss: 0.2414 - accuracy: 0.9044 - val_loss: 0.5628 - val_accuracy: 0.7461\n",
            "Epoch 14/100\n",
            "118/119 [============================>.] - ETA: 0s - loss: 0.2202 - accuracy: 0.9190\n",
            "Epoch 00014: val_accuracy did not improve from 0.75708\n",
            "119/119 [==============================] - 1s 10ms/step - loss: 0.2204 - accuracy: 0.9191 - val_loss: 0.5544 - val_accuracy: 0.7508\n",
            "Epoch 15/100\n",
            "115/119 [===========================>..] - ETA: 0s - loss: 0.2153 - accuracy: 0.9160\n",
            "Epoch 00015: val_accuracy did not improve from 0.75708\n",
            "119/119 [==============================] - 1s 9ms/step - loss: 0.2152 - accuracy: 0.9170 - val_loss: 0.5678 - val_accuracy: 0.7516\n",
            "Epoch 16/100\n",
            "117/119 [============================>.] - ETA: 0s - loss: 0.1936 - accuracy: 0.9306\n",
            "Epoch 00016: val_accuracy did not improve from 0.75708\n",
            "119/119 [==============================] - 1s 10ms/step - loss: 0.1934 - accuracy: 0.9309 - val_loss: 0.5905 - val_accuracy: 0.7390\n",
            "Epoch 17/100\n",
            "113/119 [===========================>..] - ETA: 0s - loss: 0.1849 - accuracy: 0.9331\n",
            "Epoch 00017: val_accuracy did not improve from 0.75708\n",
            "119/119 [==============================] - 1s 10ms/step - loss: 0.1850 - accuracy: 0.9320 - val_loss: 0.5802 - val_accuracy: 0.7500\n",
            "Epoch 18/100\n",
            "116/119 [============================>.] - ETA: 0s - loss: 0.1811 - accuracy: 0.9329\n",
            "Epoch 00018: val_accuracy did not improve from 0.75708\n",
            "119/119 [==============================] - 1s 10ms/step - loss: 0.1808 - accuracy: 0.9328 - val_loss: 0.5979 - val_accuracy: 0.7445\n",
            "Epoch 19/100\n",
            "114/119 [===========================>..] - ETA: 0s - loss: 0.1753 - accuracy: 0.9370\n",
            "Epoch 00019: val_accuracy did not improve from 0.75708\n",
            "119/119 [==============================] - 1s 10ms/step - loss: 0.1750 - accuracy: 0.9378 - val_loss: 0.6115 - val_accuracy: 0.7421\n",
            "Epoch 20/100\n",
            "117/119 [============================>.] - ETA: 0s - loss: 0.1596 - accuracy: 0.9434\n",
            "Epoch 00020: val_accuracy did not improve from 0.75708\n",
            "119/119 [==============================] - 1s 10ms/step - loss: 0.1593 - accuracy: 0.9435 - val_loss: 0.6110 - val_accuracy: 0.7461\n",
            "Epoch 21/100\n",
            "114/119 [===========================>..] - ETA: 0s - loss: 0.1575 - accuracy: 0.9438\n",
            "Epoch 00021: val_accuracy did not improve from 0.75708\n",
            "119/119 [==============================] - 1s 10ms/step - loss: 0.1559 - accuracy: 0.9438 - val_loss: 0.5866 - val_accuracy: 0.7555\n",
            "Epoch 22/100\n",
            "117/119 [============================>.] - ETA: 0s - loss: 0.1486 - accuracy: 0.9509\n",
            "Epoch 00022: val_accuracy did not improve from 0.75708\n",
            "119/119 [==============================] - 1s 10ms/step - loss: 0.1491 - accuracy: 0.9504 - val_loss: 0.6167 - val_accuracy: 0.7437\n",
            "Epoch 23/100\n",
            "116/119 [============================>.] - ETA: 0s - loss: 0.1478 - accuracy: 0.9491\n",
            "Epoch 00023: val_accuracy did not improve from 0.75708\n",
            "119/119 [==============================] - 1s 10ms/step - loss: 0.1489 - accuracy: 0.9485 - val_loss: 0.6198 - val_accuracy: 0.7461\n",
            "Epoch 24/100\n",
            "114/119 [===========================>..] - ETA: 0s - loss: 0.1335 - accuracy: 0.9594\n",
            "Epoch 00024: val_accuracy did not improve from 0.75708\n",
            "119/119 [==============================] - 1s 10ms/step - loss: 0.1354 - accuracy: 0.9585 - val_loss: 0.6512 - val_accuracy: 0.7429\n",
            "Epoch 25/100\n",
            "114/119 [===========================>..] - ETA: 0s - loss: 0.1315 - accuracy: 0.9548\n",
            "Epoch 00025: val_accuracy improved from 0.75708 to 0.76179, saving model to /content/drive/My Drive/check.h5\n",
            "119/119 [==============================] - 2s 14ms/step - loss: 0.1307 - accuracy: 0.9554 - val_loss: 0.6034 - val_accuracy: 0.7618\n",
            "Epoch 26/100\n",
            "113/119 [===========================>..] - ETA: 0s - loss: 0.1213 - accuracy: 0.9627\n",
            "Epoch 00026: val_accuracy improved from 0.76179 to 0.76494, saving model to /content/drive/My Drive/check.h5\n",
            "119/119 [==============================] - 1s 10ms/step - loss: 0.1227 - accuracy: 0.9617 - val_loss: 0.6137 - val_accuracy: 0.7649\n",
            "Epoch 27/100\n",
            "116/119 [============================>.] - ETA: 0s - loss: 0.1206 - accuracy: 0.9596\n",
            "Epoch 00027: val_accuracy did not improve from 0.76494\n",
            "119/119 [==============================] - 1s 10ms/step - loss: 0.1207 - accuracy: 0.9598 - val_loss: 0.6752 - val_accuracy: 0.7414\n",
            "Epoch 28/100\n",
            "117/119 [============================>.] - ETA: 0s - loss: 0.1188 - accuracy: 0.9629\n",
            "Epoch 00028: val_accuracy did not improve from 0.76494\n",
            "119/119 [==============================] - 1s 10ms/step - loss: 0.1182 - accuracy: 0.9632 - val_loss: 0.6190 - val_accuracy: 0.7610\n",
            "Epoch 29/100\n",
            "117/119 [============================>.] - ETA: 0s - loss: 0.1113 - accuracy: 0.9645\n",
            "Epoch 00029: val_accuracy did not improve from 0.76494\n",
            "119/119 [==============================] - 1s 10ms/step - loss: 0.1116 - accuracy: 0.9645 - val_loss: 0.6315 - val_accuracy: 0.7579\n",
            "Epoch 30/100\n",
            "114/119 [===========================>..] - ETA: 0s - loss: 0.1039 - accuracy: 0.9693\n",
            "Epoch 00030: val_accuracy did not improve from 0.76494\n",
            "119/119 [==============================] - 1s 10ms/step - loss: 0.1051 - accuracy: 0.9682 - val_loss: 0.6425 - val_accuracy: 0.7579\n",
            "Epoch 00030: early stopping\n",
            "Model: \"functional_5\"\n",
            "_________________________________________________________________\n",
            "Layer (type)                 Output Shape              Param #   \n",
            "=================================================================\n",
            "input_4 (InputLayer)         [(None, 7, 7, 1920)]      0         \n",
            "_________________________________________________________________\n",
            "global_average_pooling2d_2 ( (None, 1920)              0         \n",
            "_________________________________________________________________\n",
            "batch_normalization_2 (Batch (None, 1920)              7680      \n",
            "_________________________________________________________________\n",
            "dense_2 (Dense)              (None, 128)               245888    \n",
            "_________________________________________________________________\n",
            "dropout_2 (Dropout)          (None, 128)               0         \n",
            "_________________________________________________________________\n",
            "covid_output (Dense)         (None, 2)                 258       \n",
            "=================================================================\n",
            "Total params: 253,826\n",
            "Trainable params: 249,986\n",
            "Non-trainable params: 3,840\n",
            "_________________________________________________________________\n"
          ],
          "name": "stdout"
        }
      ]
    },
    {
      "cell_type": "code",
      "metadata": {
        "id": "CIaTbUKXDAsu",
        "outputId": "60b7c394-6265-45ca-e0d8-70114fa353a9",
        "colab": {
          "base_uri": "https://localhost:8080/",
          "height": 283
        }
      },
      "source": [
        "    import matplotlib.pyplot as plt\n",
        "plt.figure(figsize = (12,4))\n",
        " \n",
        "plt.subplot(1,2,1)\n",
        "plt.plot(history.history['loss'], 'b-', label = 'loss')\n",
        "plt.plot(history.history['val_loss'], 'r--', label = 'val_loss')\n",
        "plt.xlabel('Epoch')\n",
        "plt.legend()\n",
        "\n",
        "plt.subplot(1,2,2)\n",
        "plt.plot(history.history['accuracy'], 'g-', label = 'acc')\n",
        "plt.plot(history.history['val_accuracy'], 'k--', label = 'val_acc')\n",
        "plt.xlabel('Epoch')\n",
        "plt.ylim([0.7, 1])\n",
        "plt.legend()\n",
        "\n",
        "plt.show()"
      ],
      "execution_count": null,
      "outputs": [
        {
          "output_type": "display_data",
          "data": {
            "image/png": "[encoded data removed]",
            "text/plain": [
              "<Figure size 864x288 with 2 Axes>"
            ]
          },
          "metadata": {
            "tags": [],
            "needs_background": "light"
          }
        }
      ]
    },
    {
      "cell_type": "code",
      "metadata": {
        "id": "kKWBujekDV0L",
        "outputId": "a5b8483d-f409-4aec-bffc-069781ab7e8c",
        "colab": {
          "base_uri": "https://localhost:8080/"
        }
      },
      "source": [
        "results = model.evaluate(valid_features, valid_Y)\n",
        "print('Test accuracy: ', results[1])"
      ],
      "execution_count": null,
      "outputs": [
        {
          "output_type": "stream",
          "text": [
            "40/40 [==============================] - 0s 7ms/step - loss: 0.6425 - accuracy: 0.7579\n",
            "Test accuracy:  0.7578616142272949\n"
          ],
          "name": "stdout"
        }
      ]
    },
    {
      "cell_type": "code",
      "metadata": {
        "id": "olSemSytDXj9"
      },
      "source": [
        "model.save('/content/drive/My Drive/Densenet_model!.h5')"
      ],
      "execution_count": null,
      "outputs": []
    },
    {
      "cell_type": "code",
      "metadata": {
        "id": "KfvDqRtJE33F"
      },
      "source": [
        ""
      ],
      "execution_count": null,
      "outputs": []
    }
  ]
}