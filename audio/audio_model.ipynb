{
  "nbformat": 4,
  "nbformat_minor": 0,
  "metadata": {
    "colab": {
      "name": "audio_model.ipynb",
      "provenance": []
    },
    "kernelspec": {
      "name": "python3",
      "display_name": "Python 3"
    },
    "accelerator": "GPU"
  },
  "cells": [
    {
      "cell_type": "code",
      "metadata": {
        "id": "eAg2--y2IZX8",
        "outputId": "b1e2304a-d91f-46df-c272-06a269db9534",
        "colab": {
          "base_uri": "https://localhost:8080/"
        }
      },
      "source": [
        "from google.colab import drive\n",
        "drive.mount('/content/drive')"
      ],
      "execution_count": 2,
      "outputs": [
        {
          "output_type": "stream",
          "text": [
            "Mounted at /content/drive\n"
          ],
          "name": "stdout"
        }
      ]
    },
    {
      "cell_type": "code",
      "metadata": {
        "id": "Q9DnvZzZIUKQ"
      },
      "source": [
        "import tensorflow as tf\n",
        "import pandas as pd\n",
        "import numpy as np\n",
        "import PIL.Image as Image\n",
        "import matplotlib.pyplot as plt\n",
        "import cv2\n",
        "\n",
        "import tensorflow_hub as hub\n",
        "\n",
        "#특징 추출기 불러오기( 완전연결계층 X / input_shape 또한 따로 특정되지 않음 / 사전 훈련 x )\n",
        "res_url = 'https://tfhub.dev/tensorflow/efficientnet/lite4/classification/2'\n",
        "feature_model = tf.keras.Sequential([\n",
        "    hub.KerasLayer(res_url, \n",
        "                   output_shape=(1000,), \n",
        "                   trainable=False)\n",
        "])"
      ],
      "execution_count": 10,
      "outputs": []
    },
    {
      "cell_type": "code",
      "metadata": {
        "id": "DwGlevo_Rq6a",
        "outputId": "c3726916-209c-4af0-e615-7df33d7431a1",
        "colab": {
          "base_uri": "https://localhost:8080/"
        }
      },
      "source": [
        "feature_model.build([None, 224, 224, 3])\n",
        "feature_model.summary()"
      ],
      "execution_count": 11,
      "outputs": [
        {
          "output_type": "stream",
          "text": [
            "Model: \"sequential_4\"\n",
            "_________________________________________________________________\n",
            "Layer (type)                 Output Shape              Param #   \n",
            "=================================================================\n",
            "keras_layer (KerasLayer)     (None, 1000)              13118936  \n",
            "=================================================================\n",
            "Total params: 13,118,936\n",
            "Trainable params: 0\n",
            "Non-trainable params: 13,118,936\n",
            "_________________________________________________________________\n"
          ],
          "name": "stdout"
        }
      ]
    },
    {
      "cell_type": "code",
      "metadata": {
        "id": "TwSqhNxuXhU0"
      },
      "source": [
        "feature_model.save('/content/drive/My Drive/efficientnet_feature.h5')"
      ],
      "execution_count": 28,
      "outputs": []
    },
    {
      "cell_type": "code",
      "metadata": {
        "id": "K_TL9Z7fIhJD",
        "outputId": "f064c3c8-2581-472c-a8ec-213518a007d6",
        "colab": {
          "base_uri": "https://localhost:8080/"
        }
      },
      "source": [
        "from tensorflow.python.keras.preprocessing.image import ImageDataGenerator\n",
        "from keras.applications.inception_resnet_v2 import preprocess_input\n",
        "\n",
        "image_size = 500\n",
        "batch_size = 32\n",
        "\n",
        "# 학습 및 검증 데이터용 ImageDataGenerator 생성해 놓기 \n",
        "train_datagen = ImageDataGenerator(rescale=1./255., \n",
        "                                   validation_split = 0.25)\n",
        "\n",
        "#검증데이터는 정규화 외에 따로 조정 없음 \n",
        "valid_datagen = ImageDataGenerator(rescale=1./255., \n",
        "                                   validation_split = 0.25)\n",
        "\n",
        "#flow_from_directory()는 앞서 배운 flow()와 비슷, 단 경로를 통채로 가져올 수 있음 \n",
        "train_generator = train_datagen.flow_from_directory(directory = '/content/drive/My Drive/mel_spectrogram', #저장 경로 \n",
        "                                                    subset = 'training',   \n",
        "                                                    batch_size = batch_size,\n",
        "                                                    seed = 126,\n",
        "                                                    shuffle = True,\n",
        "                                                    class_mode = 'categorical',\n",
        "                                                    target_size = (image_size,image_size))\n",
        "\n",
        "valid_generator = valid_datagen.flow_from_directory(directory = '/content/drive/My Drive/mel_spectrogram',\n",
        "                                                    subset = 'validation',\n",
        "                                                    batch_size = 1,\n",
        "                                                    seed = 126,\n",
        "                                                    shuffle = True,\n",
        "                                                    class_mode = 'categorical',\n",
        "                                                    target_size = (image_size,image_size))"
      ],
      "execution_count": 12,
      "outputs": [
        {
          "output_type": "stream",
          "text": [
            "Found 1323 images belonging to 2 classes.\n",
            "Found 441 images belonging to 2 classes.\n"
          ],
          "name": "stdout"
        }
      ]
    },
    {
      "cell_type": "code",
      "metadata": {
        "id": "HGNN-SPqRwGE",
        "outputId": "4fb4f456-4cc1-463f-bbb8-0babab2122c1",
        "colab": {
          "base_uri": "https://localhost:8080/"
        }
      },
      "source": [
        "# 학습데이터의 3배정도 이미지가 보강되도록 한다.\n",
        "import numpy as np\n",
        "from tqdm import tqdm\n",
        "\n",
        "image_size = 224\n",
        "batch_size = 32\n",
        "\n",
        "batch_step = (1764 * 2) // batch_size #데이터 증폭 시켜 배치 스텝을 구해준다.(723회)\n",
        "train_features = [] # 빈 리스트 생성 \n",
        "train_Y = [] # 빈 리스트 생성 \n",
        "\n",
        "for idx in tqdm(range(batch_step)): #스텝 만큼 반복\n",
        "  x, y = train_generator.next() #next()를 활용하여 train_generator에 담겨진 [[입력픽셀],[라벨링]] 을 x와 y에 담아 준다.   \n",
        "  train_Y.extend(y) #append()와 비슷한 기능, list에 appending 수행\n",
        "  \n",
        "  # feature_model : 이미 학습이 완료된 특징 추출기 (우리가 불러옴)\n",
        "  # 학습데이터 x 를 활용해서 feature_model을 통과시켜 특징 추출.\n",
        "  feature = feature_model.predict(x)\n",
        "  train_features.extend(feature)\n",
        "\n",
        "#array 전환 \n",
        "train_features = np.array(train_features)\n",
        "train_Y = np.array(train_Y)\n",
        "\n",
        "print(train_features.shape)\n",
        "print(train_Y.shape)\n",
        "print(train_Y)"
      ],
      "execution_count": 14,
      "outputs": [
        {
          "output_type": "stream",
          "text": [
            "100%|██████████| 110/110 [01:13<00:00,  1.50it/s]"
          ],
          "name": "stderr"
        },
        {
          "output_type": "stream",
          "text": [
            "(3478, 1000)\n",
            "(3478, 2)\n",
            "[[0. 1.]\n",
            " [1. 0.]\n",
            " [1. 0.]\n",
            " ...\n",
            " [0. 1.]\n",
            " [1. 0.]\n",
            " [1. 0.]]\n"
          ],
          "name": "stdout"
        },
        {
          "output_type": "stream",
          "text": [
            "\n"
          ],
          "name": "stderr"
        }
      ]
    },
    {
      "cell_type": "code",
      "metadata": {
        "id": "m2SFrfzcSIlq",
        "outputId": "4e39c60e-e4db-4696-e550-4d753c5a853b",
        "colab": {
          "base_uri": "https://localhost:8080/"
        }
      },
      "source": [
        "valid_features = [] # 빈 리스트 생성 \n",
        "valid_Y = [] # 빈 리스트 생성 \n",
        "\n",
        "for idx in tqdm(range(valid_generator.n)): ## valid_generator.n = 2504 (검증데이터의 수)\n",
        "  x, y = valid_generator.next() #next()를 활용하여 valid_generator에 담겨진 [[입력픽셀],[라벨링]] 을 x와 y에 담아 준다.   \n",
        "  valid_Y.extend(y) #append()와 비슷한 기능, list에 appending 수행\n",
        "  \n",
        "  # feature_model : 이미 학습이 완료된 특징 추출기 (우리가 불러옴)\n",
        "  # 학습데이터 x 를 활용해서 feature_model을 통과시켜 특징 추출.\n",
        "  feature = feature_model.predict(x)\n",
        "  valid_features.extend(feature)\n",
        "\n",
        "#array 전환 \n",
        "valid_features = np.array(valid_features)\n",
        "valid_Y = np.array(valid_Y)\n",
        "\n",
        "print(valid_features.shape)\n",
        "print(valid_Y.shape)"
      ],
      "execution_count": 15,
      "outputs": [
        {
          "output_type": "stream",
          "text": [
            "100%|██████████| 441/441 [00:24<00:00, 17.80it/s]"
          ],
          "name": "stderr"
        },
        {
          "output_type": "stream",
          "text": [
            "(441, 1000)\n",
            "(441, 2)\n"
          ],
          "name": "stdout"
        },
        {
          "output_type": "stream",
          "text": [
            "\n"
          ],
          "name": "stderr"
        }
      ]
    },
    {
      "cell_type": "code",
      "metadata": {
        "id": "wJjKJFL4Iihx",
        "outputId": "c9cb9449-ab74-4f5f-c92c-7d5353f7015d",
        "colab": {
          "base_uri": "https://localhost:8080/"
        }
      },
      "source": [
        "model = tf.keras.Sequential([\n",
        "                             tf.keras.layers.Dense(256, activation= 'relu', input_shape = (1000,)),\n",
        "                             tf.keras.layers.Dropout(0.5),\n",
        "                             tf.keras.layers.Dense(2,activation='softmax')\n",
        "])\n",
        "model.compile(tf.optimizers.RMSprop(0.0001), \n",
        "              loss = 'categorical_crossentropy',\n",
        "              metrics=['accuracy'])\n",
        "model.summary()"
      ],
      "execution_count": 20,
      "outputs": [
        {
          "output_type": "stream",
          "text": [
            "Model: \"sequential_7\"\n",
            "_________________________________________________________________\n",
            "Layer (type)                 Output Shape              Param #   \n",
            "=================================================================\n",
            "dense_14 (Dense)             (None, 256)               256256    \n",
            "_________________________________________________________________\n",
            "dropout_10 (Dropout)         (None, 256)               0         \n",
            "_________________________________________________________________\n",
            "dense_15 (Dense)             (None, 2)                 514       \n",
            "=================================================================\n",
            "Total params: 256,770\n",
            "Trainable params: 256,770\n",
            "Non-trainable params: 0\n",
            "_________________________________________________________________\n"
          ],
          "name": "stdout"
        }
      ]
    },
    {
      "cell_type": "code",
      "metadata": {
        "id": "3EgXhczHSpwo",
        "outputId": "49d30b18-4c2f-4f37-9c8a-ba81aec15c4e",
        "colab": {
          "base_uri": "https://localhost:8080/"
        }
      },
      "source": [
        "from keras.callbacks import ModelCheckpoint, EarlyStopping\n",
        "\n",
        "checkpoint_path = '/content/drive/My Drive/check.h5'\n",
        "\n",
        "cp = ModelCheckpoint(filepath=checkpoint_path,\n",
        "                                save_weights_only=True,\n",
        "                                save_best_only=True,\n",
        "                                monitor='val_accuracy',\n",
        "                                verbose=1)\n",
        "\n",
        "es = EarlyStopping(patience=50, verbose=1)\n",
        "history = model.fit(train_features, train_Y, \n",
        "                    validation_data=(valid_features, valid_Y),\n",
        "                    epochs = 100,\n",
        "                    batch_size = 32,\n",
        "                    callbacks=[es,cp])\n",
        "model.summary()"
      ],
      "execution_count": 21,
      "outputs": [
        {
          "output_type": "stream",
          "text": [
            "Epoch 1/100\n",
            "107/109 [============================>.] - ETA: 0s - loss: 0.2903 - accuracy: 0.8741\n",
            "Epoch 00001: val_accuracy improved from -inf to 0.92290, saving model to /content/drive/My Drive/check.h5\n",
            "109/109 [==============================] - 0s 4ms/step - loss: 0.2888 - accuracy: 0.8749 - val_loss: 0.1681 - val_accuracy: 0.9229\n",
            "Epoch 2/100\n",
            "109/109 [==============================] - ETA: 0s - loss: 0.1563 - accuracy: 0.9413\n",
            "Epoch 00002: val_accuracy improved from 0.92290 to 0.94104, saving model to /content/drive/My Drive/check.h5\n",
            "109/109 [==============================] - 0s 3ms/step - loss: 0.1563 - accuracy: 0.9413 - val_loss: 0.1320 - val_accuracy: 0.9410\n",
            "Epoch 3/100\n",
            "109/109 [==============================] - ETA: 0s - loss: 0.1196 - accuracy: 0.9540\n",
            "Epoch 00003: val_accuracy improved from 0.94104 to 0.95465, saving model to /content/drive/My Drive/check.h5\n",
            "109/109 [==============================] - 0s 3ms/step - loss: 0.1196 - accuracy: 0.9540 - val_loss: 0.1084 - val_accuracy: 0.9546\n",
            "Epoch 4/100\n",
            "101/109 [==========================>...] - ETA: 0s - loss: 0.1004 - accuracy: 0.9626\n",
            "Epoch 00004: val_accuracy improved from 0.95465 to 0.97052, saving model to /content/drive/My Drive/check.h5\n",
            "109/109 [==============================] - 0s 3ms/step - loss: 0.0990 - accuracy: 0.9638 - val_loss: 0.0946 - val_accuracy: 0.9705\n",
            "Epoch 5/100\n",
            " 95/109 [=========================>....] - ETA: 0s - loss: 0.0886 - accuracy: 0.9648\n",
            "Epoch 00005: val_accuracy did not improve from 0.97052\n",
            "109/109 [==============================] - 0s 3ms/step - loss: 0.0876 - accuracy: 0.9655 - val_loss: 0.0883 - val_accuracy: 0.9705\n",
            "Epoch 6/100\n",
            " 89/109 [=======================>......] - ETA: 0s - loss: 0.0740 - accuracy: 0.9723\n",
            "Epoch 00006: val_accuracy did not improve from 0.97052\n",
            "109/109 [==============================] - 0s 3ms/step - loss: 0.0748 - accuracy: 0.9727 - val_loss: 0.0773 - val_accuracy: 0.9683\n",
            "Epoch 7/100\n",
            " 87/109 [======================>.......] - ETA: 0s - loss: 0.0616 - accuracy: 0.9810\n",
            "Epoch 00007: val_accuracy did not improve from 0.97052\n",
            "109/109 [==============================] - 0s 3ms/step - loss: 0.0610 - accuracy: 0.9813 - val_loss: 0.0741 - val_accuracy: 0.9705\n",
            "Epoch 8/100\n",
            " 88/109 [=======================>......] - ETA: 0s - loss: 0.0555 - accuracy: 0.9812\n",
            "Epoch 00008: val_accuracy improved from 0.97052 to 0.97279, saving model to /content/drive/My Drive/check.h5\n",
            "109/109 [==============================] - 0s 3ms/step - loss: 0.0563 - accuracy: 0.9816 - val_loss: 0.0660 - val_accuracy: 0.9728\n",
            "Epoch 9/100\n",
            "108/109 [============================>.] - ETA: 0s - loss: 0.0499 - accuracy: 0.9835\n",
            "Epoch 00009: val_accuracy improved from 0.97279 to 0.97959, saving model to /content/drive/My Drive/check.h5\n",
            "109/109 [==============================] - 0s 3ms/step - loss: 0.0499 - accuracy: 0.9836 - val_loss: 0.0603 - val_accuracy: 0.9796\n",
            "Epoch 10/100\n",
            "108/109 [============================>.] - ETA: 0s - loss: 0.0409 - accuracy: 0.9861\n",
            "Epoch 00010: val_accuracy did not improve from 0.97959\n",
            "109/109 [==============================] - 0s 3ms/step - loss: 0.0408 - accuracy: 0.9862 - val_loss: 0.0592 - val_accuracy: 0.9796\n",
            "Epoch 11/100\n",
            " 96/109 [=========================>....] - ETA: 0s - loss: 0.0389 - accuracy: 0.9870\n",
            "Epoch 00011: val_accuracy improved from 0.97959 to 0.98186, saving model to /content/drive/My Drive/check.h5\n",
            "109/109 [==============================] - 0s 3ms/step - loss: 0.0382 - accuracy: 0.9876 - val_loss: 0.0560 - val_accuracy: 0.9819\n",
            "Epoch 12/100\n",
            " 96/109 [=========================>....] - ETA: 0s - loss: 0.0357 - accuracy: 0.9886\n",
            "Epoch 00012: val_accuracy did not improve from 0.98186\n",
            "109/109 [==============================] - 0s 3ms/step - loss: 0.0345 - accuracy: 0.9888 - val_loss: 0.0596 - val_accuracy: 0.9773\n",
            "Epoch 13/100\n",
            "103/109 [===========================>..] - ETA: 0s - loss: 0.0322 - accuracy: 0.9900\n",
            "Epoch 00013: val_accuracy did not improve from 0.98186\n",
            "109/109 [==============================] - 0s 3ms/step - loss: 0.0320 - accuracy: 0.9902 - val_loss: 0.0474 - val_accuracy: 0.9773\n",
            "Epoch 14/100\n",
            " 96/109 [=========================>....] - ETA: 0s - loss: 0.0258 - accuracy: 0.9925\n",
            "Epoch 00014: val_accuracy did not improve from 0.98186\n",
            "109/109 [==============================] - 0s 3ms/step - loss: 0.0259 - accuracy: 0.9925 - val_loss: 0.0455 - val_accuracy: 0.9773\n",
            "Epoch 15/100\n",
            "100/109 [==========================>...] - ETA: 0s - loss: 0.0248 - accuracy: 0.9941\n",
            "Epoch 00015: val_accuracy improved from 0.98186 to 0.98413, saving model to /content/drive/My Drive/check.h5\n",
            "109/109 [==============================] - 0s 3ms/step - loss: 0.0240 - accuracy: 0.9945 - val_loss: 0.0447 - val_accuracy: 0.9841\n",
            "Epoch 16/100\n",
            "105/109 [===========================>..] - ETA: 0s - loss: 0.0263 - accuracy: 0.9923\n",
            "Epoch 00016: val_accuracy did not improve from 0.98413\n",
            "109/109 [==============================] - 0s 3ms/step - loss: 0.0257 - accuracy: 0.9925 - val_loss: 0.0433 - val_accuracy: 0.9819\n",
            "Epoch 17/100\n",
            "104/109 [===========================>..] - ETA: 0s - loss: 0.0217 - accuracy: 0.9940\n",
            "Epoch 00017: val_accuracy did not improve from 0.98413\n",
            "109/109 [==============================] - 0s 3ms/step - loss: 0.0213 - accuracy: 0.9942 - val_loss: 0.0426 - val_accuracy: 0.9796\n",
            "Epoch 18/100\n",
            "108/109 [============================>.] - ETA: 0s - loss: 0.0199 - accuracy: 0.9945\n",
            "Epoch 00018: val_accuracy did not improve from 0.98413\n",
            "109/109 [==============================] - 0s 3ms/step - loss: 0.0199 - accuracy: 0.9945 - val_loss: 0.0418 - val_accuracy: 0.9819\n",
            "Epoch 19/100\n",
            "103/109 [===========================>..] - ETA: 0s - loss: 0.0168 - accuracy: 0.9964\n",
            "Epoch 00019: val_accuracy did not improve from 0.98413\n",
            "109/109 [==============================] - 0s 3ms/step - loss: 0.0165 - accuracy: 0.9965 - val_loss: 0.0654 - val_accuracy: 0.9683\n",
            "Epoch 20/100\n",
            "102/109 [===========================>..] - ETA: 0s - loss: 0.0162 - accuracy: 0.9954\n",
            "Epoch 00020: val_accuracy improved from 0.98413 to 0.98639, saving model to /content/drive/My Drive/check.h5\n",
            "109/109 [==============================] - 0s 3ms/step - loss: 0.0157 - accuracy: 0.9957 - val_loss: 0.0400 - val_accuracy: 0.9864\n",
            "Epoch 21/100\n",
            " 97/109 [=========================>....] - ETA: 0s - loss: 0.0131 - accuracy: 0.9965\n",
            "Epoch 00021: val_accuracy did not improve from 0.98639\n",
            "109/109 [==============================] - 0s 3ms/step - loss: 0.0128 - accuracy: 0.9965 - val_loss: 0.0464 - val_accuracy: 0.9819\n",
            "Epoch 22/100\n",
            "109/109 [==============================] - ETA: 0s - loss: 0.0115 - accuracy: 0.9971\n",
            "Epoch 00022: val_accuracy did not improve from 0.98639\n",
            "109/109 [==============================] - 0s 3ms/step - loss: 0.0115 - accuracy: 0.9971 - val_loss: 0.0372 - val_accuracy: 0.9864\n",
            "Epoch 23/100\n",
            " 97/109 [=========================>....] - ETA: 0s - loss: 0.0115 - accuracy: 0.9984\n",
            "Epoch 00023: val_accuracy did not improve from 0.98639\n",
            "109/109 [==============================] - 0s 3ms/step - loss: 0.0111 - accuracy: 0.9986 - val_loss: 0.0397 - val_accuracy: 0.9864\n",
            "Epoch 24/100\n",
            "108/109 [============================>.] - ETA: 0s - loss: 0.0120 - accuracy: 0.9977\n",
            "Epoch 00024: val_accuracy did not improve from 0.98639\n",
            "109/109 [==============================] - 0s 3ms/step - loss: 0.0120 - accuracy: 0.9977 - val_loss: 0.0385 - val_accuracy: 0.9864\n",
            "Epoch 25/100\n",
            "107/109 [============================>.] - ETA: 0s - loss: 0.0101 - accuracy: 0.9980\n",
            "Epoch 00025: val_accuracy did not improve from 0.98639\n",
            "109/109 [==============================] - 0s 3ms/step - loss: 0.0100 - accuracy: 0.9980 - val_loss: 0.0372 - val_accuracy: 0.9864\n",
            "Epoch 26/100\n",
            "105/109 [===========================>..] - ETA: 0s - loss: 0.0093 - accuracy: 0.9976\n",
            "Epoch 00026: val_accuracy did not improve from 0.98639\n",
            "109/109 [==============================] - 0s 3ms/step - loss: 0.0093 - accuracy: 0.9977 - val_loss: 0.0382 - val_accuracy: 0.9841\n",
            "Epoch 27/100\n",
            "104/109 [===========================>..] - ETA: 0s - loss: 0.0074 - accuracy: 0.9985\n",
            "Epoch 00027: val_accuracy did not improve from 0.98639\n",
            "109/109 [==============================] - 0s 3ms/step - loss: 0.0074 - accuracy: 0.9986 - val_loss: 0.0375 - val_accuracy: 0.9841\n",
            "Epoch 28/100\n",
            "108/109 [============================>.] - ETA: 0s - loss: 0.0060 - accuracy: 0.9997\n",
            "Epoch 00028: val_accuracy did not improve from 0.98639\n",
            "109/109 [==============================] - 0s 3ms/step - loss: 0.0060 - accuracy: 0.9997 - val_loss: 0.0506 - val_accuracy: 0.9864\n",
            "Epoch 29/100\n",
            " 94/109 [========================>.....] - ETA: 0s - loss: 0.0070 - accuracy: 0.9987\n",
            "Epoch 00029: val_accuracy did not improve from 0.98639\n",
            "109/109 [==============================] - 0s 3ms/step - loss: 0.0064 - accuracy: 0.9988 - val_loss: 0.0365 - val_accuracy: 0.9819\n",
            "Epoch 30/100\n",
            "109/109 [==============================] - ETA: 0s - loss: 0.0067 - accuracy: 0.9988\n",
            "Epoch 00030: val_accuracy did not improve from 0.98639\n",
            "109/109 [==============================] - 0s 3ms/step - loss: 0.0067 - accuracy: 0.9988 - val_loss: 0.0355 - val_accuracy: 0.9841\n",
            "Epoch 31/100\n",
            "105/109 [===========================>..] - ETA: 0s - loss: 0.0056 - accuracy: 0.9985\n",
            "Epoch 00031: val_accuracy improved from 0.98639 to 0.99093, saving model to /content/drive/My Drive/check.h5\n",
            "109/109 [==============================] - 0s 3ms/step - loss: 0.0057 - accuracy: 0.9986 - val_loss: 0.0372 - val_accuracy: 0.9909\n",
            "Epoch 32/100\n",
            "107/109 [============================>.] - ETA: 0s - loss: 0.0052 - accuracy: 0.9988\n",
            "Epoch 00032: val_accuracy did not improve from 0.99093\n",
            "109/109 [==============================] - 0s 3ms/step - loss: 0.0052 - accuracy: 0.9988 - val_loss: 0.0373 - val_accuracy: 0.9819\n",
            "Epoch 33/100\n",
            " 88/109 [=======================>......] - ETA: 0s - loss: 0.0043 - accuracy: 0.9993\n",
            "Epoch 00033: val_accuracy did not improve from 0.99093\n",
            "109/109 [==============================] - 0s 3ms/step - loss: 0.0045 - accuracy: 0.9994 - val_loss: 0.0389 - val_accuracy: 0.9864\n",
            "Epoch 34/100\n",
            "108/109 [============================>.] - ETA: 0s - loss: 0.0039 - accuracy: 1.0000\n",
            "Epoch 00034: val_accuracy did not improve from 0.99093\n",
            "109/109 [==============================] - 0s 3ms/step - loss: 0.0039 - accuracy: 1.0000 - val_loss: 0.0414 - val_accuracy: 0.9887\n",
            "Epoch 35/100\n",
            "104/109 [===========================>..] - ETA: 0s - loss: 0.0042 - accuracy: 0.9991\n",
            "Epoch 00035: val_accuracy did not improve from 0.99093\n",
            "109/109 [==============================] - 0s 3ms/step - loss: 0.0041 - accuracy: 0.9991 - val_loss: 0.0379 - val_accuracy: 0.9841\n",
            "Epoch 36/100\n",
            "108/109 [============================>.] - ETA: 0s - loss: 0.0031 - accuracy: 0.9997\n",
            "Epoch 00036: val_accuracy did not improve from 0.99093\n",
            "109/109 [==============================] - 0s 3ms/step - loss: 0.0031 - accuracy: 0.9997 - val_loss: 0.0379 - val_accuracy: 0.9887\n",
            "Epoch 37/100\n",
            "100/109 [==========================>...] - ETA: 0s - loss: 0.0029 - accuracy: 1.0000\n",
            "Epoch 00037: val_accuracy did not improve from 0.99093\n",
            "109/109 [==============================] - 0s 3ms/step - loss: 0.0030 - accuracy: 1.0000 - val_loss: 0.0367 - val_accuracy: 0.9841\n",
            "Epoch 38/100\n",
            "100/109 [==========================>...] - ETA: 0s - loss: 0.0041 - accuracy: 0.9984\n",
            "Epoch 00038: val_accuracy did not improve from 0.99093\n",
            "109/109 [==============================] - 0s 3ms/step - loss: 0.0042 - accuracy: 0.9986 - val_loss: 0.0420 - val_accuracy: 0.9841\n",
            "Epoch 39/100\n",
            " 94/109 [========================>.....] - ETA: 0s - loss: 0.0031 - accuracy: 0.9993\n",
            "Epoch 00039: val_accuracy did not improve from 0.99093\n",
            "109/109 [==============================] - 0s 3ms/step - loss: 0.0030 - accuracy: 0.9994 - val_loss: 0.0395 - val_accuracy: 0.9819\n",
            "Epoch 40/100\n",
            "101/109 [==========================>...] - ETA: 0s - loss: 0.0026 - accuracy: 1.0000\n",
            "Epoch 00040: val_accuracy did not improve from 0.99093\n",
            "109/109 [==============================] - 0s 3ms/step - loss: 0.0026 - accuracy: 1.0000 - val_loss: 0.0380 - val_accuracy: 0.9841\n",
            "Epoch 41/100\n",
            "104/109 [===========================>..] - ETA: 0s - loss: 0.0030 - accuracy: 0.9994\n",
            "Epoch 00041: val_accuracy did not improve from 0.99093\n",
            "109/109 [==============================] - 0s 3ms/step - loss: 0.0029 - accuracy: 0.9994 - val_loss: 0.0394 - val_accuracy: 0.9819\n",
            "Epoch 42/100\n",
            "104/109 [===========================>..] - ETA: 0s - loss: 0.0019 - accuracy: 0.9997\n",
            "Epoch 00042: val_accuracy did not improve from 0.99093\n",
            "109/109 [==============================] - 0s 3ms/step - loss: 0.0019 - accuracy: 0.9997 - val_loss: 0.0357 - val_accuracy: 0.9864\n",
            "Epoch 43/100\n",
            "105/109 [===========================>..] - ETA: 0s - loss: 0.0022 - accuracy: 0.9997\n",
            "Epoch 00043: val_accuracy did not improve from 0.99093\n",
            "109/109 [==============================] - 0s 3ms/step - loss: 0.0021 - accuracy: 0.9997 - val_loss: 0.0346 - val_accuracy: 0.9819\n",
            "Epoch 44/100\n",
            "101/109 [==========================>...] - ETA: 0s - loss: 0.0018 - accuracy: 0.9997\n",
            "Epoch 00044: val_accuracy did not improve from 0.99093\n",
            "109/109 [==============================] - 0s 3ms/step - loss: 0.0018 - accuracy: 0.9997 - val_loss: 0.0387 - val_accuracy: 0.9819\n",
            "Epoch 45/100\n",
            " 99/109 [==========================>...] - ETA: 0s - loss: 0.0015 - accuracy: 1.0000\n",
            "Epoch 00045: val_accuracy did not improve from 0.99093\n",
            "109/109 [==============================] - 0s 3ms/step - loss: 0.0015 - accuracy: 1.0000 - val_loss: 0.0362 - val_accuracy: 0.9819\n",
            "Epoch 46/100\n",
            "107/109 [============================>.] - ETA: 0s - loss: 0.0018 - accuracy: 1.0000\n",
            "Epoch 00046: val_accuracy did not improve from 0.99093\n",
            "109/109 [==============================] - 0s 3ms/step - loss: 0.0018 - accuracy: 1.0000 - val_loss: 0.0436 - val_accuracy: 0.9819\n",
            "Epoch 47/100\n",
            "105/109 [===========================>..] - ETA: 0s - loss: 0.0012 - accuracy: 1.0000\n",
            "Epoch 00047: val_accuracy did not improve from 0.99093\n",
            "109/109 [==============================] - 0s 3ms/step - loss: 0.0013 - accuracy: 1.0000 - val_loss: 0.0424 - val_accuracy: 0.9796\n",
            "Epoch 48/100\n",
            " 94/109 [========================>.....] - ETA: 0s - loss: 0.0012 - accuracy: 1.0000\n",
            "Epoch 00048: val_accuracy did not improve from 0.99093\n",
            "109/109 [==============================] - 0s 4ms/step - loss: 0.0012 - accuracy: 1.0000 - val_loss: 0.0387 - val_accuracy: 0.9864\n",
            "Epoch 49/100\n",
            " 94/109 [========================>.....] - ETA: 0s - loss: 0.0012 - accuracy: 1.0000\n",
            "Epoch 00049: val_accuracy did not improve from 0.99093\n",
            "109/109 [==============================] - 0s 3ms/step - loss: 0.0013 - accuracy: 1.0000 - val_loss: 0.0365 - val_accuracy: 0.9796\n",
            "Epoch 50/100\n",
            " 94/109 [========================>.....] - ETA: 0s - loss: 0.0011 - accuracy: 0.9997\n",
            "Epoch 00050: val_accuracy did not improve from 0.99093\n",
            "109/109 [==============================] - 0s 3ms/step - loss: 0.0011 - accuracy: 0.9997 - val_loss: 0.0343 - val_accuracy: 0.9841\n",
            "Epoch 51/100\n",
            " 99/109 [==========================>...] - ETA: 0s - loss: 0.0013 - accuracy: 0.9997\n",
            "Epoch 00051: val_accuracy did not improve from 0.99093\n",
            "109/109 [==============================] - 0s 4ms/step - loss: 0.0013 - accuracy: 0.9997 - val_loss: 0.0366 - val_accuracy: 0.9841\n",
            "Epoch 52/100\n",
            " 97/109 [=========================>....] - ETA: 0s - loss: 6.9821e-04 - accuracy: 1.0000\n",
            "Epoch 00052: val_accuracy did not improve from 0.99093\n",
            "109/109 [==============================] - 0s 4ms/step - loss: 7.7420e-04 - accuracy: 1.0000 - val_loss: 0.0357 - val_accuracy: 0.9819\n",
            "Epoch 53/100\n",
            "108/109 [============================>.] - ETA: 0s - loss: 0.0010 - accuracy: 1.0000\n",
            "Epoch 00053: val_accuracy did not improve from 0.99093\n",
            "109/109 [==============================] - 0s 3ms/step - loss: 0.0010 - accuracy: 1.0000 - val_loss: 0.0353 - val_accuracy: 0.9819\n",
            "Epoch 54/100\n",
            " 96/109 [=========================>....] - ETA: 0s - loss: 6.6508e-04 - accuracy: 1.0000\n",
            "Epoch 00054: val_accuracy did not improve from 0.99093\n",
            "109/109 [==============================] - 0s 3ms/step - loss: 6.6230e-04 - accuracy: 1.0000 - val_loss: 0.0543 - val_accuracy: 0.9909\n",
            "Epoch 55/100\n",
            " 95/109 [=========================>....] - ETA: 0s - loss: 5.2453e-04 - accuracy: 1.0000\n",
            "Epoch 00055: val_accuracy did not improve from 0.99093\n",
            "109/109 [==============================] - 0s 3ms/step - loss: 5.6334e-04 - accuracy: 1.0000 - val_loss: 0.0390 - val_accuracy: 0.9864\n",
            "Epoch 56/100\n",
            " 92/109 [========================>.....] - ETA: 0s - loss: 0.0011 - accuracy: 0.9997\n",
            "Epoch 00056: val_accuracy did not improve from 0.99093\n",
            "109/109 [==============================] - 0s 3ms/step - loss: 0.0010 - accuracy: 0.9997 - val_loss: 0.0389 - val_accuracy: 0.9819\n",
            "Epoch 57/100\n",
            " 96/109 [=========================>....] - ETA: 0s - loss: 0.0010 - accuracy: 0.9997\n",
            "Epoch 00057: val_accuracy did not improve from 0.99093\n",
            "109/109 [==============================] - 0s 3ms/step - loss: 9.9880e-04 - accuracy: 0.9997 - val_loss: 0.0395 - val_accuracy: 0.9819\n",
            "Epoch 58/100\n",
            " 96/109 [=========================>....] - ETA: 0s - loss: 5.6269e-04 - accuracy: 1.0000\n",
            "Epoch 00058: val_accuracy did not improve from 0.99093\n",
            "109/109 [==============================] - 0s 3ms/step - loss: 5.2514e-04 - accuracy: 1.0000 - val_loss: 0.0409 - val_accuracy: 0.9841\n",
            "Epoch 59/100\n",
            "109/109 [==============================] - ETA: 0s - loss: 6.0167e-04 - accuracy: 1.0000\n",
            "Epoch 00059: val_accuracy did not improve from 0.99093\n",
            "109/109 [==============================] - 0s 3ms/step - loss: 6.0167e-04 - accuracy: 1.0000 - val_loss: 0.0423 - val_accuracy: 0.9819\n",
            "Epoch 60/100\n",
            " 94/109 [========================>.....] - ETA: 0s - loss: 7.3981e-04 - accuracy: 1.0000\n",
            "Epoch 00060: val_accuracy did not improve from 0.99093\n",
            "109/109 [==============================] - 0s 3ms/step - loss: 6.8699e-04 - accuracy: 1.0000 - val_loss: 0.0386 - val_accuracy: 0.9887\n",
            "Epoch 61/100\n",
            " 95/109 [=========================>....] - ETA: 0s - loss: 5.1462e-04 - accuracy: 1.0000\n",
            "Epoch 00061: val_accuracy did not improve from 0.99093\n",
            "109/109 [==============================] - 0s 3ms/step - loss: 4.9746e-04 - accuracy: 1.0000 - val_loss: 0.0418 - val_accuracy: 0.9841\n",
            "Epoch 62/100\n",
            " 93/109 [========================>.....] - ETA: 0s - loss: 5.0514e-04 - accuracy: 1.0000\n",
            "Epoch 00062: val_accuracy did not improve from 0.99093\n",
            "109/109 [==============================] - 0s 3ms/step - loss: 4.9960e-04 - accuracy: 1.0000 - val_loss: 0.0414 - val_accuracy: 0.9887\n",
            "Epoch 63/100\n",
            "108/109 [============================>.] - ETA: 0s - loss: 3.8400e-04 - accuracy: 1.0000\n",
            "Epoch 00063: val_accuracy did not improve from 0.99093\n",
            "109/109 [==============================] - 0s 3ms/step - loss: 3.8162e-04 - accuracy: 1.0000 - val_loss: 0.0410 - val_accuracy: 0.9841\n",
            "Epoch 64/100\n",
            " 95/109 [=========================>....] - ETA: 0s - loss: 9.0703e-04 - accuracy: 0.9997\n",
            "Epoch 00064: val_accuracy did not improve from 0.99093\n",
            "109/109 [==============================] - 0s 3ms/step - loss: 8.4067e-04 - accuracy: 0.9997 - val_loss: 0.0435 - val_accuracy: 0.9841\n",
            "Epoch 65/100\n",
            " 98/109 [=========================>....] - ETA: 0s - loss: 3.6948e-04 - accuracy: 1.0000\n",
            "Epoch 00065: val_accuracy did not improve from 0.99093\n",
            "109/109 [==============================] - 0s 4ms/step - loss: 3.4565e-04 - accuracy: 1.0000 - val_loss: 0.0393 - val_accuracy: 0.9819\n",
            "Epoch 66/100\n",
            " 96/109 [=========================>....] - ETA: 0s - loss: 4.4620e-04 - accuracy: 1.0000\n",
            "Epoch 00066: val_accuracy did not improve from 0.99093\n",
            "109/109 [==============================] - 0s 4ms/step - loss: 4.9142e-04 - accuracy: 1.0000 - val_loss: 0.0473 - val_accuracy: 0.9864\n",
            "Epoch 67/100\n",
            " 96/109 [=========================>....] - ETA: 0s - loss: 2.1072e-04 - accuracy: 1.0000\n",
            "Epoch 00067: val_accuracy did not improve from 0.99093\n",
            "109/109 [==============================] - 0s 4ms/step - loss: 2.0331e-04 - accuracy: 1.0000 - val_loss: 0.0434 - val_accuracy: 0.9841\n",
            "Epoch 68/100\n",
            " 95/109 [=========================>....] - ETA: 0s - loss: 3.5437e-04 - accuracy: 1.0000\n",
            "Epoch 00068: val_accuracy did not improve from 0.99093\n",
            "109/109 [==============================] - 0s 3ms/step - loss: 3.5726e-04 - accuracy: 1.0000 - val_loss: 0.0419 - val_accuracy: 0.9819\n",
            "Epoch 69/100\n",
            "103/109 [===========================>..] - ETA: 0s - loss: 2.3099e-04 - accuracy: 1.0000\n",
            "Epoch 00069: val_accuracy did not improve from 0.99093\n",
            "109/109 [==============================] - 0s 3ms/step - loss: 2.2276e-04 - accuracy: 1.0000 - val_loss: 0.0455 - val_accuracy: 0.9841\n",
            "Epoch 70/100\n",
            " 94/109 [========================>.....] - ETA: 0s - loss: 1.7041e-04 - accuracy: 1.0000\n",
            "Epoch 00070: val_accuracy did not improve from 0.99093\n",
            "109/109 [==============================] - 0s 4ms/step - loss: 1.5828e-04 - accuracy: 1.0000 - val_loss: 0.0393 - val_accuracy: 0.9864\n",
            "Epoch 71/100\n",
            "103/109 [===========================>..] - ETA: 0s - loss: 1.2329e-04 - accuracy: 1.0000\n",
            "Epoch 00071: val_accuracy did not improve from 0.99093\n",
            "109/109 [==============================] - 0s 3ms/step - loss: 1.2037e-04 - accuracy: 1.0000 - val_loss: 0.0393 - val_accuracy: 0.9864\n",
            "Epoch 72/100\n",
            " 94/109 [========================>.....] - ETA: 0s - loss: 4.2359e-04 - accuracy: 1.0000\n",
            "Epoch 00072: val_accuracy did not improve from 0.99093\n",
            "109/109 [==============================] - 0s 3ms/step - loss: 3.8911e-04 - accuracy: 1.0000 - val_loss: 0.0427 - val_accuracy: 0.9864\n",
            "Epoch 73/100\n",
            "108/109 [============================>.] - ETA: 0s - loss: 2.6079e-04 - accuracy: 1.0000\n",
            "Epoch 00073: val_accuracy did not improve from 0.99093\n",
            "109/109 [==============================] - 0s 3ms/step - loss: 2.6210e-04 - accuracy: 1.0000 - val_loss: 0.0401 - val_accuracy: 0.9841\n",
            "Epoch 74/100\n",
            "100/109 [==========================>...] - ETA: 0s - loss: 1.6190e-04 - accuracy: 1.0000\n",
            "Epoch 00074: val_accuracy did not improve from 0.99093\n",
            "109/109 [==============================] - 0s 3ms/step - loss: 1.7693e-04 - accuracy: 1.0000 - val_loss: 0.0390 - val_accuracy: 0.9887\n",
            "Epoch 75/100\n",
            "107/109 [============================>.] - ETA: 0s - loss: 1.5816e-04 - accuracy: 1.0000\n",
            "Epoch 00075: val_accuracy did not improve from 0.99093\n",
            "109/109 [==============================] - 0s 3ms/step - loss: 1.5613e-04 - accuracy: 1.0000 - val_loss: 0.0445 - val_accuracy: 0.9887\n",
            "Epoch 76/100\n",
            " 93/109 [========================>.....] - ETA: 0s - loss: 1.1790e-04 - accuracy: 1.0000\n",
            "Epoch 00076: val_accuracy did not improve from 0.99093\n",
            "109/109 [==============================] - 0s 3ms/step - loss: 1.2408e-04 - accuracy: 1.0000 - val_loss: 0.0463 - val_accuracy: 0.9864\n",
            "Epoch 77/100\n",
            "105/109 [===========================>..] - ETA: 0s - loss: 1.6285e-04 - accuracy: 1.0000\n",
            "Epoch 00077: val_accuracy did not improve from 0.99093\n",
            "109/109 [==============================] - 0s 3ms/step - loss: 1.5754e-04 - accuracy: 1.0000 - val_loss: 0.0456 - val_accuracy: 0.9864\n",
            "Epoch 78/100\n",
            "105/109 [===========================>..] - ETA: 0s - loss: 3.9815e-04 - accuracy: 1.0000\n",
            "Epoch 00078: val_accuracy did not improve from 0.99093\n",
            "109/109 [==============================] - 0s 3ms/step - loss: 3.8542e-04 - accuracy: 1.0000 - val_loss: 0.0404 - val_accuracy: 0.9819\n",
            "Epoch 79/100\n",
            "103/109 [===========================>..] - ETA: 0s - loss: 1.0560e-04 - accuracy: 1.0000\n",
            "Epoch 00079: val_accuracy did not improve from 0.99093\n",
            "109/109 [==============================] - 0s 3ms/step - loss: 1.0128e-04 - accuracy: 1.0000 - val_loss: 0.0407 - val_accuracy: 0.9841\n",
            "Epoch 80/100\n",
            "108/109 [============================>.] - ETA: 0s - loss: 2.5507e-04 - accuracy: 1.0000\n",
            "Epoch 00080: val_accuracy did not improve from 0.99093\n",
            "109/109 [==============================] - 0s 3ms/step - loss: 2.5385e-04 - accuracy: 1.0000 - val_loss: 0.0393 - val_accuracy: 0.9864\n",
            "Epoch 81/100\n",
            " 97/109 [=========================>....] - ETA: 0s - loss: 7.2310e-05 - accuracy: 1.0000\n",
            "Epoch 00081: val_accuracy did not improve from 0.99093\n",
            "109/109 [==============================] - 0s 3ms/step - loss: 7.0661e-05 - accuracy: 1.0000 - val_loss: 0.0383 - val_accuracy: 0.9864\n",
            "Epoch 82/100\n",
            "102/109 [===========================>..] - ETA: 0s - loss: 7.1270e-05 - accuracy: 1.0000\n",
            "Epoch 00082: val_accuracy did not improve from 0.99093\n",
            "109/109 [==============================] - 0s 3ms/step - loss: 6.9803e-05 - accuracy: 1.0000 - val_loss: 0.0410 - val_accuracy: 0.9819\n",
            "Epoch 83/100\n",
            "106/109 [============================>.] - ETA: 0s - loss: 8.4129e-05 - accuracy: 1.0000\n",
            "Epoch 00083: val_accuracy did not improve from 0.99093\n",
            "109/109 [==============================] - 0s 3ms/step - loss: 8.3869e-05 - accuracy: 1.0000 - val_loss: 0.0386 - val_accuracy: 0.9887\n",
            "Epoch 84/100\n",
            "106/109 [============================>.] - ETA: 0s - loss: 7.7510e-05 - accuracy: 1.0000\n",
            "Epoch 00084: val_accuracy did not improve from 0.99093\n",
            "109/109 [==============================] - 0s 3ms/step - loss: 7.5934e-05 - accuracy: 1.0000 - val_loss: 0.0414 - val_accuracy: 0.9841\n",
            "Epoch 85/100\n",
            "104/109 [===========================>..] - ETA: 0s - loss: 7.7814e-05 - accuracy: 1.0000\n",
            "Epoch 00085: val_accuracy did not improve from 0.99093\n",
            "109/109 [==============================] - 0s 3ms/step - loss: 8.0328e-05 - accuracy: 1.0000 - val_loss: 0.0569 - val_accuracy: 0.9909\n",
            "Epoch 86/100\n",
            "102/109 [===========================>..] - ETA: 0s - loss: 4.4048e-05 - accuracy: 1.0000\n",
            "Epoch 00086: val_accuracy did not improve from 0.99093\n",
            "109/109 [==============================] - 0s 3ms/step - loss: 1.0933e-04 - accuracy: 1.0000 - val_loss: 0.0416 - val_accuracy: 0.9864\n",
            "Epoch 87/100\n",
            " 97/109 [=========================>....] - ETA: 0s - loss: 5.5475e-05 - accuracy: 1.0000\n",
            "Epoch 00087: val_accuracy did not improve from 0.99093\n",
            "109/109 [==============================] - 0s 3ms/step - loss: 5.3039e-05 - accuracy: 1.0000 - val_loss: 0.0454 - val_accuracy: 0.9887\n",
            "Epoch 88/100\n",
            "101/109 [==========================>...] - ETA: 0s - loss: 8.3154e-05 - accuracy: 1.0000\n",
            "Epoch 00088: val_accuracy did not improve from 0.99093\n",
            "109/109 [==============================] - 0s 3ms/step - loss: 1.0131e-04 - accuracy: 1.0000 - val_loss: 0.0398 - val_accuracy: 0.9864\n",
            "Epoch 89/100\n",
            "104/109 [===========================>..] - ETA: 0s - loss: 8.0308e-05 - accuracy: 1.0000\n",
            "Epoch 00089: val_accuracy did not improve from 0.99093\n",
            "109/109 [==============================] - 0s 3ms/step - loss: 7.8779e-05 - accuracy: 1.0000 - val_loss: 0.0412 - val_accuracy: 0.9887\n",
            "Epoch 90/100\n",
            " 97/109 [=========================>....] - ETA: 0s - loss: 1.4196e-04 - accuracy: 1.0000\n",
            "Epoch 00090: val_accuracy did not improve from 0.99093\n",
            "109/109 [==============================] - 0s 3ms/step - loss: 1.2920e-04 - accuracy: 1.0000 - val_loss: 0.0402 - val_accuracy: 0.9864\n",
            "Epoch 91/100\n",
            "102/109 [===========================>..] - ETA: 0s - loss: 5.1319e-05 - accuracy: 1.0000\n",
            "Epoch 00091: val_accuracy did not improve from 0.99093\n",
            "109/109 [==============================] - 0s 3ms/step - loss: 5.0784e-05 - accuracy: 1.0000 - val_loss: 0.0485 - val_accuracy: 0.9819\n",
            "Epoch 92/100\n",
            " 94/109 [========================>.....] - ETA: 0s - loss: 5.4342e-05 - accuracy: 1.0000\n",
            "Epoch 00092: val_accuracy did not improve from 0.99093\n",
            "109/109 [==============================] - 0s 3ms/step - loss: 5.1557e-05 - accuracy: 1.0000 - val_loss: 0.0463 - val_accuracy: 0.9887\n",
            "Epoch 93/100\n",
            "108/109 [============================>.] - ETA: 0s - loss: 5.5973e-05 - accuracy: 1.0000\n",
            "Epoch 00093: val_accuracy did not improve from 0.99093\n",
            "109/109 [==============================] - 0s 3ms/step - loss: 5.5631e-05 - accuracy: 1.0000 - val_loss: 0.0416 - val_accuracy: 0.9864\n",
            "Epoch 94/100\n",
            "104/109 [===========================>..] - ETA: 0s - loss: 6.4828e-05 - accuracy: 1.0000\n",
            "Epoch 00094: val_accuracy did not improve from 0.99093\n",
            "109/109 [==============================] - 0s 3ms/step - loss: 6.2713e-05 - accuracy: 1.0000 - val_loss: 0.0495 - val_accuracy: 0.9887\n",
            "Epoch 95/100\n",
            "107/109 [============================>.] - ETA: 0s - loss: 3.1497e-05 - accuracy: 1.0000\n",
            "Epoch 00095: val_accuracy did not improve from 0.99093\n",
            "109/109 [==============================] - 0s 3ms/step - loss: 3.1061e-05 - accuracy: 1.0000 - val_loss: 0.0457 - val_accuracy: 0.9841\n",
            "Epoch 96/100\n",
            "106/109 [============================>.] - ETA: 0s - loss: 2.4779e-05 - accuracy: 1.0000\n",
            "Epoch 00096: val_accuracy did not improve from 0.99093\n",
            "109/109 [==============================] - 0s 3ms/step - loss: 2.4326e-05 - accuracy: 1.0000 - val_loss: 0.0529 - val_accuracy: 0.9864\n",
            "Epoch 97/100\n",
            " 96/109 [=========================>....] - ETA: 0s - loss: 2.6812e-05 - accuracy: 1.0000\n",
            "Epoch 00097: val_accuracy did not improve from 0.99093\n",
            "109/109 [==============================] - 0s 3ms/step - loss: 3.4895e-05 - accuracy: 1.0000 - val_loss: 0.0519 - val_accuracy: 0.9864\n",
            "Epoch 98/100\n",
            "102/109 [===========================>..] - ETA: 0s - loss: 3.1348e-05 - accuracy: 1.0000\n",
            "Epoch 00098: val_accuracy did not improve from 0.99093\n",
            "109/109 [==============================] - 0s 3ms/step - loss: 3.0677e-05 - accuracy: 1.0000 - val_loss: 0.0538 - val_accuracy: 0.9887\n",
            "Epoch 99/100\n",
            "100/109 [==========================>...] - ETA: 0s - loss: 5.1390e-05 - accuracy: 1.0000\n",
            "Epoch 00099: val_accuracy did not improve from 0.99093\n",
            "109/109 [==============================] - 0s 3ms/step - loss: 5.4045e-05 - accuracy: 1.0000 - val_loss: 0.0436 - val_accuracy: 0.9841\n",
            "Epoch 100/100\n",
            " 93/109 [========================>.....] - ETA: 0s - loss: 1.2144e-04 - accuracy: 1.0000\n",
            "Epoch 00100: val_accuracy did not improve from 0.99093\n",
            "109/109 [==============================] - 0s 3ms/step - loss: 1.1345e-04 - accuracy: 1.0000 - val_loss: 0.0445 - val_accuracy: 0.9819\n",
            "Epoch 00100: early stopping\n",
            "Model: \"sequential_7\"\n",
            "_________________________________________________________________\n",
            "Layer (type)                 Output Shape              Param #   \n",
            "=================================================================\n",
            "dense_14 (Dense)             (None, 256)               256256    \n",
            "_________________________________________________________________\n",
            "dropout_10 (Dropout)         (None, 256)               0         \n",
            "_________________________________________________________________\n",
            "dense_15 (Dense)             (None, 2)                 514       \n",
            "=================================================================\n",
            "Total params: 256,770\n",
            "Trainable params: 256,770\n",
            "Non-trainable params: 0\n",
            "_________________________________________________________________\n"
          ],
          "name": "stdout"
        }
      ]
    },
    {
      "cell_type": "code",
      "metadata": {
        "id": "ZFN_A1_KTLwD",
        "outputId": "c7833c75-d36a-4161-e915-9357e2ff7370",
        "colab": {
          "base_uri": "https://localhost:8080/",
          "height": 281
        }
      },
      "source": [
        "import matplotlib.pyplot as plt\n",
        "plt.figure(figsize = (12,4))\n",
        " \n",
        "plt.subplot(1,2,1)\n",
        "plt.plot(history.history['loss'], 'b-', label = 'loss')\n",
        "plt.plot(history.history['val_loss'], 'r--', label = 'val_loss')\n",
        "plt.xlabel('Epoch')\n",
        "plt.legend()\n",
        "\n",
        "plt.subplot(1,2,2)\n",
        "plt.plot(history.history['accuracy'], 'g-', label = 'acc')\n",
        "plt.plot(history.history['val_accuracy'], 'k--', label = 'val_acc')\n",
        "plt.xlabel('Epoch')\n",
        "plt.legend()\n",
        "\n",
        "plt.show()"
      ],
      "execution_count": 22,
      "outputs": [
        {
          "output_type": "display_data",
          "data": {
            "image/png": "[encoded data removed]",
            "text/plain": [
              "<Figure size 864x288 with 2 Axes>"
            ]
          },
          "metadata": {
            "tags": [],
            "needs_background": "light"
          }
        }
      ]
    },
    {
      "cell_type": "code",
      "metadata": {
        "id": "mdW4m_e-TOEW",
        "outputId": "65f569c3-8f38-41bd-f65a-ddfeb9e7a414",
        "colab": {
          "base_uri": "https://localhost:8080/"
        }
      },
      "source": [
        "results = model.evaluate(valid_features, valid_Y)\n",
        "print('Test accuracy: ', results[1])"
      ],
      "execution_count": 24,
      "outputs": [
        {
          "output_type": "stream",
          "text": [
            "14/14 [==============================] - 0s 2ms/step - loss: 0.0445 - accuracy: 0.9819\n",
            "Test accuracy:  0.9818593859672546\n"
          ],
          "name": "stdout"
        }
      ]
    },
    {
      "cell_type": "code",
      "metadata": {
        "id": "_1AmVezyTRMc"
      },
      "source": [
        "model.save('/content/drive/My Drive/efficientnet_audio.h5')"
      ],
      "execution_count": 27,
      "outputs": []
    },
    {
      "cell_type": "code",
      "metadata": {
        "id": "2U_sLvTWTXB6",
        "outputId": "eb9ef915-bda9-40ad-d5b8-89a21f7c2b5e",
        "colab": {
          "base_uri": "https://localhost:8080/"
        }
      },
      "source": [
        "print('i')"
      ],
      "execution_count": 29,
      "outputs": [
        {
          "output_type": "stream",
          "text": [
            "i\n"
          ],
          "name": "stdout"
        }
      ]
    }
  ]
}