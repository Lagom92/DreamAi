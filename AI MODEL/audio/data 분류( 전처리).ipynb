{
 "cells": [
  {
   "cell_type": "code",
   "execution_count": null,
   "metadata": {},
   "outputs": [],
   "source": [
    "Preprocessing (data 분류)"
   ]
  },
  {
   "cell_type": "code",
   "execution_count": 37,
   "metadata": {},
   "outputs": [],
   "source": [
    "# 필요한 라이브러리 불러오기\n",
    "import tensorflow as tf\n",
    "import pandas as pd\n",
    "import numpy as np\n",
    "import PIL.Image as Image\n",
    "import matplotlib.pyplot as plt\n",
    "import cv2\n",
    "from os import listdir\n",
    "from os.path import isfile, join\n",
    "\n",
    "import os\n",
    "import shutil"
   ]
  },
  {
   "cell_type": "code",
   "execution_count": 38,
   "metadata": {},
   "outputs": [
    {
     "data": {
      "text/html": [
       "<div>\n",
       "<style scoped>\n",
       "    .dataframe tbody tr th:only-of-type {\n",
       "        vertical-align: middle;\n",
       "    }\n",
       "\n",
       "    .dataframe tbody tr th {\n",
       "        vertical-align: top;\n",
       "    }\n",
       "\n",
       "    .dataframe thead th {\n",
       "        text-align: right;\n",
       "    }\n",
       "</style>\n",
       "<table border=\"1\" class=\"dataframe\">\n",
       "  <thead>\n",
       "    <tr style=\"text-align: right;\">\n",
       "      <th></th>\n",
       "      <th>id</th>\n",
       "      <th>status</th>\n",
       "    </tr>\n",
       "  </thead>\n",
       "  <tbody>\n",
       "    <tr>\n",
       "      <th>0</th>\n",
       "      <td>vK2bLRNzllXNeyOMudnNSL5cfpG2</td>\n",
       "      <td>healthy</td>\n",
       "    </tr>\n",
       "    <tr>\n",
       "      <th>1</th>\n",
       "      <td>bjA2KpSxneNskrLBeqi4bqoTDQl2</td>\n",
       "      <td>healthy</td>\n",
       "    </tr>\n",
       "    <tr>\n",
       "      <th>2</th>\n",
       "      <td>FSzobvJqOXf0rI6X05cHqOiU9Mu2</td>\n",
       "      <td>healthy</td>\n",
       "    </tr>\n",
       "    <tr>\n",
       "      <th>3</th>\n",
       "      <td>EqDWckxbsETyHUeBLQ8jLtxlhir2</td>\n",
       "      <td>healthy</td>\n",
       "    </tr>\n",
       "    <tr>\n",
       "      <th>4</th>\n",
       "      <td>FGRDO4IBbAejR0WHD5YbkXTCasg2</td>\n",
       "      <td>healthy</td>\n",
       "    </tr>\n",
       "    <tr>\n",
       "      <th>...</th>\n",
       "      <td>...</td>\n",
       "      <td>...</td>\n",
       "    </tr>\n",
       "    <tr>\n",
       "      <th>2833</th>\n",
       "      <td>aHJPsm6esHeW5apkd8KAFdia9zj2</td>\n",
       "      <td>positive_mild</td>\n",
       "    </tr>\n",
       "    <tr>\n",
       "      <th>2834</th>\n",
       "      <td>HYGtUoMDukOlfkkQ7rgRPhuKorA3</td>\n",
       "      <td>positive_mild</td>\n",
       "    </tr>\n",
       "    <tr>\n",
       "      <th>2836</th>\n",
       "      <td>vK2bLRNzllXNeyOMudnNSL5cfpG2</td>\n",
       "      <td>healthy</td>\n",
       "    </tr>\n",
       "    <tr>\n",
       "      <th>2837</th>\n",
       "      <td>bjA2KpSxneNskrLBeqi4bqoTDQl2</td>\n",
       "      <td>healthy</td>\n",
       "    </tr>\n",
       "    <tr>\n",
       "      <th>2838</th>\n",
       "      <td>FSzobvJqOXf0rI6X05cHqOiU9Mu2</td>\n",
       "      <td>healthy</td>\n",
       "    </tr>\n",
       "  </tbody>\n",
       "</table>\n",
       "<p>2793 rows × 2 columns</p>\n",
       "</div>"
      ],
      "text/plain": [
       "                                id         status\n",
       "0     vK2bLRNzllXNeyOMudnNSL5cfpG2        healthy\n",
       "1     bjA2KpSxneNskrLBeqi4bqoTDQl2        healthy\n",
       "2     FSzobvJqOXf0rI6X05cHqOiU9Mu2        healthy\n",
       "3     EqDWckxbsETyHUeBLQ8jLtxlhir2        healthy\n",
       "4     FGRDO4IBbAejR0WHD5YbkXTCasg2        healthy\n",
       "...                            ...            ...\n",
       "2833  aHJPsm6esHeW5apkd8KAFdia9zj2  positive_mild\n",
       "2834  HYGtUoMDukOlfkkQ7rgRPhuKorA3  positive_mild\n",
       "2836  vK2bLRNzllXNeyOMudnNSL5cfpG2        healthy\n",
       "2837  bjA2KpSxneNskrLBeqi4bqoTDQl2        healthy\n",
       "2838  FSzobvJqOXf0rI6X05cHqOiU9Mu2        healthy\n",
       "\n",
       "[2793 rows x 2 columns]"
      ]
     },
     "execution_count": 38,
     "metadata": {},
     "output_type": "execute_result"
    }
   ],
   "source": [
    "# 전체 확진자\n",
    "\n",
    "df = pd.read_csv('merge - merge.csv')\n",
    "whole = df.iloc[:,:2]\n",
    "whole.columns=['id','status']\n",
    "whole.dropna(inplace=True)\n",
    "whole"
   ]
  },
  {
   "cell_type": "code",
   "execution_count": 39,
   "metadata": {},
   "outputs": [
    {
     "data": {
      "text/html": [
       "<div>\n",
       "<style scoped>\n",
       "    .dataframe tbody tr th:only-of-type {\n",
       "        vertical-align: middle;\n",
       "    }\n",
       "\n",
       "    .dataframe tbody tr th {\n",
       "        vertical-align: top;\n",
       "    }\n",
       "\n",
       "    .dataframe thead th {\n",
       "        text-align: right;\n",
       "    }\n",
       "</style>\n",
       "<table border=\"1\" class=\"dataframe\">\n",
       "  <thead>\n",
       "    <tr style=\"text-align: right;\">\n",
       "      <th></th>\n",
       "      <th>id</th>\n",
       "      <th>status</th>\n",
       "    </tr>\n",
       "  </thead>\n",
       "  <tbody>\n",
       "    <tr>\n",
       "      <th>0</th>\n",
       "      <td>vK2bLRNzllXNeyOMudnNSL5cfpG2</td>\n",
       "      <td>neg</td>\n",
       "    </tr>\n",
       "    <tr>\n",
       "      <th>1</th>\n",
       "      <td>bjA2KpSxneNskrLBeqi4bqoTDQl2</td>\n",
       "      <td>neg</td>\n",
       "    </tr>\n",
       "    <tr>\n",
       "      <th>2</th>\n",
       "      <td>FSzobvJqOXf0rI6X05cHqOiU9Mu2</td>\n",
       "      <td>neg</td>\n",
       "    </tr>\n",
       "    <tr>\n",
       "      <th>3</th>\n",
       "      <td>EqDWckxbsETyHUeBLQ8jLtxlhir2</td>\n",
       "      <td>neg</td>\n",
       "    </tr>\n",
       "    <tr>\n",
       "      <th>4</th>\n",
       "      <td>FGRDO4IBbAejR0WHD5YbkXTCasg2</td>\n",
       "      <td>neg</td>\n",
       "    </tr>\n",
       "    <tr>\n",
       "      <th>...</th>\n",
       "      <td>...</td>\n",
       "      <td>...</td>\n",
       "    </tr>\n",
       "    <tr>\n",
       "      <th>2833</th>\n",
       "      <td>aHJPsm6esHeW5apkd8KAFdia9zj2</td>\n",
       "      <td>pos</td>\n",
       "    </tr>\n",
       "    <tr>\n",
       "      <th>2834</th>\n",
       "      <td>HYGtUoMDukOlfkkQ7rgRPhuKorA3</td>\n",
       "      <td>pos</td>\n",
       "    </tr>\n",
       "    <tr>\n",
       "      <th>2836</th>\n",
       "      <td>vK2bLRNzllXNeyOMudnNSL5cfpG2</td>\n",
       "      <td>neg</td>\n",
       "    </tr>\n",
       "    <tr>\n",
       "      <th>2837</th>\n",
       "      <td>bjA2KpSxneNskrLBeqi4bqoTDQl2</td>\n",
       "      <td>neg</td>\n",
       "    </tr>\n",
       "    <tr>\n",
       "      <th>2838</th>\n",
       "      <td>FSzobvJqOXf0rI6X05cHqOiU9Mu2</td>\n",
       "      <td>neg</td>\n",
       "    </tr>\n",
       "  </tbody>\n",
       "</table>\n",
       "<p>2793 rows × 2 columns</p>\n",
       "</div>"
      ],
      "text/plain": [
       "                                id status\n",
       "0     vK2bLRNzllXNeyOMudnNSL5cfpG2    neg\n",
       "1     bjA2KpSxneNskrLBeqi4bqoTDQl2    neg\n",
       "2     FSzobvJqOXf0rI6X05cHqOiU9Mu2    neg\n",
       "3     EqDWckxbsETyHUeBLQ8jLtxlhir2    neg\n",
       "4     FGRDO4IBbAejR0WHD5YbkXTCasg2    neg\n",
       "...                            ...    ...\n",
       "2833  aHJPsm6esHeW5apkd8KAFdia9zj2    pos\n",
       "2834  HYGtUoMDukOlfkkQ7rgRPhuKorA3    pos\n",
       "2836  vK2bLRNzllXNeyOMudnNSL5cfpG2    neg\n",
       "2837  bjA2KpSxneNskrLBeqi4bqoTDQl2    neg\n",
       "2838  FSzobvJqOXf0rI6X05cHqOiU9Mu2    neg\n",
       "\n",
       "[2793 rows x 2 columns]"
      ]
     },
     "execution_count": 39,
     "metadata": {},
     "output_type": "execute_result"
    }
   ],
   "source": [
    "#pos 와 neg 로 분류\n",
    "whole['status'] = whole['status'].replace(['healthy','resp_illness_not_identified','recovered_full'],'neg')\n",
    "whole['status'] = whole['status'].replace(['positive_mild', 'positive_moderate' , 'positive_asymp'],'pos')\n",
    "\n",
    "whole"
   ]
  },
  {
   "cell_type": "code",
   "execution_count": 71,
   "metadata": {},
   "outputs": [
    {
     "data": {
      "text/html": [
       "<div>\n",
       "<style scoped>\n",
       "    .dataframe tbody tr th:only-of-type {\n",
       "        vertical-align: middle;\n",
       "    }\n",
       "\n",
       "    .dataframe tbody tr th {\n",
       "        vertical-align: top;\n",
       "    }\n",
       "\n",
       "    .dataframe thead th {\n",
       "        text-align: right;\n",
       "    }\n",
       "</style>\n",
       "<table border=\"1\" class=\"dataframe\">\n",
       "  <thead>\n",
       "    <tr style=\"text-align: right;\">\n",
       "      <th></th>\n",
       "      <th>id</th>\n",
       "      <th>status</th>\n",
       "    </tr>\n",
       "  </thead>\n",
       "  <tbody>\n",
       "    <tr>\n",
       "      <th>1</th>\n",
       "      <td>bjA2KpSxneNskrLBeqi4bqoTDQl2</td>\n",
       "      <td>neg</td>\n",
       "    </tr>\n",
       "    <tr>\n",
       "      <th>2</th>\n",
       "      <td>FSzobvJqOXf0rI6X05cHqOiU9Mu2</td>\n",
       "      <td>neg</td>\n",
       "    </tr>\n",
       "    <tr>\n",
       "      <th>3</th>\n",
       "      <td>EqDWckxbsETyHUeBLQ8jLtxlhir2</td>\n",
       "      <td>neg</td>\n",
       "    </tr>\n",
       "    <tr>\n",
       "      <th>4</th>\n",
       "      <td>FGRDO4IBbAejR0WHD5YbkXTCasg2</td>\n",
       "      <td>neg</td>\n",
       "    </tr>\n",
       "    <tr>\n",
       "      <th>5</th>\n",
       "      <td>htQzROl26OWQpIYFDzv11F79PLR2</td>\n",
       "      <td>neg</td>\n",
       "    </tr>\n",
       "    <tr>\n",
       "      <th>...</th>\n",
       "      <td>...</td>\n",
       "      <td>...</td>\n",
       "    </tr>\n",
       "    <tr>\n",
       "      <th>1412</th>\n",
       "      <td>JuzR5zpE9HU3NsFabIcz4Kkp0Ag1</td>\n",
       "      <td>neg</td>\n",
       "    </tr>\n",
       "    <tr>\n",
       "      <th>1413</th>\n",
       "      <td>pvX8fr2fMcebtfWq2wXqyIp56PL2</td>\n",
       "      <td>neg</td>\n",
       "    </tr>\n",
       "    <tr>\n",
       "      <th>1414</th>\n",
       "      <td>IFMid2LmeCTSQAFaL8wTSUg20No2</td>\n",
       "      <td>pos</td>\n",
       "    </tr>\n",
       "    <tr>\n",
       "      <th>1415</th>\n",
       "      <td>aHJPsm6esHeW5apkd8KAFdia9zj2</td>\n",
       "      <td>pos</td>\n",
       "    </tr>\n",
       "    <tr>\n",
       "      <th>1416</th>\n",
       "      <td>HYGtUoMDukOlfkkQ7rgRPhuKorA3</td>\n",
       "      <td>pos</td>\n",
       "    </tr>\n",
       "  </tbody>\n",
       "</table>\n",
       "<p>1394 rows × 2 columns</p>\n",
       "</div>"
      ],
      "text/plain": [
       "                                id status\n",
       "1     bjA2KpSxneNskrLBeqi4bqoTDQl2    neg\n",
       "2     FSzobvJqOXf0rI6X05cHqOiU9Mu2    neg\n",
       "3     EqDWckxbsETyHUeBLQ8jLtxlhir2    neg\n",
       "4     FGRDO4IBbAejR0WHD5YbkXTCasg2    neg\n",
       "5     htQzROl26OWQpIYFDzv11F79PLR2    neg\n",
       "...                            ...    ...\n",
       "1412  JuzR5zpE9HU3NsFabIcz4Kkp0Ag1    neg\n",
       "1413  pvX8fr2fMcebtfWq2wXqyIp56PL2    neg\n",
       "1414  IFMid2LmeCTSQAFaL8wTSUg20No2    pos\n",
       "1415  aHJPsm6esHeW5apkd8KAFdia9zj2    pos\n",
       "1416  HYGtUoMDukOlfkkQ7rgRPhuKorA3    pos\n",
       "\n",
       "[1394 rows x 2 columns]"
      ]
     },
     "execution_count": 71,
     "metadata": {},
     "output_type": "execute_result"
    }
   ],
   "source": [
    "# 중복값 확인\n",
    "whole.duplicated(['id'],keep='first')\n",
    "# 중복값 제거 \n",
    "whole.drop_duplicates(['id'],keep='first',inplace=True)\n",
    "whole = whole.iloc[1:,:]\n",
    "whole"
   ]
  },
  {
   "cell_type": "code",
   "execution_count": 97,
   "metadata": {},
   "outputs": [],
   "source": [
    "# 전처리 후 csv 파일 저장\n",
    "whole.to_csv('final_merge.csv', index=False, encoding='cp949')"
   ]
  },
  {
   "cell_type": "code",
   "execution_count": 148,
   "metadata": {},
   "outputs": [
    {
     "name": "stdout",
     "output_type": "stream",
     "text": [
      "neg                        1222\n",
      "pos                          87\n",
      "no_resp_illness_exposed      85\n",
      "Name: status, dtype: int64\n"
     ]
    },
    {
     "data": {
      "image/png": "[encoded data removed]",
      "text/plain": [
       "<Figure size 432x288 with 1 Axes>"
      ]
     },
     "metadata": {
      "needs_background": "light"
     },
     "output_type": "display_data"
    }
   ],
   "source": [
    "# 최종 전체 확진자 비율 확인 \n",
    "ax = whole['status'].value_counts().plot.bar(color=['blue', 'red','green'])\n",
    "ax.set_xticklabels(ax.get_xticklabels(), rotation=45)\n",
    "print(whole['status'].value_counts())"
   ]
  },
  {
   "cell_type": "code",
   "execution_count": 95,
   "metadata": {},
   "outputs": [],
   "source": [
    "#전체 파일 확인\n",
    "import os \n",
    "wav = os.listdir('C:/Users/smile/ai_team/covid_audio_data/coswara_data/20200413')"
   ]
  },
  {
   "cell_type": "code",
   "execution_count": 104,
   "metadata": {},
   "outputs": [],
   "source": [
    "# csv 파일이 values 가 실제 데이터랑 맞는지 확인\n",
    "for i in whole['id']:\n",
    "    if i in wav:\n",
    "        pass\n",
    "    else:\n",
    "        pass"
   ]
  },
  {
   "cell_type": "code",
   "execution_count": 142,
   "metadata": {},
   "outputs": [],
   "source": [
    "#전체 파일 확인\n",
    "import os \n",
    "files_neg= os.listdir('train/neg')\n",
    "# print(files_neg)\n",
    "files_pos= os.listdir('train/pos')\n",
    "# print(files_pos)"
   ]
  },
  {
   "cell_type": "code",
   "execution_count": 147,
   "metadata": {},
   "outputs": [
    {
     "name": "stdout",
     "output_type": "stream",
     "text": [
      "87\n"
     ]
    }
   ],
   "source": [
    "#전체 파일 확인\n",
    "for i in files_neg:\n",
    "        file= os.listdir('train/neg/'+i)\n",
    "        # print(file)\n",
    "        \n",
    "for i in files_pos:\n",
    "        file= os.listdir('train/pos/'+i)\n",
    "        # print(file)\n",
    "    \n",
    "print(len(files_pos))"
   ]
  },
  {
   "cell_type": "code",
   "execution_count": 138,
   "metadata": {},
   "outputs": [],
   "source": [
    "# cough 파일 만들기\n",
    "os.mkdir('train/' + 'pos_cough')\n",
    "os.mkdir('train/' + 'neg_cough')"
   ]
  },
  {
   "cell_type": "code",
   "execution_count": 133,
   "metadata": {},
   "outputs": [],
   "source": [
    "# neg_cough 데이터 복사(heavy와 shallow)\n",
    "for i in files_neg:\n",
    "    shutil.copy('train/neg/' + i+ '/'+'cough-heavy.wav', 'train/neg_cough/' +i+ 'cough-heavy.wav')\n",
    "for i in files_neg:\n",
    "    try:\n",
    "        shutil.copy('train/neg/' + i+ '/'+'cough-shallow.wav', 'train/neg_cough/' +i+ 'cough-shallow.wav')\n",
    "    except:\n",
    "        pass"
   ]
  },
  {
   "cell_type": "code",
   "execution_count": 144,
   "metadata": {},
   "outputs": [],
   "source": [
    "#pos_cough 데이터 복사(heavy와 shallow)\n",
    "for i in files_pos:\n",
    "    try:\n",
    "        shutil.copy('train/pos/' + i+ '/'+'cough-heavy.wav', 'train/pos_cough/' +i+ 'cough-heavy.wav')\n",
    "    except:\n",
    "        pass\n",
    "for i in files_pos:\n",
    "    try:\n",
    "        shutil.copy('train/pos/' + i+ '/'+'cough-shallow.wav', 'train/pos_cough/' +i+ 'cough-shallow.wav')\n",
    "    except:\n",
    "        pass"
   ]
  }
 ],
 "metadata": {
  "kernelspec": {
   "display_name": "Python 3",
   "language": "python",
   "name": "python3"
  },
  "language_info": {
   "codemirror_mode": {
    "name": "ipython",
    "version": 3
   },
   "file_extension": ".py",
   "mimetype": "text/x-python",
   "name": "python",
   "nbconvert_exporter": "python",
   "pygments_lexer": "ipython3",
   "version": "3.7.6"
  }
 },
 "nbformat": 4,
 "nbformat_minor": 4
}
