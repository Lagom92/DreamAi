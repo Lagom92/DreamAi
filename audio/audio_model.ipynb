{
  "nbformat": 4,
  "nbformat_minor": 0,
  "metadata": {
    "colab": {
      "name": "audio_model.ipynb",
      "provenance": [],
      "collapsed_sections": []
    },
    "kernelspec": {
      "name": "python3",
      "display_name": "Python 3"
    },
    "accelerator": "GPU"
  },
  "cells": [
    {
      "cell_type": "code",
      "metadata": {
        "id": "CtgpKyDzkLEC"
      },
      "source": [
        "import tensorflow as tf\n",
        "import pandas as pd\n",
        "import numpy as np\n",
        "import PIL.Image as Image\n",
        "import matplotlib.pyplot as plt\n",
        "import cv2\n",
        "\n",
        "import tensorflow_hub as hub"
      ],
      "execution_count": 1,
      "outputs": []
    },
    {
      "cell_type": "code",
      "metadata": {
        "id": "eAg2--y2IZX8",
        "outputId": "94ed537c-bcf8-4b2e-dbda-38592a9d7764",
        "colab": {
          "base_uri": "https://localhost:8080/"
        }
      },
      "source": [
        "from google.colab import drive\n",
        "drive.mount('/content/drive')"
      ],
      "execution_count": 2,
      "outputs": [
        {
          "output_type": "stream",
          "text": [
            "Drive already mounted at /content/drive; to attempt to forcibly remount, call drive.mount(\"/content/drive\", force_remount=True).\n"
          ],
          "name": "stdout"
        }
      ]
    },
    {
      "cell_type": "code",
      "metadata": {
        "id": "Q9DnvZzZIUKQ"
      },
      "source": [
        "#EffcientNet-b4\n",
        "res_url = 'https://tfhub.dev/tensorflow/efficientnet/lite4/classification/2'\n",
        "feature_model = tf.keras.Sequential([\n",
        "    hub.KerasLayer(res_url,trainable=False)])"
      ],
      "execution_count": 9,
      "outputs": []
    },
    {
      "cell_type": "code",
      "metadata": {
        "id": "DwGlevo_Rq6a",
        "outputId": "f0509658-901e-4c43-e41a-058dd5a4da97",
        "colab": {
          "base_uri": "https://localhost:8080/"
        }
      },
      "source": [
        "expect_img_size = 528\n",
        "\n",
        "feature_model.build([None, expect_img_size, expect_img_size, 3])\n",
        "feature_model.summary()"
      ],
      "execution_count": 14,
      "outputs": [
        {
          "output_type": "stream",
          "text": [
            "Model: \"sequential_3\"\n",
            "_________________________________________________________________\n",
            "Layer (type)                 Output Shape              Param #   \n",
            "=================================================================\n",
            "keras_layer_3 (KerasLayer)   (None, 1000)              13118936  \n",
            "=================================================================\n",
            "Total params: 13,118,936\n",
            "Trainable params: 0\n",
            "Non-trainable params: 13,118,936\n",
            "_________________________________________________________________\n"
          ],
          "name": "stdout"
        }
      ]
    },
    {
      "cell_type": "code",
      "metadata": {
        "id": "TwSqhNxuXhU0"
      },
      "source": [
        "feature_model.save('/content/drive/My Drive/efficientnet_feature.h5')"
      ],
      "execution_count": 15,
      "outputs": []
    },
    {
      "cell_type": "code",
      "metadata": {
        "id": "K_TL9Z7fIhJD",
        "outputId": "d6a7288e-3019-429e-8b1c-26e4636f78ae",
        "colab": {
          "base_uri": "https://localhost:8080/"
        }
      },
      "source": [
        "from tensorflow.python.keras.preprocessing.image import ImageDataGenerator\n",
        "from keras.applications.inception_resnet_v2 import preprocess_input\n",
        "\n",
        "image_size = 528\n",
        "batch_size = 32\n",
        "\n",
        "# 학습 및 검증 데이터용 ImageDataGenerator 생성\n",
        "train_datagen = ImageDataGenerator(rescale=1./255., \n",
        "                                   validation_split = 0.25)\n",
        "\n",
        "#검증데이터\n",
        "valid_datagen = ImageDataGenerator(rescale=1./255., \n",
        "                                   validation_split = 0.25)\n",
        "\n",
        "train_generator = train_datagen.flow_from_directory(directory = '/content/drive/My Drive/audio_predict/train_image_data',\n",
        "                                                    subset = 'training',   \n",
        "                                                    batch_size = batch_size,\n",
        "                                                    seed = 126,\n",
        "                                                    shuffle = True,\n",
        "                                                    class_mode = 'categorical',\n",
        "                                                    target_size = (image_size,image_size))\n",
        "\n",
        "valid_generator = valid_datagen.flow_from_directory(directory = '/content/drive/My Drive/audio_predict/train_image_data',\n",
        "                                                    subset = 'validation',\n",
        "                                                    batch_size = 1,\n",
        "                                                    seed = 126,\n",
        "                                                    shuffle = True,\n",
        "                                                    class_mode = 'categorical',\n",
        "                                                    target_size = (image_size,image_size))"
      ],
      "execution_count": 16,
      "outputs": [
        {
          "output_type": "stream",
          "text": [
            "Found 1323 images belonging to 2 classes.\n",
            "Found 441 images belonging to 2 classes.\n"
          ],
          "name": "stdout"
        }
      ]
    },
    {
      "cell_type": "code",
      "metadata": {
        "id": "pd1-mCk37uJ8",
        "outputId": "fdd5aad4-2120-4810-9858-fe01a30aea90",
        "colab": {
          "base_uri": "https://localhost:8080/"
        }
      },
      "source": [
        "valid_generator.class_indices"
      ],
      "execution_count": null,
      "outputs": [
        {
          "output_type": "execute_result",
          "data": {
            "text/plain": [
              "{'0': 0, '1': 1}"
            ]
          },
          "metadata": {
            "tags": []
          },
          "execution_count": 5
        }
      ]
    },
    {
      "cell_type": "code",
      "metadata": {
        "id": "HGNN-SPqRwGE",
        "outputId": "e8b2d2b4-eda2-4883-a063-7ba9ee65fcde",
        "colab": {
          "base_uri": "https://localhost:8080/"
        }
      },
      "source": [
        "# 이미지 보강 2배\n",
        "import numpy as np\n",
        "from tqdm import tqdm\n",
        "\n",
        "image_size = 500\n",
        "batch_size = 32\n",
        "\n",
        "batch_step = (1764 * 2) // batch_size #데이터 증폭 시켜 배치 스텝구하기\n",
        "train_features = [] \n",
        "train_Y = [] \n",
        "\n",
        "for idx in tqdm(range(batch_step)):\n",
        "  x, y = train_generator.next() #next()를 활용하여 train_generator에 담겨진 [[입력픽셀],[라벨링]] 을 x와 y에 담아 준다.   \n",
        "  train_Y.extend(y) #append()와 비슷한 기능, list에 appending 수행\n",
        "  \n",
        "  # feature_model : 이미 학습이 완료된 특징 추출기 (우리가 불러옴)\n",
        "  # 학습데이터 x 를 활용해서 feature_model을 통과시켜 특징 추출.\n",
        "  feature = feature_model.predict(x)\n",
        "  train_features.extend(feature)\n",
        "\n",
        "#array 전환 \n",
        "train_features = np.array(train_features)\n",
        "train_Y = np.array(train_Y)\n",
        "\n",
        "print(train_features.shape)\n",
        "print(train_Y.shape)\n",
        "print(train_Y)"
      ],
      "execution_count": 17,
      "outputs": [
        {
          "output_type": "stream",
          "text": [
            "100%|██████████| 110/110 [06:42<00:00,  3.66s/it]"
          ],
          "name": "stderr"
        },
        {
          "output_type": "stream",
          "text": [
            "(3478, 1000)\n",
            "(3478, 2)\n",
            "[[0. 1.]\n",
            " [1. 0.]\n",
            " [1. 0.]\n",
            " ...\n",
            " [0. 1.]\n",
            " [1. 0.]\n",
            " [1. 0.]]\n"
          ],
          "name": "stdout"
        },
        {
          "output_type": "stream",
          "text": [
            "\n"
          ],
          "name": "stderr"
        }
      ]
    },
    {
      "cell_type": "code",
      "metadata": {
        "id": "m2SFrfzcSIlq",
        "outputId": "85e1dec9-2fc7-4756-d8b0-854ac3ba0227",
        "colab": {
          "base_uri": "https://localhost:8080/"
        }
      },
      "source": [
        "valid_features = [] \n",
        "valid_Y = [] \n",
        "\n",
        "for idx in tqdm(range(valid_generator.n)):\n",
        "  x, y = valid_generator.next() #next()를 활용하여 valid_generator에 담겨진 [[입력픽셀],[라벨링]] 을 x와 y에 담아 준다.   \n",
        "  valid_Y.extend(y) #append()와 비슷한 기능, list에 appending 수행\n",
        "  \n",
        "  # feature_model : 이미 학습이 완료된 특징 추출기 (우리가 불러옴)\n",
        "  # 학습데이터 x 를 활용해서 feature_model을 통과시켜 특징 추출.\n",
        "  feature = feature_model.predict(x)\n",
        "  valid_features.extend(feature)\n",
        "\n",
        "#array 전환 \n",
        "valid_features = np.array(valid_features)\n",
        "valid_Y = np.array(valid_Y)\n",
        "\n",
        "print(valid_features.shape)\n",
        "print(valid_Y.shape)"
      ],
      "execution_count": 18,
      "outputs": [
        {
          "output_type": "stream",
          "text": [
            "100%|██████████| 441/441 [02:22<00:00,  3.09it/s]"
          ],
          "name": "stderr"
        },
        {
          "output_type": "stream",
          "text": [
            "(441, 1000)\n",
            "(441, 2)\n"
          ],
          "name": "stdout"
        },
        {
          "output_type": "stream",
          "text": [
            "\n"
          ],
          "name": "stderr"
        }
      ]
    },
    {
      "cell_type": "code",
      "metadata": {
        "id": "wJjKJFL4Iihx",
        "outputId": "a2435e28-3abf-4bdb-9ebd-d0493b8115df",
        "colab": {
          "base_uri": "https://localhost:8080/"
        }
      },
      "source": [
        "model = tf.keras.Sequential([\n",
        "                             tf.keras.layers.Dense(256, activation= 'relu', input_shape = (1000,)),\n",
        "                             tf.keras.layers.Dropout(0.5),\n",
        "                             tf.keras.layers.Dense(2,activation='softmax')\n",
        "])\n",
        "model.compile(tf.optimizers.RMSprop(0.0001), \n",
        "              loss = 'categorical_crossentropy',\n",
        "              metrics=['accuracy'])\n",
        "model.summary()"
      ],
      "execution_count": 19,
      "outputs": [
        {
          "output_type": "stream",
          "text": [
            "Model: \"sequential_4\"\n",
            "_________________________________________________________________\n",
            "Layer (type)                 Output Shape              Param #   \n",
            "=================================================================\n",
            "dense (Dense)                (None, 256)               256256    \n",
            "_________________________________________________________________\n",
            "dropout (Dropout)            (None, 256)               0         \n",
            "_________________________________________________________________\n",
            "dense_1 (Dense)              (None, 2)                 514       \n",
            "=================================================================\n",
            "Total params: 256,770\n",
            "Trainable params: 256,770\n",
            "Non-trainable params: 0\n",
            "_________________________________________________________________\n"
          ],
          "name": "stdout"
        }
      ]
    },
    {
      "cell_type": "code",
      "metadata": {
        "id": "3EgXhczHSpwo",
        "outputId": "ad28b834-6f05-422b-fb9c-10b68ccfc70e",
        "colab": {
          "base_uri": "https://localhost:8080/"
        }
      },
      "source": [
        "from keras.callbacks import ModelCheckpoint, EarlyStopping\n",
        "\n",
        "checkpoint_path = '/content/drive/My Drive/check.h5'\n",
        "\n",
        "cp = ModelCheckpoint(filepath=checkpoint_path,\n",
        "                                save_weights_only=True,\n",
        "                                save_best_only=True,\n",
        "                                monitor='val_accuracy',\n",
        "                                verbose=1)\n",
        "\n",
        "es = EarlyStopping(patience=50, verbose=1)\n",
        "history = model.fit(train_features, train_Y, \n",
        "                    validation_data=(valid_features, valid_Y),\n",
        "                    epochs = 100,\n",
        "                    batch_size = 32,\n",
        "                    callbacks=[es,cp])\n",
        "model.summary()"
      ],
      "execution_count": 20,
      "outputs": [
        {
          "output_type": "stream",
          "text": [
            "Epoch 1/100\n",
            " 93/109 [========================>.....] - ETA: 0s - loss: 0.2872 - accuracy: 0.8794\n",
            "Epoch 00001: val_accuracy improved from -inf to 0.96372, saving model to /content/drive/My Drive/check.h5\n",
            "109/109 [==============================] - 0s 5ms/step - loss: 0.2664 - accuracy: 0.8899 - val_loss: 0.1215 - val_accuracy: 0.9637\n",
            "Epoch 2/100\n",
            " 94/109 [========================>.....] - ETA: 0s - loss: 0.1120 - accuracy: 0.9611\n",
            "Epoch 00002: val_accuracy improved from 0.96372 to 0.97052, saving model to /content/drive/My Drive/check.h5\n",
            "109/109 [==============================] - 0s 3ms/step - loss: 0.1081 - accuracy: 0.9623 - val_loss: 0.0918 - val_accuracy: 0.9705\n",
            "Epoch 3/100\n",
            " 94/109 [========================>.....] - ETA: 0s - loss: 0.0709 - accuracy: 0.9754\n",
            "Epoch 00003: val_accuracy improved from 0.97052 to 0.97732, saving model to /content/drive/My Drive/check.h5\n",
            "109/109 [==============================] - 0s 3ms/step - loss: 0.0718 - accuracy: 0.9747 - val_loss: 0.0748 - val_accuracy: 0.9773\n",
            "Epoch 4/100\n",
            " 94/109 [========================>.....] - ETA: 0s - loss: 0.0559 - accuracy: 0.9817\n",
            "Epoch 00004: val_accuracy improved from 0.97732 to 0.98866, saving model to /content/drive/My Drive/check.h5\n",
            "109/109 [==============================] - 0s 3ms/step - loss: 0.0560 - accuracy: 0.9816 - val_loss: 0.0579 - val_accuracy: 0.9887\n",
            "Epoch 5/100\n",
            " 95/109 [=========================>....] - ETA: 0s - loss: 0.0409 - accuracy: 0.9862\n",
            "Epoch 00005: val_accuracy improved from 0.98866 to 0.99093, saving model to /content/drive/My Drive/check.h5\n",
            "109/109 [==============================] - 0s 3ms/step - loss: 0.0416 - accuracy: 0.9856 - val_loss: 0.0465 - val_accuracy: 0.9909\n",
            "Epoch 6/100\n",
            "107/109 [============================>.] - ETA: 0s - loss: 0.0367 - accuracy: 0.9883\n",
            "Epoch 00006: val_accuracy did not improve from 0.99093\n",
            "109/109 [==============================] - 0s 3ms/step - loss: 0.0379 - accuracy: 0.9876 - val_loss: 0.0495 - val_accuracy: 0.9841\n",
            "Epoch 7/100\n",
            "109/109 [==============================] - ETA: 0s - loss: 0.0301 - accuracy: 0.9905\n",
            "Epoch 00007: val_accuracy did not improve from 0.99093\n",
            "109/109 [==============================] - 0s 3ms/step - loss: 0.0301 - accuracy: 0.9905 - val_loss: 0.0359 - val_accuracy: 0.9909\n",
            "Epoch 8/100\n",
            " 96/109 [=========================>....] - ETA: 0s - loss: 0.0241 - accuracy: 0.9925\n",
            "Epoch 00008: val_accuracy did not improve from 0.99093\n",
            "109/109 [==============================] - 0s 3ms/step - loss: 0.0245 - accuracy: 0.9917 - val_loss: 0.0375 - val_accuracy: 0.9909\n",
            "Epoch 9/100\n",
            " 93/109 [========================>.....] - ETA: 0s - loss: 0.0210 - accuracy: 0.9940\n",
            "Epoch 00009: val_accuracy did not improve from 0.99093\n",
            "109/109 [==============================] - 0s 3ms/step - loss: 0.0213 - accuracy: 0.9937 - val_loss: 0.0368 - val_accuracy: 0.9887\n",
            "Epoch 10/100\n",
            " 98/109 [=========================>....] - ETA: 0s - loss: 0.0197 - accuracy: 0.9946\n",
            "Epoch 00010: val_accuracy did not improve from 0.99093\n",
            "109/109 [==============================] - 0s 3ms/step - loss: 0.0193 - accuracy: 0.9948 - val_loss: 0.0282 - val_accuracy: 0.9909\n",
            "Epoch 11/100\n",
            " 93/109 [========================>.....] - ETA: 0s - loss: 0.0149 - accuracy: 0.9966\n",
            "Epoch 00011: val_accuracy improved from 0.99093 to 0.99320, saving model to /content/drive/My Drive/check.h5\n",
            "109/109 [==============================] - 0s 3ms/step - loss: 0.0147 - accuracy: 0.9965 - val_loss: 0.0233 - val_accuracy: 0.9932\n",
            "Epoch 12/100\n",
            " 96/109 [=========================>....] - ETA: 0s - loss: 0.0142 - accuracy: 0.9967\n",
            "Epoch 00012: val_accuracy did not improve from 0.99320\n",
            "109/109 [==============================] - 0s 3ms/step - loss: 0.0137 - accuracy: 0.9968 - val_loss: 0.0255 - val_accuracy: 0.9909\n",
            "Epoch 13/100\n",
            " 94/109 [========================>.....] - ETA: 0s - loss: 0.0127 - accuracy: 0.9967\n",
            "Epoch 00013: val_accuracy improved from 0.99320 to 0.99546, saving model to /content/drive/My Drive/check.h5\n",
            "109/109 [==============================] - 0s 3ms/step - loss: 0.0119 - accuracy: 0.9971 - val_loss: 0.0207 - val_accuracy: 0.9955\n",
            "Epoch 14/100\n",
            " 93/109 [========================>.....] - ETA: 0s - loss: 0.0108 - accuracy: 0.9980\n",
            "Epoch 00014: val_accuracy did not improve from 0.99546\n",
            "109/109 [==============================] - 0s 3ms/step - loss: 0.0099 - accuracy: 0.9983 - val_loss: 0.0221 - val_accuracy: 0.9909\n",
            "Epoch 15/100\n",
            " 92/109 [========================>.....] - ETA: 0s - loss: 0.0106 - accuracy: 0.9973\n",
            "Epoch 00015: val_accuracy did not improve from 0.99546\n",
            "109/109 [==============================] - 0s 3ms/step - loss: 0.0098 - accuracy: 0.9977 - val_loss: 0.0253 - val_accuracy: 0.9909\n",
            "Epoch 16/100\n",
            "109/109 [==============================] - ETA: 0s - loss: 0.0085 - accuracy: 0.9977\n",
            "Epoch 00016: val_accuracy did not improve from 0.99546\n",
            "109/109 [==============================] - 0s 3ms/step - loss: 0.0085 - accuracy: 0.9977 - val_loss: 0.0235 - val_accuracy: 0.9909\n",
            "Epoch 17/100\n",
            " 96/109 [=========================>....] - ETA: 0s - loss: 0.0057 - accuracy: 0.9993\n",
            "Epoch 00017: val_accuracy did not improve from 0.99546\n",
            "109/109 [==============================] - 0s 3ms/step - loss: 0.0061 - accuracy: 0.9991 - val_loss: 0.0174 - val_accuracy: 0.9955\n",
            "Epoch 18/100\n",
            "109/109 [==============================] - ETA: 0s - loss: 0.0073 - accuracy: 0.9977\n",
            "Epoch 00018: val_accuracy did not improve from 0.99546\n",
            "109/109 [==============================] - 0s 3ms/step - loss: 0.0073 - accuracy: 0.9977 - val_loss: 0.0214 - val_accuracy: 0.9909\n",
            "Epoch 19/100\n",
            " 97/109 [=========================>....] - ETA: 0s - loss: 0.0069 - accuracy: 0.9981\n",
            "Epoch 00019: val_accuracy did not improve from 0.99546\n",
            "109/109 [==============================] - 0s 3ms/step - loss: 0.0069 - accuracy: 0.9977 - val_loss: 0.0237 - val_accuracy: 0.9909\n",
            "Epoch 20/100\n",
            " 95/109 [=========================>....] - ETA: 0s - loss: 0.0042 - accuracy: 0.9993\n",
            "Epoch 00020: val_accuracy did not improve from 0.99546\n",
            "109/109 [==============================] - 0s 3ms/step - loss: 0.0041 - accuracy: 0.9994 - val_loss: 0.0177 - val_accuracy: 0.9955\n",
            "Epoch 21/100\n",
            " 95/109 [=========================>....] - ETA: 0s - loss: 0.0042 - accuracy: 0.9997\n",
            "Epoch 00021: val_accuracy did not improve from 0.99546\n",
            "109/109 [==============================] - 0s 3ms/step - loss: 0.0040 - accuracy: 0.9997 - val_loss: 0.0214 - val_accuracy: 0.9909\n",
            "Epoch 22/100\n",
            " 97/109 [=========================>....] - ETA: 0s - loss: 0.0059 - accuracy: 0.9977\n",
            "Epoch 00022: val_accuracy did not improve from 0.99546\n",
            "109/109 [==============================] - 0s 3ms/step - loss: 0.0056 - accuracy: 0.9980 - val_loss: 0.0157 - val_accuracy: 0.9955\n",
            "Epoch 23/100\n",
            " 97/109 [=========================>....] - ETA: 0s - loss: 0.0026 - accuracy: 1.0000\n",
            "Epoch 00023: val_accuracy did not improve from 0.99546\n",
            "109/109 [==============================] - 0s 3ms/step - loss: 0.0031 - accuracy: 1.0000 - val_loss: 0.0149 - val_accuracy: 0.9955\n",
            "Epoch 24/100\n",
            " 92/109 [========================>.....] - ETA: 0s - loss: 0.0034 - accuracy: 0.9993\n",
            "Epoch 00024: val_accuracy did not improve from 0.99546\n",
            "109/109 [==============================] - 0s 3ms/step - loss: 0.0036 - accuracy: 0.9988 - val_loss: 0.0148 - val_accuracy: 0.9955\n",
            "Epoch 25/100\n",
            " 99/109 [==========================>...] - ETA: 0s - loss: 0.0021 - accuracy: 1.0000\n",
            "Epoch 00025: val_accuracy did not improve from 0.99546\n",
            "109/109 [==============================] - 0s 3ms/step - loss: 0.0020 - accuracy: 1.0000 - val_loss: 0.0226 - val_accuracy: 0.9909\n",
            "Epoch 26/100\n",
            " 96/109 [=========================>....] - ETA: 0s - loss: 0.0022 - accuracy: 1.0000\n",
            "Epoch 00026: val_accuracy did not improve from 0.99546\n",
            "109/109 [==============================] - 0s 3ms/step - loss: 0.0026 - accuracy: 0.9997 - val_loss: 0.0161 - val_accuracy: 0.9955\n",
            "Epoch 27/100\n",
            " 96/109 [=========================>....] - ETA: 0s - loss: 0.0021 - accuracy: 0.9997\n",
            "Epoch 00027: val_accuracy did not improve from 0.99546\n",
            "109/109 [==============================] - 0s 3ms/step - loss: 0.0026 - accuracy: 0.9994 - val_loss: 0.0169 - val_accuracy: 0.9955\n",
            "Epoch 28/100\n",
            " 91/109 [========================>.....] - ETA: 0s - loss: 0.0019 - accuracy: 1.0000\n",
            "Epoch 00028: val_accuracy did not improve from 0.99546\n",
            "109/109 [==============================] - 0s 3ms/step - loss: 0.0017 - accuracy: 1.0000 - val_loss: 0.0328 - val_accuracy: 0.9887\n",
            "Epoch 29/100\n",
            " 97/109 [=========================>....] - ETA: 0s - loss: 0.0025 - accuracy: 0.9990\n",
            "Epoch 00029: val_accuracy did not improve from 0.99546\n",
            "109/109 [==============================] - 0s 3ms/step - loss: 0.0026 - accuracy: 0.9988 - val_loss: 0.0314 - val_accuracy: 0.9887\n",
            "Epoch 30/100\n",
            " 97/109 [=========================>....] - ETA: 0s - loss: 0.0018 - accuracy: 0.9997\n",
            "Epoch 00030: val_accuracy did not improve from 0.99546\n",
            "109/109 [==============================] - 0s 3ms/step - loss: 0.0016 - accuracy: 0.9997 - val_loss: 0.0179 - val_accuracy: 0.9955\n",
            "Epoch 31/100\n",
            " 94/109 [========================>.....] - ETA: 0s - loss: 0.0014 - accuracy: 1.0000\n",
            "Epoch 00031: val_accuracy did not improve from 0.99546\n",
            "109/109 [==============================] - 0s 3ms/step - loss: 0.0013 - accuracy: 1.0000 - val_loss: 0.0144 - val_accuracy: 0.9955\n",
            "Epoch 32/100\n",
            "101/109 [==========================>...] - ETA: 0s - loss: 9.6666e-04 - accuracy: 1.0000\n",
            "Epoch 00032: val_accuracy did not improve from 0.99546\n",
            "109/109 [==============================] - 0s 3ms/step - loss: 9.8048e-04 - accuracy: 1.0000 - val_loss: 0.0178 - val_accuracy: 0.9955\n",
            "Epoch 33/100\n",
            " 91/109 [========================>.....] - ETA: 0s - loss: 0.0017 - accuracy: 0.9997\n",
            "Epoch 00033: val_accuracy did not improve from 0.99546\n",
            "109/109 [==============================] - 0s 3ms/step - loss: 0.0015 - accuracy: 0.9997 - val_loss: 0.0116 - val_accuracy: 0.9955\n",
            "Epoch 34/100\n",
            " 94/109 [========================>.....] - ETA: 0s - loss: 0.0013 - accuracy: 0.9997    \n",
            "Epoch 00034: val_accuracy did not improve from 0.99546\n",
            "109/109 [==============================] - 0s 3ms/step - loss: 0.0014 - accuracy: 0.9997 - val_loss: 0.0222 - val_accuracy: 0.9909\n",
            "Epoch 35/100\n",
            "106/109 [============================>.] - ETA: 0s - loss: 0.0011 - accuracy: 0.9997\n",
            "Epoch 00035: val_accuracy did not improve from 0.99546\n",
            "109/109 [==============================] - 0s 3ms/step - loss: 0.0011 - accuracy: 0.9997 - val_loss: 0.0139 - val_accuracy: 0.9955\n",
            "Epoch 36/100\n",
            " 95/109 [=========================>....] - ETA: 0s - loss: 0.0011 - accuracy: 1.0000\n",
            "Epoch 00036: val_accuracy did not improve from 0.99546\n",
            "109/109 [==============================] - 0s 3ms/step - loss: 0.0010 - accuracy: 1.0000 - val_loss: 0.0095 - val_accuracy: 0.9955\n",
            "Epoch 37/100\n",
            " 93/109 [========================>.....] - ETA: 0s - loss: 7.6147e-04 - accuracy: 1.0000\n",
            "Epoch 00037: val_accuracy did not improve from 0.99546\n",
            "109/109 [==============================] - 0s 3ms/step - loss: 6.8937e-04 - accuracy: 1.0000 - val_loss: 0.0086 - val_accuracy: 0.9955\n",
            "Epoch 38/100\n",
            "107/109 [============================>.] - ETA: 0s - loss: 6.8423e-04 - accuracy: 1.0000\n",
            "Epoch 00038: val_accuracy did not improve from 0.99546\n",
            "109/109 [==============================] - 0s 3ms/step - loss: 8.1527e-04 - accuracy: 1.0000 - val_loss: 0.0100 - val_accuracy: 0.9955\n",
            "Epoch 39/100\n",
            " 92/109 [========================>.....] - ETA: 0s - loss: 0.0018 - accuracy: 0.9993\n",
            "Epoch 00039: val_accuracy did not improve from 0.99546\n",
            "109/109 [==============================] - 0s 3ms/step - loss: 0.0016 - accuracy: 0.9994 - val_loss: 0.0112 - val_accuracy: 0.9955\n",
            "Epoch 40/100\n",
            "106/109 [============================>.] - ETA: 0s - loss: 4.1176e-04 - accuracy: 1.0000\n",
            "Epoch 00040: val_accuracy did not improve from 0.99546\n",
            "109/109 [==============================] - 0s 3ms/step - loss: 4.0577e-04 - accuracy: 1.0000 - val_loss: 0.0133 - val_accuracy: 0.9955\n",
            "Epoch 41/100\n",
            " 97/109 [=========================>....] - ETA: 0s - loss: 7.8387e-04 - accuracy: 0.9997\n",
            "Epoch 00041: val_accuracy did not improve from 0.99546\n",
            "109/109 [==============================] - 0s 3ms/step - loss: 8.1906e-04 - accuracy: 0.9997 - val_loss: 0.0269 - val_accuracy: 0.9887\n",
            "Epoch 42/100\n",
            " 97/109 [=========================>....] - ETA: 0s - loss: 5.7609e-04 - accuracy: 1.0000\n",
            "Epoch 00042: val_accuracy did not improve from 0.99546\n",
            "109/109 [==============================] - 0s 3ms/step - loss: 5.3431e-04 - accuracy: 1.0000 - val_loss: 0.0195 - val_accuracy: 0.9955\n",
            "Epoch 43/100\n",
            " 93/109 [========================>.....] - ETA: 0s - loss: 5.6586e-04 - accuracy: 1.0000\n",
            "Epoch 00043: val_accuracy did not improve from 0.99546\n",
            "109/109 [==============================] - 0s 3ms/step - loss: 5.2518e-04 - accuracy: 1.0000 - val_loss: 0.0064 - val_accuracy: 0.9955\n",
            "Epoch 44/100\n",
            " 90/109 [=======================>......] - ETA: 0s - loss: 5.9402e-04 - accuracy: 1.0000\n",
            "Epoch 00044: val_accuracy did not improve from 0.99546\n",
            "109/109 [==============================] - 0s 3ms/step - loss: 5.8963e-04 - accuracy: 1.0000 - val_loss: 0.0122 - val_accuracy: 0.9955\n",
            "Epoch 45/100\n",
            " 95/109 [=========================>....] - ETA: 0s - loss: 3.3527e-04 - accuracy: 1.0000\n",
            "Epoch 00045: val_accuracy did not improve from 0.99546\n",
            "109/109 [==============================] - 0s 3ms/step - loss: 3.0720e-04 - accuracy: 1.0000 - val_loss: 0.0105 - val_accuracy: 0.9955\n",
            "Epoch 46/100\n",
            " 94/109 [========================>.....] - ETA: 0s - loss: 3.0957e-04 - accuracy: 1.0000\n",
            "Epoch 00046: val_accuracy did not improve from 0.99546\n",
            "109/109 [==============================] - 0s 3ms/step - loss: 3.2856e-04 - accuracy: 1.0000 - val_loss: 0.0158 - val_accuracy: 0.9955\n",
            "Epoch 47/100\n",
            " 91/109 [========================>.....] - ETA: 0s - loss: 3.3448e-04 - accuracy: 1.0000\n",
            "Epoch 00047: val_accuracy did not improve from 0.99546\n",
            "109/109 [==============================] - 0s 3ms/step - loss: 3.4501e-04 - accuracy: 1.0000 - val_loss: 0.0109 - val_accuracy: 0.9955\n",
            "Epoch 48/100\n",
            " 99/109 [==========================>...] - ETA: 0s - loss: 7.7927e-04 - accuracy: 0.9997\n",
            "Epoch 00048: val_accuracy did not improve from 0.99546\n",
            "109/109 [==============================] - 0s 3ms/step - loss: 7.2081e-04 - accuracy: 0.9997 - val_loss: 0.0214 - val_accuracy: 0.9932\n",
            "Epoch 49/100\n",
            " 91/109 [========================>.....] - ETA: 0s - loss: 3.7384e-04 - accuracy: 0.9997\n",
            "Epoch 00049: val_accuracy did not improve from 0.99546\n",
            "109/109 [==============================] - 0s 3ms/step - loss: 4.6758e-04 - accuracy: 0.9997 - val_loss: 0.0104 - val_accuracy: 0.9955\n",
            "Epoch 50/100\n",
            " 97/109 [=========================>....] - ETA: 0s - loss: 2.2927e-04 - accuracy: 1.0000\n",
            "Epoch 00050: val_accuracy did not improve from 0.99546\n",
            "109/109 [==============================] - 0s 3ms/step - loss: 2.1840e-04 - accuracy: 1.0000 - val_loss: 0.0108 - val_accuracy: 0.9955\n",
            "Epoch 51/100\n",
            " 93/109 [========================>.....] - ETA: 0s - loss: 2.7343e-04 - accuracy: 1.0000\n",
            "Epoch 00051: val_accuracy did not improve from 0.99546\n",
            "109/109 [==============================] - 0s 3ms/step - loss: 2.4934e-04 - accuracy: 1.0000 - val_loss: 0.0115 - val_accuracy: 0.9955\n",
            "Epoch 52/100\n",
            " 94/109 [========================>.....] - ETA: 0s - loss: 2.8133e-04 - accuracy: 1.0000\n",
            "Epoch 00052: val_accuracy did not improve from 0.99546\n",
            "109/109 [==============================] - 0s 3ms/step - loss: 2.5665e-04 - accuracy: 1.0000 - val_loss: 0.0127 - val_accuracy: 0.9955\n",
            "Epoch 53/100\n",
            " 91/109 [========================>.....] - ETA: 0s - loss: 1.6515e-04 - accuracy: 1.0000\n",
            "Epoch 00053: val_accuracy did not improve from 0.99546\n",
            "109/109 [==============================] - 0s 3ms/step - loss: 1.6445e-04 - accuracy: 1.0000 - val_loss: 0.0176 - val_accuracy: 0.9955\n",
            "Epoch 54/100\n",
            " 95/109 [=========================>....] - ETA: 0s - loss: 2.8706e-04 - accuracy: 1.0000\n",
            "Epoch 00054: val_accuracy did not improve from 0.99546\n",
            "109/109 [==============================] - 0s 3ms/step - loss: 2.5747e-04 - accuracy: 1.0000 - val_loss: 0.0140 - val_accuracy: 0.9955\n",
            "Epoch 55/100\n",
            "108/109 [============================>.] - ETA: 0s - loss: 3.5110e-04 - accuracy: 1.0000\n",
            "Epoch 00055: val_accuracy did not improve from 0.99546\n",
            "109/109 [==============================] - 0s 3ms/step - loss: 3.4900e-04 - accuracy: 1.0000 - val_loss: 0.0117 - val_accuracy: 0.9955\n",
            "Epoch 56/100\n",
            "109/109 [==============================] - ETA: 0s - loss: 2.7173e-04 - accuracy: 1.0000\n",
            "Epoch 00056: val_accuracy did not improve from 0.99546\n",
            "109/109 [==============================] - 0s 3ms/step - loss: 2.7173e-04 - accuracy: 1.0000 - val_loss: 0.0169 - val_accuracy: 0.9955\n",
            "Epoch 57/100\n",
            "109/109 [==============================] - ETA: 0s - loss: 2.3066e-04 - accuracy: 1.0000\n",
            "Epoch 00057: val_accuracy did not improve from 0.99546\n",
            "109/109 [==============================] - 0s 3ms/step - loss: 2.3066e-04 - accuracy: 1.0000 - val_loss: 0.0110 - val_accuracy: 0.9955\n",
            "Epoch 58/100\n",
            " 94/109 [========================>.....] - ETA: 0s - loss: 1.2098e-04 - accuracy: 1.0000\n",
            "Epoch 00058: val_accuracy did not improve from 0.99546\n",
            "109/109 [==============================] - 0s 3ms/step - loss: 1.2258e-04 - accuracy: 1.0000 - val_loss: 0.0106 - val_accuracy: 0.9955\n",
            "Epoch 59/100\n",
            " 98/109 [=========================>....] - ETA: 0s - loss: 1.3418e-04 - accuracy: 1.0000\n",
            "Epoch 00059: val_accuracy did not improve from 0.99546\n",
            "109/109 [==============================] - 0s 3ms/step - loss: 1.2482e-04 - accuracy: 1.0000 - val_loss: 0.0156 - val_accuracy: 0.9955\n",
            "Epoch 60/100\n",
            " 96/109 [=========================>....] - ETA: 0s - loss: 4.5194e-05 - accuracy: 1.0000\n",
            "Epoch 00060: val_accuracy did not improve from 0.99546\n",
            "109/109 [==============================] - 0s 3ms/step - loss: 4.8617e-05 - accuracy: 1.0000 - val_loss: 0.0215 - val_accuracy: 0.9955\n",
            "Epoch 61/100\n",
            "105/109 [===========================>..] - ETA: 0s - loss: 7.8643e-05 - accuracy: 1.0000\n",
            "Epoch 00061: val_accuracy did not improve from 0.99546\n",
            "109/109 [==============================] - 0s 3ms/step - loss: 7.6099e-05 - accuracy: 1.0000 - val_loss: 0.0148 - val_accuracy: 0.9955\n",
            "Epoch 62/100\n",
            " 97/109 [=========================>....] - ETA: 0s - loss: 5.7083e-05 - accuracy: 1.0000\n",
            "Epoch 00062: val_accuracy did not improve from 0.99546\n",
            "109/109 [==============================] - 0s 3ms/step - loss: 6.9225e-05 - accuracy: 1.0000 - val_loss: 0.0074 - val_accuracy: 0.9955\n",
            "Epoch 63/100\n",
            "109/109 [==============================] - ETA: 0s - loss: 4.7486e-05 - accuracy: 1.0000\n",
            "Epoch 00063: val_accuracy improved from 0.99546 to 0.99773, saving model to /content/drive/My Drive/check.h5\n",
            "109/109 [==============================] - 1s 5ms/step - loss: 4.7486e-05 - accuracy: 1.0000 - val_loss: 0.0039 - val_accuracy: 0.9977\n",
            "Epoch 64/100\n",
            "103/109 [===========================>..] - ETA: 0s - loss: 5.3387e-05 - accuracy: 1.0000\n",
            "Epoch 00064: val_accuracy did not improve from 0.99773\n",
            "109/109 [==============================] - 0s 3ms/step - loss: 8.3405e-05 - accuracy: 1.0000 - val_loss: 0.0266 - val_accuracy: 0.9932\n",
            "Epoch 65/100\n",
            " 93/109 [========================>.....] - ETA: 0s - loss: 1.8522e-04 - accuracy: 1.0000\n",
            "Epoch 00065: val_accuracy did not improve from 0.99773\n",
            "109/109 [==============================] - 0s 3ms/step - loss: 1.6456e-04 - accuracy: 1.0000 - val_loss: 0.0155 - val_accuracy: 0.9955\n",
            "Epoch 66/100\n",
            " 92/109 [========================>.....] - ETA: 0s - loss: 3.9850e-05 - accuracy: 1.0000\n",
            "Epoch 00066: val_accuracy did not improve from 0.99773\n",
            "109/109 [==============================] - 0s 3ms/step - loss: 3.6101e-05 - accuracy: 1.0000 - val_loss: 0.0206 - val_accuracy: 0.9955\n",
            "Epoch 67/100\n",
            "109/109 [==============================] - ETA: 0s - loss: 5.7749e-05 - accuracy: 1.0000\n",
            "Epoch 00067: val_accuracy did not improve from 0.99773\n",
            "109/109 [==============================] - 0s 3ms/step - loss: 5.7749e-05 - accuracy: 1.0000 - val_loss: 0.0160 - val_accuracy: 0.9955\n",
            "Epoch 68/100\n",
            " 96/109 [=========================>....] - ETA: 0s - loss: 6.3758e-05 - accuracy: 1.0000\n",
            "Epoch 00068: val_accuracy did not improve from 0.99773\n",
            "109/109 [==============================] - 0s 3ms/step - loss: 6.7267e-05 - accuracy: 1.0000 - val_loss: 0.0109 - val_accuracy: 0.9955\n",
            "Epoch 69/100\n",
            " 99/109 [==========================>...] - ETA: 0s - loss: 5.7760e-05 - accuracy: 1.0000\n",
            "Epoch 00069: val_accuracy did not improve from 0.99773\n",
            "109/109 [==============================] - 0s 3ms/step - loss: 5.4423e-05 - accuracy: 1.0000 - val_loss: 0.0135 - val_accuracy: 0.9955\n",
            "Epoch 70/100\n",
            " 92/109 [========================>.....] - ETA: 0s - loss: 4.4298e-05 - accuracy: 1.0000\n",
            "Epoch 00070: val_accuracy did not improve from 0.99773\n",
            "109/109 [==============================] - 0s 3ms/step - loss: 4.0211e-05 - accuracy: 1.0000 - val_loss: 0.0115 - val_accuracy: 0.9955\n",
            "Epoch 71/100\n",
            "109/109 [==============================] - ETA: 0s - loss: 1.1201e-04 - accuracy: 1.0000\n",
            "Epoch 00071: val_accuracy did not improve from 0.99773\n",
            "109/109 [==============================] - 0s 3ms/step - loss: 1.1201e-04 - accuracy: 1.0000 - val_loss: 0.0212 - val_accuracy: 0.9955\n",
            "Epoch 72/100\n",
            "108/109 [============================>.] - ETA: 0s - loss: 2.8979e-05 - accuracy: 1.0000\n",
            "Epoch 00072: val_accuracy did not improve from 0.99773\n",
            "109/109 [==============================] - 0s 3ms/step - loss: 2.8812e-05 - accuracy: 1.0000 - val_loss: 0.0072 - val_accuracy: 0.9955\n",
            "Epoch 73/100\n",
            " 94/109 [========================>.....] - ETA: 0s - loss: 2.3593e-05 - accuracy: 1.0000\n",
            "Epoch 00073: val_accuracy did not improve from 0.99773\n",
            "109/109 [==============================] - 0s 3ms/step - loss: 2.2993e-05 - accuracy: 1.0000 - val_loss: 0.0096 - val_accuracy: 0.9955\n",
            "Epoch 74/100\n",
            " 97/109 [=========================>....] - ETA: 0s - loss: 4.8807e-05 - accuracy: 1.0000\n",
            "Epoch 00074: val_accuracy did not improve from 0.99773\n",
            "109/109 [==============================] - 0s 3ms/step - loss: 4.5315e-05 - accuracy: 1.0000 - val_loss: 0.0133 - val_accuracy: 0.9955\n",
            "Epoch 75/100\n",
            "109/109 [==============================] - ETA: 0s - loss: 2.9835e-05 - accuracy: 1.0000\n",
            "Epoch 00075: val_accuracy did not improve from 0.99773\n",
            "109/109 [==============================] - 0s 3ms/step - loss: 2.9835e-05 - accuracy: 1.0000 - val_loss: 0.0201 - val_accuracy: 0.9955\n",
            "Epoch 76/100\n",
            " 91/109 [========================>.....] - ETA: 0s - loss: 1.7401e-05 - accuracy: 1.0000\n",
            "Epoch 00076: val_accuracy did not improve from 0.99773\n",
            "109/109 [==============================] - 0s 3ms/step - loss: 4.1322e-05 - accuracy: 1.0000 - val_loss: 0.0107 - val_accuracy: 0.9955\n",
            "Epoch 77/100\n",
            " 91/109 [========================>.....] - ETA: 0s - loss: 8.2773e-06 - accuracy: 1.0000\n",
            "Epoch 00077: val_accuracy did not improve from 0.99773\n",
            "109/109 [==============================] - 0s 3ms/step - loss: 1.2997e-05 - accuracy: 1.0000 - val_loss: 0.0125 - val_accuracy: 0.9955\n",
            "Epoch 78/100\n",
            "105/109 [===========================>..] - ETA: 0s - loss: 1.3303e-05 - accuracy: 1.0000\n",
            "Epoch 00078: val_accuracy did not improve from 0.99773\n",
            "109/109 [==============================] - 0s 3ms/step - loss: 1.3011e-05 - accuracy: 1.0000 - val_loss: 0.0082 - val_accuracy: 0.9955\n",
            "Epoch 79/100\n",
            "109/109 [==============================] - ETA: 0s - loss: 2.1159e-05 - accuracy: 1.0000\n",
            "Epoch 00079: val_accuracy did not improve from 0.99773\n",
            "109/109 [==============================] - 0s 3ms/step - loss: 2.1159e-05 - accuracy: 1.0000 - val_loss: 0.0050 - val_accuracy: 0.9955\n",
            "Epoch 80/100\n",
            "108/109 [============================>.] - ETA: 0s - loss: 6.0797e-05 - accuracy: 1.0000\n",
            "Epoch 00080: val_accuracy did not improve from 0.99773\n",
            "109/109 [==============================] - 0s 3ms/step - loss: 6.0413e-05 - accuracy: 1.0000 - val_loss: 0.0170 - val_accuracy: 0.9955\n",
            "Epoch 81/100\n",
            "105/109 [===========================>..] - ETA: 0s - loss: 1.2005e-05 - accuracy: 1.0000\n",
            "Epoch 00081: val_accuracy did not improve from 0.99773\n",
            "109/109 [==============================] - 0s 3ms/step - loss: 1.1665e-05 - accuracy: 1.0000 - val_loss: 0.0111 - val_accuracy: 0.9955\n",
            "Epoch 82/100\n",
            "107/109 [============================>.] - ETA: 0s - loss: 1.8711e-05 - accuracy: 1.0000\n",
            "Epoch 00082: val_accuracy did not improve from 0.99773\n",
            "109/109 [==============================] - 0s 3ms/step - loss: 1.8433e-05 - accuracy: 1.0000 - val_loss: 0.0098 - val_accuracy: 0.9955\n",
            "Epoch 83/100\n",
            " 96/109 [=========================>....] - ETA: 0s - loss: 2.2625e-05 - accuracy: 1.0000\n",
            "Epoch 00083: val_accuracy did not improve from 0.99773\n",
            "109/109 [==============================] - 0s 3ms/step - loss: 2.0908e-05 - accuracy: 1.0000 - val_loss: 0.0058 - val_accuracy: 0.9977\n",
            "Epoch 84/100\n",
            " 92/109 [========================>.....] - ETA: 0s - loss: 1.2899e-05 - accuracy: 1.0000\n",
            "Epoch 00084: val_accuracy did not improve from 0.99773\n",
            "109/109 [==============================] - 0s 3ms/step - loss: 1.2331e-05 - accuracy: 1.0000 - val_loss: 0.0191 - val_accuracy: 0.9955\n",
            "Epoch 85/100\n",
            "108/109 [============================>.] - ETA: 0s - loss: 1.3757e-05 - accuracy: 1.0000\n",
            "Epoch 00085: val_accuracy did not improve from 0.99773\n",
            "109/109 [==============================] - 0s 3ms/step - loss: 1.3670e-05 - accuracy: 1.0000 - val_loss: 0.0108 - val_accuracy: 0.9955\n",
            "Epoch 86/100\n",
            " 94/109 [========================>.....] - ETA: 0s - loss: 7.4258e-06 - accuracy: 1.0000\n",
            "Epoch 00086: val_accuracy did not improve from 0.99773\n",
            "109/109 [==============================] - 0s 3ms/step - loss: 6.8536e-06 - accuracy: 1.0000 - val_loss: 0.0133 - val_accuracy: 0.9955\n",
            "Epoch 87/100\n",
            "109/109 [==============================] - ETA: 0s - loss: 5.9218e-06 - accuracy: 1.0000\n",
            "Epoch 00087: val_accuracy did not improve from 0.99773\n",
            "109/109 [==============================] - 0s 3ms/step - loss: 5.9218e-06 - accuracy: 1.0000 - val_loss: 0.0209 - val_accuracy: 0.9955\n",
            "Epoch 88/100\n",
            " 92/109 [========================>.....] - ETA: 0s - loss: 7.2186e-06 - accuracy: 1.0000\n",
            "Epoch 00088: val_accuracy did not improve from 0.99773\n",
            "109/109 [==============================] - 0s 3ms/step - loss: 6.3966e-06 - accuracy: 1.0000 - val_loss: 0.0185 - val_accuracy: 0.9955\n",
            "Epoch 89/100\n",
            "107/109 [============================>.] - ETA: 0s - loss: 2.2237e-05 - accuracy: 1.0000\n",
            "Epoch 00089: val_accuracy did not improve from 0.99773\n",
            "109/109 [==============================] - 0s 3ms/step - loss: 2.5305e-05 - accuracy: 1.0000 - val_loss: 0.0260 - val_accuracy: 0.9932\n",
            "Epoch 90/100\n",
            "107/109 [============================>.] - ETA: 0s - loss: 5.6848e-06 - accuracy: 1.0000\n",
            "Epoch 00090: val_accuracy did not improve from 0.99773\n",
            "109/109 [==============================] - 0s 3ms/step - loss: 5.5970e-06 - accuracy: 1.0000 - val_loss: 0.0129 - val_accuracy: 0.9955\n",
            "Epoch 91/100\n",
            " 95/109 [=========================>....] - ETA: 0s - loss: 3.2892e-06 - accuracy: 1.0000\n",
            "Epoch 00091: val_accuracy did not improve from 0.99773\n",
            "109/109 [==============================] - 0s 3ms/step - loss: 3.2984e-06 - accuracy: 1.0000 - val_loss: 0.0097 - val_accuracy: 0.9955\n",
            "Epoch 92/100\n",
            "103/109 [===========================>..] - ETA: 0s - loss: 4.8164e-06 - accuracy: 1.0000\n",
            "Epoch 00092: val_accuracy did not improve from 0.99773\n",
            "109/109 [==============================] - 0s 3ms/step - loss: 4.7650e-06 - accuracy: 1.0000 - val_loss: 0.0097 - val_accuracy: 0.9955\n",
            "Epoch 93/100\n",
            "108/109 [============================>.] - ETA: 0s - loss: 1.1070e-05 - accuracy: 1.0000\n",
            "Epoch 00093: val_accuracy did not improve from 0.99773\n",
            "109/109 [==============================] - 0s 3ms/step - loss: 1.1000e-05 - accuracy: 1.0000 - val_loss: 0.0227 - val_accuracy: 0.9932\n",
            "Epoch 94/100\n",
            "108/109 [============================>.] - ETA: 0s - loss: 5.1924e-06 - accuracy: 1.0000\n",
            "Epoch 00094: val_accuracy did not improve from 0.99773\n",
            "109/109 [==============================] - 0s 3ms/step - loss: 5.1596e-06 - accuracy: 1.0000 - val_loss: 0.0145 - val_accuracy: 0.9955\n",
            "Epoch 95/100\n",
            "106/109 [============================>.] - ETA: 0s - loss: 1.8356e-05 - accuracy: 1.0000\n",
            "Epoch 00095: val_accuracy did not improve from 0.99773\n",
            "109/109 [==============================] - 0s 3ms/step - loss: 1.8039e-05 - accuracy: 1.0000 - val_loss: 0.0065 - val_accuracy: 0.9977\n",
            "Epoch 96/100\n",
            "108/109 [============================>.] - ETA: 0s - loss: 4.6589e-06 - accuracy: 1.0000\n",
            "Epoch 00096: val_accuracy did not improve from 0.99773\n",
            "109/109 [==============================] - 0s 3ms/step - loss: 4.6295e-06 - accuracy: 1.0000 - val_loss: 0.0049 - val_accuracy: 0.9977\n",
            "Epoch 97/100\n",
            " 91/109 [========================>.....] - ETA: 0s - loss: 2.4204e-06 - accuracy: 1.0000\n",
            "Epoch 00097: val_accuracy did not improve from 0.99773\n",
            "109/109 [==============================] - 0s 3ms/step - loss: 2.2590e-06 - accuracy: 1.0000 - val_loss: 0.0148 - val_accuracy: 0.9955\n",
            "Epoch 98/100\n",
            "105/109 [===========================>..] - ETA: 0s - loss: 6.5886e-06 - accuracy: 1.0000\n",
            "Epoch 00098: val_accuracy did not improve from 0.99773\n",
            "109/109 [==============================] - 0s 3ms/step - loss: 6.4422e-06 - accuracy: 1.0000 - val_loss: 0.0038 - val_accuracy: 0.9977\n",
            "Epoch 99/100\n",
            "109/109 [==============================] - ETA: 0s - loss: 2.4062e-06 - accuracy: 1.0000\n",
            "Epoch 00099: val_accuracy did not improve from 0.99773\n",
            "109/109 [==============================] - 0s 3ms/step - loss: 2.4062e-06 - accuracy: 1.0000 - val_loss: 0.0111 - val_accuracy: 0.9955\n",
            "Epoch 100/100\n",
            "104/109 [===========================>..] - ETA: 0s - loss: 1.9626e-06 - accuracy: 1.0000\n",
            "Epoch 00100: val_accuracy did not improve from 0.99773\n",
            "109/109 [==============================] - 0s 3ms/step - loss: 1.8842e-06 - accuracy: 1.0000 - val_loss: 0.0214 - val_accuracy: 0.9955\n",
            "Model: \"sequential_4\"\n",
            "_________________________________________________________________\n",
            "Layer (type)                 Output Shape              Param #   \n",
            "=================================================================\n",
            "dense (Dense)                (None, 256)               256256    \n",
            "_________________________________________________________________\n",
            "dropout (Dropout)            (None, 256)               0         \n",
            "_________________________________________________________________\n",
            "dense_1 (Dense)              (None, 2)                 514       \n",
            "=================================================================\n",
            "Total params: 256,770\n",
            "Trainable params: 256,770\n",
            "Non-trainable params: 0\n",
            "_________________________________________________________________\n"
          ],
          "name": "stdout"
        }
      ]
    },
    {
      "cell_type": "code",
      "metadata": {
        "id": "ZFN_A1_KTLwD",
        "outputId": "7568578b-52c3-4661-ab8b-c52bdc9ee804",
        "colab": {
          "base_uri": "https://localhost:8080/",
          "height": 279
        }
      },
      "source": [
        "import matplotlib.pyplot as plt\n",
        "plt.figure(figsize = (12,4))\n",
        " \n",
        "plt.subplot(1,2,1)\n",
        "plt.plot(history.history['loss'], 'b-', label = 'loss')\n",
        "plt.plot(history.history['val_loss'], 'r--', label = 'val_loss')\n",
        "plt.xlabel('Epoch')\n",
        "plt.legend()\n",
        "\n",
        "plt.subplot(1,2,2)\n",
        "plt.plot(history.history['accuracy'], 'g-', label = 'acc')\n",
        "plt.plot(history.history['val_accuracy'], 'k--', label = 'val_acc')\n",
        "plt.xlabel('Epoch')\n",
        "plt.legend()\n",
        "\n",
        "plt.show()"
      ],
      "execution_count": 21,
      "outputs": [
        {
          "output_type": "display_data",
          "data": {
            "image/png": "[encoded data removed]",
            "text/plain": [
              "<Figure size 864x288 with 2 Axes>"
            ]
          },
          "metadata": {
            "tags": [],
            "needs_background": "light"
          }
        }
      ]
    },
    {
      "cell_type": "code",
      "metadata": {
        "id": "mdW4m_e-TOEW",
        "outputId": "f6498b7b-13eb-48bf-af54-1415297a85c5",
        "colab": {
          "base_uri": "https://localhost:8080/"
        }
      },
      "source": [
        "results = model.evaluate(valid_features, valid_Y)\n",
        "print('Test accuracy: ', results[1])"
      ],
      "execution_count": 22,
      "outputs": [
        {
          "output_type": "stream",
          "text": [
            "14/14 [==============================] - 0s 2ms/step - loss: 0.0214 - accuracy: 0.9955\n",
            "Test accuracy:  0.9954648613929749\n"
          ],
          "name": "stdout"
        }
      ]
    },
    {
      "cell_type": "code",
      "metadata": {
        "id": "_1AmVezyTRMc"
      },
      "source": [
        "model.save('/content/drive/My Drive/efficientnet_audio_500.h5')"
      ],
      "execution_count": 23,
      "outputs": []
    },
    {
      "cell_type": "code",
      "metadata": {
        "id": "2U_sLvTWTXB6",
        "outputId": "eb9ef915-bda9-40ad-d5b8-89a21f7c2b5e",
        "colab": {
          "base_uri": "https://localhost:8080/"
        }
      },
      "source": [
        "print('i')"
      ],
      "execution_count": null,
      "outputs": [
        {
          "output_type": "stream",
          "text": [
            "i\n"
          ],
          "name": "stdout"
        }
      ]
    }
  ]
}