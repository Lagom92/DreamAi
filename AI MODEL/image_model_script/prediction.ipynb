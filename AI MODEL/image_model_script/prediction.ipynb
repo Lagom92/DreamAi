{
 "cells": [
  {
   "cell_type": "markdown",
   "metadata": {},
   "source": [
    "## Prediction code"
   ]
  },
  {
   "cell_type": "markdown",
   "metadata": {},
   "source": [
    "### Import modules"
   ]
  },
  {
   "cell_type": "code",
   "execution_count": 1,
   "metadata": {},
   "outputs": [],
   "source": [
    "import numpy as np \n",
    "import tensorflow as tf\n",
    "from tensorflow.keras.models import load_model\n",
    "from tensorflow.keras.preprocessing.image import ImageDataGenerator\n",
    "from Seg_modules import *\n",
    "from PIL import Image\n",
    "# import librosa"
   ]
  },
  {
   "cell_type": "markdown",
   "metadata": {},
   "source": [
    "### Load models"
   ]
  },
  {
   "cell_type": "code",
   "execution_count": 35,
   "metadata": {},
   "outputs": [
    {
     "name": "stdout",
     "output_type": "stream",
     "text": [
      "WARNING:tensorflow:No training configuration found in the save file, so the model was *not* compiled. Compile it manually.\n"
     ]
    }
   ],
   "source": [
    "seg_model = load_model('../models/image_models/seg_model.h5',custom_objects={'dice_coef_loss': dice_coef_loss,'dice_coef':dice_coef})\n",
    "DenseNet = load_model('../models/image_models/DenseNet201.h5')\n",
    "img_model = load_model('../models/image_models/Covid_2class.h5')"
   ]
  },
  {
   "cell_type": "code",
   "execution_count": 3,
   "metadata": {},
   "outputs": [],
   "source": [
    "multi_model = load_model('../models/multi_model')"
   ]
  },
  {
   "cell_type": "code",
   "execution_count": 4,
   "metadata": {},
   "outputs": [
    {
     "name": "stdout",
     "output_type": "stream",
     "text": [
      "Model: \"functional_7\"\n",
      "__________________________________________________________________________________________________\n",
      "Layer (type)                    Output Shape         Param #     Connected to                     \n",
      "==================================================================================================\n",
      "input_8 (InputLayer)            [(None, 7, 7, 1920)] 0                                            \n",
      "__________________________________________________________________________________________________\n",
      "input_9 (InputLayer)            [(None, 7, 7, 1920)] 0                                            \n",
      "__________________________________________________________________________________________________\n",
      "concatenate_3 (Concatenate)     (None, 14, 7, 1920)  0           input_8[0][0]                    \n",
      "                                                                 input_9[0][0]                    \n",
      "__________________________________________________________________________________________________\n",
      "global_average_pooling2d_3 (Glo (None, 1920)         0           concatenate_3[0][0]              \n",
      "__________________________________________________________________________________________________\n",
      "dense_10 (Dense)                (None, 1024)         1967104     global_average_pooling2d_3[0][0] \n",
      "__________________________________________________________________________________________________\n",
      "batch_normalization_7 (BatchNor (None, 1024)         4096        dense_10[0][0]                   \n",
      "__________________________________________________________________________________________________\n",
      "dropout_7 (Dropout)             (None, 1024)         0           batch_normalization_7[0][0]      \n",
      "__________________________________________________________________________________________________\n",
      "dense_11 (Dense)                (None, 512)          524800      dropout_7[0][0]                  \n",
      "__________________________________________________________________________________________________\n",
      "batch_normalization_8 (BatchNor (None, 512)          2048        dense_11[0][0]                   \n",
      "__________________________________________________________________________________________________\n",
      "dropout_8 (Dropout)             (None, 512)          0           batch_normalization_8[0][0]      \n",
      "__________________________________________________________________________________________________\n",
      "dense_12 (Dense)                (None, 256)          131328      dropout_8[0][0]                  \n",
      "__________________________________________________________________________________________________\n",
      "batch_normalization_9 (BatchNor (None, 256)          1024        dense_12[0][0]                   \n",
      "__________________________________________________________________________________________________\n",
      "dropout_9 (Dropout)             (None, 256)          0           batch_normalization_9[0][0]      \n",
      "__________________________________________________________________________________________________\n",
      "dense_13 (Dense)                (None, 1)            257         dropout_9[0][0]                  \n",
      "==================================================================================================\n",
      "Total params: 2,630,657\n",
      "Trainable params: 2,627,073\n",
      "Non-trainable params: 3,584\n",
      "__________________________________________________________________________________________________\n"
     ]
    }
   ],
   "source": [
    "multi_model.summary()"
   ]
  },
  {
   "cell_type": "markdown",
   "metadata": {},
   "source": [
    "## Prediction"
   ]
  },
  {
   "cell_type": "code",
   "execution_count": 43,
   "metadata": {},
   "outputs": [
    {
     "name": "stdout",
     "output_type": "stream",
     "text": [
      "Found 1127 images belonging to 2 classes.\n",
      "Found 1127 images belonging to 2 classes.\n",
      "1127\n",
      "1127\n"
     ]
    }
   ],
   "source": [
    "# 테스트 파일 가져오기\n",
    "audio_path = '../audio_data/audio_test1007_120'\n",
    "\n",
    "test_datagen = ImageDataGenerator()\n",
    "audio_datagen =  ImageDataGenerator()\n",
    "\n",
    "image_generator = test_datagen.flow_from_directory(directory = '../image_data/test',\n",
    "                                                    subset = 'training',   \n",
    "                                                    color_mode = 'rgb',\n",
    "                                                    class_mode = 'binary',\n",
    "                                                    target_size = (224,224),\n",
    "                                                    batch_size = 1,\n",
    "                                                    shuffle = True,\n",
    "                                                    seed = 126)\n",
    "\n",
    "audio_generator = audio_datagen.flow_from_directory(\n",
    "                                    directory=audio_path,\n",
    "                                    subset = 'training',\n",
    "                                    target_size = (224,224),\n",
    "                                    color_mode = 'rgb',\n",
    "                                    class_mode = 'binary',\n",
    "                                    batch_size = 1,\n",
    "                                    shuffle = True,\n",
    "                                    seed = 126)\n",
    "\n",
    "print(image_generator.n)\n",
    "print(audio_generator.n)"
   ]
  },
  {
   "cell_type": "markdown",
   "metadata": {},
   "source": [
    "## image prediction"
   ]
  },
  {
   "cell_type": "code",
   "execution_count": 50,
   "metadata": {
    "scrolled": true
   },
   "outputs": [
    {
     "name": "stderr",
     "output_type": "stream",
     "text": [
      "100%|██████████| 1127/1127 [02:37<00:00,  7.15it/s]\n"
     ]
    }
   ],
   "source": [
    "# 글자만.\n",
    "from tqdm import tqdm\n",
    "predictY = []\n",
    "im_pred = []\n",
    "realY = []\n",
    "iteration = 1127\n",
    "model = img_model\n",
    "img_size = (224, 224)\n",
    "unique_sorted_Y = ['negative','positive']\n",
    "\n",
    "for i in tqdm(range(iteration)): \n",
    "    image_path = image_generator.filepaths[i]\n",
    "    # split('/')를 통해 나눠진 부분 중 3번째 획득\n",
    "    real_y = image_path.split('/')[-2] \n",
    "    \n",
    "    cropped_image = get_cropped_image(image_path, seg_model)\n",
    "    cxr_img = image_preprocessing(cropped_image, img_size)\n",
    "\n",
    "    feature_vector = DenseNet.predict(cxr_img)\n",
    "\n",
    "    # 앞서 생성한 model 분류기를 통해 예측 수행\n",
    "    prediction = img_model.predict(feature_vector)[0]\n",
    "    \n",
    "    im_pred.append(prediction)\n",
    "    \n",
    "    predict = int(np.round(prediction))\n",
    "    #labels에 저장 \n",
    "    label = unique_sorted_Y[predict] \n",
    "    \n",
    "    # print(labels[0], realY[0])\n",
    "    predictY.append(label)\n",
    "    realY.append(real_y)\n",
    "#     print(label,real_y)"
   ]
  },
  {
   "cell_type": "code",
   "execution_count": 45,
   "metadata": {},
   "outputs": [
    {
     "name": "stdout",
     "output_type": "stream",
     "text": [
      "Confusion matrix, without normalization\n",
      "[[985  11]\n",
      " [ 22 109]]\n"
     ]
    },
    {
     "data": {
      "image/png": "[encoded data removed]",
      "text/plain": [
       "<Figure size 432x288 with 2 Axes>"
      ]
     },
     "metadata": {
      "needs_background": "light"
     },
     "output_type": "display_data"
    }
   ],
   "source": [
    "import itertools\n",
    "from sklearn.metrics import confusion_matrix\n",
    "import matplotlib.pyplot as plt\n",
    "\n",
    "cm=confusion_matrix(predictY, realY)\n",
    "\n",
    "def plot_confusion_matrix(cm, classes,\n",
    "                          normalize=False,\n",
    "                          title='Confusion matrix',\n",
    "                          cmap=plt.cm.Blues):\n",
    "    \"\"\"\n",
    "    This function prints and plots the confusion matrix.\n",
    "    Normalization can be applied by setting `normalize=True`.\n",
    "    \"\"\"\n",
    "    plt.imshow(cm, interpolation='nearest', cmap=cmap)\n",
    "    plt.title(title)\n",
    "    plt.colorbar()\n",
    "    tick_marks = np.arange(len(classes))\n",
    "    plt.xticks(tick_marks, classes, rotation=45)\n",
    "    plt.yticks(tick_marks, classes)\n",
    "    if normalize:\n",
    "        cm = cm.astype('float') / cm.sum(axis=1)[:, np.newaxis]\n",
    "        print(\"Normalized confusion matrix\")\n",
    "    else:\n",
    "        print('Confusion matrix, without normalization')\n",
    "    print(cm)\n",
    "    thresh = cm.max() / 2.\n",
    "    for i, j in itertools.product(range(cm.shape[0]), range(cm.shape[1])):\n",
    "        plt.text(j, i, cm[i, j],\n",
    "                 horizontalalignment=\"center\",\n",
    "                 color=\"white\" if cm[i, j] > thresh else \"black\")\n",
    "    plt.tight_layout()\n",
    "    plt.ylabel('True label')\n",
    "    plt.xlabel('Predicted label')\n",
    "plt.figure()\n",
    "plot_confusion_matrix(cm, classes=['negative', 'positive'], title='Confusion matrix, without normalization')"
   ]
  },
  {
   "cell_type": "markdown",
   "metadata": {},
   "source": [
    "## multi prediction"
   ]
  },
  {
   "cell_type": "code",
   "execution_count": 29,
   "metadata": {},
   "outputs": [
    {
     "name": "stderr",
     "output_type": "stream",
     "text": [
      "100%|██████████| 1127/1127 [03:36<00:00,  5.21it/s]\n"
     ]
    }
   ],
   "source": [
    "# 글자만.\n",
    "from tqdm import tqdm\n",
    "predictY = []\n",
    "real_img_Y = []\n",
    "real_aud_Y = []\n",
    "predY = []\n",
    "iteration = 1127\n",
    "model = multi_model\n",
    "img_size = (224, 224)\n",
    "unique_sorted_Y = ['negative','positive']\n",
    "\n",
    "for i in tqdm(range(iteration)): \n",
    "    image_path = image_generator.filepaths[i] # CXR\n",
    "    audio_mel_path = audio_generator.filepaths[i] # mel-image\n",
    "    \n",
    "    \n",
    "    # get label from testpath\n",
    "    real_image_y = image_path.split('/')[-2] \n",
    "    real_audio_y = audio_mel_path.split('/')[-2]\n",
    "    \n",
    "    # pre-processing image\n",
    "    cropped_image = get_cropped_image(image_path, seg_model)\n",
    "    cxr_img = image_preprocessing(cropped_image, img_size)\n",
    "    \n",
    "    # pre-processing audio\n",
    "    audio_img = audio_preprocessing(audio_mel_path, img_size)\n",
    "    \n",
    "    # get feature vector\n",
    "    image_feature_vector = DenseNet.predict(cxr_img)\n",
    "    audio_feature_vector = DenseNet.predict(audio_img)\n",
    "\n",
    "    # multi-input prediction\n",
    "    prediction = multi_model.predict([image_feature_vector, audio_feature_vector])[0]\n",
    "    \n",
    "    # print(prediction)\n",
    "    predict = int(np.round(prediction))\n",
    "    \n",
    "    #labels에 저장 \n",
    "    label = unique_sorted_Y[predict] \n",
    "    \n",
    "    # 확률 저장\n",
    "    predY.append(prediction)\n",
    "    # print(labels[0], realY[0])\n",
    "    predictY.append(label)\n",
    "    real_img_Y.append(real_image_y)\n",
    "    real_aud_Y.append(real_audio_y)\n",
    "#     print(label,real_image_y, real_audio_y)"
   ]
  },
  {
   "cell_type": "markdown",
   "metadata": {},
   "source": [
    "validation 데이터로 사용했던 1400여개의 데이터 중 negative 1007개 positive 120개를 랜덤으로 추출하여 CXR의 test데이터와 수를 맞춰 함께 예측을 수행하였다."
   ]
  },
  {
   "cell_type": "code",
   "execution_count": 30,
   "metadata": {},
   "outputs": [
    {
     "name": "stdout",
     "output_type": "stream",
     "text": [
      "Confusion matrix, without normalization\n",
      "[[996  16]\n",
      " [ 11 104]]\n"
     ]
    },
    {
     "data": {
      "image/png": "[encoded data removed]",
      "text/plain": [
       "<Figure size 432x288 with 2 Axes>"
      ]
     },
     "metadata": {
      "needs_background": "light"
     },
     "output_type": "display_data"
    }
   ],
   "source": [
    "import itertools\n",
    "from sklearn.metrics import confusion_matrix\n",
    "import matplotlib.pyplot as plt\n",
    "\n",
    "cm=confusion_matrix(predictY, real_img_Y)\n",
    "\n",
    "def plot_confusion_matrix(cm, classes,\n",
    "                          normalize=False,\n",
    "                          title='Confusion matrix',\n",
    "                          cmap=plt.cm.Blues):\n",
    "    \"\"\"\n",
    "    This function prints and plots the confusion matrix.\n",
    "    Normalization can be applied by setting `normalize=True`.\n",
    "    \"\"\"\n",
    "    plt.imshow(cm, interpolation='nearest', cmap=cmap)\n",
    "    plt.title(title)\n",
    "    plt.colorbar()\n",
    "    tick_marks = np.arange(len(classes))\n",
    "    plt.xticks(tick_marks, classes, rotation=45)\n",
    "    plt.yticks(tick_marks, classes)\n",
    "    if normalize:\n",
    "        cm = cm.astype('float') / cm.sum(axis=1)[:, np.newaxis]\n",
    "        print(\"Normalized confusion matrix\")\n",
    "    else:\n",
    "        print('Confusion matrix, without normalization')\n",
    "    print(cm)\n",
    "    thresh = cm.max() / 2.\n",
    "    for i, j in itertools.product(range(cm.shape[0]), range(cm.shape[1])):\n",
    "        plt.text(j, i, cm[i, j],\n",
    "                 horizontalalignment=\"center\",\n",
    "                 color=\"white\" if cm[i, j] > thresh else \"black\")\n",
    "    plt.tight_layout()\n",
    "    plt.ylabel('True label')\n",
    "    plt.xlabel('Predicted label')\n",
    "plt.figure()\n",
    "plot_confusion_matrix(cm, classes=['negative', 'positive'], title='Confusion matrix')"
   ]
  },
  {
   "cell_type": "code",
   "execution_count": 9,
   "metadata": {},
   "outputs": [],
   "source": [
    "def image_preprocessing(cropped_image, img_size):\n",
    "    \n",
    "    img = tf.keras.preprocessing.image.array_to_img(cropped_image)\n",
    "    img = img.resize(img_size)\n",
    "    img = tf.keras.preprocessing.image.img_to_array(img)\n",
    "    img = img / 255.0\n",
    "    img = np.expand_dims(img, axis=0)\n",
    "    return img"
   ]
  },
  {
   "cell_type": "code",
   "execution_count": 10,
   "metadata": {},
   "outputs": [],
   "source": [
    "def audio_preprocessing(mel_path, img_size):\n",
    "    \n",
    "    img = tf.keras.preprocessing.image.load_img(mel_path, target_size=img_size)\n",
    "    img = tf.keras.preprocessing.image.img_to_array(img)\n",
    "    img = img / 255.0\n",
    "    img = np.expand_dims(img, axis=0)\n",
    "    return img"
   ]
  },
  {
   "cell_type": "code",
   "execution_count": 5,
   "metadata": {},
   "outputs": [],
   "source": [
    "# make mel-spectrogram image file\n",
    "def make_wav2img(audio):\n",
    "    y, sr = librosa.load(audio, sr = None)\n",
    "    \n",
    "    S = librosa.feature.melspectrogram(y, sr=22050, n_mels=128) \n",
    "    S_DB = librosa.power_to_db(S, ref=np.max)\n",
    "    img = librosa.display.specshow(S_DB, sr=22050)\n",
    "    audio = audio.split('/')[-1][:-4]\n",
    "    image_path = ('../test_image/'+ audio +'.jpg')\n",
    "    plt.savefig(image_path)\n",
    "\n",
    "#     res = prediction(image_path,model,feature_model)\n",
    "    \n",
    "    return res"
   ]
  },
  {
   "cell_type": "markdown",
   "metadata": {},
   "source": [
    "## ROC curve and AUC score"
   ]
  },
  {
   "cell_type": "code",
   "execution_count": 37,
   "metadata": {},
   "outputs": [],
   "source": [
    "multi_realY = []\n",
    "\n",
    "for i in real_img_Y:\n",
    "    if i == 'negative':\n",
    "        multi_realY.append(0)\n",
    "    else:\n",
    "        multi_realY.append(1)"
   ]
  },
  {
   "cell_type": "code",
   "execution_count": 51,
   "metadata": {},
   "outputs": [],
   "source": [
    "img_real_Y = []\n",
    "\n",
    "for i in realY:\n",
    "    if i == 'negative':\n",
    "        img_real_Y.append(0)\n",
    "    else:\n",
    "        img_real_Y.append(1)"
   ]
  },
  {
   "cell_type": "code",
   "execution_count": 52,
   "metadata": {},
   "outputs": [],
   "source": [
    "from sklearn.metrics import roc_curve\n",
    "fpr_multi, tpr_multi, thresholds_multi = roc_curve(multi_realY, predY)\n",
    "fpr_img, tpr_img, thresholds_img = roc_curve(img_real_Y,im_pred)"
   ]
  },
  {
   "cell_type": "code",
   "execution_count": 53,
   "metadata": {},
   "outputs": [],
   "source": [
    "from sklearn.metrics import auc\n",
    "auc_multi = auc(fpr_multi, tpr_multi)\n",
    "auc_img = auc(fpr_img, tpr_img)"
   ]
  },
  {
   "cell_type": "code",
   "execution_count": 55,
   "metadata": {},
   "outputs": [
    {
     "data": {
      "image/png": "[encoded data removed]",
      "text/plain": [
       "<Figure size 432x288 with 1 Axes>"
      ]
     },
     "metadata": {
      "needs_background": "light"
     },
     "output_type": "display_data"
    },
    {
     "data": {
      "image/png": "[encoded data removed]",
      "text/plain": [
       "<Figure size 432x288 with 1 Axes>"
      ]
     },
     "metadata": {
      "needs_background": "light"
     },
     "output_type": "display_data"
    }
   ],
   "source": [
    "plt.figure(1)\n",
    "plt.plot([0, 1], [0, 1], 'k--')\n",
    "plt.plot(fpr_multi, tpr_multi, label='Multi_input (area = {:.3f})'.format(auc_multi))\n",
    "plt.plot(fpr_img, tpr_img, label='CXR_input (area = {:.3f})'.format(auc_img))\n",
    "plt.xlabel('False positive rate')\n",
    "plt.ylabel('True positive rate')\n",
    "plt.title('ROC curve')\n",
    "plt.legend(loc='best')\n",
    "plt.show()\n",
    "# Zoom in view of the upper left corner.\n",
    "plt.figure(2)\n",
    "plt.xlim(0, 0.2)\n",
    "plt.ylim(0.8, 1)\n",
    "plt.plot([0, 1], [0, 1], 'k--')\n",
    "plt.plot(fpr_multi, tpr_multi, label='Multi_input (area = {:.3f})'.format(auc_multi))\n",
    "plt.plot(fpr_img, tpr_img, label='CXR_input (area = {:.3f})'.format(auc_img))\n",
    "plt.xlabel('False positive rate')\n",
    "plt.ylabel('True positive rate')\n",
    "plt.title('ROC curve (zoomed in at top left)')\n",
    "plt.legend(loc='best')\n",
    "plt.show()"
   ]
  },
  {
   "cell_type": "code",
   "execution_count": 1,
   "metadata": {},
   "outputs": [],
   "source": [
    "from keras.applications.inception_resnet_v2 import preprocess_input"
   ]
  },
  {
   "cell_type": "code",
   "execution_count": 2,
   "metadata": {},
   "outputs": [],
   "source": [
    "from keras.applications.densenet import preprocess_input"
   ]
  }
 ],
 "metadata": {
  "kernelspec": {
   "display_name": "Python 3",
   "language": "python",
   "name": "python3"
  },
  "language_info": {
   "codemirror_mode": {
    "name": "ipython",
    "version": 3
   },
   "file_extension": ".py",
   "mimetype": "text/x-python",
   "name": "python",
   "nbconvert_exporter": "python",
   "pygments_lexer": "ipython3",
   "version": "3.7.6"
  }
 },
 "nbformat": 4,
 "nbformat_minor": 4
}
