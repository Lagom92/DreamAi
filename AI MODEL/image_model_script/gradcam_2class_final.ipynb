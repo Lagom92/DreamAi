{
 "cells": [
  {
   "cell_type": "code",
   "execution_count": 62,
   "metadata": {
    "colab": {
     "base_uri": "https://localhost:8080/"
    },
    "executionInfo": {
     "elapsed": 8606,
     "status": "ok",
     "timestamp": 1606138275848,
     "user": {
      "displayName": "하얀토마토",
      "photoUrl": "https://lh3.googleusercontent.com/a-/AOh14Gg6vDBrxCTQgLfR3k4Ki87kEMHbAng403bLeTrH=s64",
      "userId": "01056407583135415771"
     },
     "user_tz": -540
    },
    "id": "AAtgJ1ybkf3O",
    "outputId": "4159cf26-140c-440c-ee7c-b06aedc2c627"
   },
   "outputs": [
    {
     "name": "stdout",
     "output_type": "stream",
     "text": [
      "WARNING:tensorflow:No training configuration found in the save file, so the model was *not* compiled. Compile it manually.\n"
     ]
    }
   ],
   "source": [
    "from keras.models import load_model\n",
    "model_path = '../image_models/Covid_2class_9947_softmax.h5'\n",
    "seg_model_path = '../image_models/seg_model.h5'\n",
    "feature_model_path = '../image_models/DenseNet201.h5'\n",
    "\n",
    "def dice_coef(y_true, y_pred):\n",
    "    y_true_f = keras.flatten(y_true)\n",
    "    y_pred_f = keras.flatten(y_pred)\n",
    "    intersection = keras.sum(y_true_f * y_pred_f)\n",
    "    return (2. * intersection + 1) / (keras.sum(y_true_f) + keras.sum(y_pred_f) + 1)\n",
    "\n",
    "def dice_coef_loss(y_true, y_pred):\n",
    "    return 1-dice_coef(y_true, y_pred)\n",
    "\n",
    "model = load_model(model_path)\n",
    "feature_model = load_model(feature_model_path)\n",
    "seg_model = load_model(seg_model_path ,custom_objects={'dice_coef_loss': dice_coef_loss,'dice_coef':dice_coef})"
   ]
  },
  {
   "cell_type": "code",
   "execution_count": 71,
   "metadata": {
    "executionInfo": {
     "elapsed": 852,
     "status": "ok",
     "timestamp": 1606138564400,
     "user": {
      "displayName": "하얀토마토",
      "photoUrl": "https://lh3.googleusercontent.com/a-/AOh14Gg6vDBrxCTQgLfR3k4Ki87kEMHbAng403bLeTrH=s64",
      "userId": "01056407583135415771"
     },
     "user_tz": -540
    },
    "id": "p-6ZTkeSkf3O"
   },
   "outputs": [],
   "source": [
    "# import module\n",
    "\n",
    "\n",
    "from tensorflow import keras\n",
    "import tensorflow as tf\n",
    "import matplotlib.cm as cm\n",
    "import numpy as np \n",
    "import matplotlib.pyplot as plt\n",
    "import os\n",
    "from PIL import Image\n",
    "\n",
    "def image_preprocessing(cropped_image, img_size):\n",
    "    \n",
    "    img = tf.keras.preprocessing.image.array_to_img(cropped_image)\n",
    "    img = img.resize(img_size)\n",
    "    img = tf.keras.preprocessing.image.img_to_array(img)\n",
    "    img = img / 255.0\n",
    "    img = np.expand_dims(img, axis=0)\n",
    "    return img\n",
    "\n",
    "#  히트맵 생성\n",
    "def make_gradcam_heatmap(cropped_image , classifier_model, last_conv_layer_model,img_size):\n",
    "\n",
    "    img_array = image_preprocessing(cropped_image,img_size)\n",
    "\n",
    "\n",
    "    with tf.GradientTape() as tape:\n",
    "        # Compute activations of the last conv layer and make the tape watch it\n",
    "        last_conv_layer_output = last_conv_layer_model(img_array)\n",
    "        tape.watch(last_conv_layer_output)\n",
    "        # Compute class predictions\n",
    "        preds = classifier_model(last_conv_layer_output)\n",
    "        # print(preds)\n",
    "        top_pred_index = tf.argmax(preds[0])\n",
    "        # print(top_pred_index)\n",
    "        top_class_channel = preds[:, top_pred_index]\n",
    "        # print(top_class_channel)\n",
    "        \n",
    "\n",
    "    # This is the gradient of the top predicted class with regard to\n",
    "    # the output feature map of the last conv layer\n",
    "    grads = tape.gradient(top_class_channel, last_conv_layer_output)\n",
    "\n",
    "    # This is a vector where each entry is the mean intensity of the gradient\n",
    "    # over a specific feature map channel\n",
    "    pooled_grads = tf.reduce_mean(grads, axis=(0, 1, 2))\n",
    "\n",
    "    # We multiply each channel in the feature map array\n",
    "    # by \"how important this channel is\" with regard to the top predicted class\n",
    "    last_conv_layer_output = last_conv_layer_output.numpy()[0]\n",
    "    pooled_grads = pooled_grads.numpy()\n",
    "    for i in range(pooled_grads.shape[-1]):\n",
    "        last_conv_layer_output[:, :, i] *= pooled_grads[i]\n",
    "\n",
    "    # The channel-wise mean of the resulting feature map\n",
    "    # is our heatmap of class activation\n",
    "    heatmap = np.mean(last_conv_layer_output, axis=-1)\n",
    "\n",
    "    # For visualization purpose, we will also normalize the heatmap between 0 & 1\n",
    "    heatmap = np.maximum(heatmap, 0) / np.max(heatmap)\n",
    "\n",
    "    return heatmap\n",
    "\n",
    "# CAM이미지 + 원본\n",
    "def show_CAM(cropped_image, heatmap, boundary, threshold=180):\n",
    "    \n",
    "    img = tf.keras.preprocessing.image.img_to_array(cropped_image)\n",
    "    \n",
    "    # Get boundary of cropped image and calculate original location\n",
    "    t,b,l,r = boundary    \n",
    "\n",
    "    # We rescale heatmap to a range 0-255\n",
    "    heatmap = np.uint8(255 * heatmap)\n",
    "    \n",
    "#  thresholding\n",
    "#  주요 특징만 추출\n",
    "    heatmap[np.where(heatmap < 120)] = 0\n",
    "\n",
    "    # We use jet colormap to colorize heatmap\n",
    "    jet = cm.get_cmap(\"Reds\")\n",
    "\n",
    "    # We use RGB values of the colormap\n",
    "    jet_colors = jet(np.arange(256))[:, :3]\n",
    "    jet_heatmap = jet_colors[heatmap]\n",
    "\n",
    "    # We create an image with RGB colorized heatmap\n",
    "    jet_heatmap = keras.preprocessing.image.array_to_img(jet_heatmap)\n",
    "    jet_heatmap = jet_heatmap.resize((img.shape[1], img.shape[0]))\n",
    "    jet_heatmap = keras.preprocessing.image.img_to_array(jet_heatmap)\n",
    "    \n",
    "    # 바탕이 밝아지는 것 막기 위해 thresholding...\n",
    "    idx = np.where(jet_heatmap.mean(axis=2) > threshold)\n",
    "#     jet_heatmap[idx] = img[idx]\n",
    "    jet_heatmap[idx] = [255,255,255]\n",
    "\n",
    "    jet_heatmap = keras.preprocessing.image.array_to_img(jet_heatmap)\n",
    "    \n",
    "    return jet_heatmap\n",
    "\n",
    "# 여러개의 heatmap 이미지를 얻는다.\n",
    "def make_multi_heatmaps(cropped_image, original, original_512, heatmap, boundary, iterator=10):\n",
    "    # CXR에서 어디를 어떤 근거로 분류했는지를 나타내는 heatmap을\n",
    "    # 특징 강도를 기준으로 나누어 여러 개의 이미지로 만들어 반환한다.\n",
    "    # 100 ~ 200 을 iterator를 기준으로 구간을 나눔.\n",
    "    cam_list = []\n",
    "    interval = 150 // iterator\n",
    "    for threshold in range(50, 201, interval):\n",
    "        cam_image = show_CAM(cropped_image , heatmap, boundary, threshold)\n",
    "        original_size_heatmap = get_original_size_heatmap(cam_image, original, original_512, boundary)\n",
    "        # 투명한 배경이미지의 heatmap을 저장\n",
    "        get_transparent_img(original_size_heatmap, f\"png_heatmaps/pngCXR_{threshold}.png\")\n",
    "        cam_list.append(original_size_heatmap)\n",
    "\n",
    "    return cam_list\n",
    "\n",
    "# 예측함수\n",
    "# opencv의 resize에서 오류가 발생하여 keras.preprocessing.image의 함수들을 사용하였다.\n",
    "def predict_CXR(cropped_image , model, feature_model,img_size):\n",
    "\n",
    "    img = image_preprocessing(cropped_image,img_size)\n",
    "    \n",
    "    feature_vector = feature_model.predict(img)\n",
    "\n",
    "    prediction = model.predict(feature_vector)[0]\n",
    "    index = prediction.argmax()\n",
    "    label_name = ['negative','positive']\n",
    "\n",
    "    #labels에 저장 \n",
    "    label = label_name[index] \n",
    "    \n",
    "    # 예측 결과 / 0 ~ 1 퍼센트\n",
    "    return label, prediction\n",
    "\n",
    "\n",
    "\n",
    "def get_transparent_img(original_size_heatmap, image_name):\n",
    "\n",
    "    img = original_size_heatmap.convert(\"RGBA\")\n",
    "    datas = img.getdata()\n",
    "\n",
    "    newData = []\n",
    "    cutOff = 255\n",
    " \n",
    "    for item in datas:\n",
    "        if item[0] >= cutOff and item[1] >= cutOff and item[2] >= cutOff:\n",
    "            newData.append((255, 255, 255, 0))\n",
    "            # RGB의 각 요소가 모두 cutOff 이상이면 transparent하게 바꿔줍니다.\n",
    "        else:\n",
    "            newData.append(item)\n",
    "            # 나머지 요소는 변경하지 않습니다.\n",
    "    \n",
    "    img.putdata(newData)\n",
    "    img.save(image_name, \"PNG\") # PNG 포맷으로 저장합니다."
   ]
  },
  {
   "cell_type": "code",
   "execution_count": 72,
   "metadata": {
    "executionInfo": {
     "elapsed": 707,
     "status": "ok",
     "timestamp": 1606138266057,
     "user": {
      "displayName": "하얀토마토",
      "photoUrl": "https://lh3.googleusercontent.com/a-/AOh14Gg6vDBrxCTQgLfR3k4Ki87kEMHbAng403bLeTrH=s64",
      "userId": "01056407583135415771"
     },
     "user_tz": -540
    },
    "id": "JRsGTLj1kf3O"
   },
   "outputs": [],
   "source": [
    "def get_seg_img(model_seg, original_512):\n",
    "    \n",
    "    # pre-processing for segmentation\n",
    "    test_im = keras.preprocessing.image.img_to_array(original_512)[:,:,0]\n",
    "    # expand_dims\n",
    "    test_X = np.array(test_im).reshape(1,512,512,1) \n",
    "    test = (test_X-127.0)/127.0\n",
    "\n",
    "    # get segmented image\n",
    "    pred_im = model_seg.predict(test)\n",
    "    pred_im = (pred_im>0.1)\n",
    "    return pred_im\n",
    "\n",
    "# 최 외곽 사각형의 좌표를 구한다. 0~511/ 0~511\n",
    "def get_boundingbox(pred_label):\n",
    "    # Set boundaries only when more than 5 pixels are found to ignore very fine errors.\n",
    "    cnt = 0\n",
    "    for i in range(len(pred_label)):\n",
    "        if True in pred_label[i]:\n",
    "            cnt += 1\n",
    "        if cnt >= 5:\n",
    "            top = i\n",
    "            break\n",
    "    cnt = 0\n",
    "    for i in range(len(pred_label)-1, 0, -1):\n",
    "        if True in pred_label[i]:\n",
    "            cnt += 1\n",
    "        if cnt >= 5:\n",
    "            bottom = i\n",
    "            break\n",
    "    cnt = 0\n",
    "    for i in range(len(pred_label)):\n",
    "        if True in pred_label[:, i]:\n",
    "            cnt += 1\n",
    "        if cnt >= 5:\n",
    "            left = i\n",
    "            break\n",
    "    cnt = 0       \n",
    "    for i in range(len(pred_label)-1, 0, -1):\n",
    "        if True in pred_label[:,i]:\n",
    "            cnt += 1\n",
    "        if cnt >= 5:\n",
    "            right = i\n",
    "            break\n",
    "    # To avid cropping too many pixels, make the bounding box loosely.\n",
    "    return top//2, 512-(512-bottom)//2, left//2, 512-(512-right)//2\n",
    "\n",
    "\n",
    "\n",
    "# Detect an CXR's lung location and crop it.\n",
    "def get_cropped_image(original_512, model_seg):\n",
    "    seg_img = get_seg_img(model_seg, original_512)\n",
    "    t, b, l, r = get_boundingbox(seg_img[0])\n",
    "    original = tf.keras.preprocessing.image.img_to_array(original_512)\n",
    "    cropped_original = original[t:b+1, l:r+1]\n",
    "    \n",
    "    return cropped_original, (t,b,l,r)\n",
    "\n",
    "def get_original_size_heatmap(cam_image, original, original_512, boundary):\n",
    "    t,b,l,r = boundary\n",
    "    # original_512로 512 heatmap 만들고 original로 크기 얻어서 heatmap을 그 크기로 만들기.\n",
    "    original = tf.keras.preprocessing.image.img_to_array(original)\n",
    "    cam_image = tf.keras.preprocessing.image.img_to_array(cam_image)\n",
    "    original_512 = tf.keras.preprocessing.image.img_to_array(original_512)\n",
    "    # 배경을 흰색으로 만들기\n",
    "    original_512[:,:] = [255,255,255]\n",
    "\n",
    "    # change the cropped location to heatmap image.\n",
    "    original_512[t:b+1, l:r+1] = cam_image\n",
    "\n",
    "    original_size_heatmap = tf.keras.preprocessing.image.array_to_img(original_512)\n",
    "    original_size_heatmap = original_size_heatmap.resize((original.shape[1], original.shape[0]))\n",
    "    \n",
    "    return original_size_heatmap"
   ]
  },
  {
   "cell_type": "code",
   "execution_count": 73,
   "metadata": {
    "executionInfo": {
     "elapsed": 835,
     "status": "ok",
     "timestamp": 1606140875472,
     "user": {
      "displayName": "하얀토마토",
      "photoUrl": "https://lh3.googleusercontent.com/a-/AOh14Gg6vDBrxCTQgLfR3k4Ki87kEMHbAng403bLeTrH=s64",
      "userId": "01056407583135415771"
     },
     "user_tz": -540
    },
    "id": "OuP_6zBrkf3O"
   },
   "outputs": [],
   "source": [
    "import tensorflow as tf\n",
    "from tensorflow import keras\n",
    "from tensorflow.keras.models import load_model\n",
    "import tensorflow_hub as hub\n",
    "import numpy as np\n",
    "\n",
    "def prediction_and_heatmap(image_path, model, seg_model,feature_model):\n",
    "    # image path를 받아 segmentation하여 폐부분을 포커싱한 cropped image를 얻고\n",
    "    # 이 부분을 통해 실제로 예측을 수행한다.\n",
    "    # 원본사진으로 모델을 통과시켜 히트맵을 얻는다.\n",
    "    \n",
    "    img_size = (224,224)\n",
    "    original = tf.keras.preprocessing.image.load_img(image_path)\n",
    "    original_512 = tf.keras.preprocessing.image.load_img(image_path, target_size=(512,512))\n",
    "    \n",
    "    cropped_image, boundary = get_cropped_image(original_512, seg_model)\n",
    "    \n",
    "    prediction, percent = predict_CXR(cropped_image , model, feature_model,img_size)\n",
    "    heatmap = make_gradcam_heatmap(cropped_image, model, feature_model, img_size)\n",
    "    cam_image = show_CAM(cropped_image , heatmap, boundary, 200)\n",
    "    \n",
    "    original_size_heatmap = get_original_size_heatmap(cam_image, original, original_512, boundary)\n",
    "    \n",
    "    # cam_image를 threshold별로 다른 이미지를 얻는다.\n",
    "    # cam_list는 안씀\n",
    "    cam_list = make_multi_heatmaps(cropped_image, original,original_512, heatmap, boundary, 10)\n",
    "    \n",
    "    return prediction, percent,original_size_heatmap, original"
   ]
  },
  {
   "cell_type": "code",
   "execution_count": 77,
   "metadata": {
    "executionInfo": {
     "elapsed": 785,
     "status": "ok",
     "timestamp": 1606138276640,
     "user": {
      "displayName": "하얀토마토",
      "photoUrl": "https://lh3.googleusercontent.com/a-/AOh14Gg6vDBrxCTQgLfR3k4Ki87kEMHbAng403bLeTrH=s64",
      "userId": "01056407583135415771"
     },
     "user_tz": -540
    },
    "id": "C6huOuEnkf3P"
   },
   "outputs": [],
   "source": [
    "image_path = '../../CXR_data/train/positive/38.jpeg'\n",
    "# '../../CXR_data/train/negative/0b00ec19-0e23-48eb-8936-c03379bf65c2.jpg'\n",
    "# '../../CXR_data/train/positive/38.jpeg'\n",
    "\n",
    "# 'covid.jpg'"
   ]
  },
  {
   "cell_type": "code",
   "execution_count": 78,
   "metadata": {
    "colab": {
     "base_uri": "https://localhost:8080/"
    },
    "executionInfo": {
     "elapsed": 1465,
     "status": "ok",
     "timestamp": 1606138568451,
     "user": {
      "displayName": "하얀토마토",
      "photoUrl": "https://lh3.googleusercontent.com/a-/AOh14Gg6vDBrxCTQgLfR3k4Ki87kEMHbAng403bLeTrH=s64",
      "userId": "01056407583135415771"
     },
     "user_tz": -540
    },
    "id": "NfEhOvpqkf3P",
    "outputId": "03709e19-3122-428f-d594-fc8c3ece0b91"
   },
   "outputs": [],
   "source": [
    "prediction, percent,original_size_heatmap ,original = prediction_and_heatmap(image_path, model, seg_model, feature_model)"
   ]
  },
  {
   "cell_type": "code",
   "execution_count": 79,
   "metadata": {
    "colab": {
     "base_uri": "https://localhost:8080/",
     "height": 287
    },
    "executionInfo": {
     "elapsed": 1824,
     "status": "ok",
     "timestamp": 1606138587583,
     "user": {
      "displayName": "하얀토마토",
      "photoUrl": "https://lh3.googleusercontent.com/a-/AOh14Gg6vDBrxCTQgLfR3k4Ki87kEMHbAng403bLeTrH=s64",
      "userId": "01056407583135415771"
     },
     "user_tz": -540
    },
    "id": "XZYQ57tVkf3P",
    "outputId": "7d67f585-eca2-4097-fc3d-8ed0201f4670",
    "scrolled": true
   },
   "outputs": [
    {
     "data": {
      "text/plain": [
       "<matplotlib.image.AxesImage at 0x206abe5f3c8>"
      ]
     },
     "execution_count": 79,
     "metadata": {},
     "output_type": "execute_result"
    },
    {
     "data": {
      "image/png": "[encoded data removed]",
      "text/plain": [
       "<Figure size 432x288 with 1 Axes>"
      ]
     },
     "metadata": {
      "needs_background": "light"
     },
     "output_type": "display_data"
    }
   ],
   "source": [
    "import matplotlib.pyplot as plt\n",
    "original_size_heatmap = tf.keras.preprocessing.image.img_to_array(original_size_heatmap)\n",
    "original = tf.keras.preprocessing.image.img_to_array(original)\n",
    "test = original_size_heatmap *0.5 + original * 0.5\n",
    "test = test.astype(int)\n",
    "plt.subplot(1,2,1)\n",
    "plt.imshow(test)"
   ]
  },
  {
   "cell_type": "code",
   "execution_count": null,
   "metadata": {},
   "outputs": [],
   "source": []
  },
  {
   "cell_type": "code",
   "execution_count": null,
   "metadata": {},
   "outputs": [],
   "source": []
  },
  {
   "cell_type": "code",
   "execution_count": null,
   "metadata": {},
   "outputs": [],
   "source": []
  }
 ],
 "metadata": {
  "accelerator": "GPU",
  "colab": {
   "collapsed_sections": [],
   "machine_shape": "hm",
   "name": "gradcam_2class.ipynb",
   "provenance": []
  },
  "kernelspec": {
   "display_name": "Python 3",
   "language": "python",
   "name": "python3"
  },
  "language_info": {
   "codemirror_mode": {
    "name": "ipython",
    "version": 3
   },
   "file_extension": ".py",
   "mimetype": "text/x-python",
   "name": "python",
   "nbconvert_exporter": "python",
   "pygments_lexer": "ipython3",
   "version": "3.7.6"
  }
 },
 "nbformat": 4,
 "nbformat_minor": 1
}
