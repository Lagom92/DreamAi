{
 "cells": [
  {
   "cell_type": "markdown",
   "metadata": {},
   "source": [
    "# Inference Compare\n",
    "\n",
    "#### native TF 와 TF-TRT FP16 비교해보기"
   ]
  },
  {
   "cell_type": "code",
   "execution_count": 1,
   "metadata": {},
   "outputs": [],
   "source": [
    "import tensorflow as tf\n",
    "import numpy as np\n",
    "import time\n",
    "import os\n",
    "from tensorflow.python.compiler.tensorrt import trt_convert as trt\n",
    "from tensorflow.python.saved_model import tag_constants\n",
    "from tensorflow.keras.models import load_model\n",
    "from tensorflow.keras.preprocessing.image import ImageDataGenerator\n",
    "from Seg_modules import *\n",
    "from PIL import Image\n",
    "from tqdm import tqdm"
   ]
  },
  {
   "cell_type": "code",
   "execution_count": 2,
   "metadata": {},
   "outputs": [
    {
     "data": {
      "text/plain": [
       "'2.3.1'"
      ]
     },
     "execution_count": 2,
     "metadata": {},
     "output_type": "execute_result"
    }
   ],
   "source": [
    "tf.__version__"
   ]
  },
  {
   "cell_type": "markdown",
   "metadata": {},
   "source": [
    "### Load models"
   ]
  },
  {
   "cell_type": "code",
   "execution_count": 3,
   "metadata": {},
   "outputs": [],
   "source": [
    "seg_model = load_model('../models/image_models/seg_model.h5',custom_objects={'dice_coef_loss': dice_coef_loss,'dice_coef':dice_coef})"
   ]
  },
  {
   "cell_type": "code",
   "execution_count": 4,
   "metadata": {},
   "outputs": [
    {
     "name": "stdout",
     "output_type": "stream",
     "text": [
      "WARNING:tensorflow:No training configuration found in the save file, so the model was *not* compiled. Compile it manually.\n"
     ]
    }
   ],
   "source": [
    "native_feature_model = load_model('../models/image_models/DenseNet201.h5')\n",
    "native_clf_model = load_model('../models/image_models/Covid_2class.h5')"
   ]
  },
  {
   "cell_type": "code",
   "execution_count": 5,
   "metadata": {},
   "outputs": [
    {
     "name": "stdout",
     "output_type": "stream",
     "text": [
      "WARNING:tensorflow:5 out of the last 5 calls to <function recreate_function.<locals>.restored_function_body at 0x7f5bfeccd268> triggered tf.function retracing. Tracing is expensive and the excessive number of tracings could be due to (1) creating @tf.function repeatedly in a loop, (2) passing tensors with different shapes, (3) passing Python objects instead of tensors. For (1), please define your @tf.function outside of the loop. For (2), @tf.function has experimental_relax_shapes=True option that relaxes argument shapes that can avoid unnecessary retracing. For (3), please refer to https://www.tensorflow.org/tutorials/customization/performance#python_or_tensor_args and https://www.tensorflow.org/api_docs/python/tf/function for  more details.\n",
      "WARNING:tensorflow:6 out of the last 6 calls to <function recreate_function.<locals>.restored_function_body at 0x7f5bfebe6ea0> triggered tf.function retracing. Tracing is expensive and the excessive number of tracings could be due to (1) creating @tf.function repeatedly in a loop, (2) passing tensors with different shapes, (3) passing Python objects instead of tensors. For (1), please define your @tf.function outside of the loop. For (2), @tf.function has experimental_relax_shapes=True option that relaxes argument shapes that can avoid unnecessary retracing. For (3), please refer to https://www.tensorflow.org/tutorials/customization/performance#python_or_tensor_args and https://www.tensorflow.org/api_docs/python/tf/function for  more details.\n"
     ]
    }
   ],
   "source": [
    "FP16_feature_model = load_model('./model/CXR_DenseNet_FP16_saved_model')\n",
    "FP16_clf_model = load_model('./model/CXR_C2C_FP16_saved_model')"
   ]
  },
  {
   "cell_type": "markdown",
   "metadata": {},
   "source": [
    "### native Inference function"
   ]
  },
  {
   "cell_type": "code",
   "execution_count": 6,
   "metadata": {},
   "outputs": [],
   "source": [
    "def native_infer(image_path):\n",
    "    img_size=(224,224)\n",
    "    label_list = ('negative','positive')\n",
    "    \n",
    "    cropped_image = get_cropped_image(image_path, seg_model)\n",
    "    img = tf.keras.preprocessing.image.array_to_img(cropped_image)\n",
    "    img = img.resize(img_size)\n",
    "    img = tf.keras.preprocessing.image.img_to_array(img)\n",
    "    img = img / 255.0\n",
    "    img = np.expand_dims(img, axis=0)\n",
    "    \n",
    "    feature_vector = native_feature_model.predict(img)\n",
    "    \n",
    "    prediction = native_clf_model.predict(feature_vector)[0]\n",
    "    \n",
    "    val = prediction.item(0)\n",
    "    idx = int(np.round(val))\n",
    "    label = label_list[idx]\n",
    "    \n",
    "    return label"
   ]
  },
  {
   "cell_type": "markdown",
   "metadata": {},
   "source": [
    "### FP16 Inference function"
   ]
  },
  {
   "cell_type": "code",
   "execution_count": 7,
   "metadata": {},
   "outputs": [],
   "source": [
    "def fp16_infer(image_path):\n",
    "    img_size = (224, 224)\n",
    "    label_list = ('negative','positive')\n",
    "    \n",
    "    cropped_image = get_cropped_image(image_path, seg_model)\n",
    "    \n",
    "    img = tf.keras.preprocessing.image.array_to_img(cropped_image)\n",
    "    img = img.resize(img_size)\n",
    "    img = tf.keras.preprocessing.image.img_to_array(img)\n",
    "    img = img / 255.0\n",
    "    img = np.expand_dims(img, axis=0)\n",
    "    cropped_img = tf.constant(img)\n",
    "        \n",
    "    signature_keys = list(FP16_feature_model.signatures.keys())\n",
    "    infer = FP16_feature_model.signatures[signature_keys[0]]\n",
    "    \n",
    "    pred = infer(cropped_img)\n",
    "\n",
    "    key = list(pred.keys())[0]\n",
    "    val = pred[key]\n",
    "    \n",
    "    signature_keys = list(FP16_clf_model.signatures.keys())\n",
    "    inference = FP16_clf_model.signatures[signature_keys[0]]\n",
    "    \n",
    "    prediction = inference(val)\n",
    "    \n",
    "    key = list(prediction.keys())[0]\n",
    "    value = prediction[key].numpy()[0]\n",
    "    \n",
    "    idx = int(np.round(value))\n",
    "    label = label_list[idx]\n",
    "        \n",
    "    return label"
   ]
  },
  {
   "cell_type": "markdown",
   "metadata": {},
   "source": [
    "### Load images"
   ]
  },
  {
   "cell_type": "code",
   "execution_count": 8,
   "metadata": {},
   "outputs": [
    {
     "name": "stdout",
     "output_type": "stream",
     "text": [
      "positive cnt:  120\n",
      "negative cnt:  1007\n",
      "total cnt:  1127\n"
     ]
    }
   ],
   "source": [
    "print(\"positive cnt: \", len(os.listdir(\"../image_data/test/positive\")))\n",
    "print(\"negative cnt: \", len(os.listdir(\"../image_data/test/negative\")))\n",
    "print(\"total cnt: \", len(os.listdir(\"../image_data/test/negative\")) + len(os.listdir(\"../image_data/test/positive\")))"
   ]
  },
  {
   "cell_type": "code",
   "execution_count": 9,
   "metadata": {},
   "outputs": [
    {
     "data": {
      "text/plain": [
       "880"
      ]
     },
     "execution_count": 9,
     "metadata": {},
     "output_type": "execute_result"
    }
   ],
   "source": [
    "# neg image 개수\n",
    "1007-127"
   ]
  },
  {
   "cell_type": "code",
   "execution_count": 10,
   "metadata": {},
   "outputs": [
    {
     "data": {
      "text/plain": [
       "120"
      ]
     },
     "execution_count": 10,
     "metadata": {},
     "output_type": "execute_result"
    }
   ],
   "source": [
    "pos_path_lst = []\n",
    "\n",
    "pos_path = \"../image_data/test/positive/\"\n",
    "for pos in os.listdir(pos_path):\n",
    "    pos_path_lst.append(pos_path + pos)\n",
    "\n",
    "len(pos_path_lst)"
   ]
  },
  {
   "cell_type": "code",
   "execution_count": 11,
   "metadata": {},
   "outputs": [
    {
     "data": {
      "text/plain": [
       "880"
      ]
     },
     "execution_count": 11,
     "metadata": {},
     "output_type": "execute_result"
    }
   ],
   "source": [
    "neg_path_lst = []\n",
    "   \n",
    "neg_path = \"../image_data/test/negative/\"\n",
    "for neg in os.listdir(neg_path):\n",
    "    neg_path_lst.append(neg_path + neg)\n",
    "\n",
    "neg_path_lst = neg_path_lst[:880]\n",
    "len(neg_path_lst)"
   ]
  },
  {
   "cell_type": "code",
   "execution_count": 12,
   "metadata": {},
   "outputs": [
    {
     "data": {
      "text/plain": [
       "1000"
      ]
     },
     "execution_count": 12,
     "metadata": {},
     "output_type": "execute_result"
    }
   ],
   "source": [
    "len(pos_path_lst + neg_path_lst)"
   ]
  },
  {
   "cell_type": "code",
   "execution_count": 13,
   "metadata": {},
   "outputs": [
    {
     "data": {
      "text/plain": [
       "1000"
      ]
     },
     "execution_count": 13,
     "metadata": {},
     "output_type": "execute_result"
    }
   ],
   "source": [
    "image_path_lst = pos_path_lst + neg_path_lst\n",
    "\n",
    "len(image_path_lst)"
   ]
  },
  {
   "cell_type": "code",
   "execution_count": 14,
   "metadata": {},
   "outputs": [
    {
     "data": {
      "text/plain": [
       "'../image_data/test/positive/COVID19(564).jpg'"
      ]
     },
     "execution_count": 14,
     "metadata": {},
     "output_type": "execute_result"
    }
   ],
   "source": [
    "image_path_lst[10]"
   ]
  },
  {
   "cell_type": "code",
   "execution_count": 15,
   "metadata": {},
   "outputs": [
    {
     "data": {
      "text/plain": [
       "'positive'"
      ]
     },
     "execution_count": 15,
     "metadata": {},
     "output_type": "execute_result"
    }
   ],
   "source": [
    "fp16_infer(image_path_lst[0])"
   ]
  },
  {
   "cell_type": "code",
   "execution_count": 21,
   "metadata": {},
   "outputs": [
    {
     "name": "stderr",
     "output_type": "stream",
     "text": [
      " 40%|████      | 402/1000 [01:29<01:52,  5.30it/s]"
     ]
    },
    {
     "name": "stdout",
     "output_type": "stream",
     "text": [
      "native: positive, FP16: negative, file: negative\n"
     ]
    },
    {
     "name": "stderr",
     "output_type": "stream",
     "text": [
      " 70%|██████▉   | 697/1000 [02:26<00:56,  5.38it/s]"
     ]
    },
    {
     "name": "stdout",
     "output_type": "stream",
     "text": [
      "native: positive, FP16: negative, file: negative\n"
     ]
    },
    {
     "name": "stderr",
     "output_type": "stream",
     "text": [
      "100%|██████████| 1000/1000 [03:24<00:00,  4.89it/s]\n"
     ]
    }
   ],
   "source": [
    "error = 0\n",
    "for path in tqdm(image_path_lst):\n",
    "    fp16 = fp16_infer(path)\n",
    "    native = native_infer(path)\n",
    "    title = path.split('/')[-2]\n",
    "    if fp16 != native:\n",
    "        print(f\"native: {native}, FP16: {fp16}, file: {title}\")\n",
    "        error += 1"
   ]
  },
  {
   "cell_type": "code",
   "execution_count": 22,
   "metadata": {},
   "outputs": [
    {
     "data": {
      "text/plain": [
       "2"
      ]
     },
     "execution_count": 22,
     "metadata": {},
     "output_type": "execute_result"
    }
   ],
   "source": [
    "error"
   ]
  },
  {
   "cell_type": "markdown",
   "metadata": {},
   "source": [
    "### native의 경우 \n",
    "\n",
    "pos를 pos라고 할 경우 --> pos_true\n",
    "\n",
    "pos를 pos가 아니라고 할 경우 --> pos_false\n",
    "\n",
    "neg를 neg라고 할 경우 --> neg_true\n",
    "\n",
    "neg를 neg가 아니라고 할 경우 --> neg_false"
   ]
  },
  {
   "cell_type": "code",
   "execution_count": 24,
   "metadata": {},
   "outputs": [
    {
     "name": "stderr",
     "output_type": "stream",
     "text": [
      "100%|██████████| 1000/1000 [02:19<00:00,  7.15it/s]\n"
     ]
    }
   ],
   "source": [
    "pos_true = 0\n",
    "pos_false = 0\n",
    "neg_true = 0\n",
    "neg_false = 0\n",
    "\n",
    "for path in tqdm(image_path_lst):\n",
    "    native = native_infer(path)\n",
    "    title = path.split('/')[-2]\n",
    "    \n",
    "    if native == \"positive\":\n",
    "        if title == \"positive\":\n",
    "            pos_true += 1\n",
    "        else:\n",
    "            pos_false += 1\n",
    "    else:\n",
    "        if title == \"negative\":\n",
    "            neg_true += 1\n",
    "        else:\n",
    "            neg_false += 1"
   ]
  },
  {
   "cell_type": "code",
   "execution_count": 26,
   "metadata": {},
   "outputs": [
    {
     "name": "stdout",
     "output_type": "stream",
     "text": [
      "109 20\n",
      "11 860\n"
     ]
    }
   ],
   "source": [
    "print(pos_true, pos_false)\n",
    "print(neg_false, neg_true)"
   ]
  },
  {
   "cell_type": "markdown",
   "metadata": {},
   "source": [
    "### FP16의 경우 \n",
    "\n",
    "pos를 pos라고 할 경우 --> fp16_pos_true\n",
    "\n",
    "pos를 pos가 아니라고 할 경우 --> fp16_pos_false\n",
    "\n",
    "neg를 neg라고 할 경우 --> fp16_neg_true\n",
    "\n",
    "neg를 neg가 아니라고 할 경우 --> fp16_neg_false"
   ]
  },
  {
   "cell_type": "code",
   "execution_count": 27,
   "metadata": {},
   "outputs": [
    {
     "name": "stderr",
     "output_type": "stream",
     "text": [
      "100%|██████████| 1000/1000 [01:06<00:00, 14.94it/s]\n"
     ]
    }
   ],
   "source": [
    "fp16_pos_true = 0\n",
    "fp16_pos_false = 0\n",
    "fp16_neg_true = 0\n",
    "fp16_neg_false = 0\n",
    "\n",
    "for path in tqdm(image_path_lst):\n",
    "    fp16 = fp16_infer(path)\n",
    "    title = path.split('/')[-2]\n",
    "    \n",
    "    if fp16 == \"positive\":\n",
    "        if title == \"positive\":\n",
    "            fp16_pos_true += 1\n",
    "        else:\n",
    "            fp16_pos_false += 1\n",
    "    else:\n",
    "        if title == \"negative\":\n",
    "            fp16_neg_true += 1\n",
    "        else:\n",
    "            fp16_neg_false += 1"
   ]
  },
  {
   "cell_type": "code",
   "execution_count": 28,
   "metadata": {},
   "outputs": [
    {
     "name": "stdout",
     "output_type": "stream",
     "text": [
      "109 18\n",
      "11 862\n"
     ]
    }
   ],
   "source": [
    "print(fp16_pos_true, fp16_pos_false)\n",
    "print(fp16_neg_false, fp16_neg_true)"
   ]
  },
  {
   "cell_type": "markdown",
   "metadata": {},
   "source": [
    "## CM 그리기"
   ]
  },
  {
   "cell_type": "code",
   "execution_count": 23,
   "metadata": {},
   "outputs": [
    {
     "name": "stderr",
     "output_type": "stream",
     "text": [
      "100%|██████████| 1000/1000 [02:21<00:00,  7.05it/s]\n"
     ]
    }
   ],
   "source": [
    "pred = []\n",
    "real = []\n",
    "\n",
    "for path in tqdm(image_path_lst):\n",
    "    native = native_infer(path)\n",
    "    title = path.split('/')[-2]\n",
    "    pred.append(native)\n",
    "    real.append(title)"
   ]
  },
  {
   "cell_type": "code",
   "execution_count": 24,
   "metadata": {},
   "outputs": [
    {
     "name": "stdout",
     "output_type": "stream",
     "text": [
      "Confusion matrix, without normalization\n",
      "[[860  11]\n",
      " [ 20 109]]\n"
     ]
    },
    {
     "data": {
      "image/png": "[encoded data removed]",
      "text/plain": [
       "<Figure size 432x288 with 2 Axes>"
      ]
     },
     "metadata": {
      "needs_background": "light"
     },
     "output_type": "display_data"
    }
   ],
   "source": [
    "import itertools\n",
    "from sklearn.metrics import confusion_matrix\n",
    "import matplotlib.pyplot as plt\n",
    "\n",
    "cm=confusion_matrix(pred, real)\n",
    "\n",
    "def plot_confusion_matrix(cm, classes,\n",
    "                          normalize=False,\n",
    "                          title='Confusion matrix',\n",
    "                          cmap=plt.cm.Blues):\n",
    "    \"\"\"\n",
    "    This function prints and plots the confusion matrix.\n",
    "    Normalization can be applied by setting `normalize=True`.\n",
    "    \"\"\"\n",
    "    plt.imshow(cm, interpolation='nearest', cmap=cmap)\n",
    "    plt.title(title)\n",
    "    plt.colorbar()\n",
    "    tick_marks = np.arange(len(classes))\n",
    "    plt.xticks(tick_marks, classes, rotation=45)\n",
    "    plt.yticks(tick_marks, classes)\n",
    "    if normalize:\n",
    "        cm = cm.astype('float') / cm.sum(axis=1)[:, np.newaxis]\n",
    "        print(\"Normalized confusion matrix\")\n",
    "    else:\n",
    "        print('Confusion matrix, without normalization')\n",
    "    print(cm)\n",
    "    thresh = cm.max() / 2.\n",
    "    for i, j in itertools.product(range(cm.shape[0]), range(cm.shape[1])):\n",
    "        plt.text(j, i, cm[i, j],\n",
    "                 horizontalalignment=\"center\",\n",
    "                 color=\"white\" if cm[i, j] > thresh else \"black\")\n",
    "    plt.tight_layout()\n",
    "    plt.ylabel('True label')\n",
    "    plt.xlabel('Predicted label')\n",
    "    plt.savefig('native_cm.png')\n",
    "plt.figure()\n",
    "\n",
    "plot_confusion_matrix(cm, classes=['negative', 'positive'], title='Confusion matrix, without normalization')"
   ]
  },
  {
   "cell_type": "code",
   "execution_count": 25,
   "metadata": {},
   "outputs": [
    {
     "name": "stderr",
     "output_type": "stream",
     "text": [
      "100%|██████████| 1000/1000 [01:07<00:00, 14.75it/s]\n"
     ]
    }
   ],
   "source": [
    "pred = []\n",
    "real = []\n",
    "\n",
    "for path in tqdm(image_path_lst):\n",
    "    fp16 = fp16_infer(path)\n",
    "    title = path.split('/')[-2]\n",
    "    pred.append(fp16)\n",
    "    real.append(title)"
   ]
  },
  {
   "cell_type": "code",
   "execution_count": 26,
   "metadata": {},
   "outputs": [
    {
     "name": "stdout",
     "output_type": "stream",
     "text": [
      "Confusion matrix, without normalization\n",
      "[[862  11]\n",
      " [ 18 109]]\n"
     ]
    },
    {
     "data": {
      "image/png": "[encoded data removed]",
      "text/plain": [
       "<Figure size 432x288 with 2 Axes>"
      ]
     },
     "metadata": {
      "needs_background": "light"
     },
     "output_type": "display_data"
    }
   ],
   "source": [
    "import itertools\n",
    "from sklearn.metrics import confusion_matrix\n",
    "import matplotlib.pyplot as plt\n",
    "\n",
    "cm=confusion_matrix(pred, real)\n",
    "\n",
    "def plot_confusion_matrix(cm, classes,\n",
    "                          normalize=False,\n",
    "                          title='Confusion matrix',\n",
    "                          cmap=plt.cm.Blues):\n",
    "    \"\"\"\n",
    "    This function prints and plots the confusion matrix.\n",
    "    Normalization can be applied by setting `normalize=True`.\n",
    "    \"\"\"\n",
    "    plt.imshow(cm, interpolation='nearest', cmap=cmap)\n",
    "    plt.title(title)\n",
    "    plt.colorbar()\n",
    "    tick_marks = np.arange(len(classes))\n",
    "    plt.xticks(tick_marks, classes, rotation=45)\n",
    "    plt.yticks(tick_marks, classes)\n",
    "    if normalize:\n",
    "        cm = cm.astype('float') / cm.sum(axis=1)[:, np.newaxis]\n",
    "        print(\"Normalized confusion matrix\")\n",
    "    else:\n",
    "        print('Confusion matrix, without normalization')\n",
    "    print(cm)\n",
    "    thresh = cm.max() / 2.\n",
    "    for i, j in itertools.product(range(cm.shape[0]), range(cm.shape[1])):\n",
    "        plt.text(j, i, cm[i, j],\n",
    "                 horizontalalignment=\"center\",\n",
    "                 color=\"white\" if cm[i, j] > thresh else \"black\")\n",
    "    plt.tight_layout()\n",
    "    plt.ylabel('True label')\n",
    "    plt.xlabel('Predicted label')\n",
    "    plt.savefig('fp16_cm.png')\n",
    "plt.figure()\n",
    "\n",
    "plot_confusion_matrix(cm, classes=['negative', 'positive'], title='Confusion matrix, without normalization')"
   ]
  },
  {
   "cell_type": "markdown",
   "metadata": {},
   "source": [
    "## 속도 비교"
   ]
  },
  {
   "cell_type": "markdown",
   "metadata": {},
   "source": [
    "### 1개 비교"
   ]
  },
  {
   "cell_type": "code",
   "execution_count": 38,
   "metadata": {},
   "outputs": [],
   "source": [
    "path = image_path_lst[0]"
   ]
  },
  {
   "cell_type": "code",
   "execution_count": 44,
   "metadata": {},
   "outputs": [
    {
     "name": "stdout",
     "output_type": "stream",
     "text": [
      "경과 시간: 0.14291977882385254\n"
     ]
    }
   ],
   "source": [
    "# native\n",
    "start_time = time.time()\n",
    "\n",
    "native_infer(path)\n",
    "    \n",
    "end_time = time.time()\n",
    "\n",
    "print(f\"경과 시간: {end_time - start_time}\")"
   ]
  },
  {
   "cell_type": "code",
   "execution_count": 47,
   "metadata": {},
   "outputs": [
    {
     "name": "stdout",
     "output_type": "stream",
     "text": [
      "경과 시간: 0.06501460075378418\n"
     ]
    }
   ],
   "source": [
    "# FP16\n",
    "start_time = time.time()\n",
    "\n",
    "fp16_infer(path)\n",
    "    \n",
    "end_time = time.time()\n",
    "\n",
    "print(f\"경과 시간: {end_time - start_time}\")"
   ]
  },
  {
   "cell_type": "markdown",
   "metadata": {},
   "source": [
    "### 1000개 비교"
   ]
  },
  {
   "cell_type": "code",
   "execution_count": 29,
   "metadata": {},
   "outputs": [
    {
     "name": "stderr",
     "output_type": "stream",
     "text": [
      "100%|██████████| 1000/1000 [02:19<00:00,  7.18it/s]"
     ]
    },
    {
     "name": "stdout",
     "output_type": "stream",
     "text": [
      "경과 시간: 139.2276873588562\n"
     ]
    },
    {
     "name": "stderr",
     "output_type": "stream",
     "text": [
      "\n"
     ]
    }
   ],
   "source": [
    "start_time = time.time()\n",
    "\n",
    "for path in tqdm(image_path_lst):\n",
    "    native = native_infer(path)\n",
    "    \n",
    "end_time = time.time()\n",
    "\n",
    "print(f\"경과 시간: {end_time - start_time}\")"
   ]
  },
  {
   "cell_type": "code",
   "execution_count": 30,
   "metadata": {},
   "outputs": [
    {
     "name": "stderr",
     "output_type": "stream",
     "text": [
      "100%|██████████| 1000/1000 [01:08<00:00, 14.62it/s]"
     ]
    },
    {
     "name": "stdout",
     "output_type": "stream",
     "text": [
      "경과 시간: 68.37843489646912\n"
     ]
    },
    {
     "name": "stderr",
     "output_type": "stream",
     "text": [
      "\n"
     ]
    }
   ],
   "source": [
    "start_time = time.time()\n",
    "\n",
    "for path in tqdm(image_path_lst):\n",
    "    fp16 = fp16_infer(path)\n",
    "    \n",
    "end_time = time.time()\n",
    "\n",
    "print(f\"경과 시간: {end_time - start_time}\")"
   ]
  },
  {
   "cell_type": "markdown",
   "metadata": {},
   "source": [
    "### 100개 비교"
   ]
  },
  {
   "cell_type": "code",
   "execution_count": 31,
   "metadata": {},
   "outputs": [
    {
     "name": "stderr",
     "output_type": "stream",
     "text": [
      "100%|██████████| 1000/1000 [02:19<00:00,  7.16it/s]"
     ]
    },
    {
     "name": "stdout",
     "output_type": "stream",
     "text": [
      "경과 시간: 844.644425868988\n"
     ]
    },
    {
     "name": "stderr",
     "output_type": "stream",
     "text": [
      "\n"
     ]
    }
   ],
   "source": [
    "time_list = []\n",
    "\n",
    "for i in tqdm(range(len(image_path_lst))):\n",
    "    native = native_infer(image_path_lst[i])\n",
    "    if i%100 == 0:\n",
    "        point = time.time()\n",
    "        time_list.append(point)\n",
    "    \n",
    "end_time = time.time()\n",
    "\n",
    "print(f\"경과 시간: {end_time - start_time}\")"
   ]
  },
  {
   "cell_type": "code",
   "execution_count": 34,
   "metadata": {},
   "outputs": [
    {
     "name": "stdout",
     "output_type": "stream",
     "text": [
      "경과 시간:  17.825329780578613\n",
      "경과 시간:  14.34692645072937\n",
      "경과 시간:  13.453776597976685\n",
      "경과 시간:  13.424177408218384\n",
      "경과 시간:  13.246257781982422\n",
      "경과 시간:  13.333261966705322\n",
      "경과 시간:  13.1697518825531\n",
      "경과 시간:  14.273770332336426\n",
      "경과 시간:  13.398881912231445\n"
     ]
    }
   ],
   "source": [
    "for i in range(1, len(time_list)):\n",
    "    print(\"경과 시간: \", time_list[i] - time_list[i-1])"
   ]
  },
  {
   "cell_type": "code",
   "execution_count": 35,
   "metadata": {},
   "outputs": [
    {
     "name": "stderr",
     "output_type": "stream",
     "text": [
      "100%|██████████| 1000/1000 [01:07<00:00, 14.84it/s]"
     ]
    },
    {
     "name": "stdout",
     "output_type": "stream",
     "text": [
      "경과 시간: 1152.9559605121613\n"
     ]
    },
    {
     "name": "stderr",
     "output_type": "stream",
     "text": [
      "\n"
     ]
    }
   ],
   "source": [
    "fp16_time_list = []\n",
    "\n",
    "for i in tqdm(range(len(image_path_lst))):\n",
    "    fp16 = fp16_infer(image_path_lst[i])\n",
    "    if i%100 == 0:\n",
    "        point = time.time()\n",
    "        fp16_time_list.append(point)\n",
    "    \n",
    "end_time = time.time()\n",
    "\n",
    "print(f\"경과 시간: {end_time - start_time}\")"
   ]
  },
  {
   "cell_type": "code",
   "execution_count": 37,
   "metadata": {},
   "outputs": [
    {
     "name": "stdout",
     "output_type": "stream",
     "text": [
      "경과 시간:  10.527108430862427\n",
      "경과 시간:  7.23412823677063\n",
      "경과 시간:  6.348636627197266\n",
      "경과 시간:  6.292787313461304\n",
      "경과 시간:  6.190565586090088\n",
      "경과 시간:  6.279267311096191\n",
      "경과 시간:  6.107926607131958\n",
      "경과 시간:  6.265416622161865\n",
      "경과 시간:  6.13323187828064\n"
     ]
    }
   ],
   "source": [
    "for i in range(1, len(fp16_time_list)):\n",
    "    print(\"경과 시간: \", fp16_time_list[i] - fp16_time_list[i-1])"
   ]
  },
  {
   "cell_type": "code",
   "execution_count": null,
   "metadata": {},
   "outputs": [],
   "source": []
  }
 ],
 "metadata": {
  "kernelspec": {
   "display_name": "Python 3",
   "language": "python",
   "name": "python3"
  },
  "language_info": {
   "codemirror_mode": {
    "name": "ipython",
    "version": 3
   },
   "file_extension": ".py",
   "mimetype": "text/x-python",
   "name": "python",
   "nbconvert_exporter": "python",
   "pygments_lexer": "ipython3",
   "version": "3.6.9"
  }
 },
 "nbformat": 4,
 "nbformat_minor": 4
}
