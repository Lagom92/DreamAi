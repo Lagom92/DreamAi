{
 "cells": [
  {
   "cell_type": "markdown",
   "metadata": {
    "id": "0PhqNiCSsiwz"
   },
   "source": [
    "## Grad-CAM class activation visualization"
   ]
  },
  {
   "cell_type": "code",
   "execution_count": null,
   "metadata": {
    "id": "tv1dWjipkLhg"
   },
   "outputs": [],
   "source": [
    "import numpy as np\n",
    "import tensorflow as tf\n",
    "from tensorflow import keras\n",
    "import cv2\n",
    "# Display\n",
    "from IPython.display import Image\n",
    "import matplotlib.pyplot as plt\n",
    "import matplotlib.cm as cm"
   ]
  },
  {
   "cell_type": "code",
   "execution_count": null,
   "metadata": {
    "id": "UZzBA_qwmwJJ"
   },
   "outputs": [],
   "source": [
    "model_builder = keras.applications.inception_resnet_v2.InceptionResNetV2\n",
    "\n",
    "preprocess_input = keras.applications.inception_resnet_v2.preprocess_input\n",
    "decode_predictions = keras.applications.inception_resnet_v2.decode_predictions"
   ]
  },
  {
   "cell_type": "code",
   "execution_count": null,
   "metadata": {
    "id": "qU1DI4kH1cnK"
   },
   "outputs": [],
   "source": [
    "from tensorflow.keras.preprocessing import image\n",
    "from tensorflow.keras.models import Model\n",
    "from tensorflow.keras.layers import Dense, GlobalAveragePooling2D, BatchNormalization\n",
    "from keras.callbacks import EarlyStopping, ModelCheckpoint\n",
    "from tensorflow.keras.layers import Input"
   ]
  },
  {
   "cell_type": "code",
   "execution_count": null,
   "metadata": {
    "colab": {
     "base_uri": "https://localhost:8080/",
     "height": 87
    },
    "executionInfo": {
     "elapsed": 31811,
     "status": "ok",
     "timestamp": 1603265951511,
     "user": {
      "displayName": "하얀토마토",
      "photoUrl": "https://lh3.googleusercontent.com/a-/AOh14Gg6vDBrxCTQgLfR3k4Ki87kEMHbAng403bLeTrH=s64",
      "userId": "01056407583135415771"
     },
     "user_tz": -540
    },
    "id": "MZA8iim12IwJ",
    "outputId": "b7c49a88-f858-498b-c064-8d0b6694687f"
   },
   "outputs": [
    {
     "name": "stdout",
     "output_type": "stream",
     "text": [
      "Found 5651 images belonging to 3 classes.\n",
      "Found 1411 images belonging to 3 classes.\n",
      "5651\n",
      "1411\n"
     ]
    }
   ],
   "source": [
    "from tensorflow.python.keras.preprocessing.image import ImageDataGenerator\n",
    "from keras.applications.inception_resnet_v2 import preprocess_input\n",
    "\n",
    "image_size = 299\n",
    "batch_size = 1\n",
    "valid_size = 1\n",
    "# 학습 및 검증 데이터용 ImageDataGenerator 생성해 놓기 \n",
    "train_datagen = ImageDataGenerator(rescale=1./255., \n",
    "                                   validation_split = 0.20)\n",
    "\n",
    "#검증데이터는 정규화 외에 따로 조정 없음 \n",
    "valid_datagen = ImageDataGenerator(rescale=1./255., \n",
    "                                   validation_split = 0.20)\n",
    "\n",
    "#flow_from_directory()는 앞서 배운 flow()와 비슷, 단 경로를 통채로 가져올 수 있음 \n",
    "# seed 값이 같으므로 train subset과 validation subset이 중복될 일은 없다.\n",
    "# batch_size = 32, shuffle=True이므로 랜덤하게 32개의 이미지를 디렉토리에서 골라서 보강하여 반환한다.\n",
    "train_generator = train_datagen.flow_from_directory(directory = '/content/drive/My Drive/인공지능 학습관련/CXR labels/TRAIN', #저장 경로 \n",
    "                                                    subset = 'training',   \n",
    "                                                    batch_size = batch_size,\n",
    "                                                    seed = 126,\n",
    "                                                    shuffle = True,\n",
    "                                                    class_mode = 'categorical',\n",
    "                                                    target_size = (image_size,image_size))\n",
    "\n",
    "valid_generator = valid_datagen.flow_from_directory(directory = '/content/drive/My Drive/인공지능 학습관련/CXR labels/TRAIN',\n",
    "                                                    subset = 'validation',\n",
    "                                                    batch_size = valid_size,\n",
    "                                                    seed = 126,\n",
    "                                                    shuffle = True,\n",
    "                                                    class_mode = 'categorical',\n",
    "                                                    target_size = (image_size,image_size))\n",
    "print(train_generator.n)\n",
    "print(valid_generator.n)\n"
   ]
  },
  {
   "cell_type": "code",
   "execution_count": null,
   "metadata": {
    "colab": {
     "base_uri": "https://localhost:8080/",
     "height": 72
    },
    "executionInfo": {
     "elapsed": 16401,
     "status": "ok",
     "timestamp": 1603266015764,
     "user": {
      "displayName": "하얀토마토",
      "photoUrl": "https://lh3.googleusercontent.com/a-/AOh14Gg6vDBrxCTQgLfR3k4Ki87kEMHbAng403bLeTrH=s64",
      "userId": "01056407583135415771"
     },
     "user_tz": -540
    },
    "id": "iKQL4UFnFOqZ",
    "outputId": "ef635461-af04-4cd9-adf8-eedcc943037d"
   },
   "outputs": [
    {
     "name": "stdout",
     "output_type": "stream",
     "text": [
      "Downloading data from https://storage.googleapis.com/tensorflow/keras-applications/inception_resnet_v2/inception_resnet_v2_weights_tf_dim_ordering_tf_kernels_notop.h5\n",
      "219062272/219055592 [==============================] - 3s 0us/step\n"
     ]
    }
   ],
   "source": [
    "# Make model == feature model\n",
    "feature_model = keras.applications.inception_resnet_v2.InceptionResNetV2(weights=\"imagenet\", include_top=False)"
   ]
  },
  {
   "cell_type": "code",
   "execution_count": null,
   "metadata": {
    "id": "PyNVM7NHI_E4"
   },
   "outputs": [],
   "source": [
    "# feature_model.save('/content/drive/My Drive/인공지능 학습관련/feature_model229.h5')"
   ]
  },
  {
   "cell_type": "code",
   "execution_count": null,
   "metadata": {
    "colab": {
     "base_uri": "https://localhost:8080/",
     "height": 70
    },
    "executionInfo": {
     "elapsed": 4217195,
     "status": "ok",
     "timestamp": 1603270241716,
     "user": {
      "displayName": "하얀토마토",
      "photoUrl": "https://lh3.googleusercontent.com/a-/AOh14Gg6vDBrxCTQgLfR3k4Ki87kEMHbAng403bLeTrH=s64",
      "userId": "01056407583135415771"
     },
     "user_tz": -540
    },
    "id": "OYcdofAfFAS0",
    "outputId": "72d61d4d-f41a-41b6-fb78-137bf103def4"
   },
   "outputs": [
    {
     "name": "stderr",
     "output_type": "stream",
     "text": [
      "100%|██████████| 5651/5651 [1:10:15<00:00,  1.34it/s]\n"
     ]
    },
    {
     "name": "stdout",
     "output_type": "stream",
     "text": [
      "(5651, 8, 8, 1536)\n",
      "(5651, 3)\n"
     ]
    }
   ],
   "source": [
    "import numpy as np\n",
    "from tqdm import tqdm\n",
    "\n",
    "train_features = [] # 빈 리스트 생성 \n",
    "train_Y = [] # 빈 리스트 생성 \n",
    "\n",
    "for idx in tqdm(range(train_generator.n)): # 2785 \n",
    "\n",
    "    x, y = train_generator.next() #next()를 활용하여 train_generator에 담겨진 [[입력픽셀],[라벨링]] 을 x와 y에 담아 준다.  \n",
    "    train_Y.extend(y) #append()와 비슷한 기능, list에 appending 수행\n",
    "    #   print(x.shape, y.shape) --> (1, 299, 299, 3), (1, 3)\n",
    "    # feature_model : 이미 학습이 완료된 특징 추출기 (우리가 불러옴)\n",
    "    # 학습데이터 x 를 활용해서 feature_model을 통과시켜 특징 추출.\n",
    "    feature = feature_model.predict(x)\n",
    "    #   print(feature.shape) --> (1,2048)\n",
    "    train_features.extend(feature)\n",
    "\n",
    "#array 전환 \n",
    "train_features = np.array(train_features)\n",
    "train_Y = np.array(train_Y)\n",
    "\n",
    "print(train_features.shape) \n",
    "print(train_Y.shape) "
   ]
  },
  {
   "cell_type": "code",
   "execution_count": null,
   "metadata": {
    "colab": {
     "base_uri": "https://localhost:8080/",
     "height": 70
    },
    "executionInfo": {
     "elapsed": 1037414,
     "status": "ok",
     "timestamp": 1603271279153,
     "user": {
      "displayName": "하얀토마토",
      "photoUrl": "https://lh3.googleusercontent.com/a-/AOh14Gg6vDBrxCTQgLfR3k4Ki87kEMHbAng403bLeTrH=s64",
      "userId": "01056407583135415771"
     },
     "user_tz": -540
    },
    "id": "vkNVfNX-FEbi",
    "outputId": "7b5c154d-aea7-4ad4-c7b7-d45826c1ccb9"
   },
   "outputs": [
    {
     "name": "stderr",
     "output_type": "stream",
     "text": [
      "100%|██████████| 1411/1411 [17:15<00:00,  1.36it/s]"
     ]
    },
    {
     "name": "stdout",
     "output_type": "stream",
     "text": [
      "(1411, 8, 8, 1536)\n",
      "(1411, 3)\n"
     ]
    },
    {
     "name": "stderr",
     "output_type": "stream",
     "text": [
      "\n"
     ]
    }
   ],
   "source": [
    "valid_features = [] # 빈 리스트 생성 \n",
    "valid_Y = [] # 빈 리스트 생성 \n",
    "from tqdm import tqdm\n",
    "\n",
    "for idx in tqdm(range(valid_generator.n)): ## valid_generator.n = 696 (검증데이터의 수)\n",
    "\n",
    "    x, y = valid_generator.next() #next()를 활용하여 valid_generator에 담겨진 [[입력픽셀],[라벨링]] 을 x와 y에 담아 준다.   \n",
    "    valid_Y.extend(y) #append()와 비슷한 기능, list에 appending 수행\n",
    "  \n",
    "    # feature_model : 이미 학습이 완료된 특징 추출기 (우리가 불러옴)\n",
    "    # 학습데이터 x 를 활용해서 feature_model을 통과시켜 특징 추출.\n",
    "    feature = feature_model.predict(x)\n",
    "    valid_features.extend(feature)\n",
    "\n",
    "#array 전환 \n",
    "valid_features = np.array(valid_features)\n",
    "valid_Y = np.array(valid_Y)\n",
    "\n",
    "print(valid_features.shape)\n",
    "print(valid_Y.shape)"
   ]
  },
  {
   "cell_type": "code",
   "execution_count": null,
   "metadata": {
    "colab": {
     "base_uri": "https://localhost:8080/",
     "height": 1000
    },
    "executionInfo": {
     "elapsed": 169279,
     "status": "ok",
     "timestamp": 1603281844549,
     "user": {
      "displayName": "하얀토마토",
      "photoUrl": "https://lh3.googleusercontent.com/a-/AOh14Gg6vDBrxCTQgLfR3k4Ki87kEMHbAng403bLeTrH=s64",
      "userId": "01056407583135415771"
     },
     "user_tz": -540
    },
    "id": "FJxU9wR_1P4M",
    "outputId": "7d88452e-088e-4075-8c9d-1f6cec629030"
   },
   "outputs": [
    {
     "name": "stdout",
     "output_type": "stream",
     "text": [
      "Epoch 1/200\n",
      "177/177 [==============================] - ETA: 0s - loss: 0.4289 - accuracy: 0.8255\n",
      "Epoch 00001: val_accuracy improved from -inf to 0.92558, saving model to /content/drive/My Drive/인공지능 학습관련/covid19_detection_model_new\n",
      "177/177 [==============================] - 2s 9ms/step - loss: 0.4289 - accuracy: 0.8255 - val_loss: 0.2358 - val_accuracy: 0.9256\n",
      "Epoch 2/200\n",
      "171/177 [===========================>..] - ETA: 0s - loss: 0.2621 - accuracy: 0.9002\n",
      "Epoch 00002: val_accuracy improved from 0.92558 to 0.92913, saving model to /content/drive/My Drive/인공지능 학습관련/covid19_detection_model_new\n",
      "177/177 [==============================] - 1s 8ms/step - loss: 0.2632 - accuracy: 0.8993 - val_loss: 0.2165 - val_accuracy: 0.9291\n",
      "Epoch 3/200\n",
      "172/177 [============================>.] - ETA: 0s - loss: 0.2283 - accuracy: 0.9126\n",
      "Epoch 00003: val_accuracy improved from 0.92913 to 0.93551, saving model to /content/drive/My Drive/인공지능 학습관련/covid19_detection_model_new\n",
      "177/177 [==============================] - 1s 8ms/step - loss: 0.2274 - accuracy: 0.9131 - val_loss: 0.1865 - val_accuracy: 0.9355\n",
      "Epoch 4/200\n",
      "173/177 [============================>.] - ETA: 0s - loss: 0.2139 - accuracy: 0.9214\n",
      "Epoch 00004: val_accuracy did not improve from 0.93551\n",
      "177/177 [==============================] - 1s 8ms/step - loss: 0.2138 - accuracy: 0.9216 - val_loss: 0.1941 - val_accuracy: 0.9313\n",
      "Epoch 5/200\n",
      "172/177 [============================>.] - ETA: 0s - loss: 0.1931 - accuracy: 0.9295\n",
      "Epoch 00005: val_accuracy improved from 0.93551 to 0.95039, saving model to /content/drive/My Drive/인공지능 학습관련/covid19_detection_model_new\n",
      "177/177 [==============================] - 1s 8ms/step - loss: 0.1948 - accuracy: 0.9294 - val_loss: 0.1596 - val_accuracy: 0.9504\n",
      "Epoch 6/200\n",
      "171/177 [===========================>..] - ETA: 0s - loss: 0.1845 - accuracy: 0.9340\n",
      "Epoch 00006: val_accuracy did not improve from 0.95039\n",
      "177/177 [==============================] - 1s 8ms/step - loss: 0.1855 - accuracy: 0.9335 - val_loss: 0.2104 - val_accuracy: 0.9256\n",
      "Epoch 7/200\n",
      "174/177 [============================>.] - ETA: 0s - loss: 0.1788 - accuracy: 0.9380\n",
      "Epoch 00007: val_accuracy did not improve from 0.95039\n",
      "177/177 [==============================] - 1s 8ms/step - loss: 0.1777 - accuracy: 0.9382 - val_loss: 0.1491 - val_accuracy: 0.9483\n",
      "Epoch 8/200\n",
      "173/177 [============================>.] - ETA: 0s - loss: 0.1682 - accuracy: 0.9408\n",
      "Epoch 00008: val_accuracy improved from 0.95039 to 0.95393, saving model to /content/drive/My Drive/인공지능 학습관련/covid19_detection_model_new\n",
      "177/177 [==============================] - 1s 8ms/step - loss: 0.1698 - accuracy: 0.9409 - val_loss: 0.1503 - val_accuracy: 0.9539\n",
      "Epoch 9/200\n",
      "174/177 [============================>.] - ETA: 0s - loss: 0.1615 - accuracy: 0.9429\n",
      "Epoch 00009: val_accuracy did not improve from 0.95393\n",
      "177/177 [==============================] - 1s 8ms/step - loss: 0.1612 - accuracy: 0.9425 - val_loss: 0.1613 - val_accuracy: 0.9426\n",
      "Epoch 10/200\n",
      "170/177 [===========================>..] - ETA: 0s - loss: 0.1542 - accuracy: 0.9471\n",
      "Epoch 00010: val_accuracy did not improve from 0.95393\n",
      "177/177 [==============================] - 1s 8ms/step - loss: 0.1536 - accuracy: 0.9473 - val_loss: 0.1439 - val_accuracy: 0.9490\n",
      "Epoch 11/200\n",
      "174/177 [============================>.] - ETA: 0s - loss: 0.1536 - accuracy: 0.9467\n",
      "Epoch 00011: val_accuracy did not improve from 0.95393\n",
      "177/177 [==============================] - 1s 8ms/step - loss: 0.1535 - accuracy: 0.9467 - val_loss: 0.1587 - val_accuracy: 0.9419\n",
      "Epoch 12/200\n",
      "175/177 [============================>.] - ETA: 0s - loss: 0.1488 - accuracy: 0.9457\n",
      "Epoch 00012: val_accuracy improved from 0.95393 to 0.96102, saving model to /content/drive/My Drive/인공지능 학습관련/covid19_detection_model_new\n",
      "177/177 [==============================] - 1s 8ms/step - loss: 0.1493 - accuracy: 0.9459 - val_loss: 0.1327 - val_accuracy: 0.9610\n",
      "Epoch 13/200\n",
      "171/177 [===========================>..] - ETA: 0s - loss: 0.1453 - accuracy: 0.9474\n",
      "Epoch 00013: val_accuracy did not improve from 0.96102\n",
      "177/177 [==============================] - 1s 8ms/step - loss: 0.1442 - accuracy: 0.9480 - val_loss: 0.1395 - val_accuracy: 0.9568\n",
      "Epoch 14/200\n",
      "170/177 [===========================>..] - ETA: 0s - loss: 0.1428 - accuracy: 0.9539\n",
      "Epoch 00014: val_accuracy did not improve from 0.96102\n",
      "177/177 [==============================] - 1s 8ms/step - loss: 0.1423 - accuracy: 0.9536 - val_loss: 0.1371 - val_accuracy: 0.9497\n",
      "Epoch 15/200\n",
      "175/177 [============================>.] - ETA: 0s - loss: 0.1352 - accuracy: 0.9521\n",
      "Epoch 00015: val_accuracy did not improve from 0.96102\n",
      "177/177 [==============================] - 1s 8ms/step - loss: 0.1351 - accuracy: 0.9522 - val_loss: 0.1401 - val_accuracy: 0.9603\n",
      "Epoch 16/200\n",
      "174/177 [============================>.] - ETA: 0s - loss: 0.1362 - accuracy: 0.9538\n",
      "Epoch 00016: val_accuracy did not improve from 0.96102\n",
      "177/177 [==============================] - 1s 8ms/step - loss: 0.1359 - accuracy: 0.9538 - val_loss: 0.1511 - val_accuracy: 0.9490\n",
      "Epoch 17/200\n",
      "170/177 [===========================>..] - ETA: 0s - loss: 0.1327 - accuracy: 0.9542\n",
      "Epoch 00017: val_accuracy did not improve from 0.96102\n",
      "177/177 [==============================] - 1s 8ms/step - loss: 0.1308 - accuracy: 0.9552 - val_loss: 0.1300 - val_accuracy: 0.9582\n",
      "Epoch 18/200\n",
      "175/177 [============================>.] - ETA: 0s - loss: 0.1285 - accuracy: 0.9536\n",
      "Epoch 00018: val_accuracy did not improve from 0.96102\n",
      "177/177 [==============================] - 1s 8ms/step - loss: 0.1281 - accuracy: 0.9536 - val_loss: 0.1238 - val_accuracy: 0.9546\n",
      "Epoch 19/200\n",
      "173/177 [============================>.] - ETA: 0s - loss: 0.1281 - accuracy: 0.9536\n",
      "Epoch 00019: val_accuracy did not improve from 0.96102\n",
      "177/177 [==============================] - 1s 8ms/step - loss: 0.1271 - accuracy: 0.9538 - val_loss: 0.1454 - val_accuracy: 0.9561\n",
      "Epoch 20/200\n",
      "172/177 [============================>.] - ETA: 0s - loss: 0.1233 - accuracy: 0.9557\n",
      "Epoch 00020: val_accuracy did not improve from 0.96102\n",
      "177/177 [==============================] - 1s 8ms/step - loss: 0.1247 - accuracy: 0.9547 - val_loss: 0.1303 - val_accuracy: 0.9511\n",
      "Epoch 21/200\n",
      "172/177 [============================>.] - ETA: 0s - loss: 0.1154 - accuracy: 0.9608\n",
      "Epoch 00021: val_accuracy did not improve from 0.96102\n",
      "177/177 [==============================] - 1s 8ms/step - loss: 0.1173 - accuracy: 0.9593 - val_loss: 0.1599 - val_accuracy: 0.9497\n",
      "Epoch 22/200\n",
      "173/177 [============================>.] - ETA: 0s - loss: 0.1185 - accuracy: 0.9577\n",
      "Epoch 00022: val_accuracy did not improve from 0.96102\n",
      "177/177 [==============================] - 1s 8ms/step - loss: 0.1185 - accuracy: 0.9581 - val_loss: 0.1298 - val_accuracy: 0.9561\n",
      "Epoch 23/200\n",
      "174/177 [============================>.] - ETA: 0s - loss: 0.1147 - accuracy: 0.9599\n",
      "Epoch 00023: val_accuracy did not improve from 0.96102\n",
      "177/177 [==============================] - 1s 8ms/step - loss: 0.1154 - accuracy: 0.9598 - val_loss: 0.1518 - val_accuracy: 0.9483\n",
      "Epoch 24/200\n",
      "176/177 [============================>.] - ETA: 0s - loss: 0.1115 - accuracy: 0.9620\n",
      "Epoch 00024: val_accuracy did not improve from 0.96102\n",
      "177/177 [==============================] - 1s 8ms/step - loss: 0.1115 - accuracy: 0.9620 - val_loss: 0.1427 - val_accuracy: 0.9511\n",
      "Epoch 25/200\n",
      "173/177 [============================>.] - ETA: 0s - loss: 0.1130 - accuracy: 0.9610\n",
      "Epoch 00025: val_accuracy did not improve from 0.96102\n",
      "177/177 [==============================] - 1s 8ms/step - loss: 0.1130 - accuracy: 0.9607 - val_loss: 0.1352 - val_accuracy: 0.9575\n",
      "Epoch 26/200\n",
      "171/177 [===========================>..] - ETA: 0s - loss: 0.1126 - accuracy: 0.9627\n",
      "Epoch 00026: val_accuracy did not improve from 0.96102\n",
      "177/177 [==============================] - 1s 8ms/step - loss: 0.1117 - accuracy: 0.9630 - val_loss: 0.1213 - val_accuracy: 0.9554\n",
      "Epoch 27/200\n",
      "172/177 [============================>.] - ETA: 0s - loss: 0.1064 - accuracy: 0.9664\n",
      "Epoch 00027: val_accuracy improved from 0.96102 to 0.96173, saving model to /content/drive/My Drive/인공지능 학습관련/covid19_detection_model_new\n",
      "177/177 [==============================] - 1s 8ms/step - loss: 0.1054 - accuracy: 0.9666 - val_loss: 0.1205 - val_accuracy: 0.9617\n",
      "Epoch 28/200\n",
      "172/177 [============================>.] - ETA: 0s - loss: 0.0998 - accuracy: 0.9662\n",
      "Epoch 00028: val_accuracy did not improve from 0.96173\n",
      "177/177 [==============================] - 1s 8ms/step - loss: 0.1004 - accuracy: 0.9658 - val_loss: 0.1294 - val_accuracy: 0.9603\n",
      "Epoch 29/200\n",
      "177/177 [==============================] - ETA: 0s - loss: 0.1045 - accuracy: 0.9650\n",
      "Epoch 00029: val_accuracy did not improve from 0.96173\n",
      "177/177 [==============================] - 1s 8ms/step - loss: 0.1045 - accuracy: 0.9650 - val_loss: 0.1609 - val_accuracy: 0.9518\n",
      "Epoch 30/200\n",
      "170/177 [===========================>..] - ETA: 0s - loss: 0.1026 - accuracy: 0.9640\n",
      "Epoch 00030: val_accuracy did not improve from 0.96173\n",
      "177/177 [==============================] - 1s 8ms/step - loss: 0.1017 - accuracy: 0.9641 - val_loss: 0.1601 - val_accuracy: 0.9497\n",
      "Epoch 31/200\n",
      "171/177 [===========================>..] - ETA: 0s - loss: 0.0996 - accuracy: 0.9647\n",
      "Epoch 00031: val_accuracy did not improve from 0.96173\n",
      "177/177 [==============================] - 1s 8ms/step - loss: 0.1030 - accuracy: 0.9639 - val_loss: 0.1275 - val_accuracy: 0.9596\n",
      "Epoch 32/200\n",
      "173/177 [============================>.] - ETA: 0s - loss: 0.0967 - accuracy: 0.9662\n",
      "Epoch 00032: val_accuracy improved from 0.96173 to 0.96315, saving model to /content/drive/My Drive/인공지능 학습관련/covid19_detection_model_new\n",
      "177/177 [==============================] - 1s 8ms/step - loss: 0.0996 - accuracy: 0.9648 - val_loss: 0.1183 - val_accuracy: 0.9631\n",
      "Epoch 33/200\n",
      "173/177 [============================>.] - ETA: 0s - loss: 0.0987 - accuracy: 0.9653\n",
      "Epoch 00033: val_accuracy did not improve from 0.96315\n",
      "177/177 [==============================] - 1s 8ms/step - loss: 0.0984 - accuracy: 0.9655 - val_loss: 0.1221 - val_accuracy: 0.9575\n",
      "Epoch 34/200\n",
      "172/177 [============================>.] - ETA: 0s - loss: 0.1000 - accuracy: 0.9666\n",
      "Epoch 00034: val_accuracy did not improve from 0.96315\n",
      "177/177 [==============================] - 1s 8ms/step - loss: 0.0995 - accuracy: 0.9666 - val_loss: 0.1201 - val_accuracy: 0.9610\n",
      "Epoch 35/200\n",
      "171/177 [===========================>..] - ETA: 0s - loss: 0.0963 - accuracy: 0.9669\n",
      "Epoch 00035: val_accuracy did not improve from 0.96315\n",
      "177/177 [==============================] - 1s 8ms/step - loss: 0.0952 - accuracy: 0.9673 - val_loss: 0.1216 - val_accuracy: 0.9603\n",
      "Epoch 36/200\n",
      "177/177 [==============================] - ETA: 0s - loss: 0.0977 - accuracy: 0.9651\n",
      "Epoch 00036: val_accuracy did not improve from 0.96315\n",
      "177/177 [==============================] - 1s 8ms/step - loss: 0.0977 - accuracy: 0.9651 - val_loss: 0.1188 - val_accuracy: 0.9610\n",
      "Epoch 37/200\n",
      "174/177 [============================>.] - ETA: 0s - loss: 0.0952 - accuracy: 0.9680\n",
      "Epoch 00037: val_accuracy did not improve from 0.96315\n",
      "177/177 [==============================] - 1s 8ms/step - loss: 0.0973 - accuracy: 0.9681 - val_loss: 0.1414 - val_accuracy: 0.9539\n",
      "Epoch 38/200\n",
      "171/177 [===========================>..] - ETA: 0s - loss: 0.0935 - accuracy: 0.9675\n",
      "Epoch 00038: val_accuracy did not improve from 0.96315\n",
      "177/177 [==============================] - 1s 8ms/step - loss: 0.0929 - accuracy: 0.9676 - val_loss: 0.1267 - val_accuracy: 0.9561\n",
      "Epoch 39/200\n",
      "172/177 [============================>.] - ETA: 0s - loss: 0.0898 - accuracy: 0.9688\n",
      "Epoch 00039: val_accuracy did not improve from 0.96315\n",
      "177/177 [==============================] - 1s 8ms/step - loss: 0.0902 - accuracy: 0.9687 - val_loss: 0.1332 - val_accuracy: 0.9582\n",
      "Epoch 40/200\n",
      "173/177 [============================>.] - ETA: 0s - loss: 0.0878 - accuracy: 0.9715\n",
      "Epoch 00040: val_accuracy did not improve from 0.96315\n",
      "177/177 [==============================] - 1s 8ms/step - loss: 0.0884 - accuracy: 0.9710 - val_loss: 0.1483 - val_accuracy: 0.9532\n",
      "Epoch 41/200\n",
      "174/177 [============================>.] - ETA: 0s - loss: 0.0875 - accuracy: 0.9709\n",
      "Epoch 00041: val_accuracy did not improve from 0.96315\n",
      "177/177 [==============================] - 1s 8ms/step - loss: 0.0870 - accuracy: 0.9712 - val_loss: 0.1273 - val_accuracy: 0.9554\n",
      "Epoch 42/200\n",
      "176/177 [============================>.] - ETA: 0s - loss: 0.0877 - accuracy: 0.9691\n",
      "Epoch 00042: val_accuracy did not improve from 0.96315\n",
      "177/177 [==============================] - 1s 8ms/step - loss: 0.0874 - accuracy: 0.9692 - val_loss: 0.1443 - val_accuracy: 0.9546\n",
      "Epoch 43/200\n",
      "176/177 [============================>.] - ETA: 0s - loss: 0.0903 - accuracy: 0.9689\n",
      "Epoch 00043: val_accuracy did not improve from 0.96315\n",
      "177/177 [==============================] - 1s 8ms/step - loss: 0.0912 - accuracy: 0.9687 - val_loss: 0.1237 - val_accuracy: 0.9575\n",
      "Epoch 44/200\n",
      "175/177 [============================>.] - ETA: 0s - loss: 0.0889 - accuracy: 0.9675\n",
      "Epoch 00044: val_accuracy did not improve from 0.96315\n",
      "177/177 [==============================] - 1s 8ms/step - loss: 0.0889 - accuracy: 0.9674 - val_loss: 0.1306 - val_accuracy: 0.9554\n",
      "Epoch 45/200\n",
      "170/177 [===========================>..] - ETA: 0s - loss: 0.0845 - accuracy: 0.9737\n",
      "Epoch 00045: val_accuracy did not improve from 0.96315\n",
      "177/177 [==============================] - 1s 8ms/step - loss: 0.0857 - accuracy: 0.9731 - val_loss: 0.1242 - val_accuracy: 0.9589\n",
      "Epoch 46/200\n",
      "170/177 [===========================>..] - ETA: 0s - loss: 0.0813 - accuracy: 0.9721\n",
      "Epoch 00046: val_accuracy did not improve from 0.96315\n",
      "177/177 [==============================] - 1s 8ms/step - loss: 0.0831 - accuracy: 0.9715 - val_loss: 0.1165 - val_accuracy: 0.9624\n",
      "Epoch 47/200\n",
      "173/177 [============================>.] - ETA: 0s - loss: 0.0805 - accuracy: 0.9724\n",
      "Epoch 00047: val_accuracy did not improve from 0.96315\n",
      "177/177 [==============================] - 1s 8ms/step - loss: 0.0816 - accuracy: 0.9722 - val_loss: 0.1239 - val_accuracy: 0.9596\n",
      "Epoch 48/200\n",
      "176/177 [============================>.] - ETA: 0s - loss: 0.0852 - accuracy: 0.9712\n",
      "Epoch 00048: val_accuracy did not improve from 0.96315\n",
      "177/177 [==============================] - 1s 8ms/step - loss: 0.0850 - accuracy: 0.9713 - val_loss: 0.1217 - val_accuracy: 0.9603\n",
      "Epoch 49/200\n",
      "176/177 [============================>.] - ETA: 0s - loss: 0.0789 - accuracy: 0.9718\n",
      "Epoch 00049: val_accuracy did not improve from 0.96315\n",
      "177/177 [==============================] - 1s 8ms/step - loss: 0.0787 - accuracy: 0.9719 - val_loss: 0.1165 - val_accuracy: 0.9603\n",
      "Epoch 50/200\n",
      "172/177 [============================>.] - ETA: 0s - loss: 0.0793 - accuracy: 0.9737\n",
      "Epoch 00050: val_accuracy did not improve from 0.96315\n",
      "177/177 [==============================] - 1s 8ms/step - loss: 0.0795 - accuracy: 0.9735 - val_loss: 0.1385 - val_accuracy: 0.9596\n",
      "Epoch 51/200\n",
      "177/177 [==============================] - ETA: 0s - loss: 0.0787 - accuracy: 0.9735\n",
      "Epoch 00051: val_accuracy did not improve from 0.96315\n",
      "177/177 [==============================] - 1s 8ms/step - loss: 0.0787 - accuracy: 0.9735 - val_loss: 0.1372 - val_accuracy: 0.9610\n",
      "Epoch 52/200\n",
      "174/177 [============================>.] - ETA: 0s - loss: 0.0755 - accuracy: 0.9752\n",
      "Epoch 00052: val_accuracy did not improve from 0.96315\n",
      "177/177 [==============================] - 1s 8ms/step - loss: 0.0746 - accuracy: 0.9756 - val_loss: 0.1197 - val_accuracy: 0.9596\n",
      "Epoch 53/200\n",
      "173/177 [============================>.] - ETA: 0s - loss: 0.0790 - accuracy: 0.9724\n",
      "Epoch 00053: val_accuracy did not improve from 0.96315\n",
      "177/177 [==============================] - 1s 8ms/step - loss: 0.0780 - accuracy: 0.9727 - val_loss: 0.1236 - val_accuracy: 0.9610\n",
      "Epoch 54/200\n",
      "170/177 [===========================>..] - ETA: 0s - loss: 0.0768 - accuracy: 0.9719\n",
      "Epoch 00054: val_accuracy did not improve from 0.96315\n",
      "177/177 [==============================] - 1s 8ms/step - loss: 0.0773 - accuracy: 0.9717 - val_loss: 0.1808 - val_accuracy: 0.9454\n",
      "Epoch 55/200\n",
      "171/177 [===========================>..] - ETA: 0s - loss: 0.0777 - accuracy: 0.9740\n",
      "Epoch 00055: val_accuracy did not improve from 0.96315\n",
      "177/177 [==============================] - 1s 8ms/step - loss: 0.0770 - accuracy: 0.9743 - val_loss: 0.1365 - val_accuracy: 0.9575\n",
      "Epoch 56/200\n",
      "172/177 [============================>.] - ETA: 0s - loss: 0.0773 - accuracy: 0.9713\n",
      "Epoch 00056: val_accuracy did not improve from 0.96315\n",
      "177/177 [==============================] - 1s 8ms/step - loss: 0.0768 - accuracy: 0.9713 - val_loss: 0.1209 - val_accuracy: 0.9603\n",
      "Epoch 57/200\n",
      "174/177 [============================>.] - ETA: 0s - loss: 0.0725 - accuracy: 0.9729\n",
      "Epoch 00057: val_accuracy did not improve from 0.96315\n",
      "177/177 [==============================] - 1s 8ms/step - loss: 0.0722 - accuracy: 0.9729 - val_loss: 0.1351 - val_accuracy: 0.9582\n",
      "Epoch 58/200\n",
      "170/177 [===========================>..] - ETA: 0s - loss: 0.0756 - accuracy: 0.9757\n",
      "Epoch 00058: val_accuracy did not improve from 0.96315\n",
      "177/177 [==============================] - 1s 8ms/step - loss: 0.0745 - accuracy: 0.9761 - val_loss: 0.1260 - val_accuracy: 0.9610\n",
      "Epoch 59/200\n",
      "175/177 [============================>.] - ETA: 0s - loss: 0.0765 - accuracy: 0.9729\n",
      "Epoch 00059: val_accuracy did not improve from 0.96315\n",
      "177/177 [==============================] - 1s 8ms/step - loss: 0.0761 - accuracy: 0.9731 - val_loss: 0.1432 - val_accuracy: 0.9554\n",
      "Epoch 60/200\n",
      "173/177 [============================>.] - ETA: 0s - loss: 0.0718 - accuracy: 0.9765\n",
      "Epoch 00060: val_accuracy did not improve from 0.96315\n",
      "177/177 [==============================] - 1s 8ms/step - loss: 0.0739 - accuracy: 0.9765 - val_loss: 0.1441 - val_accuracy: 0.9568\n",
      "Epoch 61/200\n",
      "174/177 [============================>.] - ETA: 0s - loss: 0.0718 - accuracy: 0.9774\n",
      "Epoch 00061: val_accuracy did not improve from 0.96315\n",
      "177/177 [==============================] - 1s 8ms/step - loss: 0.0715 - accuracy: 0.9773 - val_loss: 0.1201 - val_accuracy: 0.9624\n",
      "Epoch 62/200\n",
      "175/177 [============================>.] - ETA: 0s - loss: 0.0726 - accuracy: 0.9729\n",
      "Epoch 00062: val_accuracy did not improve from 0.96315\n",
      "177/177 [==============================] - 1s 8ms/step - loss: 0.0722 - accuracy: 0.9729 - val_loss: 0.1235 - val_accuracy: 0.9617\n",
      "Epoch 63/200\n",
      "173/177 [============================>.] - ETA: 0s - loss: 0.0706 - accuracy: 0.9769\n",
      "Epoch 00063: val_accuracy did not improve from 0.96315\n",
      "177/177 [==============================] - 1s 8ms/step - loss: 0.0696 - accuracy: 0.9773 - val_loss: 0.1239 - val_accuracy: 0.9610\n",
      "Epoch 64/200\n",
      "173/177 [============================>.] - ETA: 0s - loss: 0.0700 - accuracy: 0.9774\n",
      "Epoch 00064: val_accuracy did not improve from 0.96315\n",
      "177/177 [==============================] - 1s 8ms/step - loss: 0.0698 - accuracy: 0.9773 - val_loss: 0.1239 - val_accuracy: 0.9610\n",
      "Epoch 65/200\n",
      "173/177 [============================>.] - ETA: 0s - loss: 0.0690 - accuracy: 0.9742\n",
      "Epoch 00065: val_accuracy did not improve from 0.96315\n",
      "177/177 [==============================] - 1s 8ms/step - loss: 0.0684 - accuracy: 0.9743 - val_loss: 0.1308 - val_accuracy: 0.9610\n",
      "Epoch 66/200\n",
      "173/177 [============================>.] - ETA: 0s - loss: 0.0667 - accuracy: 0.9785\n",
      "Epoch 00066: val_accuracy did not improve from 0.96315\n",
      "177/177 [==============================] - 1s 8ms/step - loss: 0.0664 - accuracy: 0.9786 - val_loss: 0.1302 - val_accuracy: 0.9582\n",
      "Epoch 67/200\n",
      "173/177 [============================>.] - ETA: 0s - loss: 0.0665 - accuracy: 0.9778\n",
      "Epoch 00067: val_accuracy did not improve from 0.96315\n",
      "177/177 [==============================] - 1s 8ms/step - loss: 0.0677 - accuracy: 0.9773 - val_loss: 0.1500 - val_accuracy: 0.9525\n",
      "Epoch 68/200\n",
      "173/177 [============================>.] - ETA: 0s - loss: 0.0668 - accuracy: 0.9785\n",
      "Epoch 00068: val_accuracy did not improve from 0.96315\n",
      "177/177 [==============================] - 1s 8ms/step - loss: 0.0658 - accuracy: 0.9789 - val_loss: 0.1331 - val_accuracy: 0.9617\n",
      "Epoch 69/200\n",
      "177/177 [==============================] - ETA: 0s - loss: 0.0640 - accuracy: 0.9786\n",
      "Epoch 00069: val_accuracy did not improve from 0.96315\n",
      "177/177 [==============================] - 1s 8ms/step - loss: 0.0640 - accuracy: 0.9786 - val_loss: 0.1263 - val_accuracy: 0.9603\n",
      "Epoch 70/200\n",
      "175/177 [============================>.] - ETA: 0s - loss: 0.0624 - accuracy: 0.9787\n",
      "Epoch 00070: val_accuracy did not improve from 0.96315\n",
      "177/177 [==============================] - 1s 8ms/step - loss: 0.0626 - accuracy: 0.9788 - val_loss: 0.1499 - val_accuracy: 0.9554\n",
      "Epoch 71/200\n",
      "176/177 [============================>.] - ETA: 0s - loss: 0.0637 - accuracy: 0.9785\n",
      "Epoch 00071: val_accuracy did not improve from 0.96315\n",
      "177/177 [==============================] - 1s 8ms/step - loss: 0.0635 - accuracy: 0.9786 - val_loss: 0.1230 - val_accuracy: 0.9631\n",
      "Epoch 72/200\n",
      "174/177 [============================>.] - ETA: 0s - loss: 0.0643 - accuracy: 0.9804\n",
      "Epoch 00072: val_accuracy did not improve from 0.96315\n",
      "177/177 [==============================] - 1s 8ms/step - loss: 0.0637 - accuracy: 0.9807 - val_loss: 0.1361 - val_accuracy: 0.9589\n",
      "Epoch 73/200\n",
      "174/177 [============================>.] - ETA: 0s - loss: 0.0664 - accuracy: 0.9784\n",
      "Epoch 00073: val_accuracy did not improve from 0.96315\n",
      "177/177 [==============================] - 1s 8ms/step - loss: 0.0667 - accuracy: 0.9786 - val_loss: 0.1305 - val_accuracy: 0.9582\n",
      "Epoch 74/200\n",
      "172/177 [============================>.] - ETA: 0s - loss: 0.0651 - accuracy: 0.9775\n",
      "Epoch 00074: val_accuracy did not improve from 0.96315\n",
      "177/177 [==============================] - 1s 8ms/step - loss: 0.0650 - accuracy: 0.9775 - val_loss: 0.1244 - val_accuracy: 0.9610\n",
      "Epoch 75/200\n",
      "171/177 [===========================>..] - ETA: 0s - loss: 0.0592 - accuracy: 0.9806\n",
      "Epoch 00075: val_accuracy did not improve from 0.96315\n",
      "177/177 [==============================] - 1s 8ms/step - loss: 0.0600 - accuracy: 0.9802 - val_loss: 0.1309 - val_accuracy: 0.9617\n",
      "Epoch 76/200\n",
      "173/177 [============================>.] - ETA: 0s - loss: 0.0594 - accuracy: 0.9812\n",
      "Epoch 00076: val_accuracy did not improve from 0.96315\n",
      "177/177 [==============================] - 1s 8ms/step - loss: 0.0587 - accuracy: 0.9814 - val_loss: 0.1381 - val_accuracy: 0.9603\n",
      "Epoch 77/200\n",
      "170/177 [===========================>..] - ETA: 0s - loss: 0.0625 - accuracy: 0.9798\n",
      "Epoch 00077: val_accuracy did not improve from 0.96315\n",
      "177/177 [==============================] - 1s 8ms/step - loss: 0.0617 - accuracy: 0.9796 - val_loss: 0.1279 - val_accuracy: 0.9610\n",
      "Epoch 78/200\n",
      "172/177 [============================>.] - ETA: 0s - loss: 0.0627 - accuracy: 0.9806\n",
      "Epoch 00078: val_accuracy did not improve from 0.96315\n",
      "177/177 [==============================] - 1s 8ms/step - loss: 0.0620 - accuracy: 0.9809 - val_loss: 0.1350 - val_accuracy: 0.9596\n",
      "Epoch 79/200\n",
      "174/177 [============================>.] - ETA: 0s - loss: 0.0603 - accuracy: 0.9795\n",
      "Epoch 00079: val_accuracy did not improve from 0.96315\n",
      "177/177 [==============================] - 1s 8ms/step - loss: 0.0610 - accuracy: 0.9795 - val_loss: 0.1513 - val_accuracy: 0.9561\n",
      "Epoch 80/200\n",
      "174/177 [============================>.] - ETA: 0s - loss: 0.0602 - accuracy: 0.9802\n",
      "Epoch 00080: val_accuracy did not improve from 0.96315\n",
      "177/177 [==============================] - 1s 8ms/step - loss: 0.0598 - accuracy: 0.9805 - val_loss: 0.1250 - val_accuracy: 0.9617\n",
      "Epoch 81/200\n",
      "172/177 [============================>.] - ETA: 0s - loss: 0.0560 - accuracy: 0.9809\n",
      "Epoch 00081: val_accuracy did not improve from 0.96315\n",
      "177/177 [==============================] - 1s 8ms/step - loss: 0.0594 - accuracy: 0.9805 - val_loss: 0.1380 - val_accuracy: 0.9568\n",
      "Epoch 82/200\n",
      "173/177 [============================>.] - ETA: 0s - loss: 0.0591 - accuracy: 0.9801\n",
      "Epoch 00082: val_accuracy did not improve from 0.96315\n",
      "177/177 [==============================] - 1s 8ms/step - loss: 0.0587 - accuracy: 0.9804 - val_loss: 0.1388 - val_accuracy: 0.9589\n",
      "Epoch 83/200\n",
      "172/177 [============================>.] - ETA: 0s - loss: 0.0583 - accuracy: 0.9816\n",
      "Epoch 00083: val_accuracy did not improve from 0.96315\n",
      "177/177 [==============================] - 1s 8ms/step - loss: 0.0577 - accuracy: 0.9816 - val_loss: 0.1381 - val_accuracy: 0.9582\n",
      "Epoch 84/200\n",
      "176/177 [============================>.] - ETA: 0s - loss: 0.0578 - accuracy: 0.9815\n",
      "Epoch 00084: val_accuracy did not improve from 0.96315\n",
      "177/177 [==============================] - 1s 8ms/step - loss: 0.0576 - accuracy: 0.9816 - val_loss: 0.1577 - val_accuracy: 0.9568\n",
      "Epoch 85/200\n",
      "175/177 [============================>.] - ETA: 0s - loss: 0.0577 - accuracy: 0.9811\n",
      "Epoch 00085: val_accuracy did not improve from 0.96315\n",
      "177/177 [==============================] - 1s 8ms/step - loss: 0.0578 - accuracy: 0.9809 - val_loss: 0.1430 - val_accuracy: 0.9603\n",
      "Epoch 86/200\n",
      "170/177 [===========================>..] - ETA: 0s - loss: 0.0535 - accuracy: 0.9816\n",
      "Epoch 00086: val_accuracy did not improve from 0.96315\n",
      "177/177 [==============================] - 2s 9ms/step - loss: 0.0542 - accuracy: 0.9816 - val_loss: 0.1516 - val_accuracy: 0.9617\n",
      "Epoch 87/200\n",
      "175/177 [============================>.] - ETA: 0s - loss: 0.0551 - accuracy: 0.9818\n",
      "Epoch 00087: val_accuracy did not improve from 0.96315\n",
      "177/177 [==============================] - 2s 8ms/step - loss: 0.0550 - accuracy: 0.9818 - val_loss: 0.1318 - val_accuracy: 0.9603\n",
      "Epoch 88/200\n",
      "172/177 [============================>.] - ETA: 0s - loss: 0.0539 - accuracy: 0.9809\n",
      "Epoch 00088: val_accuracy did not improve from 0.96315\n",
      "177/177 [==============================] - 2s 9ms/step - loss: 0.0556 - accuracy: 0.9804 - val_loss: 0.1709 - val_accuracy: 0.9518\n",
      "Epoch 89/200\n",
      "170/177 [===========================>..] - ETA: 0s - loss: 0.0565 - accuracy: 0.9825\n",
      "Epoch 00089: val_accuracy did not improve from 0.96315\n",
      "177/177 [==============================] - 2s 9ms/step - loss: 0.0564 - accuracy: 0.9827 - val_loss: 0.1269 - val_accuracy: 0.9631\n",
      "Epoch 90/200\n",
      "171/177 [===========================>..] - ETA: 0s - loss: 0.0520 - accuracy: 0.9806\n",
      "Epoch 00090: val_accuracy did not improve from 0.96315\n",
      "177/177 [==============================] - 2s 9ms/step - loss: 0.0532 - accuracy: 0.9804 - val_loss: 0.1311 - val_accuracy: 0.9631\n",
      "Epoch 91/200\n",
      "172/177 [============================>.] - ETA: 0s - loss: 0.0520 - accuracy: 0.9831\n",
      "Epoch 00091: val_accuracy did not improve from 0.96315\n",
      "177/177 [==============================] - 2s 9ms/step - loss: 0.0516 - accuracy: 0.9832 - val_loss: 0.1422 - val_accuracy: 0.9596\n",
      "Epoch 92/200\n",
      "170/177 [===========================>..] - ETA: 0s - loss: 0.0516 - accuracy: 0.9811\n",
      "Epoch 00092: val_accuracy did not improve from 0.96315\n",
      "177/177 [==============================] - 1s 8ms/step - loss: 0.0510 - accuracy: 0.9809 - val_loss: 0.1349 - val_accuracy: 0.9631\n",
      "Epoch 93/200\n",
      "173/177 [============================>.] - ETA: 0s - loss: 0.0564 - accuracy: 0.9827\n",
      "Epoch 00093: val_accuracy did not improve from 0.96315\n",
      "177/177 [==============================] - 1s 8ms/step - loss: 0.0564 - accuracy: 0.9825 - val_loss: 0.1396 - val_accuracy: 0.9610\n",
      "Epoch 94/200\n",
      "175/177 [============================>.] - ETA: 0s - loss: 0.0526 - accuracy: 0.9841\n",
      "Epoch 00094: val_accuracy did not improve from 0.96315\n",
      "177/177 [==============================] - 1s 8ms/step - loss: 0.0522 - accuracy: 0.9843 - val_loss: 0.1362 - val_accuracy: 0.9631\n",
      "Epoch 95/200\n",
      "171/177 [===========================>..] - ETA: 0s - loss: 0.0510 - accuracy: 0.9832\n",
      "Epoch 00095: val_accuracy did not improve from 0.96315\n",
      "177/177 [==============================] - 1s 8ms/step - loss: 0.0522 - accuracy: 0.9823 - val_loss: 0.1369 - val_accuracy: 0.9596\n",
      "Epoch 96/200\n",
      "177/177 [==============================] - ETA: 0s - loss: 0.0530 - accuracy: 0.9820\n",
      "Epoch 00096: val_accuracy did not improve from 0.96315\n",
      "177/177 [==============================] - 1s 8ms/step - loss: 0.0530 - accuracy: 0.9820 - val_loss: 0.1634 - val_accuracy: 0.9582\n",
      "Epoch 97/200\n",
      "174/177 [============================>.] - ETA: 0s - loss: 0.0535 - accuracy: 0.9840\n",
      "Epoch 00097: val_accuracy did not improve from 0.96315\n",
      "177/177 [==============================] - 1s 8ms/step - loss: 0.0530 - accuracy: 0.9843 - val_loss: 0.1679 - val_accuracy: 0.9539\n",
      "Epoch 98/200\n",
      "175/177 [============================>.] - ETA: 0s - loss: 0.0506 - accuracy: 0.9830\n",
      "Epoch 00098: val_accuracy did not improve from 0.96315\n",
      "177/177 [==============================] - 1s 8ms/step - loss: 0.0507 - accuracy: 0.9830 - val_loss: 0.1337 - val_accuracy: 0.9624\n",
      "Epoch 99/200\n",
      "177/177 [==============================] - ETA: 0s - loss: 0.0522 - accuracy: 0.9814\n",
      "Epoch 00099: val_accuracy did not improve from 0.96315\n",
      "177/177 [==============================] - 1s 8ms/step - loss: 0.0522 - accuracy: 0.9814 - val_loss: 0.1310 - val_accuracy: 0.9610\n",
      "Epoch 100/200\n",
      "171/177 [===========================>..] - ETA: 0s - loss: 0.0511 - accuracy: 0.9821\n",
      "Epoch 00100: val_accuracy did not improve from 0.96315\n",
      "177/177 [==============================] - 1s 8ms/step - loss: 0.0496 - accuracy: 0.9827 - val_loss: 0.1385 - val_accuracy: 0.9631\n",
      "Epoch 101/200\n",
      "169/177 [===========================>..] - ETA: 0s - loss: 0.0456 - accuracy: 0.9848\n",
      "Epoch 00101: val_accuracy did not improve from 0.96315\n",
      "177/177 [==============================] - 1s 8ms/step - loss: 0.0461 - accuracy: 0.9846 - val_loss: 0.1369 - val_accuracy: 0.9617\n",
      "Epoch 102/200\n",
      "170/177 [===========================>..] - ETA: 0s - loss: 0.0527 - accuracy: 0.9825\n",
      "Epoch 00102: val_accuracy did not improve from 0.96315\n",
      "177/177 [==============================] - 1s 8ms/step - loss: 0.0512 - accuracy: 0.9830 - val_loss: 0.1330 - val_accuracy: 0.9624\n",
      "Epoch 103/200\n",
      "176/177 [============================>.] - ETA: 0s - loss: 0.0508 - accuracy: 0.9837\n",
      "Epoch 00103: val_accuracy did not improve from 0.96315\n",
      "177/177 [==============================] - 1s 8ms/step - loss: 0.0507 - accuracy: 0.9837 - val_loss: 0.1316 - val_accuracy: 0.9603\n",
      "Epoch 104/200\n",
      "172/177 [============================>.] - ETA: 0s - loss: 0.0434 - accuracy: 0.9864\n",
      "Epoch 00104: val_accuracy did not improve from 0.96315\n",
      "177/177 [==============================] - 1s 8ms/step - loss: 0.0425 - accuracy: 0.9867 - val_loss: 0.1481 - val_accuracy: 0.9596\n",
      "Epoch 105/200\n",
      "173/177 [============================>.] - ETA: 0s - loss: 0.0461 - accuracy: 0.9846\n",
      "Epoch 00105: val_accuracy did not improve from 0.96315\n",
      "177/177 [==============================] - 1s 8ms/step - loss: 0.0470 - accuracy: 0.9844 - val_loss: 0.1319 - val_accuracy: 0.9610\n",
      "Epoch 106/200\n",
      "169/177 [===========================>..] - ETA: 0s - loss: 0.0494 - accuracy: 0.9841\n",
      "Epoch 00106: val_accuracy did not improve from 0.96315\n",
      "177/177 [==============================] - 1s 8ms/step - loss: 0.0483 - accuracy: 0.9844 - val_loss: 0.1420 - val_accuracy: 0.9603\n",
      "Epoch 107/200\n",
      "175/177 [============================>.] - ETA: 0s - loss: 0.0433 - accuracy: 0.9861\n",
      "Epoch 00107: val_accuracy did not improve from 0.96315\n",
      "177/177 [==============================] - 1s 8ms/step - loss: 0.0431 - accuracy: 0.9862 - val_loss: 0.1505 - val_accuracy: 0.9582\n",
      "Epoch 108/200\n",
      "176/177 [============================>.] - ETA: 0s - loss: 0.0480 - accuracy: 0.9842\n",
      "Epoch 00108: val_accuracy did not improve from 0.96315\n",
      "177/177 [==============================] - 1s 8ms/step - loss: 0.0479 - accuracy: 0.9843 - val_loss: 0.1466 - val_accuracy: 0.9631\n",
      "Epoch 109/200\n",
      "174/177 [============================>.] - ETA: 0s - loss: 0.0410 - accuracy: 0.9869\n",
      "Epoch 00109: val_accuracy did not improve from 0.96315\n",
      "177/177 [==============================] - 1s 8ms/step - loss: 0.0410 - accuracy: 0.9867 - val_loss: 0.1685 - val_accuracy: 0.9582\n",
      "Epoch 110/200\n",
      "176/177 [============================>.] - ETA: 0s - loss: 0.0495 - accuracy: 0.9854\n",
      "Epoch 00110: val_accuracy did not improve from 0.96315\n",
      "177/177 [==============================] - 1s 8ms/step - loss: 0.0495 - accuracy: 0.9853 - val_loss: 0.1418 - val_accuracy: 0.9596\n",
      "Epoch 111/200\n",
      "175/177 [============================>.] - ETA: 0s - loss: 0.0398 - accuracy: 0.9877\n",
      "Epoch 00111: val_accuracy did not improve from 0.96315\n",
      "177/177 [==============================] - 1s 8ms/step - loss: 0.0396 - accuracy: 0.9878 - val_loss: 0.1480 - val_accuracy: 0.9610\n",
      "Epoch 112/200\n",
      "176/177 [============================>.] - ETA: 0s - loss: 0.0460 - accuracy: 0.9831\n",
      "Epoch 00112: val_accuracy did not improve from 0.96315\n",
      "177/177 [==============================] - 1s 8ms/step - loss: 0.0459 - accuracy: 0.9832 - val_loss: 0.1494 - val_accuracy: 0.9589\n",
      "Epoch 113/200\n",
      "173/177 [============================>.] - ETA: 0s - loss: 0.0454 - accuracy: 0.9855\n",
      "Epoch 00113: val_accuracy did not improve from 0.96315\n",
      "177/177 [==============================] - 1s 8ms/step - loss: 0.0451 - accuracy: 0.9857 - val_loss: 0.1474 - val_accuracy: 0.9596\n",
      "Epoch 114/200\n",
      "171/177 [===========================>..] - ETA: 0s - loss: 0.0441 - accuracy: 0.9867\n",
      "Epoch 00114: val_accuracy did not improve from 0.96315\n",
      "177/177 [==============================] - 1s 8ms/step - loss: 0.0440 - accuracy: 0.9866 - val_loss: 0.1434 - val_accuracy: 0.9624\n",
      "Epoch 115/200\n",
      "175/177 [============================>.] - ETA: 0s - loss: 0.0436 - accuracy: 0.9857\n",
      "Epoch 00115: val_accuracy did not improve from 0.96315\n",
      "177/177 [==============================] - 1s 8ms/step - loss: 0.0433 - accuracy: 0.9858 - val_loss: 0.1604 - val_accuracy: 0.9568\n",
      "Epoch 116/200\n",
      "176/177 [============================>.] - ETA: 0s - loss: 0.0442 - accuracy: 0.9853\n",
      "Epoch 00116: val_accuracy did not improve from 0.96315\n",
      "177/177 [==============================] - 1s 8ms/step - loss: 0.0444 - accuracy: 0.9851 - val_loss: 0.1493 - val_accuracy: 0.9575\n",
      "Epoch 117/200\n",
      "177/177 [==============================] - ETA: 0s - loss: 0.0431 - accuracy: 0.9855\n",
      "Epoch 00117: val_accuracy did not improve from 0.96315\n",
      "177/177 [==============================] - 1s 8ms/step - loss: 0.0431 - accuracy: 0.9855 - val_loss: 0.1561 - val_accuracy: 0.9624\n",
      "Epoch 118/200\n",
      "176/177 [============================>.] - ETA: 0s - loss: 0.0439 - accuracy: 0.9863\n",
      "Epoch 00118: val_accuracy improved from 0.96315 to 0.96456, saving model to /content/drive/My Drive/인공지능 학습관련/covid19_detection_model_new\n",
      "177/177 [==============================] - 1s 8ms/step - loss: 0.0439 - accuracy: 0.9864 - val_loss: 0.1424 - val_accuracy: 0.9646\n",
      "Epoch 119/200\n",
      "177/177 [==============================] - ETA: 0s - loss: 0.0401 - accuracy: 0.9871\n",
      "Epoch 00119: val_accuracy did not improve from 0.96456\n",
      "177/177 [==============================] - 1s 8ms/step - loss: 0.0401 - accuracy: 0.9871 - val_loss: 0.1489 - val_accuracy: 0.9596\n",
      "Epoch 00119: early stopping\n",
      "Model: \"functional_5\"\n",
      "_________________________________________________________________\n",
      "Layer (type)                 Output Shape              Param #   \n",
      "=================================================================\n",
      "input_4 (InputLayer)         [(None, None, None, 1536) 0         \n",
      "_________________________________________________________________\n",
      "global_average_pooling2d_2 ( (None, 1536)              0         \n",
      "_________________________________________________________________\n",
      "dense_4 (Dense)              (None, 512)               786944    \n",
      "_________________________________________________________________\n",
      "dropout_2 (Dropout)          (None, 512)               0         \n",
      "_________________________________________________________________\n",
      "dense_5 (Dense)              (None, 3)                 1539      \n",
      "=================================================================\n",
      "Total params: 788,483\n",
      "Trainable params: 788,483\n",
      "Non-trainable params: 0\n",
      "_________________________________________________________________\n"
     ]
    }
   ],
   "source": [
    "# Make Classifier Model\n",
    "def create_model():\n",
    "    input = Input(shape=feature_model.output.shape[1:])\n",
    "\n",
    "    x = GlobalAveragePooling2D()(input)\n",
    "\n",
    "    x = Dense(512, activation='relu')(x)\n",
    "\n",
    "    x = tf.keras.layers.Dropout(0.6)(x)\n",
    "\n",
    "    predictions = Dense(3, activation='softmax')(x)\n",
    "\n",
    "    model = Model(inputs=input, outputs=predictions)\n",
    "\n",
    "    model.compile(tf.optimizers.RMSprop(0.0001), \n",
    "                loss = 'categorical_crossentropy',\n",
    "                metrics=['accuracy'])\n",
    "    \n",
    "    return model\n",
    "\n",
    "\n",
    "# 모델 객체를 만듬\n",
    "model = create_model()\n",
    "\n",
    "checkpoint_path = '/content/drive/My Drive/인공지능 학습관련/covid19_detection_model_new'\n",
    "\n",
    "cp = ModelCheckpoint(filepath=checkpoint_path,\n",
    "                                save_weights_only=True,\n",
    "                                save_best_only=True,\n",
    "                                monitor='val_accuracy',\n",
    "                                verbose=1)\n",
    "                    \n",
    "es = EarlyStopping(patience=70, verbose=1)\n",
    "history = model.fit(train_features, train_Y, \n",
    "                    validation_data=(valid_features, valid_Y),\n",
    "                    epochs = 200,\n",
    "                    batch_size = 32,\n",
    "                    callbacks=[es,cp])\n",
    "model.summary()"
   ]
  },
  {
   "cell_type": "code",
   "execution_count": null,
   "metadata": {
    "id": "yAjWM50uN7Yc"
   },
   "outputs": [],
   "source": [
    "model.save('/content/drive/My Drive/인공지능 학습관련/covid_model_size299_new2.h5')"
   ]
  },
  {
   "cell_type": "code",
   "execution_count": null,
   "metadata": {
    "colab": {
     "base_uri": "https://localhost:8080/",
     "height": 573
    },
    "executionInfo": {
     "elapsed": 1037,
     "status": "ok",
     "timestamp": 1603281851732,
     "user": {
      "displayName": "하얀토마토",
      "photoUrl": "https://lh3.googleusercontent.com/a-/AOh14Gg6vDBrxCTQgLfR3k4Ki87kEMHbAng403bLeTrH=s64",
      "userId": "01056407583135415771"
     },
     "user_tz": -540
    },
    "id": "y85y-p1xtQgR",
    "outputId": "8384efb6-53f7-4a6c-82d6-e3543b1bf8d9"
   },
   "outputs": [
    {
     "data": {
      "image/png": "[encoded data removed]",
      "text/plain": [
       "<Figure size 432x288 with 1 Axes>"
      ]
     },
     "metadata": {
      "needs_background": "light",
      "tags": []
     },
     "output_type": "display_data"
    },
    {
     "data": {
      "image/png": "[encoded data removed]",
      "text/plain": [
       "<Figure size 432x288 with 1 Axes>"
      ]
     },
     "metadata": {
      "needs_background": "light",
      "tags": []
     },
     "output_type": "display_data"
    }
   ],
   "source": [
    "# 모델 acc/loss 그래프\n",
    "\n",
    "## summarize history for accuracy\n",
    "plt.plot(history.history['accuracy'])\n",
    "plt.plot(history.history['val_accuracy'])\n",
    "plt.title('model accuracy')\n",
    "plt.ylabel('accuracy')\n",
    "plt.xlabel('epoch')\n",
    "plt.legend(['train', 'test'], loc='best')\n",
    "plt.show()\n",
    "## summarize history for loss\n",
    "plt.plot(history.history['loss'])\n",
    "plt.plot(history.history['val_loss'])\n",
    "plt.title('model loss')\n",
    "plt.ylabel('loss')\n",
    "plt.xlabel('epoch')\n",
    "plt.legend(['train', 'test'], loc='best')\n",
    "plt.show()"
   ]
  },
  {
   "cell_type": "code",
   "execution_count": null,
   "metadata": {
    "colab": {
     "base_uri": "https://localhost:8080/",
     "height": 369
    },
    "executionInfo": {
     "elapsed": 137668,
     "status": "ok",
     "timestamp": 1603271418679,
     "user": {
      "displayName": "하얀토마토",
      "photoUrl": "https://lh3.googleusercontent.com/a-/AOh14Gg6vDBrxCTQgLfR3k4Ki87kEMHbAng403bLeTrH=s64",
      "userId": "01056407583135415771"
     },
     "user_tz": -540
    },
    "id": "vv4cEUvQOny7",
    "outputId": "6990fd70-ddab-416a-ed9e-8a54ef71b8a6"
   },
   "outputs": [
    {
     "name": "stdout",
     "output_type": "stream",
     "text": [
      "Model: \"functional_3\"\n",
      "_________________________________________________________________\n",
      "Layer (type)                 Output Shape              Param #   \n",
      "=================================================================\n",
      "input_3 (InputLayer)         [(None, None, None, 1536) 0         \n",
      "_________________________________________________________________\n",
      "batch_normalization_204 (Bat (None, None, None, 1536)  6144      \n",
      "_________________________________________________________________\n",
      "global_average_pooling2d_1 ( (None, 1536)              0         \n",
      "_________________________________________________________________\n",
      "dense_2 (Dense)              (None, 512)               786944    \n",
      "_________________________________________________________________\n",
      "dropout_1 (Dropout)          (None, 512)               0         \n",
      "_________________________________________________________________\n",
      "dense_3 (Dense)              (None, 3)                 1539      \n",
      "=================================================================\n",
      "Total params: 794,627\n",
      "Trainable params: 791,555\n",
      "Non-trainable params: 3,072\n",
      "_________________________________________________________________\n"
     ]
    }
   ],
   "source": [
    "model2 = create_model()\n",
    "# 가중치 로드\n",
    "\n",
    "model2.load_weights(checkpoint_path)\n",
    "\n",
    "# 모델 평가\n",
    "# print(model2.evaluate(valid_features, valid_Y))\n",
    "model2.summary()"
   ]
  },
  {
   "cell_type": "code",
   "execution_count": null,
   "metadata": {
    "id": "jHsBcINOO0ez"
   },
   "outputs": [],
   "source": [
    "model2.save('/content/drive/My Drive/인공지능 학습관련/covid_model_size299_best_new2.h5')"
   ]
  },
  {
   "cell_type": "code",
   "execution_count": null,
   "metadata": {
    "id": "6LKxuHT9lU3x"
   },
   "outputs": [],
   "source": [
    "# last_conv_layer_model == feature_model\n",
    "# 이미지 전처리\n",
    "def get_img_array(img_path, size):\n",
    "    # `img` is a PIL image of size 299x299\n",
    "    img = keras.preprocessing.image.load_img(img_path, target_size=size)\n",
    "    # `array` is a float32 Numpy array of shape (299, 299, 3)\n",
    "    array = keras.preprocessing.image.img_to_array(img)\n",
    "    # We add a dimension to transform our array into a \"batch\"\n",
    "    # of size (1, 299, 299, 3)\n",
    "    array = np.expand_dims(array, axis=0)\n",
    "    return array\n",
    "\n",
    "#  히트맵 생성\n",
    "def make_gradcam_heatmap(img_path, classifier_model, last_conv_layer_model):\n",
    "    img_size = (299, 299)\n",
    "    # input배열을 inception_resnet_v2에 맞게 전처리\n",
    "    img_array = preprocess_input(get_img_array(img_path, size=img_size))\n",
    "\n",
    "\n",
    "    with tf.GradientTape() as tape:\n",
    "        # Compute activations of the last conv layer and make the tape watch it\n",
    "        last_conv_layer_output = last_conv_layer_model(img_array)\n",
    "        tape.watch(last_conv_layer_output)\n",
    "        # Compute class predictions\n",
    "        preds = classifier_model(last_conv_layer_output)\n",
    "        top_pred_index = tf.argmax(preds[0])\n",
    "        top_class_channel = preds[:, top_pred_index]\n",
    "\n",
    "    # This is the gradient of the top predicted class with regard to\n",
    "    # the output feature map of the last conv layer\n",
    "    grads = tape.gradient(top_class_channel, last_conv_layer_output)\n",
    "\n",
    "    # This is a vector where each entry is the mean intensity of the gradient\n",
    "    # over a specific feature map channel\n",
    "    pooled_grads = tf.reduce_mean(grads, axis=(0, 1, 2))\n",
    "\n",
    "    # We multiply each channel in the feature map array\n",
    "    # by \"how important this channel is\" with regard to the top predicted class\n",
    "    last_conv_layer_output = last_conv_layer_output.numpy()[0]\n",
    "    pooled_grads = pooled_grads.numpy()\n",
    "    for i in range(pooled_grads.shape[-1]):\n",
    "        last_conv_layer_output[:, :, i] *= pooled_grads[i]\n",
    "\n",
    "    # The channel-wise mean of the resulting feature map\n",
    "    # is our heatmap of class activation\n",
    "    heatmap = np.mean(last_conv_layer_output, axis=-1)\n",
    "\n",
    "    # For visualization purpose, we will also normalize the heatmap between 0 & 1\n",
    "    heatmap = np.maximum(heatmap, 0) / np.max(heatmap)\n",
    "\n",
    "    # 보정 -- 이미지의 최 외곽부 모두 0\n",
    "    a = np.vstack((np.zeros(heatmap[:2].shape),heatmap[2:-1]))\n",
    "    a = np.vstack((a[:-1],np.zeros(heatmap[-1:].shape)))\n",
    "    for i in a:\n",
    "        i[0] = 0\n",
    "        i[-1] = 0\n",
    "    heatmap = a\n",
    "\n",
    "    return heatmap\n",
    "\n",
    "# 감마보정\n",
    "# gamma correction \n",
    "def gamma_correction(img, c=1, g=2.2): \n",
    "    out = img.copy() \n",
    "    out /= 255. \n",
    "    out = (1/c * out) ** (1/g) \n",
    "    out *= 255 \n",
    "    out = out.astype(np.uint8) \n",
    "    return out \n",
    "\n",
    "# CAM이미지 + 원본\n",
    "def show_CAM(img_path, heatmap, prediction):\n",
    "    # We load the original image\n",
    "    img = keras.preprocessing.image.load_img(img_path)\n",
    "    img = keras.preprocessing.image.img_to_array(img)\n",
    "\n",
    "    # We rescale heatmap to a range 0-255\n",
    "    heatmap = np.uint8(255 * heatmap)\n",
    "\n",
    "    # We use jet colormap to colorize heatmap\n",
    "    jet = cm.get_cmap(\"Reds\")\n",
    "\n",
    "    # We use RGB values of the colormap\n",
    "    jet_colors = jet(np.arange(256))[:, :3]\n",
    "    jet_heatmap = jet_colors[heatmap]\n",
    "\n",
    "    # We create an image with RGB colorized heatmap\n",
    "    jet_heatmap = keras.preprocessing.image.array_to_img(jet_heatmap)\n",
    "    jet_heatmap = jet_heatmap.resize((img.shape[1], img.shape[0]))\n",
    "    jet_heatmap = keras.preprocessing.image.img_to_array(jet_heatmap)\n",
    "    \n",
    "    # gamma correction\n",
    "    jet_heatmap = gamma_correction(jet_heatmap, g=2.2)\n",
    "\n",
    "    # Superimpose the heatmap on original image\n",
    "    # NORMAL이면 원본이미지만 반환\n",
    "    if prediction =='NORMAL':\n",
    "        superimposed_img = img\n",
    "    else:\n",
    "        superimposed_img = jet_heatmap *0.5 + img\n",
    "    superimposed_img = keras.preprocessing.image.array_to_img(superimposed_img)\n",
    "\n",
    "    return superimposed_img\n"
   ]
  },
  {
   "cell_type": "code",
   "execution_count": null,
   "metadata": {
    "colab": {
     "base_uri": "https://localhost:8080/",
     "height": 239
    },
    "executionInfo": {
     "elapsed": 1605,
     "status": "error",
     "timestamp": 1603355243921,
     "user": {
      "displayName": "하얀토마토",
      "photoUrl": "https://lh3.googleusercontent.com/a-/AOh14Gg6vDBrxCTQgLfR3k4Ki87kEMHbAng403bLeTrH=s64",
      "userId": "01056407583135415771"
     },
     "user_tz": -540
    },
    "id": "LH_UypTKsONa",
    "outputId": "ef718b8e-93f6-4c1b-b71a-27a0ef378e7b"
   },
   "outputs": [
    {
     "ename": "NameError",
     "evalue": "ignored",
     "output_type": "error",
     "traceback": [
      "\u001b[0;31m---------------------------------------------------------------------------\u001b[0m",
      "\u001b[0;31mNameError\u001b[0m                                 Traceback (most recent call last)",
      "\u001b[0;32m<ipython-input-1-f36c71b00b9b>\u001b[0m in \u001b[0;36m<module>\u001b[0;34m()\u001b[0m\n\u001b[1;32m      5\u001b[0m \u001b[0mrealY\u001b[0m \u001b[0;34m=\u001b[0m \u001b[0;34m[\u001b[0m\u001b[0;34m]\u001b[0m\u001b[0;34m\u001b[0m\u001b[0;34m\u001b[0m\u001b[0m\n\u001b[1;32m      6\u001b[0m \u001b[0miter\u001b[0m \u001b[0;34m=\u001b[0m \u001b[0;36m10\u001b[0m\u001b[0;34m\u001b[0m\u001b[0;34m\u001b[0m\u001b[0m\n\u001b[0;32m----> 7\u001b[0;31m \u001b[0mmodel\u001b[0m \u001b[0;34m=\u001b[0m \u001b[0mmodel2\u001b[0m\u001b[0;34m\u001b[0m\u001b[0;34m\u001b[0m\u001b[0m\n\u001b[0m\u001b[1;32m      8\u001b[0m \u001b[0;34m\u001b[0m\u001b[0m\n\u001b[1;32m      9\u001b[0m \u001b[0munique_sorted_Y\u001b[0m \u001b[0;34m=\u001b[0m \u001b[0;34m[\u001b[0m\u001b[0;34m'COVID19'\u001b[0m\u001b[0;34m,\u001b[0m\u001b[0;34m'NORMAL'\u001b[0m\u001b[0;34m,\u001b[0m\u001b[0;34m'PNEUMONIA'\u001b[0m\u001b[0;34m]\u001b[0m\u001b[0;34m\u001b[0m\u001b[0;34m\u001b[0m\u001b[0m\n",
      "\u001b[0;31mNameError\u001b[0m: name 'model2' is not defined"
     ]
    }
   ],
   "source": [
    "import random\n",
    "import cv2\n",
    "\n",
    "predictY = []\n",
    "realY = []\n",
    "iter = 10\n",
    "model = model2\n",
    "\n",
    "unique_sorted_Y = ['COVID19','NORMAL','PNEUMONIA']\n",
    "plt.figure(figsize=(16,iter*3))\n",
    "\n",
    "\n",
    "\n",
    "for i in range(iter): \n",
    "    image_path = random.choice(test_generator.filepaths)\n",
    "    \n",
    "    #출력 범위 설정 \n",
    "    plt.subplot(iter,2,i*2+1)\n",
    "\n",
    "    #검증데이터 출력 \n",
    "    plt.imshow(plt.imread(image_path))\n",
    "\n",
    "    # split('/')를 통해 나눠진 부분 중 3번째 획득\n",
    "    real_y = image_path.split('/')[-2]\n",
    "    # real_y → bluetick 출력 \n",
    "    #타이틀 출력 \n",
    "    plt.title(real_y)\n",
    "    plt.axis('off')\n",
    "    #unique_sorted_Y 에 저장된 값을 바탕으로 real_y의 위치 값 할당 \n",
    "    idx = unique_sorted_Y.index(real_y)\n",
    "    # idx → ex) 81, ...  \n",
    "\n",
    "    #예측값 표기\n",
    "    plt.subplot(iter,2,i * 2+2)\n",
    "    img_size = (299, 299)\n",
    "    # 이미지 불러오기 및 이미지 크기 조정\n",
    "    img = keras.preprocessing.image.load_img(image_path, target_size=img_size)\n",
    "    # 이미지를 array로 변경\n",
    "    img = keras.preprocessing.image.img_to_array(img)\n",
    "    # 각 픽셀값을 0과 1사이의 값으로 조정\n",
    "    img = img / 255.0\n",
    "    # 모델의 인풋 타입에 맞게 차원을 하나 늘림\n",
    "    img = np.expand_dims(img, axis=0)\n",
    "\n",
    "    #img를 Inception V3의 특징 추출기 feature_model을 활용하여 특징 벡터를 생성. \n",
    "    feature_vector = feature_model.predict(img)\n",
    "\n",
    "    # 앞서 생성한 model 분류기를 통해 예측 수행\n",
    "    prediction = model.predict(feature_vector)[0]\n",
    "\n",
    "    #가장 높은 확률의 예측값을 5개 선출 \n",
    "    #[::-1] Extended Slices 기법으로 내림차순으로 변경, [:5] 그 중 top 5개\n",
    "    top_3_predict = prediction.argsort()[::-1][:3]\n",
    "    #labels에 저장 \n",
    "    labels = [unique_sorted_Y[index] for index in top_3_predict]\n",
    "    color = ['gray'] * 3\n",
    "    #예측 수행한 Top 5 값에 대하여 'blue' 으로 변경\n",
    "    if idx in top_3_predict:\n",
    "        color[top_3_predict.tolist().index(idx)] = 'blue'\n",
    "    color = color[::-1]\n",
    "    #가로 막대 그리기 \n",
    "    plt.barh(range(3), prediction[top_3_predict][::-1] * 100, color = color)\n",
    "    plt.yticks(range(3), labels[::-1])\n",
    "\n",
    "    # print(labels[0], realY[0])\n",
    "    predictY.append(labels[0])\n",
    "    realY.append(real_y)\n",
    "    print(labels[0],real_y)"
   ]
  },
  {
   "cell_type": "code",
   "execution_count": null,
   "metadata": {
    "colab": {
     "base_uri": "https://localhost:8080/",
     "height": 52
    },
    "executionInfo": {
     "elapsed": 866,
     "status": "ok",
     "timestamp": 1603285782867,
     "user": {
      "displayName": "하얀토마토",
      "photoUrl": "https://lh3.googleusercontent.com/a-/AOh14Gg6vDBrxCTQgLfR3k4Ki87kEMHbAng403bLeTrH=s64",
      "userId": "01056407583135415771"
     },
     "user_tz": -540
    },
    "id": "-Z5HYJs2eZLI",
    "outputId": "09b31acc-50f3-4315-9b0e-5c5dbb0de22f"
   },
   "outputs": [
    {
     "name": "stdout",
     "output_type": "stream",
     "text": [
      "Found 1288 images belonging to 3 classes.\n",
      "1288\n"
     ]
    }
   ],
   "source": [
    "# 테스트 파일 가져오기\n",
    "test_datagen = ImageDataGenerator(rescale=1./255.)\n",
    "\n",
    "test_generator = test_datagen.flow_from_directory(directory = '/content/drive/My Drive/인공지능 학습관련/CXR labels/TEST',\n",
    "                                                    subset = 'training',   \n",
    "                                                    batch_size = batch_size,\n",
    "                                                    seed = 126,\n",
    "                                                    shuffle = True,\n",
    "                                                    class_mode = 'categorical',\n",
    "                                                    target_size = (image_size,image_size))\n",
    "\n",
    "print(test_generator.n)"
   ]
  },
  {
   "cell_type": "code",
   "execution_count": null,
   "metadata": {
    "colab": {
     "base_uri": "https://localhost:8080/",
     "height": 281
    },
    "executionInfo": {
     "elapsed": 2921,
     "status": "ok",
     "timestamp": 1603285786773,
     "user": {
      "displayName": "하얀토마토",
      "photoUrl": "https://lh3.googleusercontent.com/a-/AOh14Gg6vDBrxCTQgLfR3k4Ki87kEMHbAng403bLeTrH=s64",
      "userId": "01056407583135415771"
     },
     "user_tz": -540
    },
    "id": "Os0L76qpr9je",
    "outputId": "95150f7c-d0b6-4484-b831-00cfbaf303a7"
   },
   "outputs": [
    {
     "name": "stdout",
     "output_type": "stream",
     "text": [
      "(299, 299, 3)\n",
      "(1, 299, 299, 3)\n",
      "PNEUMONIA PNEUMONIA\n",
      "(299, 299, 3)\n",
      "(1, 299, 299, 3)\n",
      "NORMAL NORMAL\n",
      "(299, 299, 3)\n",
      "(1, 299, 299, 3)\n",
      "PNEUMONIA PNEUMONIA\n",
      "(299, 299, 3)\n",
      "(1, 299, 299, 3)\n",
      "NORMAL NORMAL\n",
      "(299, 299, 3)\n",
      "(1, 299, 299, 3)\n",
      "PNEUMONIA PNEUMONIA\n"
     ]
    }
   ],
   "source": [
    "# 글자만.\n",
    "import random\n",
    "import cv2\n",
    "\n",
    "predictY = []\n",
    "realY = []\n",
    "iter = 5\n",
    "\n",
    "unique_sorted_Y = ['COVID19','NORMAL','PNEUMONIA']\n",
    "\n",
    "for i in range(iter): \n",
    "    image_path = random.choice(test_generator.filepaths)\n",
    "    # split('/')를 통해 나눠진 부분 중 3번째 획득\n",
    "    real_y = image_path.split('/')[-2]\n",
    "    # real_y → bluetick 출력 \n",
    "\n",
    "    img_size = (299, 299)\n",
    "    # 이미지 불러오기 및 이미지 크기 조정\n",
    "    img = keras.preprocessing.image.load_img(image_path, target_size=img_size)\n",
    "    # 이미지를 array로 변경\n",
    "    img = keras.preprocessing.image.img_to_array(img)\n",
    "    print(img.shape)\n",
    "    # 각 픽셀값을 0과 1사이의 값으로 조정\n",
    "    img = img / 255.0\n",
    "    # 모델의 인풋 타입에 맞게 차원을 하나 늘림\n",
    "    img = np.expand_dims(img, axis=0)\n",
    "    print(img.shape)\n",
    "\n",
    "    \n",
    "\n",
    "\n",
    "    #img를 Inception V3의 특징 추출기 feature_model을 활용하여 특징 벡터를 생성. \n",
    "    feature_vector = feature_model.predict(img)\n",
    "\n",
    "    # 앞서 생성한 model 분류기를 통해 예측 수행\n",
    "    prediction = model.predict(feature_vector)[0]\n",
    "\n",
    "    predict = prediction.argmax()\n",
    "    #labels에 저장 \n",
    "    label = unique_sorted_Y[predict] \n",
    "    \n",
    "    # print(labels[0], realY[0])\n",
    "    predictY.append(label)\n",
    "    realY.append(real_y)\n",
    "    print(label,real_y)"
   ]
  },
  {
   "cell_type": "code",
   "execution_count": null,
   "metadata": {
    "colab": {
     "base_uri": "https://localhost:8080/",
     "height": 382
    },
    "executionInfo": {
     "elapsed": 1340,
     "status": "ok",
     "timestamp": 1603279326460,
     "user": {
      "displayName": "하얀토마토",
      "photoUrl": "https://lh3.googleusercontent.com/a-/AOh14Gg6vDBrxCTQgLfR3k4Ki87kEMHbAng403bLeTrH=s64",
      "userId": "01056407583135415771"
     },
     "user_tz": -540
    },
    "id": "KzqIbTr9nRwN",
    "outputId": "88ce3e65-9bf3-4bef-8c3d-6cab10ca7e6d"
   },
   "outputs": [
    {
     "name": "stdout",
     "output_type": "stream",
     "text": [
      "Confusion matrix, without normalization\n",
      "[[ 81   0   0]\n",
      " [  0 246  30]\n",
      " [  0  13 630]]\n"
     ]
    },
    {
     "data": {
      "image/png": "[encoded data removed]",
      "text/plain": [
       "<Figure size 432x288 with 2 Axes>"
      ]
     },
     "metadata": {
      "needs_background": "light",
      "tags": []
     },
     "output_type": "display_data"
    }
   ],
   "source": [
    "import itertools\n",
    "from sklearn.metrics import confusion_matrix\n",
    "\n",
    "cm=confusion_matrix(predictY, realY)\n",
    "\n",
    "def plot_confusion_matrix(cm, classes,\n",
    "                          normalize=False,\n",
    "                          title='Confusion matrix',\n",
    "                          cmap=plt.cm.Blues):\n",
    "    \"\"\"\n",
    "    This function prints and plots the confusion matrix.\n",
    "    Normalization can be applied by setting `normalize=True`.\n",
    "    \"\"\"\n",
    "    plt.imshow(cm, interpolation='nearest', cmap=cmap)\n",
    "    plt.title(title)\n",
    "    plt.colorbar()\n",
    "    tick_marks = np.arange(len(classes))\n",
    "    plt.xticks(tick_marks, classes, rotation=45)\n",
    "    plt.yticks(tick_marks, classes)\n",
    "    if normalize:\n",
    "        cm = cm.astype('float') / cm.sum(axis=1)[:, np.newaxis]\n",
    "        print(\"Normalized confusion matrix\")\n",
    "    else:\n",
    "        print('Confusion matrix, without normalization')\n",
    "    print(cm)\n",
    "    thresh = cm.max() / 2.\n",
    "    for i, j in itertools.product(range(cm.shape[0]), range(cm.shape[1])):\n",
    "        plt.text(j, i, cm[i, j],\n",
    "                 horizontalalignment=\"center\",\n",
    "                 color=\"white\" if cm[i, j] > thresh else \"black\")\n",
    "    plt.tight_layout()\n",
    "    plt.ylabel('True label')\n",
    "    plt.xlabel('Predicted label')\n",
    "plt.figure()\n",
    "plot_confusion_matrix(cm, classes=['CODVID19', 'NORMAL', 'PNEUMONIA'], title='Confusion matrix, without normalization')"
   ]
  },
  {
   "cell_type": "code",
   "execution_count": null,
   "metadata": {
    "colab": {
     "base_uri": "https://localhost:8080/",
     "height": 250
    },
    "executionInfo": {
     "elapsed": 1702,
     "status": "ok",
     "timestamp": 1603283568809,
     "user": {
      "displayName": "하얀토마토",
      "photoUrl": "https://lh3.googleusercontent.com/a-/AOh14Gg6vDBrxCTQgLfR3k4Ki87kEMHbAng403bLeTrH=s64",
      "userId": "01056407583135415771"
     },
     "user_tz": -540
    },
    "id": "OM2mCHDE97aC",
    "outputId": "a5fcd02d-b101-498c-b233-4963730c32f7"
   },
   "outputs": [
    {
     "name": "stdout",
     "output_type": "stream",
     "text": [
      "(1, 299, 299, 3)\n",
      "COVID\n"
     ]
    },
    {
     "data": {
      "image/png": "[encoded data removed]",
      "text/plain": [
       "<Figure size 1152x216 with 2 Axes>"
      ]
     },
     "metadata": {
      "needs_background": "light",
      "tags": []
     },
     "output_type": "display_data"
    }
   ],
   "source": [
    "import random\n",
    "import cv2\n",
    "\n",
    "iter = 1\n",
    "# model = model2\n",
    "\n",
    "unique_sorted_Y = ['COVID','NORMAL','PNEUMONIA']\n",
    "plt.figure(figsize=(16,iter*3))\n",
    "\n",
    "\n",
    "\n",
    "for i in range(iter): \n",
    "    image_path = '/content/pneumonia3.jpg'\n",
    "    \n",
    "    #출력 범위 설정 \n",
    "    plt.subplot(iter,2,i*2+1)\n",
    "\n",
    "    #검증데이터 출력 \n",
    "    plt.imshow(plt.imread(image_path))\n",
    "\n",
    "    #예측값 표기\n",
    "    plt.subplot(iter,2,i * 2+2)\n",
    "    img_size = (299, 299)\n",
    "    # 이미지 불러오기 및 이미지 크기 조정\n",
    "    img = keras.preprocessing.image.load_img(image_path, target_size=img_size)\n",
    "    # 이미지를 array로 변경\n",
    "    img = keras.preprocessing.image.img_to_array(img)\n",
    "    # 각 픽셀값을 0과 1사이의 값으로 조정\n",
    "    img = img / 255.0\n",
    "    # 모델의 인풋 타입에 맞게 차원을 하나 늘림\n",
    "    img = np.expand_dims(img, axis=0)\n",
    "    print(img.shape)\n",
    "\n",
    "    #img를 Inception V3의 특징 추출기 feature_model을 활용하여 특징 벡터를 생성. \n",
    "    feature_vector = feature_model.predict(img)\n",
    "\n",
    "    # 앞서 생성한 model 분류기를 통해 예측 수행\n",
    "    prediction = model.predict(feature_vector)[0]\n",
    "\n",
    "    #가장 높은 확률의 예측값을 5개 선출 \n",
    "    #[::-1] Extended Slices 기법으로 내림차순으로 변경, [:5] 그 중 top 5개\n",
    "    top_3_predict = prediction.argsort()[::-1][:3]\n",
    "    #labels에 저장 \n",
    "    labels = [unique_sorted_Y[index] for index in top_3_predict]\n",
    "    color = ['gray'] * 3\n",
    "    #예측 수행한 Top 5 값에 대하여 'blue' 으로 변경\n",
    "    if idx in top_3_predict:\n",
    "        color[top_3_predict.tolist().index(idx)] = 'blue'\n",
    "    color = color[::-1]\n",
    "    #가로 막대 그리기 \n",
    "    plt.barh(range(3), prediction[top_3_predict][::-1] * 100, color = color)\n",
    "    plt.yticks(range(3), labels[::-1])\n",
    "\n",
    "    print(labels[0])\n",
    "\n",
    "    \n",
    "\n"
   ]
  },
  {
   "cell_type": "code",
   "execution_count": null,
   "metadata": {
    "id": "pZlAaxcP970s"
   },
   "outputs": [],
   "source": []
  },
  {
   "cell_type": "code",
   "execution_count": null,
   "metadata": {
    "id": "Rbq5fslF9729"
   },
   "outputs": [],
   "source": []
  }
 ],
 "metadata": {
  "accelerator": "GPU",
  "colab": {
   "authorship_tag": "ABX9TyMjezMM0jN9l4xuUxN9M/Bk",
   "collapsed_sections": [],
   "machine_shape": "hm",
   "mount_file_id": "1kDkgnwudoTaYfrirMoF7cE_qvKrZw7Xb",
   "name": "Grad-CAM class activation visualization.ipynb",
   "provenance": [],
   "toc_visible": true
  },
  "kernelspec": {
   "display_name": "Python 3",
   "language": "python",
   "name": "python3"
  },
  "language_info": {
   "codemirror_mode": {
    "name": "ipython",
    "version": 3
   },
   "file_extension": ".py",
   "mimetype": "text/x-python",
   "name": "python",
   "nbconvert_exporter": "python",
   "pygments_lexer": "ipython3",
   "version": "3.7.6"
  }
 },
 "nbformat": 4,
 "nbformat_minor": 1
}
