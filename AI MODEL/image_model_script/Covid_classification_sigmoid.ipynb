{
 "cells": [
  {
   "cell_type": "code",
   "execution_count": 9,
   "metadata": {
    "executionInfo": {
     "elapsed": 3954,
     "status": "ok",
     "timestamp": 1603432377079,
     "user": {
      "displayName": "하얀토마토",
      "photoUrl": "https://lh3.googleusercontent.com/a-/AOh14Gg6vDBrxCTQgLfR3k4Ki87kEMHbAng403bLeTrH=s64",
      "userId": "01056407583135415771"
     },
     "user_tz": -540
    },
    "id": "9iqm3W3RUd3m"
   },
   "outputs": [],
   "source": [
    "import numpy as np\n",
    "import tensorflow as tf\n",
    "from tensorflow import keras\n",
    "# import cv2\n",
    "from IPython.display import Image\n",
    "import matplotlib.pyplot as plt\n",
    "import matplotlib.cm as cm\n",
    "from tqdm import tqdm"
   ]
  },
  {
   "cell_type": "code",
   "execution_count": 10,
   "metadata": {
    "executionInfo": {
     "elapsed": 3709,
     "status": "ok",
     "timestamp": 1603432377079,
     "user": {
      "displayName": "하얀토마토",
      "photoUrl": "https://lh3.googleusercontent.com/a-/AOh14Gg6vDBrxCTQgLfR3k4Ki87kEMHbAng403bLeTrH=s64",
      "userId": "01056407583135415771"
     },
     "user_tz": -540
    },
    "id": "oDWh7NfEVOw_"
   },
   "outputs": [],
   "source": [
    "from tensorflow.keras.preprocessing import image\n",
    "from tensorflow.keras.models import Model, load_model\n",
    "from tensorflow.keras.layers import Dense, GlobalAveragePooling2D, BatchNormalization, Flatten, Input, Dropout\n",
    "from tensorflow.keras.optimizers import Adam\n",
    "from keras.callbacks import EarlyStopping, ModelCheckpoint, ReduceLROnPlateau"
   ]
  },
  {
   "cell_type": "code",
   "execution_count": 11,
   "metadata": {
    "colab": {
     "base_uri": "https://localhost:8080/",
     "height": 87
    },
    "executionInfo": {
     "elapsed": 57032,
     "status": "ok",
     "timestamp": 1603432431930,
     "user": {
      "displayName": "하얀토마토",
      "photoUrl": "https://lh3.googleusercontent.com/a-/AOh14Gg6vDBrxCTQgLfR3k4Ki87kEMHbAng403bLeTrH=s64",
      "userId": "01056407583135415771"
     },
     "user_tz": -540
    },
    "id": "evKHJ1IvVOzE",
    "outputId": "3cbfcded-e6ca-4247-e97b-ffa44c70c599"
   },
   "outputs": [
    {
     "name": "stdout",
     "output_type": "stream",
     "text": [
      "Found 6446 images belonging to 2 classes.\n",
      "Found 715 images belonging to 2 classes.\n",
      "6446\n",
      "715\n"
     ]
    }
   ],
   "source": [
    "from tensorflow.keras.preprocessing.image import ImageDataGenerator\n",
    "\n",
    "image_size = 224\n",
    "batch_size = 32\n",
    "\n",
    "train_datagen = ImageDataGenerator(rescale=1./255., \n",
    "                                   validation_split = 0.10)\n",
    "\n",
    "train_generator = train_datagen.flow_from_directory(directory = '../image_data/cropped_train/', #저장 경로 \n",
    "                                                    subset = 'training',   \n",
    "                                                    batch_size = batch_size,\n",
    "                                                    seed = 126,\n",
    "                                                    shuffle = True,\n",
    "                                                    class_mode = 'binary',\n",
    "                                                    target_size = (image_size,image_size))\n",
    "\n",
    "valid_generator = train_datagen.flow_from_directory(directory = '../image_data/cropped_train/',\n",
    "                                                    subset = 'validation',\n",
    "                                                    batch_size = batch_size,\n",
    "                                                    seed = 126,\n",
    "                                                    shuffle = True,\n",
    "                                                    class_mode = 'binary',\n",
    "                                                    target_size = (image_size,image_size))\n",
    "print(train_generator.n)\n",
    "print(valid_generator.n)\n"
   ]
  },
  {
   "cell_type": "code",
   "execution_count": 12,
   "metadata": {},
   "outputs": [
    {
     "data": {
      "text/plain": [
       "{'negative': 0, 'positive': 1}"
      ]
     },
     "execution_count": 12,
     "metadata": {},
     "output_type": "execute_result"
    }
   ],
   "source": [
    "train_generator.class_indices"
   ]
  },
  {
   "cell_type": "code",
   "execution_count": null,
   "metadata": {
    "colab": {
     "base_uri": "https://localhost:8080/",
     "height": 72
    },
    "executionInfo": {
     "elapsed": 20165,
     "status": "ok",
     "timestamp": 1603432440491,
     "user": {
      "displayName": "하얀토마토",
      "photoUrl": "https://lh3.googleusercontent.com/a-/AOh14Gg6vDBrxCTQgLfR3k4Ki87kEMHbAng403bLeTrH=s64",
      "userId": "01056407583135415771"
     },
     "user_tz": -540
    },
    "id": "EMx3R-aoVO1R",
    "outputId": "01ecb38e-52c1-4db9-8a8e-c1a4ac2e3541"
   },
   "outputs": [],
   "source": [
    "# Make model == feature model\n",
    "feature_model = load_model('../models/image_models/DenseNet201.h5')\n"
   ]
  },
  {
   "cell_type": "code",
   "execution_count": 13,
   "metadata": {},
   "outputs": [
    {
     "data": {
      "text/plain": [
       "TensorShape([7, 7, 1920])"
      ]
     },
     "execution_count": 13,
     "metadata": {},
     "output_type": "execute_result"
    }
   ],
   "source": [
    "feature_model.output.shape[1:]"
   ]
  },
  {
   "cell_type": "code",
   "execution_count": null,
   "metadata": {
    "colab": {
     "base_uri": "https://localhost:8080/",
     "height": 1000
    },
    "executionInfo": {
     "elapsed": 788,
     "status": "ok",
     "timestamp": 1603432445998,
     "user": {
      "displayName": "하얀토마토",
      "photoUrl": "https://lh3.googleusercontent.com/a-/AOh14Gg6vDBrxCTQgLfR3k4Ki87kEMHbAng403bLeTrH=s64",
      "userId": "01056407583135415771"
     },
     "user_tz": -540
    },
    "id": "bMIgkF8x3MT8",
    "outputId": "e351ada4-a3ec-4e87-f4f0-1ba9d8f6ea48"
   },
   "outputs": [],
   "source": [
    "feature_model.summary()"
   ]
  },
  {
   "cell_type": "code",
   "execution_count": 7,
   "metadata": {
    "colab": {
     "base_uri": "https://localhost:8080/",
     "height": 70
    },
    "executionInfo": {
     "elapsed": 4746679,
     "status": "ok",
     "timestamp": 1603393722815,
     "user": {
      "displayName": "하얀토마토",
      "photoUrl": "https://lh3.googleusercontent.com/a-/AOh14Gg6vDBrxCTQgLfR3k4Ki87kEMHbAng403bLeTrH=s64",
      "userId": "01056407583135415771"
     },
     "user_tz": -540
    },
    "id": "xFTi-1BWVO5c",
    "outputId": "30b4129b-aa19-4e5d-d50b-a71c72f68b8f"
   },
   "outputs": [
    {
     "name": "stderr",
     "output_type": "stream",
     "text": [
      "  0%|          | 0/202 [00:00<?, ?it/s]\n"
     ]
    },
    {
     "ename": "NameError",
     "evalue": "name 'feature_model' is not defined",
     "output_type": "error",
     "traceback": [
      "\u001b[0;31m---------------------------------------------------------------------------\u001b[0m",
      "\u001b[0;31mNameError\u001b[0m                                 Traceback (most recent call last)",
      "\u001b[0;32m<ipython-input-7-161df8c77bf3>\u001b[0m in \u001b[0;36m<module>\u001b[0;34m\u001b[0m\n\u001b[1;32m      6\u001b[0m     \u001b[0mx\u001b[0m\u001b[0;34m,\u001b[0m \u001b[0my\u001b[0m \u001b[0;34m=\u001b[0m \u001b[0mtrain_generator\u001b[0m\u001b[0;34m.\u001b[0m\u001b[0mnext\u001b[0m\u001b[0;34m(\u001b[0m\u001b[0;34m)\u001b[0m\u001b[0;34m\u001b[0m\u001b[0;34m\u001b[0m\u001b[0m\n\u001b[1;32m      7\u001b[0m     \u001b[0mtrain_Y\u001b[0m\u001b[0;34m.\u001b[0m\u001b[0mextend\u001b[0m\u001b[0;34m(\u001b[0m\u001b[0my\u001b[0m\u001b[0;34m)\u001b[0m\u001b[0;34m\u001b[0m\u001b[0;34m\u001b[0m\u001b[0m\n\u001b[0;32m----> 8\u001b[0;31m     \u001b[0mfeature\u001b[0m \u001b[0;34m=\u001b[0m \u001b[0mfeature_model\u001b[0m\u001b[0;34m.\u001b[0m\u001b[0mpredict\u001b[0m\u001b[0;34m(\u001b[0m\u001b[0mx\u001b[0m\u001b[0;34m)\u001b[0m\u001b[0;34m\u001b[0m\u001b[0;34m\u001b[0m\u001b[0m\n\u001b[0m\u001b[1;32m      9\u001b[0m     \u001b[0mtrain_features\u001b[0m\u001b[0;34m.\u001b[0m\u001b[0mextend\u001b[0m\u001b[0;34m(\u001b[0m\u001b[0mfeature\u001b[0m\u001b[0;34m)\u001b[0m\u001b[0;34m\u001b[0m\u001b[0;34m\u001b[0m\u001b[0m\n\u001b[1;32m     10\u001b[0m \u001b[0;34m\u001b[0m\u001b[0m\n",
      "\u001b[0;31mNameError\u001b[0m: name 'feature_model' is not defined"
     ]
    }
   ],
   "source": [
    "train_features = [] \n",
    "train_Y = []\n",
    "\n",
    "for idx in tqdm(range(train_generator.n//batch_size+1)): # 2785 \n",
    "\n",
    "    x, y = train_generator.next() \n",
    "    train_Y.extend(y) \n",
    "    feature = feature_model.predict(x)\n",
    "    train_features.extend(feature)\n",
    "\n",
    "#array 전환 \n",
    "train_features = np.array(train_features)\n",
    "train_Y = np.array(train_Y)\n",
    "\n",
    "print(train_features.shape) \n",
    "print(train_Y.shape) "
   ]
  },
  {
   "cell_type": "code",
   "execution_count": 15,
   "metadata": {
    "colab": {
     "base_uri": "https://localhost:8080/",
     "height": 70
    },
    "executionInfo": {
     "elapsed": 5296952,
     "status": "ok",
     "timestamp": 1603394273093,
     "user": {
      "displayName": "하얀토마토",
      "photoUrl": "https://lh3.googleusercontent.com/a-/AOh14Gg6vDBrxCTQgLfR3k4Ki87kEMHbAng403bLeTrH=s64",
      "userId": "01056407583135415771"
     },
     "user_tz": -540
    },
    "id": "S0pReAsqVO7u",
    "outputId": "4ecddeec-2d36-40e7-8737-1f63707123ef"
   },
   "outputs": [
    {
     "name": "stderr",
     "output_type": "stream",
     "text": [
      "100%|██████████| 23/23 [00:05<00:00,  4.09it/s]"
     ]
    },
    {
     "name": "stdout",
     "output_type": "stream",
     "text": [
      "(715, 7, 7, 1920)\n",
      "(715,)\n"
     ]
    },
    {
     "name": "stderr",
     "output_type": "stream",
     "text": [
      "\n"
     ]
    }
   ],
   "source": [
    "valid_features = []\n",
    "valid_Y = []\n",
    "\n",
    "\n",
    "for idx in tqdm(range(valid_generator.n//batch_size+1)):\n",
    "\n",
    "    x, y = valid_generator.next() \n",
    "    valid_Y.extend(y) \n",
    "    feature = feature_model.predict(x)\n",
    "    valid_features.extend(feature)\n",
    "\n",
    "#array 전환 \n",
    "valid_features = np.array(valid_features)\n",
    "valid_Y = np.array(valid_Y)\n",
    "\n",
    "print(valid_features.shape)\n",
    "print(valid_Y.shape)"
   ]
  },
  {
   "cell_type": "code",
   "execution_count": 16,
   "metadata": {
    "colab": {
     "base_uri": "https://localhost:8080/",
     "height": 1000
    },
    "executionInfo": {
     "elapsed": 112835,
     "status": "ok",
     "timestamp": 1603414160100,
     "user": {
      "displayName": "하얀토마토",
      "photoUrl": "https://lh3.googleusercontent.com/a-/AOh14Gg6vDBrxCTQgLfR3k4Ki87kEMHbAng403bLeTrH=s64",
      "userId": "01056407583135415771"
     },
     "user_tz": -540
    },
    "id": "CGCRKtvWVO9t",
    "outputId": "dad32146-14a5-485e-bb27-2c25e23822cc"
   },
   "outputs": [],
   "source": [
    "# Make Classifier Model\n",
    "def create_model():\n",
    "    input = Input(shape=(7,7,1920))\n",
    "    x = GlobalAveragePooling2D()(input)\n",
    "\n",
    "    x = Dense(512, activation='relu')(x)\n",
    "    x = BatchNormalization()(x)\n",
    "    x = Dense(256, activation='relu')(x)\n",
    "    x = Dropout(0.6)(x)\n",
    "    x = Dense(128, activation='relu')(x)\n",
    "    x = BatchNormalization()(x)\n",
    "    predictions = Dense(1, activation='sigmoid')(x)\n",
    "    model = Model(inputs=input, outputs=predictions)\n",
    "\n",
    "    model.compile(optimizer=Adam(lr=1e-4),loss='binary_crossentropy',metrics=['accuracy'])\n",
    "    \n",
    "    return model\n",
    "\n",
    "\n",
    "# 모델 객체를 만듬\n",
    "model = create_model()\n",
    "\n",
    "checkpoint_path = 'testmodel/bestmodel'\n",
    "\n",
    "checkpoint = ModelCheckpoint(checkpoint_path, monitor='val_loss', verbose=1, \n",
    "                             save_best_only=True, mode='min')\n",
    "\n",
    "reduceLROnPlat = ReduceLROnPlateau(monitor='val_loss', factor=0.5, \n",
    "                                   patience=7, \n",
    "                                   min_lr=1e-6)\n",
    "\n",
    "early = EarlyStopping(monitor=\"val_loss\", \n",
    "                      mode=\"min\", \n",
    "                      patience=15) # probably needs to be more patient, but kaggle time is limited\n",
    "\n",
    "callbacks_list = [checkpoint, early, reduceLROnPlat]\n"
   ]
  },
  {
   "cell_type": "code",
   "execution_count": 17,
   "metadata": {},
   "outputs": [
    {
     "name": "stdout",
     "output_type": "stream",
     "text": [
      "Epoch 1/200\n",
      "196/202 [============================>.] - ETA: 0s - loss: 0.5684 - accuracy: 0.7302\n",
      "Epoch 00001: val_loss improved from inf to 0.29927, saving model to testmodel/bestmodel\n",
      "WARNING:tensorflow:From /usr/local/lib/python3.6/dist-packages/tensorflow/python/training/tracking/tracking.py:111: Model.state_updates (from tensorflow.python.keras.engine.training) is deprecated and will be removed in a future version.\n",
      "Instructions for updating:\n",
      "This property should not be used in TensorFlow 2.0, as updates are applied automatically.\n",
      "WARNING:tensorflow:From /usr/local/lib/python3.6/dist-packages/tensorflow/python/training/tracking/tracking.py:111: Layer.updates (from tensorflow.python.keras.engine.base_layer) is deprecated and will be removed in a future version.\n",
      "Instructions for updating:\n",
      "This property should not be used in TensorFlow 2.0, as updates are applied automatically.\n",
      "INFO:tensorflow:Assets written to: testmodel/bestmodel/assets\n",
      "202/202 [==============================] - 3s 14ms/step - loss: 0.5652 - accuracy: 0.7322 - val_loss: 0.2993 - val_accuracy: 0.9343\n",
      "Epoch 2/200\n",
      "195/202 [===========================>..] - ETA: 0s - loss: 0.3472 - accuracy: 0.8853\n",
      "Epoch 00002: val_loss improved from 0.29927 to 0.25608, saving model to testmodel/bestmodel\n",
      "INFO:tensorflow:Assets written to: testmodel/bestmodel/assets\n",
      "202/202 [==============================] - 3s 13ms/step - loss: 0.3465 - accuracy: 0.8855 - val_loss: 0.2561 - val_accuracy: 0.9315\n",
      "Epoch 3/200\n",
      "201/202 [============================>.] - ETA: 0s - loss: 0.2627 - accuracy: 0.9289\n",
      "Epoch 00003: val_loss improved from 0.25608 to 0.21824, saving model to testmodel/bestmodel\n",
      "INFO:tensorflow:Assets written to: testmodel/bestmodel/assets\n",
      "202/202 [==============================] - 3s 13ms/step - loss: 0.2626 - accuracy: 0.9288 - val_loss: 0.2182 - val_accuracy: 0.9441\n",
      "Epoch 4/200\n",
      "198/202 [============================>.] - ETA: 0s - loss: 0.2083 - accuracy: 0.9424\n",
      "Epoch 00004: val_loss improved from 0.21824 to 0.15690, saving model to testmodel/bestmodel\n",
      "INFO:tensorflow:Assets written to: testmodel/bestmodel/assets\n",
      "202/202 [==============================] - 2s 12ms/step - loss: 0.2076 - accuracy: 0.9424 - val_loss: 0.1569 - val_accuracy: 0.9594\n",
      "Epoch 5/200\n",
      "202/202 [==============================] - ETA: 0s - loss: 0.1754 - accuracy: 0.9542\n",
      "Epoch 00005: val_loss improved from 0.15690 to 0.13818, saving model to testmodel/bestmodel\n",
      "INFO:tensorflow:Assets written to: testmodel/bestmodel/assets\n",
      "202/202 [==============================] - 3s 13ms/step - loss: 0.1754 - accuracy: 0.9542 - val_loss: 0.1382 - val_accuracy: 0.9622\n",
      "Epoch 6/200\n",
      "195/202 [===========================>..] - ETA: 0s - loss: 0.1506 - accuracy: 0.9627\n",
      "Epoch 00006: val_loss did not improve from 0.13818\n",
      "202/202 [==============================] - 1s 7ms/step - loss: 0.1489 - accuracy: 0.9629 - val_loss: 0.1526 - val_accuracy: 0.9622\n",
      "Epoch 7/200\n",
      "201/202 [============================>.] - ETA: 0s - loss: 0.1357 - accuracy: 0.9641\n",
      "Epoch 00007: val_loss improved from 0.13818 to 0.09944, saving model to testmodel/bestmodel\n",
      "INFO:tensorflow:Assets written to: testmodel/bestmodel/assets\n",
      "202/202 [==============================] - 2s 12ms/step - loss: 0.1355 - accuracy: 0.9642 - val_loss: 0.0994 - val_accuracy: 0.9706\n",
      "Epoch 8/200\n",
      "197/202 [============================>.] - ETA: 0s - loss: 0.1094 - accuracy: 0.9707\n",
      "Epoch 00008: val_loss did not improve from 0.09944\n",
      "202/202 [==============================] - 1s 7ms/step - loss: 0.1091 - accuracy: 0.9704 - val_loss: 0.1042 - val_accuracy: 0.9664\n",
      "Epoch 9/200\n",
      "196/202 [============================>.] - ETA: 0s - loss: 0.1018 - accuracy: 0.9715\n",
      "Epoch 00009: val_loss did not improve from 0.09944\n",
      "202/202 [==============================] - 1s 7ms/step - loss: 0.1029 - accuracy: 0.9704 - val_loss: 0.1140 - val_accuracy: 0.9636\n",
      "Epoch 10/200\n",
      "194/202 [===========================>..] - ETA: 0s - loss: 0.0911 - accuracy: 0.9731\n",
      "Epoch 00010: val_loss improved from 0.09944 to 0.09041, saving model to testmodel/bestmodel\n",
      "INFO:tensorflow:Assets written to: testmodel/bestmodel/assets\n",
      "202/202 [==============================] - 3s 12ms/step - loss: 0.0916 - accuracy: 0.9729 - val_loss: 0.0904 - val_accuracy: 0.9748\n",
      "Epoch 11/200\n",
      "197/202 [============================>.] - ETA: 0s - loss: 0.0870 - accuracy: 0.9732\n",
      "Epoch 00011: val_loss did not improve from 0.09041\n",
      "202/202 [==============================] - 2s 8ms/step - loss: 0.0875 - accuracy: 0.9735 - val_loss: 0.0922 - val_accuracy: 0.9706\n",
      "Epoch 12/200\n",
      "197/202 [============================>.] - ETA: 0s - loss: 0.0766 - accuracy: 0.9767\n",
      "Epoch 00012: val_loss improved from 0.09041 to 0.07503, saving model to testmodel/bestmodel\n",
      "INFO:tensorflow:Assets written to: testmodel/bestmodel/assets\n",
      "202/202 [==============================] - 3s 13ms/step - loss: 0.0775 - accuracy: 0.9761 - val_loss: 0.0750 - val_accuracy: 0.9790\n",
      "Epoch 13/200\n",
      "202/202 [==============================] - ETA: 0s - loss: 0.0727 - accuracy: 0.9787\n",
      "Epoch 00013: val_loss improved from 0.07503 to 0.06029, saving model to testmodel/bestmodel\n",
      "INFO:tensorflow:Assets written to: testmodel/bestmodel/assets\n",
      "202/202 [==============================] - 3s 14ms/step - loss: 0.0727 - accuracy: 0.9787 - val_loss: 0.0603 - val_accuracy: 0.9804\n",
      "Epoch 14/200\n",
      "195/202 [===========================>..] - ETA: 0s - loss: 0.0591 - accuracy: 0.9840\n",
      "Epoch 00014: val_loss improved from 0.06029 to 0.05621, saving model to testmodel/bestmodel\n",
      "INFO:tensorflow:Assets written to: testmodel/bestmodel/assets\n",
      "202/202 [==============================] - 2s 12ms/step - loss: 0.0600 - accuracy: 0.9837 - val_loss: 0.0562 - val_accuracy: 0.9818\n",
      "Epoch 15/200\n",
      "197/202 [============================>.] - ETA: 0s - loss: 0.0615 - accuracy: 0.9832\n",
      "Epoch 00015: val_loss improved from 0.05621 to 0.04997, saving model to testmodel/bestmodel\n",
      "INFO:tensorflow:Assets written to: testmodel/bestmodel/assets\n",
      "202/202 [==============================] - 3s 13ms/step - loss: 0.0612 - accuracy: 0.9834 - val_loss: 0.0500 - val_accuracy: 0.9860\n",
      "Epoch 16/200\n",
      "201/202 [============================>.] - ETA: 0s - loss: 0.0508 - accuracy: 0.9854\n",
      "Epoch 00016: val_loss improved from 0.04997 to 0.04149, saving model to testmodel/bestmodel\n",
      "INFO:tensorflow:Assets written to: testmodel/bestmodel/assets\n",
      "202/202 [==============================] - 3s 13ms/step - loss: 0.0509 - accuracy: 0.9853 - val_loss: 0.0415 - val_accuracy: 0.9874\n",
      "Epoch 17/200\n",
      "199/202 [============================>.] - ETA: 0s - loss: 0.0425 - accuracy: 0.9881\n",
      "Epoch 00017: val_loss improved from 0.04149 to 0.02984, saving model to testmodel/bestmodel\n",
      "INFO:tensorflow:Assets written to: testmodel/bestmodel/assets\n",
      "202/202 [==============================] - 3s 12ms/step - loss: 0.0422 - accuracy: 0.9882 - val_loss: 0.0298 - val_accuracy: 0.9888\n",
      "Epoch 18/200\n",
      "197/202 [============================>.] - ETA: 0s - loss: 0.0459 - accuracy: 0.9867\n",
      "Epoch 00018: val_loss did not improve from 0.02984\n",
      "202/202 [==============================] - 1s 7ms/step - loss: 0.0454 - accuracy: 0.9868 - val_loss: 0.0794 - val_accuracy: 0.9804\n",
      "Epoch 19/200\n",
      "198/202 [============================>.] - ETA: 0s - loss: 0.0468 - accuracy: 0.9852\n",
      "Epoch 00019: val_loss did not improve from 0.02984\n",
      "202/202 [==============================] - 1s 7ms/step - loss: 0.0473 - accuracy: 0.9851 - val_loss: 0.0407 - val_accuracy: 0.9902\n",
      "Epoch 20/200\n",
      "198/202 [============================>.] - ETA: 0s - loss: 0.0417 - accuracy: 0.9875\n",
      "Epoch 00020: val_loss did not improve from 0.02984\n",
      "202/202 [==============================] - 1s 7ms/step - loss: 0.0422 - accuracy: 0.9874 - val_loss: 0.0329 - val_accuracy: 0.9916\n",
      "Epoch 21/200\n",
      "200/202 [============================>.] - ETA: 0s - loss: 0.0400 - accuracy: 0.9883\n",
      "Epoch 00021: val_loss did not improve from 0.02984\n",
      "202/202 [==============================] - 1s 7ms/step - loss: 0.0399 - accuracy: 0.9884 - val_loss: 0.0445 - val_accuracy: 0.9874\n",
      "Epoch 22/200\n",
      "198/202 [============================>.] - ETA: 0s - loss: 0.0288 - accuracy: 0.9918\n",
      "Epoch 00022: val_loss improved from 0.02984 to 0.02342, saving model to testmodel/bestmodel\n",
      "INFO:tensorflow:Assets written to: testmodel/bestmodel/assets\n",
      "202/202 [==============================] - 3s 12ms/step - loss: 0.0295 - accuracy: 0.9913 - val_loss: 0.0234 - val_accuracy: 0.9930\n",
      "Epoch 23/200\n",
      "200/202 [============================>.] - ETA: 0s - loss: 0.0300 - accuracy: 0.9905\n",
      "Epoch 00023: val_loss did not improve from 0.02342\n",
      "202/202 [==============================] - 1s 6ms/step - loss: 0.0299 - accuracy: 0.9905 - val_loss: 0.0443 - val_accuracy: 0.9860\n",
      "Epoch 24/200\n",
      "195/202 [===========================>..] - ETA: 0s - loss: 0.0348 - accuracy: 0.9889\n",
      "Epoch 00024: val_loss did not improve from 0.02342\n",
      "202/202 [==============================] - 1s 7ms/step - loss: 0.0346 - accuracy: 0.9891 - val_loss: 0.0480 - val_accuracy: 0.9832\n",
      "Epoch 25/200\n",
      "198/202 [============================>.] - ETA: 0s - loss: 0.0318 - accuracy: 0.9896\n",
      "Epoch 00025: val_loss did not improve from 0.02342\n",
      "202/202 [==============================] - 1s 7ms/step - loss: 0.0323 - accuracy: 0.9896 - val_loss: 0.0403 - val_accuracy: 0.9846\n",
      "Epoch 26/200\n",
      "197/202 [============================>.] - ETA: 0s - loss: 0.0308 - accuracy: 0.9902\n",
      "Epoch 00026: val_loss did not improve from 0.02342\n",
      "202/202 [==============================] - 1s 7ms/step - loss: 0.0307 - accuracy: 0.9902 - val_loss: 0.0247 - val_accuracy: 0.9888\n",
      "Epoch 27/200\n",
      "198/202 [============================>.] - ETA: 0s - loss: 0.0275 - accuracy: 0.9910\n",
      "Epoch 00027: val_loss did not improve from 0.02342\n",
      "202/202 [==============================] - 1s 7ms/step - loss: 0.0281 - accuracy: 0.9907 - val_loss: 0.0373 - val_accuracy: 0.9930\n",
      "Epoch 28/200\n",
      "194/202 [===========================>..] - ETA: 0s - loss: 0.0253 - accuracy: 0.9911\n",
      "Epoch 00028: val_loss improved from 0.02342 to 0.02213, saving model to testmodel/bestmodel\n",
      "INFO:tensorflow:Assets written to: testmodel/bestmodel/assets\n",
      "202/202 [==============================] - 3s 14ms/step - loss: 0.0260 - accuracy: 0.9910 - val_loss: 0.0221 - val_accuracy: 0.9930\n",
      "Epoch 29/200\n",
      "201/202 [============================>.] - ETA: 0s - loss: 0.0302 - accuracy: 0.9913\n",
      "Epoch 00029: val_loss did not improve from 0.02213\n",
      "202/202 [==============================] - 1s 7ms/step - loss: 0.0303 - accuracy: 0.9912 - val_loss: 0.0453 - val_accuracy: 0.9832\n",
      "Epoch 30/200\n",
      "200/202 [============================>.] - ETA: 0s - loss: 0.0238 - accuracy: 0.9930\n",
      "Epoch 00030: val_loss did not improve from 0.02213\n",
      "202/202 [==============================] - 1s 7ms/step - loss: 0.0236 - accuracy: 0.9930 - val_loss: 0.0256 - val_accuracy: 0.9930\n",
      "Epoch 31/200\n",
      "196/202 [============================>.] - ETA: 0s - loss: 0.0241 - accuracy: 0.9923\n",
      "Epoch 00031: val_loss improved from 0.02213 to 0.01878, saving model to testmodel/bestmodel\n",
      "INFO:tensorflow:Assets written to: testmodel/bestmodel/assets\n",
      "202/202 [==============================] - 3s 12ms/step - loss: 0.0237 - accuracy: 0.9926 - val_loss: 0.0188 - val_accuracy: 0.9958\n",
      "Epoch 32/200\n",
      "194/202 [===========================>..] - ETA: 0s - loss: 0.0208 - accuracy: 0.9934\n",
      "Epoch 00032: val_loss did not improve from 0.01878\n",
      "202/202 [==============================] - 1s 7ms/step - loss: 0.0204 - accuracy: 0.9935 - val_loss: 0.0340 - val_accuracy: 0.9888\n",
      "Epoch 33/200\n",
      "195/202 [===========================>..] - ETA: 0s - loss: 0.0217 - accuracy: 0.9934\n",
      "Epoch 00033: val_loss did not improve from 0.01878\n",
      "202/202 [==============================] - 1s 7ms/step - loss: 0.0219 - accuracy: 0.9933 - val_loss: 0.0675 - val_accuracy: 0.9776\n",
      "Epoch 34/200\n",
      "196/202 [============================>.] - ETA: 0s - loss: 0.0245 - accuracy: 0.9935\n",
      "Epoch 00034: val_loss did not improve from 0.01878\n",
      "202/202 [==============================] - 1s 7ms/step - loss: 0.0242 - accuracy: 0.9935 - val_loss: 0.0310 - val_accuracy: 0.9902\n",
      "Epoch 35/200\n",
      "202/202 [==============================] - ETA: 0s - loss: 0.0224 - accuracy: 0.9935\n",
      "Epoch 00035: val_loss did not improve from 0.01878\n",
      "202/202 [==============================] - 1s 7ms/step - loss: 0.0224 - accuracy: 0.9935 - val_loss: 0.0293 - val_accuracy: 0.9874\n",
      "Epoch 36/200\n",
      "196/202 [============================>.] - ETA: 0s - loss: 0.0181 - accuracy: 0.9947\n",
      "Epoch 00036: val_loss did not improve from 0.01878\n",
      "202/202 [==============================] - 1s 7ms/step - loss: 0.0177 - accuracy: 0.9949 - val_loss: 0.0824 - val_accuracy: 0.9790\n",
      "Epoch 37/200\n",
      "197/202 [============================>.] - ETA: 0s - loss: 0.0206 - accuracy: 0.9924\n",
      "Epoch 00037: val_loss did not improve from 0.01878\n",
      "202/202 [==============================] - 1s 7ms/step - loss: 0.0204 - accuracy: 0.9926 - val_loss: 0.0346 - val_accuracy: 0.9916\n",
      "Epoch 38/200\n",
      "198/202 [============================>.] - ETA: 0s - loss: 0.0182 - accuracy: 0.9934\n",
      "Epoch 00038: val_loss did not improve from 0.01878\n",
      "202/202 [==============================] - 1s 7ms/step - loss: 0.0180 - accuracy: 0.9935 - val_loss: 0.0292 - val_accuracy: 0.9944\n",
      "Epoch 39/200\n",
      "195/202 [===========================>..] - ETA: 0s - loss: 0.0116 - accuracy: 0.9968\n",
      "Epoch 00039: val_loss did not improve from 0.01878\n",
      "202/202 [==============================] - 1s 7ms/step - loss: 0.0115 - accuracy: 0.9967 - val_loss: 0.0329 - val_accuracy: 0.9944\n",
      "Epoch 40/200\n",
      "197/202 [============================>.] - ETA: 0s - loss: 0.0118 - accuracy: 0.9978\n",
      "Epoch 00040: val_loss did not improve from 0.01878\n",
      "202/202 [==============================] - 1s 7ms/step - loss: 0.0127 - accuracy: 0.9975 - val_loss: 0.0281 - val_accuracy: 0.9958\n",
      "Epoch 41/200\n",
      "202/202 [==============================] - ETA: 0s - loss: 0.0146 - accuracy: 0.9961\n",
      "Epoch 00041: val_loss did not improve from 0.01878\n",
      "202/202 [==============================] - 1s 7ms/step - loss: 0.0146 - accuracy: 0.9961 - val_loss: 0.0242 - val_accuracy: 0.9972\n",
      "Epoch 42/200\n",
      "197/202 [============================>.] - ETA: 0s - loss: 0.0149 - accuracy: 0.9952\n",
      "Epoch 00042: val_loss did not improve from 0.01878\n",
      "202/202 [==============================] - 1s 7ms/step - loss: 0.0147 - accuracy: 0.9953 - val_loss: 0.0195 - val_accuracy: 0.9944\n",
      "Epoch 43/200\n",
      "196/202 [============================>.] - ETA: 0s - loss: 0.0094 - accuracy: 0.9974\n",
      "Epoch 00043: val_loss did not improve from 0.01878\n",
      "202/202 [==============================] - 1s 7ms/step - loss: 0.0094 - accuracy: 0.9974 - val_loss: 0.0240 - val_accuracy: 0.9944\n",
      "Epoch 44/200\n",
      "195/202 [===========================>..] - ETA: 0s - loss: 0.0112 - accuracy: 0.9965\n",
      "Epoch 00044: val_loss improved from 0.01878 to 0.01665, saving model to testmodel/bestmodel\n",
      "INFO:tensorflow:Assets written to: testmodel/bestmodel/assets\n",
      "202/202 [==============================] - 3s 12ms/step - loss: 0.0114 - accuracy: 0.9964 - val_loss: 0.0166 - val_accuracy: 0.9944\n",
      "Epoch 45/200\n",
      "193/202 [===========================>..] - ETA: 0s - loss: 0.0088 - accuracy: 0.9969\n",
      "Epoch 00045: val_loss did not improve from 0.01665\n",
      "202/202 [==============================] - 1s 7ms/step - loss: 0.0087 - accuracy: 0.9969 - val_loss: 0.0231 - val_accuracy: 0.9944\n",
      "Epoch 46/200\n",
      "198/202 [============================>.] - ETA: 0s - loss: 0.0100 - accuracy: 0.9970\n",
      "Epoch 00046: val_loss did not improve from 0.01665\n",
      "202/202 [==============================] - 1s 7ms/step - loss: 0.0099 - accuracy: 0.9971 - val_loss: 0.0244 - val_accuracy: 0.9944\n",
      "Epoch 47/200\n",
      "201/202 [============================>.] - ETA: 0s - loss: 0.0077 - accuracy: 0.9975\n",
      "Epoch 00047: val_loss did not improve from 0.01665\n",
      "202/202 [==============================] - 1s 7ms/step - loss: 0.0077 - accuracy: 0.9975 - val_loss: 0.0250 - val_accuracy: 0.9930\n",
      "Epoch 48/200\n",
      "202/202 [==============================] - ETA: 0s - loss: 0.0086 - accuracy: 0.9971\n",
      "Epoch 00048: val_loss did not improve from 0.01665\n",
      "202/202 [==============================] - 1s 7ms/step - loss: 0.0086 - accuracy: 0.9971 - val_loss: 0.0333 - val_accuracy: 0.9944\n",
      "Epoch 49/200\n",
      "195/202 [===========================>..] - ETA: 0s - loss: 0.0082 - accuracy: 0.9981\n",
      "Epoch 00049: val_loss did not improve from 0.01665\n",
      "202/202 [==============================] - 1s 7ms/step - loss: 0.0080 - accuracy: 0.9981 - val_loss: 0.0354 - val_accuracy: 0.9944\n",
      "Epoch 50/200\n",
      "195/202 [===========================>..] - ETA: 0s - loss: 0.0072 - accuracy: 0.9978\n",
      "Epoch 00050: val_loss did not improve from 0.01665\n",
      "202/202 [==============================] - 1s 7ms/step - loss: 0.0075 - accuracy: 0.9977 - val_loss: 0.0266 - val_accuracy: 0.9944\n",
      "Epoch 51/200\n",
      "201/202 [============================>.] - ETA: 0s - loss: 0.0075 - accuracy: 0.9983\n",
      "Epoch 00051: val_loss did not improve from 0.01665\n",
      "202/202 [==============================] - 1s 7ms/step - loss: 0.0081 - accuracy: 0.9981 - val_loss: 0.0319 - val_accuracy: 0.9916\n",
      "Epoch 52/200\n",
      "195/202 [===========================>..] - ETA: 0s - loss: 0.0080 - accuracy: 0.9973\n",
      "Epoch 00052: val_loss did not improve from 0.01665\n",
      "202/202 [==============================] - 1s 7ms/step - loss: 0.0080 - accuracy: 0.9972 - val_loss: 0.0286 - val_accuracy: 0.9944\n",
      "Epoch 53/200\n",
      "201/202 [============================>.] - ETA: 0s - loss: 0.0077 - accuracy: 0.9978\n",
      "Epoch 00053: val_loss did not improve from 0.01665\n",
      "202/202 [==============================] - 1s 7ms/step - loss: 0.0078 - accuracy: 0.9977 - val_loss: 0.0264 - val_accuracy: 0.9958\n",
      "Epoch 54/200\n",
      "201/202 [============================>.] - ETA: 0s - loss: 0.0084 - accuracy: 0.9974\n",
      "Epoch 00054: val_loss did not improve from 0.01665\n",
      "202/202 [==============================] - 1s 7ms/step - loss: 0.0084 - accuracy: 0.9974 - val_loss: 0.0258 - val_accuracy: 0.9944\n",
      "Epoch 55/200\n",
      "201/202 [============================>.] - ETA: 0s - loss: 0.0063 - accuracy: 0.9983\n",
      "Epoch 00055: val_loss did not improve from 0.01665\n",
      "202/202 [==============================] - 1s 7ms/step - loss: 0.0063 - accuracy: 0.9983 - val_loss: 0.0261 - val_accuracy: 0.9944\n",
      "Epoch 56/200\n",
      "199/202 [============================>.] - ETA: 0s - loss: 0.0067 - accuracy: 0.9984\n",
      "Epoch 00056: val_loss did not improve from 0.01665\n",
      "202/202 [==============================] - 1s 7ms/step - loss: 0.0066 - accuracy: 0.9984 - val_loss: 0.0273 - val_accuracy: 0.9944\n",
      "Epoch 57/200\n",
      "196/202 [============================>.] - ETA: 0s - loss: 0.0068 - accuracy: 0.9984\n",
      "Epoch 00057: val_loss did not improve from 0.01665\n",
      "202/202 [==============================] - 1s 7ms/step - loss: 0.0084 - accuracy: 0.9975 - val_loss: 0.0221 - val_accuracy: 0.9958\n",
      "Epoch 58/200\n",
      "201/202 [============================>.] - ETA: 0s - loss: 0.0056 - accuracy: 0.9981\n",
      "Epoch 00058: val_loss did not improve from 0.01665\n",
      "202/202 [==============================] - 1s 7ms/step - loss: 0.0056 - accuracy: 0.9981 - val_loss: 0.0267 - val_accuracy: 0.9958\n",
      "Epoch 59/200\n",
      "199/202 [============================>.] - ETA: 0s - loss: 0.0051 - accuracy: 0.9986\n",
      "Epoch 00059: val_loss did not improve from 0.01665\n",
      "202/202 [==============================] - 1s 7ms/step - loss: 0.0051 - accuracy: 0.9986 - val_loss: 0.0280 - val_accuracy: 0.9944\n",
      "Epoch 60/200\n",
      "202/202 [==============================] - ETA: 0s - loss: 0.0069 - accuracy: 0.9983\n",
      "Epoch 00060: val_loss did not improve from 0.01665\n",
      "202/202 [==============================] - 1s 7ms/step - loss: 0.0069 - accuracy: 0.9983 - val_loss: 0.0281 - val_accuracy: 0.9944\n",
      "Epoch 61/200\n",
      "201/202 [============================>.] - ETA: 0s - loss: 0.0058 - accuracy: 0.9981\n",
      "Epoch 00061: val_loss did not improve from 0.01665\n",
      "202/202 [==============================] - 1s 7ms/step - loss: 0.0058 - accuracy: 0.9981 - val_loss: 0.0234 - val_accuracy: 0.9958\n",
      "Epoch 62/200\n",
      "194/202 [===========================>..] - ETA: 0s - loss: 0.0053 - accuracy: 0.9989\n",
      "Epoch 00062: val_loss did not improve from 0.01665\n",
      "202/202 [==============================] - 1s 7ms/step - loss: 0.0052 - accuracy: 0.9989 - val_loss: 0.0255 - val_accuracy: 0.9958\n",
      "Epoch 63/200\n",
      "199/202 [============================>.] - ETA: 0s - loss: 0.0043 - accuracy: 0.9989\n",
      "Epoch 00063: val_loss did not improve from 0.01665\n",
      "202/202 [==============================] - 1s 7ms/step - loss: 0.0043 - accuracy: 0.9989 - val_loss: 0.0246 - val_accuracy: 0.9958\n",
      "Epoch 64/200\n",
      "197/202 [============================>.] - ETA: 0s - loss: 0.0062 - accuracy: 0.9979\n",
      "Epoch 00064: val_loss did not improve from 0.01665\n",
      "202/202 [==============================] - 1s 7ms/step - loss: 0.0061 - accuracy: 0.9980 - val_loss: 0.0264 - val_accuracy: 0.9958\n",
      "Epoch 65/200\n",
      "199/202 [============================>.] - ETA: 0s - loss: 0.0049 - accuracy: 0.9986\n",
      "Epoch 00065: val_loss did not improve from 0.01665\n",
      "202/202 [==============================] - 1s 7ms/step - loss: 0.0049 - accuracy: 0.9986 - val_loss: 0.0265 - val_accuracy: 0.9958\n",
      "Epoch 66/200\n",
      "194/202 [===========================>..] - ETA: 0s - loss: 0.0039 - accuracy: 0.9990\n",
      "Epoch 00066: val_loss did not improve from 0.01665\n",
      "202/202 [==============================] - 1s 7ms/step - loss: 0.0041 - accuracy: 0.9989 - val_loss: 0.0273 - val_accuracy: 0.9958\n",
      "Epoch 67/200\n",
      "198/202 [============================>.] - ETA: 0s - loss: 0.0038 - accuracy: 0.9992\n",
      "Epoch 00067: val_loss did not improve from 0.01665\n",
      "202/202 [==============================] - 1s 7ms/step - loss: 0.0041 - accuracy: 0.9991 - val_loss: 0.0279 - val_accuracy: 0.9958\n",
      "Epoch 68/200\n",
      "193/202 [===========================>..] - ETA: 0s - loss: 0.0050 - accuracy: 0.9985\n",
      "Epoch 00068: val_loss did not improve from 0.01665\n",
      "202/202 [==============================] - 1s 7ms/step - loss: 0.0048 - accuracy: 0.9986 - val_loss: 0.0258 - val_accuracy: 0.9958\n",
      "Epoch 69/200\n",
      "196/202 [============================>.] - ETA: 0s - loss: 0.0052 - accuracy: 0.9990\n",
      "Epoch 00069: val_loss did not improve from 0.01665\n",
      "202/202 [==============================] - 1s 7ms/step - loss: 0.0056 - accuracy: 0.9988 - val_loss: 0.0262 - val_accuracy: 0.9958\n",
      "Epoch 70/200\n",
      "199/202 [============================>.] - ETA: 0s - loss: 0.0043 - accuracy: 0.9987\n",
      "Epoch 00070: val_loss did not improve from 0.01665\n",
      "202/202 [==============================] - 1s 7ms/step - loss: 0.0043 - accuracy: 0.9988 - val_loss: 0.0258 - val_accuracy: 0.9958\n",
      "Epoch 71/200\n",
      "200/202 [============================>.] - ETA: 0s - loss: 0.0042 - accuracy: 0.9991\n",
      "Epoch 00071: val_loss did not improve from 0.01665\n",
      "202/202 [==============================] - 1s 7ms/step - loss: 0.0042 - accuracy: 0.9991 - val_loss: 0.0275 - val_accuracy: 0.9958\n",
      "Epoch 72/200\n",
      "201/202 [============================>.] - ETA: 0s - loss: 0.0024 - accuracy: 0.9997\n",
      "Epoch 00072: val_loss did not improve from 0.01665\n",
      "202/202 [==============================] - 1s 7ms/step - loss: 0.0024 - accuracy: 0.9997 - val_loss: 0.0264 - val_accuracy: 0.9958\n",
      "Epoch 73/200\n",
      "202/202 [==============================] - ETA: 0s - loss: 0.0032 - accuracy: 0.9995\n",
      "Epoch 00073: val_loss did not improve from 0.01665\n",
      "202/202 [==============================] - 1s 7ms/step - loss: 0.0032 - accuracy: 0.9995 - val_loss: 0.0267 - val_accuracy: 0.9958\n",
      "Epoch 74/200\n",
      "198/202 [============================>.] - ETA: 0s - loss: 0.0040 - accuracy: 0.9991\n",
      "Epoch 00074: val_loss did not improve from 0.01665\n",
      "202/202 [==============================] - 1s 7ms/step - loss: 0.0044 - accuracy: 0.9989 - val_loss: 0.0262 - val_accuracy: 0.9958\n",
      "Model: \"functional_7\"\n",
      "_________________________________________________________________\n",
      "Layer (type)                 Output Shape              Param #   \n",
      "=================================================================\n",
      "input_4 (InputLayer)         [(None, 7, 7, 1920)]      0         \n",
      "_________________________________________________________________\n",
      "global_average_pooling2d_3 ( (None, 1920)              0         \n",
      "_________________________________________________________________\n",
      "dense_12 (Dense)             (None, 512)               983552    \n",
      "_________________________________________________________________\n",
      "batch_normalization_6 (Batch (None, 512)               2048      \n",
      "_________________________________________________________________\n",
      "dense_13 (Dense)             (None, 256)               131328    \n",
      "_________________________________________________________________\n",
      "dropout_3 (Dropout)          (None, 256)               0         \n",
      "_________________________________________________________________\n",
      "dense_14 (Dense)             (None, 128)               32896     \n",
      "_________________________________________________________________\n",
      "batch_normalization_7 (Batch (None, 128)               512       \n",
      "_________________________________________________________________\n",
      "dense_15 (Dense)             (None, 1)                 129       \n",
      "=================================================================\n",
      "Total params: 1,150,465\n",
      "Trainable params: 1,149,185\n",
      "Non-trainable params: 1,280\n",
      "_________________________________________________________________\n"
     ]
    }
   ],
   "source": [
    "history = model.fit(train_features, train_Y, \n",
    "                    validation_data=(valid_features, valid_Y),\n",
    "                    epochs = 200,\n",
    "                    batch_size = batch_size,\n",
    "                    callbacks=callbacks_list)\n",
    "model.summary()"
   ]
  },
  {
   "cell_type": "code",
   "execution_count": 34,
   "metadata": {
    "executionInfo": {
     "elapsed": 1504,
     "status": "ok",
     "timestamp": 1603414174805,
     "user": {
      "displayName": "하얀토마토",
      "photoUrl": "https://lh3.googleusercontent.com/a-/AOh14Gg6vDBrxCTQgLfR3k4Ki87kEMHbAng403bLeTrH=s64",
      "userId": "01056407583135415771"
     },
     "user_tz": -540
    },
    "id": "YBoKCfQ1VPAB"
   },
   "outputs": [],
   "source": [
    "model.save('/content/drive/My Drive/인공지능 학습관련/covid_model_2class.h5')"
   ]
  },
  {
   "cell_type": "code",
   "execution_count": 18,
   "metadata": {
    "colab": {
     "base_uri": "https://localhost:8080/",
     "height": 573
    },
    "executionInfo": {
     "elapsed": 936,
     "status": "ok",
     "timestamp": 1603414283315,
     "user": {
      "displayName": "하얀토마토",
      "photoUrl": "https://lh3.googleusercontent.com/a-/AOh14Gg6vDBrxCTQgLfR3k4Ki87kEMHbAng403bLeTrH=s64",
      "userId": "01056407583135415771"
     },
     "user_tz": -540
    },
    "id": "EXkLDZJWVPCE",
    "outputId": "1532d2dd-a858-457d-d8f0-f6f9a4c0ed61"
   },
   "outputs": [
    {
     "data": {
      "image/png": "[encoded data removed]",
      "text/plain": [
       "<Figure size 432x288 with 1 Axes>"
      ]
     },
     "metadata": {
      "needs_background": "light"
     },
     "output_type": "display_data"
    },
    {
     "data": {
      "image/png": "[encoded data removed]",
      "text/plain": [
       "<Figure size 432x288 with 1 Axes>"
      ]
     },
     "metadata": {
      "needs_background": "light"
     },
     "output_type": "display_data"
    }
   ],
   "source": [
    "# 모델 acc/loss 그래프\n",
    "\n",
    "## summarize history for accuracy\n",
    "plt.plot(history.history['accuracy'])\n",
    "plt.plot(history.history['val_accuracy'])\n",
    "plt.title('model accuracy')\n",
    "plt.ylabel('accuracy')\n",
    "plt.xlabel('epoch')\n",
    "plt.legend(['train', 'test'], loc='best')\n",
    "plt.show()\n",
    "## summarize history for loss\n",
    "plt.plot(history.history['loss'])\n",
    "plt.plot(history.history['val_loss'])\n",
    "plt.title('model loss')\n",
    "plt.ylabel('loss')\n",
    "plt.xlabel('epoch')\n",
    "plt.legend(['train', 'test'], loc='best')\n",
    "\n",
    "plt.show()"
   ]
  },
  {
   "cell_type": "code",
   "execution_count": 22,
   "metadata": {
    "colab": {
     "base_uri": "https://localhost:8080/",
     "height": 439
    },
    "executionInfo": {
     "elapsed": 1058,
     "status": "ok",
     "timestamp": 1603414294609,
     "user": {
      "displayName": "하얀토마토",
      "photoUrl": "https://lh3.googleusercontent.com/a-/AOh14Gg6vDBrxCTQgLfR3k4Ki87kEMHbAng403bLeTrH=s64",
      "userId": "01056407583135415771"
     },
     "user_tz": -540
    },
    "id": "EcssdRvrVPGP",
    "outputId": "9b4cf8eb-cb18-4af4-dc6c-91ab5a2c142f"
   },
   "outputs": [
    {
     "name": "stdout",
     "output_type": "stream",
     "text": [
      "23/23 [==============================] - 0s 5ms/step - loss: 0.0166 - accuracy: 0.9944\n",
      "[0.016648393124341965, 0.9944055676460266]\n",
      "Model: \"functional_7\"\n",
      "_________________________________________________________________\n",
      "Layer (type)                 Output Shape              Param #   \n",
      "=================================================================\n",
      "input_4 (InputLayer)         [(None, 7, 7, 1920)]      0         \n",
      "_________________________________________________________________\n",
      "global_average_pooling2d_3 ( (None, 1920)              0         \n",
      "_________________________________________________________________\n",
      "dense_12 (Dense)             (None, 512)               983552    \n",
      "_________________________________________________________________\n",
      "batch_normalization_6 (Batch (None, 512)               2048      \n",
      "_________________________________________________________________\n",
      "dense_13 (Dense)             (None, 256)               131328    \n",
      "_________________________________________________________________\n",
      "dropout_3 (Dropout)          (None, 256)               0         \n",
      "_________________________________________________________________\n",
      "dense_14 (Dense)             (None, 128)               32896     \n",
      "_________________________________________________________________\n",
      "batch_normalization_7 (Batch (None, 128)               512       \n",
      "_________________________________________________________________\n",
      "dense_15 (Dense)             (None, 1)                 129       \n",
      "=================================================================\n",
      "Total params: 1,150,465\n",
      "Trainable params: 1,149,185\n",
      "Non-trainable params: 1,280\n",
      "_________________________________________________________________\n"
     ]
    }
   ],
   "source": [
    "best_model = load_model(checkpoint_path)\n",
    "\n",
    "# 모델 평가\n",
    "print(best_model.evaluate(valid_features, valid_Y))\n",
    "best_model.summary()"
   ]
  },
  {
   "cell_type": "code",
   "execution_count": 24,
   "metadata": {
    "executionInfo": {
     "elapsed": 1563,
     "status": "ok",
     "timestamp": 1603414303580,
     "user": {
      "displayName": "하얀토마토",
      "photoUrl": "https://lh3.googleusercontent.com/a-/AOh14Gg6vDBrxCTQgLfR3k4Ki87kEMHbAng403bLeTrH=s64",
      "userId": "01056407583135415771"
     },
     "user_tz": -540
    },
    "id": "U8VihFrcVPIa"
   },
   "outputs": [],
   "source": [
    "best_model.save('Covid_2class.h5')"
   ]
  },
  {
   "cell_type": "code",
   "execution_count": 26,
   "metadata": {},
   "outputs": [
    {
     "name": "stdout",
     "output_type": "stream",
     "text": [
      "Found 1127 images belonging to 2 classes.\n"
     ]
    }
   ],
   "source": [
    "image_size = 224\n",
    "\n",
    "test_datagen = ImageDataGenerator()\n",
    "\n",
    "test_generator = test_datagen.flow_from_directory(directory = '../image_data/cropped_test/',\n",
    "                                                    subset = 'training',   \n",
    "                                                    batch_size = 1,\n",
    "                                                    seed = 126,\n",
    "                                                    shuffle = True,\n",
    "                                                    class_mode = 'binary',\n",
    "                                                    target_size = (image_size,image_size))"
   ]
  },
  {
   "cell_type": "code",
   "execution_count": 9,
   "metadata": {
    "colab": {
     "base_uri": "https://localhost:8080/",
     "height": 262
    },
    "executionInfo": {
     "elapsed": 2462,
     "status": "ok",
     "timestamp": 1603432863357,
     "user": {
      "displayName": "하얀토마토",
      "photoUrl": "https://lh3.googleusercontent.com/a-/AOh14Gg6vDBrxCTQgLfR3k4Ki87kEMHbAng403bLeTrH=s64",
      "userId": "01056407583135415771"
     },
     "user_tz": -540
    },
    "id": "A_cZOtkRVhMf",
    "outputId": "e433aba2-7caf-4a94-bd95-9e13d148dfb0"
   },
   "outputs": [
    {
     "name": "stdout",
     "output_type": "stream",
     "text": [
      "(1, 299, 299, 3)\n",
      "non-COVID content\n"
     ]
    },
    {
     "data": {
      "image/png": "[encoded data removed]",
      "text/plain": [
       "<Figure size 1152x216 with 2 Axes>"
      ]
     },
     "metadata": {
      "needs_background": "light",
      "tags": []
     },
     "output_type": "display_data"
    }
   ],
   "source": [
    "# import random\n",
    "# import cv2\n",
    "\n",
    "predictY = []\n",
    "realY = []\n",
    "iter = 1\n",
    "model = model2\n",
    "\n",
    "unique_sorted_Y = ['COVID','non-COVID']\n",
    "\n",
    "for i in range(iter): \n",
    "    plt.figure(figsize=(16,iter*3))\n",
    "    # image_path = random.choice(test_generator.filepaths)\n",
    "    image_path='/content/KakaoTalk_20201023_150029203.jpg'\n",
    "    \n",
    "    #출력 범위 설정 \n",
    "    plt.subplot(iter,2,i*2+1)\n",
    "\n",
    "    #검증데이터 출력 \n",
    "    plt.imshow(plt.imread(image_path))\n",
    "\n",
    "    # split('/')를 통해 나눠진 부분 중 3번째 획득\n",
    "    real_y = image_path.split('/')[-2]\n",
    "    # real_y → bluetick 출력 \n",
    "    #타이틀 출력 \n",
    "    plt.title(real_y)\n",
    "    plt.axis('off')\n",
    "    #unique_sorted_Y 에 저장된 값을 바탕으로 real_y의 위치 값 할당 \n",
    "    # idx = unique_sorted_Y.index(real_y)\n",
    "    # idx → ex) 81, ...  \n",
    "\n",
    "    #예측값 표기\n",
    "    plt.subplot(iter,2,i * 2+2)\n",
    "\n",
    "    img_size = (299, 299)\n",
    "    # 이미지 불러오기 및 이미지 크기 조정\n",
    "    img = keras.preprocessing.image.load_img(image_path, target_size=img_size)\n",
    "    # 이미지를 array로 변경\n",
    "    img = keras.preprocessing.image.img_to_array(img)\n",
    "    # 각 픽셀값을 0과 1사이의 값으로 조정\n",
    "    img = img / 255.0\n",
    "    # 모델의 인풋 타입에 맞게 차원을 하나 늘림\n",
    "    img = np.expand_dims(img, axis=0)\n",
    "    print(img.shape)\n",
    "\n",
    "    #img를 Inception V3의 특징 추출기 feature_model을 활용하여 특징 벡터를 생성. \n",
    "    feature_vector = feature_model.predict(img)\n",
    "\n",
    "    # 앞서 생성한 model 분류기를 통해 예측 수행\n",
    "    prediction = model.predict(feature_vector)[0]\n",
    "    \n",
    "    color = ['gray'] * 2\n",
    "    if prediction <= 0.5:\n",
    "        predict = 0\n",
    "        color[0] = 'blue'\n",
    "        label = 'COVID'\n",
    "    else:\n",
    "        predict = 1\n",
    "        color[1] = 'blue'\n",
    "        label = 'non-COVID'\n",
    "\n",
    "    covid_ratio = float(1-prediction)\n",
    "    non_ration = float(prediction)\n",
    "\n",
    "    ratio = np.zeros(2)\n",
    "    ratio[0] = covid_ratio\n",
    "    ratio[1] = non_ration\n",
    "\n",
    "    #가로 막대 그리기 \n",
    "    plt.barh(range(2), ratio * 100, color = color)\n",
    "    plt.yticks(range(2), unique_sorted_Y)\n",
    "\n",
    "    # print(labels[0], realY[0])\n",
    "    predictY.append(label)\n",
    "    realY.append(real_y)\n",
    "    print(label,real_y)\n",
    "    plt.show()"
   ]
  },
  {
   "cell_type": "code",
   "execution_count": 3,
   "metadata": {
    "colab": {
     "base_uri": "https://localhost:8080/",
     "height": 1000
    },
    "executionInfo": {
     "elapsed": 417723,
     "status": "ok",
     "timestamp": 1603414741017,
     "user": {
      "displayName": "하얀토마토",
      "photoUrl": "https://lh3.googleusercontent.com/a-/AOh14Gg6vDBrxCTQgLfR3k4Ki87kEMHbAng403bLeTrH=s64",
      "userId": "01056407583135415771"
     },
     "user_tz": -540
    },
    "id": "qUR5M_VyVhQb",
    "outputId": "84722470-4d83-4671-c010-775b5034cbb2"
   },
   "outputs": [
    {
     "ename": "NameError",
     "evalue": "name 'model2' is not defined",
     "output_type": "error",
     "traceback": [
      "\u001b[0;31m---------------------------------------------------------------------------\u001b[0m",
      "\u001b[0;31mNameError\u001b[0m                                 Traceback (most recent call last)",
      "\u001b[0;32m<ipython-input-3-88602781f5ba>\u001b[0m in \u001b[0;36m<module>\u001b[0;34m\u001b[0m\n\u001b[1;32m      6\u001b[0m \u001b[0mrealY\u001b[0m \u001b[0;34m=\u001b[0m \u001b[0;34m[\u001b[0m\u001b[0;34m]\u001b[0m\u001b[0;34m\u001b[0m\u001b[0;34m\u001b[0m\u001b[0m\n\u001b[1;32m      7\u001b[0m \u001b[0miteration\u001b[0m \u001b[0;34m=\u001b[0m \u001b[0;36m1000\u001b[0m\u001b[0;34m\u001b[0m\u001b[0;34m\u001b[0m\u001b[0m\n\u001b[0;32m----> 8\u001b[0;31m \u001b[0mmodel\u001b[0m \u001b[0;34m=\u001b[0m \u001b[0mmodel2\u001b[0m\u001b[0;34m\u001b[0m\u001b[0;34m\u001b[0m\u001b[0m\n\u001b[0m\u001b[1;32m      9\u001b[0m \u001b[0munique_sorted_Y\u001b[0m \u001b[0;34m=\u001b[0m \u001b[0;34m[\u001b[0m\u001b[0;34m'negative'\u001b[0m\u001b[0;34m,\u001b[0m\u001b[0;34m'positive'\u001b[0m\u001b[0;34m]\u001b[0m\u001b[0;34m\u001b[0m\u001b[0;34m\u001b[0m\u001b[0m\n\u001b[1;32m     10\u001b[0m \u001b[0;34m\u001b[0m\u001b[0m\n",
      "\u001b[0;31mNameError\u001b[0m: name 'model2' is not defined"
     ]
    }
   ],
   "source": [
    "# 글자만.\n",
    "import random\n",
    "# import cv2\n",
    "\n",
    "predictY = []\n",
    "realY = []\n",
    "iteration = 1000\n",
    "model = model2\n",
    "unique_sorted_Y = ['negative','positive']\n",
    "\n",
    "for i in range(iteration): \n",
    "    image_path = random.choice(test_generator.filepaths)\n",
    "    real_y = image_path.split('/')[-2] \n",
    "\n",
    "    img_size = (image_size, image_size)\n",
    "    # 이미지 불러오기 및 이미지 크기 조정\n",
    "    img = keras.preprocessing.image.load_img(image_path, target_size=img_size)\n",
    "    # 이미지를 array로 변경\n",
    "    img = keras.preprocessing.image.img_to_array(img)\n",
    "    \n",
    "\n",
    "    # 각 픽셀값을 0과 1사이의 값으로 조정\n",
    "    img = img / 255.0\n",
    "    # 모델의 인풋 타입에 맞게 차원을 하나 늘림\n",
    "    img = np.expand_dims(img, axis=0)\n",
    "    \n",
    "    feature_vector = feature_model.predict(img)\n",
    "\n",
    "    prediction = model.predict(feature_vector)[0]\n",
    "    # print(prediction)\n",
    "    if prediction <= 0.5:\n",
    "        predict = 0\n",
    "    else:\n",
    "        predict = 1\n",
    "    #labels에 저장 \n",
    "    label = unique_sorted_Y[predict] \n",
    "    \n",
    "    # print(labels[0], realY[0])\n",
    "    predictY.append(label)\n",
    "    realY.append(real_y)\n",
    "    print(label,real_y)"
   ]
  },
  {
   "cell_type": "code",
   "execution_count": 47,
   "metadata": {
    "colab": {
     "base_uri": "https://localhost:8080/",
     "height": 364
    },
    "executionInfo": {
     "elapsed": 913,
     "status": "ok",
     "timestamp": 1603414741957,
     "user": {
      "displayName": "하얀토마토",
      "photoUrl": "https://lh3.googleusercontent.com/a-/AOh14Gg6vDBrxCTQgLfR3k4Ki87kEMHbAng403bLeTrH=s64",
      "userId": "01056407583135415771"
     },
     "user_tz": -540
    },
    "id": "gQAL-P_wVhSe",
    "outputId": "b606bdf5-1658-4e95-ea3b-bebe72cef9e9"
   },
   "outputs": [
    {
     "name": "stdout",
     "output_type": "stream",
     "text": [
      "Confusion matrix, without normalization\n",
      "[[100   7]\n",
      " [ 13 880]]\n"
     ]
    },
    {
     "data": {
      "image/png": "[encoded data removed]",
      "text/plain": [
       "<Figure size 432x288 with 2 Axes>"
      ]
     },
     "metadata": {
      "needs_background": "light",
      "tags": []
     },
     "output_type": "display_data"
    }
   ],
   "source": [
    "import itertools\n",
    "from sklearn.metrics import confusion_matrix\n",
    "\n",
    "cm=confusion_matrix(predictY, realY)\n",
    "\n",
    "def plot_confusion_matrix(cm, classes,\n",
    "                          normalize=False,\n",
    "                          title='Confusion matrix',\n",
    "                          cmap=plt.cm.Blues):\n",
    "    \"\"\"\n",
    "    This function prints and plots the confusion matrix.\n",
    "    Normalization can be applied by setting `normalize=True`.\n",
    "    \"\"\"\n",
    "    plt.imshow(cm, interpolation='nearest', cmap=cmap)\n",
    "    plt.title(title)\n",
    "    plt.colorbar()\n",
    "    tick_marks = np.arange(len(classes))\n",
    "    plt.xticks(tick_marks, classes, rotation=45)\n",
    "    plt.yticks(tick_marks, classes)\n",
    "    if normalize:\n",
    "        cm = cm.astype('float') / cm.sum(axis=1)[:, np.newaxis]\n",
    "        print(\"Normalized confusion matrix\")\n",
    "    else:\n",
    "        print('Confusion matrix, without normalization')\n",
    "    print(cm)\n",
    "    thresh = cm.max() / 2.\n",
    "    for i, j in itertools.product(range(cm.shape[0]), range(cm.shape[1])):\n",
    "        plt.text(j, i, cm[i, j],\n",
    "                 horizontalalignment=\"center\",\n",
    "                 color=\"white\" if cm[i, j] > thresh else \"black\")\n",
    "    plt.tight_layout()\n",
    "    plt.ylabel('True label')\n",
    "    plt.xlabel('Predicted label')\n",
    "plt.figure()\n",
    "plot_confusion_matrix(cm, classes=['CODVID', 'non-COVID'], title='Confusion matrix, without normalization')"
   ]
  },
  {
   "cell_type": "code",
   "execution_count": null,
   "metadata": {
    "executionInfo": {
     "elapsed": 5297341,
     "status": "aborted",
     "timestamp": 1603394273558,
     "user": {
      "displayName": "하얀토마토",
      "photoUrl": "https://lh3.googleusercontent.com/a-/AOh14Gg6vDBrxCTQgLfR3k4Ki87kEMHbAng403bLeTrH=s64",
      "userId": "01056407583135415771"
     },
     "user_tz": -540
    },
    "id": "4ZWVaAtyVhU7"
   },
   "outputs": [],
   "source": []
  },
  {
   "cell_type": "code",
   "execution_count": null,
   "metadata": {
    "executionInfo": {
     "elapsed": 5297337,
     "status": "aborted",
     "timestamp": 1603394273558,
     "user": {
      "displayName": "하얀토마토",
      "photoUrl": "https://lh3.googleusercontent.com/a-/AOh14Gg6vDBrxCTQgLfR3k4Ki87kEMHbAng403bLeTrH=s64",
      "userId": "01056407583135415771"
     },
     "user_tz": -540
    },
    "id": "HWDeCu6qVhXJ"
   },
   "outputs": [],
   "source": []
  }
 ],
 "metadata": {
  "accelerator": "TPU",
  "colab": {
   "authorship_tag": "ABX9TyP/blxDECFfJsika6q8hz8p",
   "machine_shape": "hm",
   "mount_file_id": "1bZBArZF5862dnsU5zmg7w_dEVKdwfryL",
   "name": "Covid_classification_2class.ipynb",
   "provenance": []
  },
  "kernelspec": {
   "display_name": "Python 3",
   "language": "python",
   "name": "python3"
  },
  "language_info": {
   "codemirror_mode": {
    "name": "ipython",
    "version": 3
   },
   "file_extension": ".py",
   "mimetype": "text/x-python",
   "name": "python",
   "nbconvert_exporter": "python",
   "pygments_lexer": "ipython3",
   "version": "3.7.6"
  }
 },
 "nbformat": 4,
 "nbformat_minor": 4
}
