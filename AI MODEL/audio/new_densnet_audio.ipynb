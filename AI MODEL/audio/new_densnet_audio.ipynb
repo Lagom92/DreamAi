{
  "nbformat": 4,
  "nbformat_minor": 0,
  "metadata": {
    "colab": {
      "name": "new_densnet_audio .ipynb",
      "provenance": [],
      "collapsed_sections": [],
      "machine_shape": "hm"
    },
    "kernelspec": {
      "name": "python3",
      "display_name": "Python 3"
    },
    "accelerator": "TPU"
  },
  "cells": [
    {
      "cell_type": "code",
      "metadata": {
        "colab": {
          "base_uri": "https://localhost:8080/"
        },
        "id": "awmtEi_W-_Pv",
        "outputId": "0f0722eb-12f8-4bdd-e8e3-23e74efc03c6"
      },
      "source": [
        "from google.colab import drive\n",
        "drive.mount('/content/drive')"
      ],
      "execution_count": 1,
      "outputs": [
        {
          "output_type": "stream",
          "text": [
            "Drive already mounted at /content/drive; to attempt to forcibly remount, call drive.mount(\"/content/drive\", force_remount=True).\n"
          ],
          "name": "stdout"
        }
      ]
    },
    {
      "cell_type": "code",
      "metadata": {
        "id": "ZY2TRLssAPAK"
      },
      "source": [
        "import pandas as pd\n",
        "import numpy as np\n",
        "import os\n",
        "import shutil\n",
        "from tqdm import tqdm\n",
        "import tensorflow as tf\n",
        "from tensorflow import keras\n",
        "import cv2\n",
        "import matplotlib.pyplot as plt\n",
        "from tensorflow.keras.preprocessing import image\n",
        "from tensorflow.keras.models import *\n",
        "from tensorflow.keras.layers import *\n",
        "from keras.callbacks import ModelCheckpoint, EarlyStopping, ReduceLROnPlateau\n",
        "from keras.optimizers import Adam"
      ],
      "execution_count": 2,
      "outputs": []
    },
    {
      "cell_type": "code",
      "metadata": {
        "id": "UhwksE0UVXvM"
      },
      "source": [
        "#keras 사전훈련모델 불러오기 \n",
        "feature_model = keras.applications.DenseNet201(input_shape=(380,240,3), weights=\"imagenet\", include_top=False)\n",
        "feature_model.trainable= False"
      ],
      "execution_count": 3,
      "outputs": []
    },
    {
      "cell_type": "code",
      "metadata": {
        "id": "GdVxVLcsZS-p"
      },
      "source": [
        "feature_model.save('feature_model.h5')"
      ],
      "execution_count": 47,
      "outputs": []
    },
    {
      "cell_type": "code",
      "metadata": {
        "colab": {
          "base_uri": "https://localhost:8080/"
        },
        "id": "EzpEvOFVAUD_",
        "outputId": "3c35ad23-def6-4a59-f332-ecb6c956c745"
      },
      "source": [
        "from tensorflow.python.keras.preprocessing.image import ImageDataGenerator\n",
        "\n",
        "img_size = (320,240)\n",
        "batch_size = 32\n",
        "\n",
        "train_datagen = ImageDataGenerator(rescale=1./255., validation_split=0.20)\n",
        "\n",
        "train_generator = train_datagen.flow_from_directory(directory ='/content/drive/MyDrive/new_audio/train',\n",
        "                                                    subset = 'training',   \n",
        "                                                    batch_size = batch_size,\n",
        "                                                    seed = 0,\n",
        "                                                    shuffle = True,\n",
        "                                                    class_mode = 'categorical',\n",
        "                                                    target_size = img_size)\n",
        "\n",
        "valid_generator = train_datagen.flow_from_directory(directory = '/content/drive/MyDrive/new_audio/train',\n",
        "                                                    subset = 'validation',\n",
        "                                                    batch_size = batch_size,\n",
        "                                                    seed = 0,\n",
        "                                                    shuffle = True,\n",
        "                                                    class_mode = 'categorical',\n",
        "                                                    target_size = img_size)"
      ],
      "execution_count": 5,
      "outputs": [
        {
          "output_type": "stream",
          "text": [
            "Found 1807 images belonging to 2 classes.\n",
            "Found 451 images belonging to 2 classes.\n"
          ],
          "name": "stdout"
        }
      ]
    },
    {
      "cell_type": "code",
      "metadata": {
        "colab": {
          "base_uri": "https://localhost:8080/"
        },
        "id": "mwpW11vjk3XJ",
        "outputId": "4a76b6b2-2be6-4021-f114-aecbf7e489f4"
      },
      "source": [
        "train_generator.class_indices"
      ],
      "execution_count": 6,
      "outputs": [
        {
          "output_type": "execute_result",
          "data": {
            "text/plain": [
              "{'neg_mel': 0, 'pos_mel': 1}"
            ]
          },
          "metadata": {
            "tags": []
          },
          "execution_count": 6
        }
      ]
    },
    {
      "cell_type": "code",
      "metadata": {
        "id": "EgqKh28mBHzx",
        "colab": {
          "base_uri": "https://localhost:8080/"
        },
        "outputId": "b1e5a643-6c20-4b5e-d834-639aa1e5e14e"
      },
      "source": [
        "batch_step = train_generator.n // batch_size\n",
        "train_features = [] \n",
        "train_Y = [] \n",
        "\n",
        "for idx in tqdm(range(batch_step)):\n",
        "  x, y = train_generator.next()\n",
        "  train_Y.extend(y) \n",
        "\n",
        "  feature = feature_model.predict(x)\n",
        "  train_features.extend(feature)\n",
        "\n",
        "#array 전환 \n",
        "train_features = np.array(train_features)\n",
        "train_Y = np.array(train_Y)\n",
        "\n",
        "print(train_features.shape)\n",
        "print(train_Y.shape)\n",
        "print(train_Y)"
      ],
      "execution_count": 7,
      "outputs": [
        {
          "output_type": "stream",
          "text": [
            "\r  0%|          | 0/56 [00:00<?, ?it/s]"
          ],
          "name": "stderr"
        },
        {
          "output_type": "stream",
          "text": [
            "WARNING:tensorflow:Model was constructed with shape (None, 380, 240, 3) for input Tensor(\"input_1:0\", shape=(None, 380, 240, 3), dtype=float32), but it was called on an input with incompatible shape (32, 320, 240, 3).\n"
          ],
          "name": "stdout"
        },
        {
          "output_type": "stream",
          "text": [
            "100%|██████████| 56/56 [02:29<00:00,  2.66s/it]\n"
          ],
          "name": "stderr"
        },
        {
          "output_type": "stream",
          "text": [
            "(1792, 10, 7, 1920)\n",
            "(1792, 2)\n",
            "[[0. 1.]\n",
            " [0. 1.]\n",
            " [0. 1.]\n",
            " ...\n",
            " [1. 0.]\n",
            " [0. 1.]\n",
            " [1. 0.]]\n"
          ],
          "name": "stdout"
        }
      ]
    },
    {
      "cell_type": "code",
      "metadata": {
        "colab": {
          "base_uri": "https://localhost:8080/"
        },
        "id": "dn-OVcP4GLb2",
        "outputId": "fcc3874b-8ffa-4a29-c500-3b586530d47c"
      },
      "source": [
        "valid_features = [] \n",
        "valid_Y = [] \n",
        "\n",
        "batch_step = valid_generator.n // batch_size\n",
        "\n",
        "for idx in tqdm(range(batch_step)):\n",
        "    \n",
        "    x, y = valid_generator.next()\n",
        "    valid_Y.extend(y)\n",
        "  \n",
        "    feature = feature_model.predict(x)\n",
        "    valid_features.extend(feature)\n",
        "\n",
        "valid_features = np.array(valid_features)\n",
        "valid_Y = np.array(valid_Y)\n",
        "\n",
        "print(valid_features.shape)\n",
        "print(valid_Y.shape)"
      ],
      "execution_count": 8,
      "outputs": [
        {
          "output_type": "stream",
          "text": [
            "100%|██████████| 14/14 [00:17<00:00,  1.27s/it]"
          ],
          "name": "stderr"
        },
        {
          "output_type": "stream",
          "text": [
            "(448, 10, 7, 1920)\n",
            "(448, 2)\n"
          ],
          "name": "stdout"
        },
        {
          "output_type": "stream",
          "text": [
            "\n"
          ],
          "name": "stderr"
        }
      ]
    },
    {
      "cell_type": "code",
      "metadata": {
        "id": "Sd-S1GDYWAgj"
      },
      "source": [
        "def build_model(feature_model):\n",
        "    \n",
        "    inputs = Input(shape=feature_model.output.shape[1:])\n",
        "    \n",
        "    x = GlobalAveragePooling2D()(inputs)\n",
        "    x = BatchNormalization()(x)\n",
        "    x = Dense(128, activation='relu')(x)\n",
        "    x = Dropout(0.5)(x)\n",
        "    \n",
        "    outputs = Dense(2, activation='softmax')(x)\n",
        "\n",
        "    model = Model(inputs=inputs,\n",
        "                 outputs = outputs)\n",
        "    \n",
        "    init_lr = 1e-3\n",
        "    opt = Adam(lr=init_lr)\n",
        "    model.compile(optimizer=opt, \n",
        "                  loss= 'categorical_crossentropy',\n",
        "                  metrics='accuracy')\n",
        "    \n",
        "    \n",
        "    return model"
      ],
      "execution_count": 28,
      "outputs": []
    },
    {
      "cell_type": "code",
      "metadata": {
        "colab": {
          "base_uri": "https://localhost:8080/"
        },
        "id": "N5VsJTQ6PBru",
        "outputId": "fc805c00-db37-4002-a413-81e7e56dc5a3"
      },
      "source": [
        "model = build_model(feature_model)\n",
        "\n",
        "model.summary()"
      ],
      "execution_count": 43,
      "outputs": [
        {
          "output_type": "stream",
          "text": [
            "Model: \"functional_17\"\n",
            "_________________________________________________________________\n",
            "Layer (type)                 Output Shape              Param #   \n",
            "=================================================================\n",
            "input_10 (InputLayer)        [(None, 11, 7, 1920)]     0         \n",
            "_________________________________________________________________\n",
            "global_average_pooling2d_8 ( (None, 1920)              0         \n",
            "_________________________________________________________________\n",
            "batch_normalization_8 (Batch (None, 1920)              7680      \n",
            "_________________________________________________________________\n",
            "dense_16 (Dense)             (None, 128)               245888    \n",
            "_________________________________________________________________\n",
            "dropout_8 (Dropout)          (None, 128)               0         \n",
            "_________________________________________________________________\n",
            "dense_17 (Dense)             (None, 2)                 258       \n",
            "=================================================================\n",
            "Total params: 253,826\n",
            "Trainable params: 249,986\n",
            "Non-trainable params: 3,840\n",
            "_________________________________________________________________\n"
          ],
          "name": "stdout"
        }
      ]
    },
    {
      "cell_type": "code",
      "metadata": {
        "colab": {
          "base_uri": "https://localhost:8080/"
        },
        "id": "PtYFGLmjPFuA",
        "outputId": "9708da98-22ce-46b6-ab25-2f6c129642c5"
      },
      "source": [
        "from keras.callbacks import ModelCheckpoint, EarlyStopping\n",
        "\n",
        "checkpoint_path = '/content/drive/My Drive/new_2.h5'\n",
        "\n",
        "checkpoint = ModelCheckpoint(checkpoint_path, monitor='val_accuracy', verbose=1, \n",
        "                             save_best_only=True)\n",
        "\n",
        "reduceLROnPlat = ReduceLROnPlateau(monitor='val_loss', factor=0.5, \n",
        "                                   patience=5, \n",
        "                                   min_lr=1e-5)\n",
        "\n",
        "early = EarlyStopping(monitor=\"val_loss\", \n",
        "                      mode=\"min\", \n",
        "                      patience=30) # probably needs to be more patient, but kaggle time is limited\n",
        "\n",
        "callbacks_list = [checkpoint, early, reduceLROnPlat]\n",
        "\n",
        "history = model.fit(train_features, train_Y, \n",
        "                    validation_data=(valid_features, valid_Y),\n",
        "                    epochs = 200,\n",
        "                    batch_size = 32,\n",
        "                    callbacks=callbacks_list)\n",
        "model.summary()"
      ],
      "execution_count": 44,
      "outputs": [
        {
          "output_type": "stream",
          "text": [
            "Epoch 1/200\n",
            "WARNING:tensorflow:Model was constructed with shape (None, 11, 7, 1920) for input Tensor(\"input_10:0\", shape=(None, 11, 7, 1920), dtype=float32), but it was called on an input with incompatible shape (32, 10, 7, 1920).\n",
            "WARNING:tensorflow:Model was constructed with shape (None, 11, 7, 1920) for input Tensor(\"input_10:0\", shape=(None, 11, 7, 1920), dtype=float32), but it was called on an input with incompatible shape (32, 10, 7, 1920).\n",
            "54/56 [===========================>..] - ETA: 0s - loss: 0.7857 - accuracy: 0.6291WARNING:tensorflow:Model was constructed with shape (None, 11, 7, 1920) for input Tensor(\"input_10:0\", shape=(None, 11, 7, 1920), dtype=float32), but it was called on an input with incompatible shape (32, 10, 7, 1920).\n",
            "\n",
            "Epoch 00001: val_accuracy improved from -inf to 0.75446, saving model to /content/drive/My Drive/new_2.h5\n",
            "56/56 [==============================] - 1s 15ms/step - loss: 0.7813 - accuracy: 0.6317 - val_loss: 0.5727 - val_accuracy: 0.7545\n",
            "Epoch 2/200\n",
            "56/56 [==============================] - ETA: 0s - loss: 0.4774 - accuracy: 0.7835\n",
            "Epoch 00002: val_accuracy did not improve from 0.75446\n",
            "56/56 [==============================] - 0s 6ms/step - loss: 0.4774 - accuracy: 0.7835 - val_loss: 0.5399 - val_accuracy: 0.7321\n",
            "Epoch 3/200\n",
            "55/56 [============================>.] - ETA: 0s - loss: 0.3624 - accuracy: 0.8420\n",
            "Epoch 00003: val_accuracy did not improve from 0.75446\n",
            "56/56 [==============================] - 0s 6ms/step - loss: 0.3634 - accuracy: 0.8426 - val_loss: 0.5007 - val_accuracy: 0.7433\n",
            "Epoch 4/200\n",
            "53/56 [===========================>..] - ETA: 0s - loss: 0.2956 - accuracy: 0.8738\n",
            "Epoch 00004: val_accuracy improved from 0.75446 to 0.81250, saving model to /content/drive/My Drive/new_2.h5\n",
            "56/56 [==============================] - 0s 7ms/step - loss: 0.2938 - accuracy: 0.8739 - val_loss: 0.4449 - val_accuracy: 0.8125\n",
            "Epoch 5/200\n",
            "56/56 [==============================] - ETA: 0s - loss: 0.2321 - accuracy: 0.9102\n",
            "Epoch 00005: val_accuracy did not improve from 0.81250\n",
            "56/56 [==============================] - 0s 6ms/step - loss: 0.2321 - accuracy: 0.9102 - val_loss: 0.4282 - val_accuracy: 0.8058\n",
            "Epoch 6/200\n",
            "53/56 [===========================>..] - ETA: 0s - loss: 0.2002 - accuracy: 0.9151\n",
            "Epoch 00006: val_accuracy improved from 0.81250 to 0.83259, saving model to /content/drive/My Drive/new_2.h5\n",
            "56/56 [==============================] - 0s 7ms/step - loss: 0.2031 - accuracy: 0.9129 - val_loss: 0.4077 - val_accuracy: 0.8326\n",
            "Epoch 7/200\n",
            "45/56 [=======================>......] - ETA: 0s - loss: 0.2162 - accuracy: 0.9083\n",
            "Epoch 00007: val_accuracy improved from 0.83259 to 0.83929, saving model to /content/drive/My Drive/new_2.h5\n",
            "56/56 [==============================] - 0s 6ms/step - loss: 0.2130 - accuracy: 0.9102 - val_loss: 0.3643 - val_accuracy: 0.8393\n",
            "Epoch 8/200\n",
            "56/56 [==============================] - ETA: 0s - loss: 0.1523 - accuracy: 0.9414\n",
            "Epoch 00008: val_accuracy did not improve from 0.83929\n",
            "56/56 [==============================] - 0s 6ms/step - loss: 0.1523 - accuracy: 0.9414 - val_loss: 0.3874 - val_accuracy: 0.8326\n",
            "Epoch 9/200\n",
            "46/56 [=======================>......] - ETA: 0s - loss: 0.1412 - accuracy: 0.9518\n",
            "Epoch 00009: val_accuracy did not improve from 0.83929\n",
            "56/56 [==============================] - 0s 6ms/step - loss: 0.1426 - accuracy: 0.9481 - val_loss: 0.4349 - val_accuracy: 0.8036\n",
            "Epoch 10/200\n",
            "45/56 [=======================>......] - ETA: 0s - loss: 0.1182 - accuracy: 0.9618\n",
            "Epoch 00010: val_accuracy improved from 0.83929 to 0.85714, saving model to /content/drive/My Drive/new_2.h5\n",
            "56/56 [==============================] - 0s 6ms/step - loss: 0.1218 - accuracy: 0.9621 - val_loss: 0.3553 - val_accuracy: 0.8571\n",
            "Epoch 11/200\n",
            "55/56 [============================>.] - ETA: 0s - loss: 0.0998 - accuracy: 0.9636\n",
            "Epoch 00011: val_accuracy improved from 0.85714 to 0.86161, saving model to /content/drive/My Drive/new_2.h5\n",
            "56/56 [==============================] - 0s 6ms/step - loss: 0.1005 - accuracy: 0.9637 - val_loss: 0.3893 - val_accuracy: 0.8616\n",
            "Epoch 12/200\n",
            "54/56 [===========================>..] - ETA: 0s - loss: 0.1119 - accuracy: 0.9583\n",
            "Epoch 00012: val_accuracy did not improve from 0.86161\n",
            "56/56 [==============================] - 0s 6ms/step - loss: 0.1120 - accuracy: 0.9581 - val_loss: 0.3923 - val_accuracy: 0.8527\n",
            "Epoch 13/200\n",
            "46/56 [=======================>......] - ETA: 0s - loss: 0.0878 - accuracy: 0.9681\n",
            "Epoch 00013: val_accuracy did not improve from 0.86161\n",
            "56/56 [==============================] - 0s 6ms/step - loss: 0.0932 - accuracy: 0.9660 - val_loss: 0.3939 - val_accuracy: 0.8549\n",
            "Epoch 14/200\n",
            "46/56 [=======================>......] - ETA: 0s - loss: 0.0705 - accuracy: 0.9796\n",
            "Epoch 00014: val_accuracy did not improve from 0.86161\n",
            "56/56 [==============================] - 0s 6ms/step - loss: 0.0729 - accuracy: 0.9794 - val_loss: 0.3864 - val_accuracy: 0.8594\n",
            "Epoch 15/200\n",
            "46/56 [=======================>......] - ETA: 0s - loss: 0.0628 - accuracy: 0.9810\n",
            "Epoch 00015: val_accuracy improved from 0.86161 to 0.86830, saving model to /content/drive/My Drive/new_2.h5\n",
            "56/56 [==============================] - 0s 6ms/step - loss: 0.0634 - accuracy: 0.9805 - val_loss: 0.3657 - val_accuracy: 0.8683\n",
            "Epoch 16/200\n",
            "45/56 [=======================>......] - ETA: 0s - loss: 0.0544 - accuracy: 0.9833\n",
            "Epoch 00016: val_accuracy did not improve from 0.86830\n",
            "56/56 [==============================] - 0s 6ms/step - loss: 0.0528 - accuracy: 0.9849 - val_loss: 0.3904 - val_accuracy: 0.8661\n",
            "Epoch 17/200\n",
            "47/56 [========================>.....] - ETA: 0s - loss: 0.0572 - accuracy: 0.9827\n",
            "Epoch 00017: val_accuracy improved from 0.86830 to 0.87054, saving model to /content/drive/My Drive/new_2.h5\n",
            "56/56 [==============================] - 0s 6ms/step - loss: 0.0562 - accuracy: 0.9833 - val_loss: 0.3703 - val_accuracy: 0.8705\n",
            "Epoch 18/200\n",
            "46/56 [=======================>......] - ETA: 0s - loss: 0.0482 - accuracy: 0.9851\n",
            "Epoch 00018: val_accuracy improved from 0.87054 to 0.87277, saving model to /content/drive/My Drive/new_2.h5\n",
            "56/56 [==============================] - 0s 6ms/step - loss: 0.0484 - accuracy: 0.9849 - val_loss: 0.3658 - val_accuracy: 0.8728\n",
            "Epoch 19/200\n",
            "56/56 [==============================] - ETA: 0s - loss: 0.0404 - accuracy: 0.9922\n",
            "Epoch 00019: val_accuracy improved from 0.87277 to 0.87723, saving model to /content/drive/My Drive/new_2.h5\n",
            "56/56 [==============================] - 0s 7ms/step - loss: 0.0404 - accuracy: 0.9922 - val_loss: 0.3504 - val_accuracy: 0.8772\n",
            "Epoch 20/200\n",
            "55/56 [============================>.] - ETA: 0s - loss: 0.0420 - accuracy: 0.9898\n",
            "Epoch 00020: val_accuracy improved from 0.87723 to 0.87946, saving model to /content/drive/My Drive/new_2.h5\n",
            "56/56 [==============================] - 0s 6ms/step - loss: 0.0418 - accuracy: 0.9900 - val_loss: 0.3386 - val_accuracy: 0.8795\n",
            "Epoch 21/200\n",
            "46/56 [=======================>......] - ETA: 0s - loss: 0.0367 - accuracy: 0.9932\n",
            "Epoch 00021: val_accuracy did not improve from 0.87946\n",
            "56/56 [==============================] - 0s 6ms/step - loss: 0.0369 - accuracy: 0.9922 - val_loss: 0.3850 - val_accuracy: 0.8705\n",
            "Epoch 22/200\n",
            "47/56 [========================>.....] - ETA: 0s - loss: 0.0303 - accuracy: 0.9953\n",
            "Epoch 00022: val_accuracy did not improve from 0.87946\n",
            "56/56 [==============================] - 0s 6ms/step - loss: 0.0291 - accuracy: 0.9961 - val_loss: 0.3737 - val_accuracy: 0.8638\n",
            "Epoch 23/200\n",
            "55/56 [============================>.] - ETA: 0s - loss: 0.0319 - accuracy: 0.9926\n",
            "Epoch 00023: val_accuracy did not improve from 0.87946\n",
            "56/56 [==============================] - 0s 6ms/step - loss: 0.0316 - accuracy: 0.9927 - val_loss: 0.4065 - val_accuracy: 0.8705\n",
            "Epoch 24/200\n",
            "47/56 [========================>.....] - ETA: 0s - loss: 0.0326 - accuracy: 0.9920\n",
            "Epoch 00024: val_accuracy improved from 0.87946 to 0.88393, saving model to /content/drive/My Drive/new_2.h5\n",
            "56/56 [==============================] - 0s 6ms/step - loss: 0.0341 - accuracy: 0.9916 - val_loss: 0.3543 - val_accuracy: 0.8839\n",
            "Epoch 25/200\n",
            "56/56 [==============================] - ETA: 0s - loss: 0.0333 - accuracy: 0.9916\n",
            "Epoch 00025: val_accuracy did not improve from 0.88393\n",
            "56/56 [==============================] - 0s 6ms/step - loss: 0.0333 - accuracy: 0.9916 - val_loss: 0.3601 - val_accuracy: 0.8772\n",
            "Epoch 26/200\n",
            "55/56 [============================>.] - ETA: 0s - loss: 0.0264 - accuracy: 0.9949\n",
            "Epoch 00026: val_accuracy did not improve from 0.88393\n",
            "56/56 [==============================] - 0s 6ms/step - loss: 0.0269 - accuracy: 0.9944 - val_loss: 0.3798 - val_accuracy: 0.8661\n",
            "Epoch 27/200\n",
            "56/56 [==============================] - ETA: 0s - loss: 0.0242 - accuracy: 0.9978\n",
            "Epoch 00027: val_accuracy did not improve from 0.88393\n",
            "56/56 [==============================] - 0s 6ms/step - loss: 0.0242 - accuracy: 0.9978 - val_loss: 0.3649 - val_accuracy: 0.8772\n",
            "Epoch 28/200\n",
            "55/56 [============================>.] - ETA: 0s - loss: 0.0192 - accuracy: 0.9983\n",
            "Epoch 00028: val_accuracy did not improve from 0.88393\n",
            "56/56 [==============================] - 0s 6ms/step - loss: 0.0195 - accuracy: 0.9983 - val_loss: 0.3699 - val_accuracy: 0.8795\n",
            "Epoch 29/200\n",
            "55/56 [============================>.] - ETA: 0s - loss: 0.0275 - accuracy: 0.9943\n",
            "Epoch 00029: val_accuracy did not improve from 0.88393\n",
            "56/56 [==============================] - 0s 6ms/step - loss: 0.0283 - accuracy: 0.9939 - val_loss: 0.3994 - val_accuracy: 0.8750\n",
            "Epoch 30/200\n",
            "56/56 [==============================] - ETA: 0s - loss: 0.0229 - accuracy: 0.9950\n",
            "Epoch 00030: val_accuracy did not improve from 0.88393\n",
            "56/56 [==============================] - 0s 6ms/step - loss: 0.0229 - accuracy: 0.9950 - val_loss: 0.4009 - val_accuracy: 0.8705\n",
            "Epoch 31/200\n",
            "46/56 [=======================>......] - ETA: 0s - loss: 0.0184 - accuracy: 0.9973\n",
            "Epoch 00031: val_accuracy did not improve from 0.88393\n",
            "56/56 [==============================] - 0s 6ms/step - loss: 0.0203 - accuracy: 0.9967 - val_loss: 0.3896 - val_accuracy: 0.8683\n",
            "Epoch 32/200\n",
            "47/56 [========================>.....] - ETA: 0s - loss: 0.0189 - accuracy: 0.9960\n",
            "Epoch 00032: val_accuracy did not improve from 0.88393\n",
            "56/56 [==============================] - 0s 6ms/step - loss: 0.0184 - accuracy: 0.9967 - val_loss: 0.3930 - val_accuracy: 0.8683\n",
            "Epoch 33/200\n",
            "54/56 [===========================>..] - ETA: 0s - loss: 0.0205 - accuracy: 0.9971\n",
            "Epoch 00033: val_accuracy did not improve from 0.88393\n",
            "56/56 [==============================] - 0s 6ms/step - loss: 0.0212 - accuracy: 0.9961 - val_loss: 0.3941 - val_accuracy: 0.8683\n",
            "Epoch 34/200\n",
            "46/56 [=======================>......] - ETA: 0s - loss: 0.0290 - accuracy: 0.9925\n",
            "Epoch 00034: val_accuracy did not improve from 0.88393\n",
            "56/56 [==============================] - 0s 6ms/step - loss: 0.0265 - accuracy: 0.9939 - val_loss: 0.3595 - val_accuracy: 0.8750\n",
            "Epoch 35/200\n",
            "46/56 [=======================>......] - ETA: 0s - loss: 0.0170 - accuracy: 0.9993\n",
            "Epoch 00035: val_accuracy did not improve from 0.88393\n",
            "56/56 [==============================] - 0s 6ms/step - loss: 0.0199 - accuracy: 0.9983 - val_loss: 0.3577 - val_accuracy: 0.8728\n",
            "Epoch 36/200\n",
            "56/56 [==============================] - ETA: 0s - loss: 0.0155 - accuracy: 0.9978\n",
            "Epoch 00036: val_accuracy did not improve from 0.88393\n",
            "56/56 [==============================] - 0s 6ms/step - loss: 0.0155 - accuracy: 0.9978 - val_loss: 0.3524 - val_accuracy: 0.8795\n",
            "Epoch 37/200\n",
            "55/56 [============================>.] - ETA: 0s - loss: 0.0212 - accuracy: 0.9949\n",
            "Epoch 00037: val_accuracy did not improve from 0.88393\n",
            "56/56 [==============================] - 0s 6ms/step - loss: 0.0210 - accuracy: 0.9950 - val_loss: 0.3550 - val_accuracy: 0.8817\n",
            "Epoch 38/200\n",
            "47/56 [========================>.....] - ETA: 0s - loss: 0.0172 - accuracy: 0.9953\n",
            "Epoch 00038: val_accuracy did not improve from 0.88393\n",
            "56/56 [==============================] - 0s 6ms/step - loss: 0.0180 - accuracy: 0.9950 - val_loss: 0.3650 - val_accuracy: 0.8728\n",
            "Epoch 39/200\n",
            "46/56 [=======================>......] - ETA: 0s - loss: 0.0201 - accuracy: 0.9952\n",
            "Epoch 00039: val_accuracy improved from 0.88393 to 0.88839, saving model to /content/drive/My Drive/new_2.h5\n",
            "56/56 [==============================] - 0s 6ms/step - loss: 0.0193 - accuracy: 0.9961 - val_loss: 0.3537 - val_accuracy: 0.8884\n",
            "Epoch 40/200\n",
            "55/56 [============================>.] - ETA: 0s - loss: 0.0160 - accuracy: 0.9977\n",
            "Epoch 00040: val_accuracy did not improve from 0.88839\n",
            "56/56 [==============================] - 0s 6ms/step - loss: 0.0159 - accuracy: 0.9978 - val_loss: 0.3524 - val_accuracy: 0.8817\n",
            "Epoch 41/200\n",
            "54/56 [===========================>..] - ETA: 0s - loss: 0.0192 - accuracy: 0.9954\n",
            "Epoch 00041: val_accuracy did not improve from 0.88839\n",
            "56/56 [==============================] - 0s 6ms/step - loss: 0.0189 - accuracy: 0.9955 - val_loss: 0.3547 - val_accuracy: 0.8817\n",
            "Epoch 42/200\n",
            "56/56 [==============================] - ETA: 0s - loss: 0.0202 - accuracy: 0.9955\n",
            "Epoch 00042: val_accuracy did not improve from 0.88839\n",
            "56/56 [==============================] - 0s 6ms/step - loss: 0.0202 - accuracy: 0.9955 - val_loss: 0.3584 - val_accuracy: 0.8839\n",
            "Epoch 43/200\n",
            "55/56 [============================>.] - ETA: 0s - loss: 0.0187 - accuracy: 0.9955\n",
            "Epoch 00043: val_accuracy did not improve from 0.88839\n",
            "56/56 [==============================] - 0s 6ms/step - loss: 0.0195 - accuracy: 0.9950 - val_loss: 0.3550 - val_accuracy: 0.8839\n",
            "Epoch 44/200\n",
            "46/56 [=======================>......] - ETA: 0s - loss: 0.0156 - accuracy: 0.9966\n",
            "Epoch 00044: val_accuracy did not improve from 0.88839\n",
            "56/56 [==============================] - 0s 6ms/step - loss: 0.0163 - accuracy: 0.9967 - val_loss: 0.3552 - val_accuracy: 0.8839\n",
            "Epoch 45/200\n",
            "54/56 [===========================>..] - ETA: 0s - loss: 0.0189 - accuracy: 0.9977\n",
            "Epoch 00045: val_accuracy did not improve from 0.88839\n",
            "56/56 [==============================] - 0s 6ms/step - loss: 0.0190 - accuracy: 0.9978 - val_loss: 0.3581 - val_accuracy: 0.8817\n",
            "Epoch 46/200\n",
            "52/56 [==========================>...] - ETA: 0s - loss: 0.0190 - accuracy: 0.9976\n",
            "Epoch 00046: val_accuracy did not improve from 0.88839\n",
            "56/56 [==============================] - 0s 6ms/step - loss: 0.0193 - accuracy: 0.9978 - val_loss: 0.3597 - val_accuracy: 0.8817\n",
            "Epoch 47/200\n",
            "55/56 [============================>.] - ETA: 0s - loss: 0.0201 - accuracy: 0.9949\n",
            "Epoch 00047: val_accuracy did not improve from 0.88839\n",
            "56/56 [==============================] - 0s 6ms/step - loss: 0.0200 - accuracy: 0.9950 - val_loss: 0.3575 - val_accuracy: 0.8839\n",
            "Epoch 48/200\n",
            "56/56 [==============================] - ETA: 0s - loss: 0.0147 - accuracy: 0.9989\n",
            "Epoch 00048: val_accuracy did not improve from 0.88839\n",
            "56/56 [==============================] - 0s 6ms/step - loss: 0.0147 - accuracy: 0.9989 - val_loss: 0.3569 - val_accuracy: 0.8839\n",
            "Epoch 49/200\n",
            "54/56 [===========================>..] - ETA: 0s - loss: 0.0166 - accuracy: 0.9983\n",
            "Epoch 00049: val_accuracy did not improve from 0.88839\n",
            "56/56 [==============================] - 0s 6ms/step - loss: 0.0163 - accuracy: 0.9983 - val_loss: 0.3567 - val_accuracy: 0.8862\n",
            "Epoch 50/200\n",
            "47/56 [========================>.....] - ETA: 0s - loss: 0.0142 - accuracy: 0.9980\n",
            "Epoch 00050: val_accuracy did not improve from 0.88839\n",
            "56/56 [==============================] - 0s 6ms/step - loss: 0.0153 - accuracy: 0.9978 - val_loss: 0.3575 - val_accuracy: 0.8862\n",
            "Model: \"functional_17\"\n",
            "_________________________________________________________________\n",
            "Layer (type)                 Output Shape              Param #   \n",
            "=================================================================\n",
            "input_10 (InputLayer)        [(None, 11, 7, 1920)]     0         \n",
            "_________________________________________________________________\n",
            "global_average_pooling2d_8 ( (None, 1920)              0         \n",
            "_________________________________________________________________\n",
            "batch_normalization_8 (Batch (None, 1920)              7680      \n",
            "_________________________________________________________________\n",
            "dense_16 (Dense)             (None, 128)               245888    \n",
            "_________________________________________________________________\n",
            "dropout_8 (Dropout)          (None, 128)               0         \n",
            "_________________________________________________________________\n",
            "dense_17 (Dense)             (None, 2)                 258       \n",
            "=================================================================\n",
            "Total params: 253,826\n",
            "Trainable params: 249,986\n",
            "Non-trainable params: 3,840\n",
            "_________________________________________________________________\n"
          ],
          "name": "stdout"
        }
      ]
    },
    {
      "cell_type": "code",
      "metadata": {
        "colab": {
          "base_uri": "https://localhost:8080/",
          "height": 283
        },
        "id": "u08qfzFhU2S1",
        "outputId": "f10b0f46-d5c4-44cd-8e82-22ce427e2079"
      },
      "source": [
        "import matplotlib.pyplot as plt\n",
        "plt.figure(figsize = (12,4))\n",
        " \n",
        "plt.subplot(1,2,1)\n",
        "plt.plot(history.history['loss'], 'b-', label = 'loss')\n",
        "plt.plot(history.history['val_loss'], 'r--', label = 'val_loss')\n",
        "plt.xlabel('Epoch')\n",
        "plt.legend()\n",
        "\n",
        "plt.subplot(1,2,2)\n",
        "plt.plot(history.history['accuracy'], 'g-', label = 'acc')\n",
        "plt.plot(history.history['val_accuracy'], 'k--', label = 'val_acc')\n",
        "plt.xlabel('Epoch')\n",
        "plt.ylim([0.7, 1])\n",
        "plt.legend()\n",
        "\n",
        "plt.savefig('audio_train_plot.jpg')"
      ],
      "execution_count": 45,
      "outputs": [
        {
          "output_type": "display_data",
          "data": {
            "image/png": "[encoded data removed]",
            "text/plain": [
              "<Figure size 864x288 with 2 Axes>"
            ]
          },
          "metadata": {
            "tags": [],
            "needs_background": "light"
          }
        }
      ]
    },
    {
      "cell_type": "code",
      "metadata": {
        "colab": {
          "base_uri": "https://localhost:8080/"
        },
        "id": "hNpLFyuLWoXL",
        "outputId": "e9d34bb7-7431-40d6-a19f-12f46e856450"
      },
      "source": [
        "model2 = load_model(checkpoint_path)\n",
        "\n",
        "results = model2.evaluate(valid_features, valid_Y)\n",
        "print('Test accuracy: ', results[1])"
      ],
      "execution_count": 46,
      "outputs": [
        {
          "output_type": "stream",
          "text": [
            "WARNING:tensorflow:Model was constructed with shape (None, 11, 7, 1920) for input Tensor(\"input_10_1:0\", shape=(None, 11, 7, 1920), dtype=float32), but it was called on an input with incompatible shape (32, 10, 7, 1920).\n",
            "14/14 [==============================] - 0s 2ms/step - loss: 0.3537 - accuracy: 0.8884\n",
            "Test accuracy:  0.8883928656578064\n"
          ],
          "name": "stdout"
        }
      ]
    }
  ]
}