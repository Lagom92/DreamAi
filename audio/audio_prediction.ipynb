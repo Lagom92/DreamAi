{
  "nbformat": 4,
  "nbformat_minor": 0,
  "metadata": {
    "colab": {
      "name": "prediction.ipynb",
      "provenance": [],
      "collapsed_sections": []
    },
    "kernelspec": {
      "name": "python3",
      "display_name": "Python 3"
    }
  },
  "cells": [
    {
      "cell_type": "code",
      "metadata": {
        "id": "g_vZQBb79tXf"
      },
      "source": [
        "import warnings\n",
        "\n",
        "warnings.filterwarnings(action='ignore') "
      ],
      "execution_count": 62,
      "outputs": []
    },
    {
      "cell_type": "code",
      "metadata": {
        "id": "9IKAH9RDEPLx"
      },
      "source": [
        "from datetime import datetime\n",
        "from os import listdir\n",
        "from os.path import isfile, join\n",
        "\n",
        "import librosa.display\n",
        "\n",
        "import numpy as np\n",
        "import pandas as pd\n",
        "\n",
        "from tensorflow.keras.models import Sequential\n",
        "\n",
        "from sklearn.metrics import confusion_matrix, classification_report, roc_curve, auc\n",
        "import random\n",
        "import itertools\n",
        "import librosa\n",
        "import IPython.display as ipd\n",
        "\n",
        "%matplotlib inline\n",
        "\n",
        "from keras.models import load_model\n",
        "import tensorflow as tf\n",
        "import PIL.Image as Image\n",
        "import matplotlib.pyplot as plt\n",
        "import cv2\n",
        "import tensorflow_hub as hub\n"
      ],
      "execution_count": 70,
      "outputs": []
    },
    {
      "cell_type": "code",
      "metadata": {
        "id": "i-pPLS04V23R",
        "outputId": "cba5147f-374c-4cc9-d2e1-32e552df5e13",
        "colab": {
          "base_uri": "https://localhost:8080/"
        }
      },
      "source": [
        "from google.colab import drive\n",
        "drive.mount('/content/drive')\n",
        "\n",
        "# 폴더 이동\n",
        "%cd drive/My Drive/audio_predict\n",
        "!pwd"
      ],
      "execution_count": 71,
      "outputs": [
        {
          "output_type": "stream",
          "text": [
            "Drive already mounted at /content/drive; to attempt to forcibly remount, call drive.mount(\"/content/drive\", force_remount=True).\n",
            "[Errno 2] No such file or directory: 'drive/My Drive/audio_predict'\n",
            "/content/drive/My Drive/audio_predict\n",
            "/content/drive/My Drive/audio_predict\n"
          ],
          "name": "stdout"
        }
      ]
    },
    {
      "cell_type": "code",
      "metadata": {
        "id": "xMmtwk1nWVKJ"
      },
      "source": [
        "# audio file load\n",
        "def load_audio_file(file_path):\n",
        "    input_length = 22050*5\n",
        "    data = librosa.core.load(file_path)[0]\n",
        "    if len(data)>input_length:\n",
        "        data = data[:input_length]\n",
        "    else:\n",
        "        data = np.pad(data, (0, max(0, input_length - len(data))), \"constant\")\n",
        "    return data"
      ],
      "execution_count": 72,
      "outputs": []
    },
    {
      "cell_type": "code",
      "metadata": {
        "id": "9lyaBxtZ9dQt",
        "outputId": "7026fcfe-0027-4453-cc8a-654dba29cc9f",
        "colab": {
          "base_uri": "https://localhost:8080/"
        }
      },
      "source": [
        " model = load_model('efficientnet_audio_500.h5')\n",
        " feature_model = tf.keras.models.load_model(('efficientnet_feature_500.h5'),custom_objects={'KerasLayer':hub.KerasLayer})"
      ],
      "execution_count": 73,
      "outputs": [
        {
          "output_type": "stream",
          "text": [
            "WARNING:tensorflow:No training configuration found in the save file, so the model was *not* compiled. Compile it manually.\n"
          ],
          "name": "stdout"
        },
        {
          "output_type": "stream",
          "text": [
            "WARNING:tensorflow:No training configuration found in the save file, so the model was *not* compiled. Compile it manually.\n"
          ],
          "name": "stderr"
        }
      ]
    },
    {
      "cell_type": "code",
      "metadata": {
        "id": "Q9RfapcXTBqe",
        "outputId": "0ecf84ee-678f-4b47-ff9e-101eb1f1376d",
        "colab": {
          "base_uri": "https://localhost:8080/"
        }
      },
      "source": [
        "model.summary()"
      ],
      "execution_count": 74,
      "outputs": [
        {
          "output_type": "stream",
          "text": [
            "Model: \"sequential_7\"\n",
            "_________________________________________________________________\n",
            "Layer (type)                 Output Shape              Param #   \n",
            "=================================================================\n",
            "dense_9 (Dense)              (None, 256)               256256    \n",
            "_________________________________________________________________\n",
            "dropout_5 (Dropout)          (None, 256)               0         \n",
            "_________________________________________________________________\n",
            "dense_10 (Dense)             (None, 2)                 514       \n",
            "=================================================================\n",
            "Total params: 256,770\n",
            "Trainable params: 256,770\n",
            "Non-trainable params: 0\n",
            "_________________________________________________________________\n"
          ],
          "name": "stdout"
        }
      ]
    },
    {
      "cell_type": "code",
      "metadata": {
        "id": "7Wet8g_BTJT2",
        "outputId": "7c0f54c8-392e-4722-b72d-87f53b7e0d73",
        "colab": {
          "base_uri": "https://localhost:8080/"
        }
      },
      "source": [
        "feature_model.summary()"
      ],
      "execution_count": 75,
      "outputs": [
        {
          "output_type": "stream",
          "text": [
            "Model: \"sequential_6\"\n",
            "_________________________________________________________________\n",
            "Layer (type)                 Output Shape              Param #   \n",
            "=================================================================\n",
            "keras_layer_2 (KerasLayer)   (None, 1000)              13118936  \n",
            "=================================================================\n",
            "Total params: 13,118,936\n",
            "Trainable params: 0\n",
            "Non-trainable params: 13,118,936\n",
            "_________________________________________________________________\n"
          ],
          "name": "stdout"
        }
      ]
    },
    {
      "cell_type": "code",
      "metadata": {
        "id": "mVt_pYUqduhj"
      },
      "source": [
        "def prediction(image,model,feature_model):\n",
        "    img = cv2.imread(image)\n",
        "    # img = cv2.resize(img, dsize=(500,500))//\n",
        "    img = cv2.resize(img, dsize=(500,500))\n",
        "    img = img / 255.0\n",
        "    img = np.expand_dims(img, axis=0)\n",
        "    feature_vector = feature_model.predict(img)\n",
        "    pred = model.predict(feature_vector)[0]\n",
        "    print(model.predict(feature_vector)+[[1,1]])\n",
        "    unique_sorted_Y = ['0','1']\n",
        "    top_predict = pred.argmax()\n",
        "    label = unique_sorted_Y[top_predict]\n",
        "\n",
        "    return label"
      ],
      "execution_count": 77,
      "outputs": []
    },
    {
      "cell_type": "code",
      "metadata": {
        "id": "CbvCCBKjT9ck"
      },
      "source": [
        "#원본 file & mel spectrogram 나타내기\n",
        "def image_pred(audio):\n",
        "    data = load_audio_file(audio)\n",
        "\n",
        "    S = librosa.feature.melspectrogram(data, sr=22050, n_mels=128) \n",
        "    S_DB = librosa.power_to_db(S, ref=np.max)\n",
        "    img = librosa.display.specshow(S_DB, sr=22050)\n",
        "    audio = audio.split('/')[-1][:-4]\n",
        "    image_path = './test_image/'+ audio +'.jpg'\n",
        "    plt.savefig(image_path)\n",
        "\n",
        "    res = prediction(image_path,model,feature_model)\n",
        "    \n",
        "    return res"
      ],
      "execution_count": 78,
      "outputs": []
    },
    {
      "cell_type": "code",
      "metadata": {
        "id": "a6PLfwmLIfty",
        "outputId": "d4a1970e-f45b-4617-b5e8-18d438ce061b",
        "colab": {
          "base_uri": "https://localhost:8080/"
        }
      },
      "source": [
        "#전체 test set pos 예측 위한 전체경로 설정\n",
        "mypath = \"test_audio/1\"\n",
        "filenames_pos = [f for f in listdir(mypath) if (isfile(join(mypath, f)) and f.endswith('.mp3'))] \n",
        "print(filenames_pos)\n"
      ],
      "execution_count": 86,
      "outputs": [
        {
          "output_type": "stream",
          "text": [
            "['pos-0422-096-cough-m-31-2.mp3', 'pos-0422-096-cough-m-31-6.mp3', 'pos-0421-092-cough-m-53-0.mp3', 'pos-0421-087-cough-f-40-6.mp3', 'pos-0421-087-cough-f-40-5.mp3', 'pos-0421-094-cough-m-51-6.mp3', 'pos-0422-096-cough-m-31-8.mp3', 'pos-0422-096-cough-m-31-1.mp3', 'pos-0421-094-cough-m-51-7.mp3', 'pos-0421-093-cough-f-24.mp3', 'pos-0421-094-cough-m-51-4.mp3', 'pos-0421-093-cough-f-24-6.mp3', 'pos-0421-094-cough-m-51-5.mp3', 'pos-0421-094-cough-m-51-3.mp3', 'pos-0421-094-cough-m-51-0.mp3', 'pos-0421-094-cough-m-51-2.mp3', 'pos-0421-093-cough-f-24-2.mp3', 'pos-0421-093-cough-f-24-5.mp3', 'pos-0421-093-cough-f-24-0.mp3', 'pos-0421-092-cough-m-53-13.mp3', 'pos-0421-087-cough-f-40-3.mp3', 'pos-0421-092-cough-m-53-6.mp3', 'pos-0421-092-cough-m-53-5.mp3', 'pos-0421-092-cough-m-53-3.mp3', 'pos-0421-092-cough-m-53-12.mp3', 'pos-0421-092-cough-m-53-7.mp3', 'pos-0421-092-cough-m-53-9.mp3', 'pos-0421-092-cough-m-53-1.mp3', 'pos-0421-093-cough-f-24-1.mp3', 'pos-0421-092-cough-m-53.mp3', 'pos-0422-096-cough-m-31.mp3', 'pos-0421-094-cough-m-51.mp3']\n"
          ],
          "name": "stdout"
        }
      ]
    },
    {
      "cell_type": "code",
      "metadata": {
        "id": "yZLdyoz6K09C",
        "outputId": "ebe047f1-9aeb-4062-e971-d61b59372920",
        "colab": {
          "base_uri": "https://localhost:8080/",
          "height": 1000
        }
      },
      "source": [
        "from tqdm import tqdm\n",
        "neg = 0\n",
        "pos = 0\n",
        "\n",
        "for i in tqdm(filenames_pos):\n",
        "    print(i)\n",
        "    res = image_pred('test_audio/1/'+ i)\n",
        "    if res == '0':\n",
        "        neg +=1\n",
        "    else:\n",
        "        pos +=1\n",
        "\n",
        "print('정확도 : ', (pos/(neg+pos)))"
      ],
      "execution_count": 88,
      "outputs": [
        {
          "output_type": "stream",
          "text": [
            "\n",
            "\n",
            "\n",
            "  0%|          | 0/32 [00:00<?, ?it/s]\u001b[A\u001b[A\u001b[A"
          ],
          "name": "stderr"
        },
        {
          "output_type": "stream",
          "text": [
            "pos-0422-096-cough-m-31-2.mp3\n"
          ],
          "name": "stdout"
        },
        {
          "output_type": "stream",
          "text": [
            "\n",
            "\n",
            "\n",
            "  3%|▎         | 1/32 [00:01<00:50,  1.64s/it]\u001b[A\u001b[A\u001b[A"
          ],
          "name": "stderr"
        },
        {
          "output_type": "stream",
          "text": [
            "[[1.16524205 1.84394246]]\n",
            "pos-0422-096-cough-m-31-6.mp3\n"
          ],
          "name": "stdout"
        },
        {
          "output_type": "stream",
          "text": [
            "\n",
            "\n",
            "\n",
            "  6%|▋         | 2/32 [00:03<00:49,  1.64s/it]\u001b[A\u001b[A\u001b[A"
          ],
          "name": "stderr"
        },
        {
          "output_type": "stream",
          "text": [
            "[[1.03450605 1.97097719]]\n",
            "pos-0421-092-cough-m-53-0.mp3\n"
          ],
          "name": "stdout"
        },
        {
          "output_type": "stream",
          "text": [
            "\n",
            "\n",
            "\n",
            "  9%|▉         | 3/32 [00:05<00:48,  1.67s/it]\u001b[A\u001b[A\u001b[A"
          ],
          "name": "stderr"
        },
        {
          "output_type": "stream",
          "text": [
            "[[1.00692129 1.99363238]]\n",
            "pos-0421-087-cough-f-40-6.mp3\n"
          ],
          "name": "stdout"
        },
        {
          "output_type": "stream",
          "text": [
            "\n",
            "\n",
            "\n",
            " 12%|█▎        | 4/32 [00:06<00:47,  1.68s/it]\u001b[A\u001b[A\u001b[A"
          ],
          "name": "stderr"
        },
        {
          "output_type": "stream",
          "text": [
            "[[1.25979698 1.7119506 ]]\n",
            "pos-0421-087-cough-f-40-5.mp3\n"
          ],
          "name": "stdout"
        },
        {
          "output_type": "stream",
          "text": [
            "\n",
            "\n",
            "\n",
            " 16%|█▌        | 5/32 [00:08<00:45,  1.70s/it]\u001b[A\u001b[A\u001b[A"
          ],
          "name": "stderr"
        },
        {
          "output_type": "stream",
          "text": [
            "[[1.39943436 1.65909594]]\n",
            "pos-0421-094-cough-m-51-6.mp3\n"
          ],
          "name": "stdout"
        },
        {
          "output_type": "stream",
          "text": [
            "\n",
            "\n",
            "\n",
            " 19%|█▉        | 6/32 [00:10<00:44,  1.71s/it]\u001b[A\u001b[A\u001b[A"
          ],
          "name": "stderr"
        },
        {
          "output_type": "stream",
          "text": [
            "[[1.29059041 1.74790776]]\n",
            "pos-0422-096-cough-m-31-8.mp3\n"
          ],
          "name": "stdout"
        },
        {
          "output_type": "stream",
          "text": [
            "\n",
            "\n",
            "\n",
            " 22%|██▏       | 7/32 [00:12<00:44,  1.77s/it]\u001b[A\u001b[A\u001b[A"
          ],
          "name": "stderr"
        },
        {
          "output_type": "stream",
          "text": [
            "[[1.02336726 1.98104948]]\n",
            "pos-0422-096-cough-m-31-1.mp3\n"
          ],
          "name": "stdout"
        },
        {
          "output_type": "stream",
          "text": [
            "\n",
            "\n",
            "\n",
            " 25%|██▌       | 8/32 [00:13<00:43,  1.80s/it]\u001b[A\u001b[A\u001b[A"
          ],
          "name": "stderr"
        },
        {
          "output_type": "stream",
          "text": [
            "[[1.24497557 1.78972244]]\n",
            "pos-0421-094-cough-m-51-7.mp3\n"
          ],
          "name": "stdout"
        },
        {
          "output_type": "stream",
          "text": [
            "\n",
            "\n",
            "\n",
            " 28%|██▊       | 9/32 [00:15<00:42,  1.85s/it]\u001b[A\u001b[A\u001b[A"
          ],
          "name": "stderr"
        },
        {
          "output_type": "stream",
          "text": [
            "[[1.67448866 1.35037827]]\n",
            "pos-0421-093-cough-f-24.mp3\n"
          ],
          "name": "stdout"
        },
        {
          "output_type": "stream",
          "text": [
            "\n",
            "\n",
            "\n",
            " 31%|███▏      | 10/32 [00:18<00:44,  2.03s/it]\u001b[A\u001b[A\u001b[A"
          ],
          "name": "stderr"
        },
        {
          "output_type": "stream",
          "text": [
            "[[1.00074413 1.99956489]]\n",
            "pos-0421-094-cough-m-51-4.mp3\n"
          ],
          "name": "stdout"
        },
        {
          "output_type": "stream",
          "text": [
            "\n",
            "\n",
            "\n",
            " 34%|███▍      | 11/32 [00:20<00:41,  1.99s/it]\u001b[A\u001b[A\u001b[A"
          ],
          "name": "stderr"
        },
        {
          "output_type": "stream",
          "text": [
            "[[1.42389941 1.61044598]]\n",
            "pos-0421-093-cough-f-24-6.mp3\n"
          ],
          "name": "stdout"
        },
        {
          "output_type": "stream",
          "text": [
            "\n",
            "\n",
            "\n",
            " 38%|███▊      | 12/32 [00:22<00:39,  1.98s/it]\u001b[A\u001b[A\u001b[A"
          ],
          "name": "stderr"
        },
        {
          "output_type": "stream",
          "text": [
            "[[1.19572067 1.82558542]]\n",
            "pos-0421-094-cough-m-51-5.mp3\n"
          ],
          "name": "stdout"
        },
        {
          "output_type": "stream",
          "text": [
            "\n",
            "\n",
            "\n",
            " 41%|████      | 13/32 [00:24<00:38,  2.00s/it]\u001b[A\u001b[A\u001b[A"
          ],
          "name": "stderr"
        },
        {
          "output_type": "stream",
          "text": [
            "[[1.42206424 1.62394172]]\n",
            "pos-0421-094-cough-m-51-3.mp3\n"
          ],
          "name": "stdout"
        },
        {
          "output_type": "stream",
          "text": [
            "\n",
            "\n",
            "\n",
            " 44%|████▍     | 14/32 [00:26<00:35,  1.98s/it]\u001b[A\u001b[A\u001b[A"
          ],
          "name": "stderr"
        },
        {
          "output_type": "stream",
          "text": [
            "[[1.09233859 1.91727442]]\n",
            "pos-0421-094-cough-m-51-0.mp3\n"
          ],
          "name": "stdout"
        },
        {
          "output_type": "stream",
          "text": [
            "\n",
            "\n",
            "\n",
            " 47%|████▋     | 15/32 [00:28<00:34,  2.02s/it]\u001b[A\u001b[A\u001b[A"
          ],
          "name": "stderr"
        },
        {
          "output_type": "stream",
          "text": [
            "[[1.35963029 1.59594333]]\n",
            "pos-0421-094-cough-m-51-2.mp3\n"
          ],
          "name": "stdout"
        },
        {
          "output_type": "stream",
          "text": [
            "\n",
            "\n",
            "\n",
            " 50%|█████     | 16/32 [00:30<00:33,  2.09s/it]\u001b[A\u001b[A\u001b[A"
          ],
          "name": "stderr"
        },
        {
          "output_type": "stream",
          "text": [
            "[[1.27119091 1.7427544 ]]\n",
            "pos-0421-093-cough-f-24-2.mp3\n"
          ],
          "name": "stdout"
        },
        {
          "output_type": "stream",
          "text": [
            "\n",
            "\n",
            "\n",
            " 53%|█████▎    | 17/32 [00:32<00:31,  2.10s/it]\u001b[A\u001b[A\u001b[A"
          ],
          "name": "stderr"
        },
        {
          "output_type": "stream",
          "text": [
            "[[1.69921237 1.31448904]]\n",
            "pos-0421-093-cough-f-24-5.mp3\n"
          ],
          "name": "stdout"
        },
        {
          "output_type": "stream",
          "text": [
            "\n",
            "\n",
            "\n",
            " 56%|█████▋    | 18/32 [00:34<00:29,  2.12s/it]\u001b[A\u001b[A\u001b[A"
          ],
          "name": "stderr"
        },
        {
          "output_type": "stream",
          "text": [
            "[[1.27712557 1.77825594]]\n",
            "pos-0421-093-cough-f-24-0.mp3\n"
          ],
          "name": "stdout"
        },
        {
          "output_type": "stream",
          "text": [
            "\n",
            "\n",
            "\n",
            " 59%|█████▉    | 19/32 [00:37<00:27,  2.15s/it]\u001b[A\u001b[A\u001b[A"
          ],
          "name": "stderr"
        },
        {
          "output_type": "stream",
          "text": [
            "[[1.54834884 1.50299209]]\n",
            "pos-0421-092-cough-m-53-13.mp3\n"
          ],
          "name": "stdout"
        },
        {
          "output_type": "stream",
          "text": [
            "\n",
            "\n",
            "\n",
            " 62%|██████▎   | 20/32 [00:39<00:26,  2.18s/it]\u001b[A\u001b[A\u001b[A"
          ],
          "name": "stderr"
        },
        {
          "output_type": "stream",
          "text": [
            "[[1.19718969 1.82955444]]\n",
            "pos-0421-087-cough-f-40-3.mp3\n"
          ],
          "name": "stdout"
        },
        {
          "output_type": "stream",
          "text": [
            "\n",
            "\n",
            "\n",
            " 66%|██████▌   | 21/32 [00:41<00:24,  2.24s/it]\u001b[A\u001b[A\u001b[A"
          ],
          "name": "stderr"
        },
        {
          "output_type": "stream",
          "text": [
            "[[1.31547794 1.7262913 ]]\n",
            "pos-0421-092-cough-m-53-6.mp3\n"
          ],
          "name": "stdout"
        },
        {
          "output_type": "stream",
          "text": [
            "\n",
            "\n",
            "\n",
            " 69%|██████▉   | 22/32 [00:44<00:22,  2.26s/it]\u001b[A\u001b[A\u001b[A"
          ],
          "name": "stderr"
        },
        {
          "output_type": "stream",
          "text": [
            "[[1.00353661 1.9966287 ]]\n",
            "pos-0421-092-cough-m-53-5.mp3\n"
          ],
          "name": "stdout"
        },
        {
          "output_type": "stream",
          "text": [
            "\n",
            "\n",
            "\n",
            " 72%|███████▏  | 23/32 [00:46<00:20,  2.28s/it]\u001b[A\u001b[A\u001b[A"
          ],
          "name": "stderr"
        },
        {
          "output_type": "stream",
          "text": [
            "[[1.03784147 1.96834093]]\n",
            "pos-0421-092-cough-m-53-3.mp3\n"
          ],
          "name": "stdout"
        },
        {
          "output_type": "stream",
          "text": [
            "\n",
            "\n",
            "\n",
            " 75%|███████▌  | 24/32 [00:48<00:18,  2.28s/it]\u001b[A\u001b[A\u001b[A"
          ],
          "name": "stderr"
        },
        {
          "output_type": "stream",
          "text": [
            "[[1.35991105 1.68100643]]\n",
            "pos-0421-092-cough-m-53-12.mp3\n"
          ],
          "name": "stdout"
        },
        {
          "output_type": "stream",
          "text": [
            "\n",
            "\n",
            "\n",
            " 78%|███████▊  | 25/32 [00:50<00:16,  2.29s/it]\u001b[A\u001b[A\u001b[A"
          ],
          "name": "stderr"
        },
        {
          "output_type": "stream",
          "text": [
            "[[1.04098842 1.9586556 ]]\n",
            "pos-0421-092-cough-m-53-7.mp3\n"
          ],
          "name": "stdout"
        },
        {
          "output_type": "stream",
          "text": [
            "\n",
            "\n",
            "\n",
            " 81%|████████▏ | 26/32 [00:53<00:13,  2.31s/it]\u001b[A\u001b[A\u001b[A"
          ],
          "name": "stderr"
        },
        {
          "output_type": "stream",
          "text": [
            "[[1.00169745 1.99863791]]\n",
            "pos-0421-092-cough-m-53-9.mp3\n"
          ],
          "name": "stdout"
        },
        {
          "output_type": "stream",
          "text": [
            "\n",
            "\n",
            "\n",
            " 84%|████████▍ | 27/32 [00:55<00:11,  2.33s/it]\u001b[A\u001b[A\u001b[A"
          ],
          "name": "stderr"
        },
        {
          "output_type": "stream",
          "text": [
            "[[1.00541511 1.99495149]]\n",
            "pos-0421-092-cough-m-53-1.mp3\n"
          ],
          "name": "stdout"
        },
        {
          "output_type": "stream",
          "text": [
            "\n",
            "\n",
            "\n",
            " 88%|████████▊ | 28/32 [00:58<00:09,  2.35s/it]\u001b[A\u001b[A\u001b[A"
          ],
          "name": "stderr"
        },
        {
          "output_type": "stream",
          "text": [
            "[[1.02044329 1.98279184]]\n",
            "pos-0421-093-cough-f-24-1.mp3\n"
          ],
          "name": "stdout"
        },
        {
          "output_type": "stream",
          "text": [
            "\n",
            "\n",
            "\n",
            " 91%|█████████ | 29/32 [01:00<00:07,  2.37s/it]\u001b[A\u001b[A\u001b[A"
          ],
          "name": "stderr"
        },
        {
          "output_type": "stream",
          "text": [
            "[[1.59049237 1.4220584 ]]\n",
            "pos-0421-092-cough-m-53.mp3\n"
          ],
          "name": "stdout"
        },
        {
          "output_type": "stream",
          "text": [
            "\n",
            "\n",
            "\n",
            " 94%|█████████▍| 30/32 [01:04<00:05,  2.72s/it]\u001b[A\u001b[A\u001b[A"
          ],
          "name": "stderr"
        },
        {
          "output_type": "stream",
          "text": [
            "[[1.00047493 1.99974775]]\n",
            "pos-0422-096-cough-m-31.mp3\n"
          ],
          "name": "stdout"
        },
        {
          "output_type": "stream",
          "text": [
            "\n",
            "\n",
            "\n",
            " 97%|█████████▋| 31/32 [01:07<00:02,  2.90s/it]\u001b[A\u001b[A\u001b[A"
          ],
          "name": "stderr"
        },
        {
          "output_type": "stream",
          "text": [
            "[[1.0043717  1.99700701]]\n",
            "pos-0421-094-cough-m-51.mp3\n"
          ],
          "name": "stdout"
        },
        {
          "output_type": "stream",
          "text": [
            "\n",
            "\n",
            "\n",
            "100%|██████████| 32/32 [01:10<00:00,  2.21s/it]"
          ],
          "name": "stderr"
        },
        {
          "output_type": "stream",
          "text": [
            "[[1.44160637 1.60613394]]\n",
            "정확도 :  0.875\n"
          ],
          "name": "stdout"
        },
        {
          "output_type": "stream",
          "text": [
            "\n"
          ],
          "name": "stderr"
        },
        {
          "output_type": "display_data",
          "data": {
            "image/png": "[encoded data removed]",
            "text/plain": [
              "<Figure size 432x288 with 1 Axes>"
            ]
          },
          "metadata": {
            "tags": []
          }
        }
      ]
    },
    {
      "cell_type": "code",
      "metadata": {
        "id": "C4AngCyW3P5i",
        "outputId": "824bd486-6535-4750-b9c7-a69928242550",
        "colab": {
          "base_uri": "https://localhost:8080/"
        }
      },
      "source": [
        "#전체 test set neg 예측 위한 전체경로 설정\n",
        "mypath = \"test_audio/0\"\n",
        "filenames = [f for f in listdir(mypath) if (isfile(join(mypath, f)) and f.endswith('.mp3'))] \n",
        "print(filenames)"
      ],
      "execution_count": 89,
      "outputs": [
        {
          "output_type": "stream",
          "text": [
            "['neg-0421-091-cough-m-47-5.mp3', 'neg-0421-090-cough-f-17-7.mp3', 'neg-0421-090-cough-f-17-6.mp3', 'neg-0421-091-cough-m-47-6.mp3', 'neg-0421-090-cough-f-17-11.mp3', 'neg-0421-091-cough-m-47-4.mp3', 'neg-0421-090-cough-f-17-3.mp3', 'neg-0421-090-cough-f-17-4.mp3', 'neg-0421-090-cough-f-17-5.mp3', 'neg-0421-090-cough-f-17-2.mp3', 'neg-0422-097-cough-m-37-8.mp3', 'neg-0422-097-cough-m-37-3.mp3', 'neg-0422-095-cough-m-53-15.mp3', 'neg-0422-098-cough-f-24-0.mp3', 'neg-0422-098-cough-f-24-5.mp3', 'neg-0422-097-cough-m-37-9.mp3', 'neg-0422-098-cough-f-24-1.mp3', 'neg-0422-097-cough-m-37-4.mp3', 'neg-0422-097-cough-m-37-1.mp3', 'neg-0421-091-cough-m-47.mp3', 'neg-0422-097-cough-m-37.mp3', 'neg-0422-095-cough-m-53.mp3', 'neg-0421-090-cough-f-17.mp3', 'neg-0422-098-cough-f-24.mp3', 'neg-0422-095-cough-m-53-7.mp3', 'neg-0422-095-cough-m-53-8.mp3', 'neg-0422-095-cough-m-53-6.mp3', 'neg-0422-095-cough-m-53-14.mp3', 'neg-0422-095-cough-m-53-13.mp3', 'neg-0422-095-cough-m-53-12.mp3', 'neg-0422-095-cough-m-53-10.mp3', 'neg-0422-095-cough-m-53-9.mp3', 'neg-0422-095-cough-m-53-2.mp3', 'neg-0422-095-cough-m-53-0.mp3', 'neg-0422-095-cough-m-53-5.mp3', 'neg-0422-095-cough-m-53-3.mp3', 'neg-0422-095-cough-m-53-4.mp3', 'neg-0422-095-cough-m-53-1.mp3', 'neg-0421-091-cough-m-47-7.mp3', 'neg-0421-091-cough-m-47-3.mp3', 'neg-0421-091-cough-m-47-1.mp3', 'neg-0421-091-cough-m-47-2.mp3', 'neg-0421-091-cough-m-47-8.mp3']\n"
          ],
          "name": "stdout"
        }
      ]
    },
    {
      "cell_type": "code",
      "metadata": {
        "id": "Eu3vIGkw3ner",
        "outputId": "1f2163b7-3fca-48da-85f1-da59aa63cc16",
        "colab": {
          "base_uri": "https://localhost:8080/",
          "height": 1000
        }
      },
      "source": [
        "from tqdm import tqdm\n",
        "neg = 0\n",
        "pos = 0\n",
        "\n",
        "for i in tqdm(filenames):\n",
        "    res = image_pred('test_audio/0/'+ i)\n",
        "    if res == '0':\n",
        "        neg +=1\n",
        "    else:\n",
        "        pos +=1\n",
        "\n",
        "print('정확도 : ', (neg/(neg+pos)))"
      ],
      "execution_count": 90,
      "outputs": [
        {
          "output_type": "stream",
          "text": [
            "\n",
            "\n",
            "\n",
            "  0%|          | 0/43 [00:00<?, ?it/s]\u001b[A\u001b[A\u001b[A\n",
            "\n",
            "\n",
            "  2%|▏         | 1/43 [00:01<01:00,  1.43s/it]\u001b[A\u001b[A\u001b[A"
          ],
          "name": "stderr"
        },
        {
          "output_type": "stream",
          "text": [
            "[[1.52193576 1.48995134]]\n"
          ],
          "name": "stdout"
        },
        {
          "output_type": "stream",
          "text": [
            "\n",
            "\n",
            "\n",
            "  5%|▍         | 2/43 [00:02<00:58,  1.44s/it]\u001b[A\u001b[A\u001b[A"
          ],
          "name": "stderr"
        },
        {
          "output_type": "stream",
          "text": [
            "[[1.56602931 1.46287245]]\n"
          ],
          "name": "stdout"
        },
        {
          "output_type": "stream",
          "text": [
            "\n",
            "\n",
            "\n",
            "  7%|▋         | 3/43 [00:04<00:57,  1.45s/it]\u001b[A\u001b[A\u001b[A"
          ],
          "name": "stderr"
        },
        {
          "output_type": "stream",
          "text": [
            "[[1.45135635 1.58172214]]\n"
          ],
          "name": "stdout"
        },
        {
          "output_type": "stream",
          "text": [
            "\n",
            "\n",
            "\n",
            "  9%|▉         | 4/43 [00:05<00:57,  1.47s/it]\u001b[A\u001b[A\u001b[A"
          ],
          "name": "stderr"
        },
        {
          "output_type": "stream",
          "text": [
            "[[1.621656   1.37544727]]\n"
          ],
          "name": "stdout"
        },
        {
          "output_type": "stream",
          "text": [
            "\n",
            "\n",
            "\n",
            " 12%|█▏        | 5/43 [00:07<00:56,  1.48s/it]\u001b[A\u001b[A\u001b[A"
          ],
          "name": "stderr"
        },
        {
          "output_type": "stream",
          "text": [
            "[[1.75012696 1.2519989 ]]\n"
          ],
          "name": "stdout"
        },
        {
          "output_type": "stream",
          "text": [
            "\n",
            "\n",
            "\n",
            " 14%|█▍        | 6/43 [00:08<00:55,  1.49s/it]\u001b[A\u001b[A\u001b[A"
          ],
          "name": "stderr"
        },
        {
          "output_type": "stream",
          "text": [
            "[[1.60424042 1.41053763]]\n"
          ],
          "name": "stdout"
        },
        {
          "output_type": "stream",
          "text": [
            "\n",
            "\n",
            "\n",
            " 16%|█▋        | 7/43 [00:10<00:54,  1.50s/it]\u001b[A\u001b[A\u001b[A"
          ],
          "name": "stderr"
        },
        {
          "output_type": "stream",
          "text": [
            "[[1.60350174 1.40870321]]\n"
          ],
          "name": "stdout"
        },
        {
          "output_type": "stream",
          "text": [
            "\n",
            "\n",
            "\n",
            " 19%|█▊        | 8/43 [00:11<00:53,  1.53s/it]\u001b[A\u001b[A\u001b[A"
          ],
          "name": "stderr"
        },
        {
          "output_type": "stream",
          "text": [
            "[[1.11126542 1.89374018]]\n"
          ],
          "name": "stdout"
        },
        {
          "output_type": "stream",
          "text": [
            "\n",
            "\n",
            "\n",
            " 21%|██        | 9/43 [00:13<00:52,  1.54s/it]\u001b[A\u001b[A\u001b[A"
          ],
          "name": "stderr"
        },
        {
          "output_type": "stream",
          "text": [
            "[[1.68616068 1.3687833 ]]\n"
          ],
          "name": "stdout"
        },
        {
          "output_type": "stream",
          "text": [
            "\n",
            "\n",
            "\n",
            " 23%|██▎       | 10/43 [00:15<00:51,  1.56s/it]\u001b[A\u001b[A\u001b[A"
          ],
          "name": "stderr"
        },
        {
          "output_type": "stream",
          "text": [
            "[[1.79392987 1.20324418]]\n"
          ],
          "name": "stdout"
        },
        {
          "output_type": "stream",
          "text": [
            "\n",
            "\n",
            "\n",
            " 26%|██▌       | 11/43 [00:16<00:51,  1.60s/it]\u001b[A\u001b[A\u001b[A"
          ],
          "name": "stderr"
        },
        {
          "output_type": "stream",
          "text": [
            "[[1.66708118 1.31061399]]\n"
          ],
          "name": "stdout"
        },
        {
          "output_type": "stream",
          "text": [
            "\n",
            "\n",
            "\n",
            " 28%|██▊       | 12/43 [00:18<00:50,  1.63s/it]\u001b[A\u001b[A\u001b[A"
          ],
          "name": "stderr"
        },
        {
          "output_type": "stream",
          "text": [
            "[[1.80140513 1.20260927]]\n"
          ],
          "name": "stdout"
        },
        {
          "output_type": "stream",
          "text": [
            "\n",
            "\n",
            "\n",
            " 30%|███       | 13/43 [00:20<00:49,  1.66s/it]\u001b[A\u001b[A\u001b[A"
          ],
          "name": "stderr"
        },
        {
          "output_type": "stream",
          "text": [
            "[[1.52453226 1.47140637]]\n"
          ],
          "name": "stdout"
        },
        {
          "output_type": "stream",
          "text": [
            "\n",
            "\n",
            "\n",
            " 33%|███▎      | 14/43 [00:22<00:48,  1.69s/it]\u001b[A\u001b[A\u001b[A"
          ],
          "name": "stderr"
        },
        {
          "output_type": "stream",
          "text": [
            "[[1.32887784 1.67884833]]\n"
          ],
          "name": "stdout"
        },
        {
          "output_type": "stream",
          "text": [
            "\n",
            "\n",
            "\n",
            " 35%|███▍      | 15/43 [00:23<00:47,  1.71s/it]\u001b[A\u001b[A\u001b[A"
          ],
          "name": "stderr"
        },
        {
          "output_type": "stream",
          "text": [
            "[[1.04720902 1.95531571]]\n"
          ],
          "name": "stdout"
        },
        {
          "output_type": "stream",
          "text": [
            "\n",
            "\n",
            "\n",
            " 37%|███▋      | 16/43 [00:25<00:46,  1.74s/it]\u001b[A\u001b[A\u001b[A"
          ],
          "name": "stderr"
        },
        {
          "output_type": "stream",
          "text": [
            "[[1.72919565 1.27328801]]\n"
          ],
          "name": "stdout"
        },
        {
          "output_type": "stream",
          "text": [
            "\n",
            "\n",
            "\n",
            " 40%|███▉      | 17/43 [00:27<00:45,  1.77s/it]\u001b[A\u001b[A\u001b[A"
          ],
          "name": "stderr"
        },
        {
          "output_type": "stream",
          "text": [
            "[[1.02375212 1.9833191 ]]\n"
          ],
          "name": "stdout"
        },
        {
          "output_type": "stream",
          "text": [
            "\n",
            "\n",
            "\n",
            " 42%|████▏     | 18/43 [00:29<00:44,  1.79s/it]\u001b[A\u001b[A\u001b[A"
          ],
          "name": "stderr"
        },
        {
          "output_type": "stream",
          "text": [
            "[[1.60787022 1.39573994]]\n"
          ],
          "name": "stdout"
        },
        {
          "output_type": "stream",
          "text": [
            "\n",
            "\n",
            "\n",
            " 44%|████▍     | 19/43 [00:31<00:43,  1.81s/it]\u001b[A\u001b[A\u001b[A"
          ],
          "name": "stderr"
        },
        {
          "output_type": "stream",
          "text": [
            "[[1.42685437 1.60054713]]\n"
          ],
          "name": "stdout"
        },
        {
          "output_type": "stream",
          "text": [
            "\n",
            "\n",
            "\n",
            " 47%|████▋     | 20/43 [00:33<00:48,  2.09s/it]\u001b[A\u001b[A\u001b[A"
          ],
          "name": "stderr"
        },
        {
          "output_type": "stream",
          "text": [
            "[[1.00361288 1.99812806]]\n"
          ],
          "name": "stdout"
        },
        {
          "output_type": "stream",
          "text": [
            "\n",
            "\n",
            "\n",
            " 49%|████▉     | 21/43 [00:36<00:51,  2.33s/it]\u001b[A\u001b[A\u001b[A"
          ],
          "name": "stderr"
        },
        {
          "output_type": "stream",
          "text": [
            "[[1.00026125 1.99983352]]\n"
          ],
          "name": "stdout"
        },
        {
          "output_type": "stream",
          "text": [
            "\n",
            "\n",
            "\n",
            " 51%|█████     | 22/43 [00:39<00:51,  2.47s/it]\u001b[A\u001b[A\u001b[A"
          ],
          "name": "stderr"
        },
        {
          "output_type": "stream",
          "text": [
            "[[1.00201723 1.9989565 ]]\n"
          ],
          "name": "stdout"
        },
        {
          "output_type": "stream",
          "text": [
            "\n",
            "\n",
            "\n",
            " 53%|█████▎    | 23/43 [00:42<00:50,  2.53s/it]\u001b[A\u001b[A\u001b[A"
          ],
          "name": "stderr"
        },
        {
          "output_type": "stream",
          "text": [
            "[[1.05200556 1.95317787]]\n"
          ],
          "name": "stdout"
        },
        {
          "output_type": "stream",
          "text": [
            "\n",
            "\n",
            "\n",
            " 56%|█████▌    | 24/43 [00:44<00:48,  2.56s/it]\u001b[A\u001b[A\u001b[A"
          ],
          "name": "stderr"
        },
        {
          "output_type": "stream",
          "text": [
            "[[1.08907843 1.91194016]]\n"
          ],
          "name": "stdout"
        },
        {
          "output_type": "stream",
          "text": [
            "\n",
            "\n",
            "\n",
            " 58%|█████▊    | 25/43 [00:46<00:43,  2.40s/it]\u001b[A\u001b[A\u001b[A"
          ],
          "name": "stderr"
        },
        {
          "output_type": "stream",
          "text": [
            "[[1.00494948 1.99405026]]\n"
          ],
          "name": "stdout"
        },
        {
          "output_type": "stream",
          "text": [
            "\n",
            "\n",
            "\n",
            " 60%|██████    | 26/43 [00:48<00:39,  2.30s/it]\u001b[A\u001b[A\u001b[A"
          ],
          "name": "stderr"
        },
        {
          "output_type": "stream",
          "text": [
            "[[1.54854017 1.49514633]]\n"
          ],
          "name": "stdout"
        },
        {
          "output_type": "stream",
          "text": [
            "\n",
            "\n",
            "\n",
            " 63%|██████▎   | 27/43 [00:51<00:35,  2.24s/it]\u001b[A\u001b[A\u001b[A"
          ],
          "name": "stderr"
        },
        {
          "output_type": "stream",
          "text": [
            "[[1.20588043 1.8064009 ]]\n"
          ],
          "name": "stdout"
        },
        {
          "output_type": "stream",
          "text": [
            "\n",
            "\n",
            "\n",
            " 65%|██████▌   | 28/43 [00:53<00:32,  2.19s/it]\u001b[A\u001b[A\u001b[A"
          ],
          "name": "stderr"
        },
        {
          "output_type": "stream",
          "text": [
            "[[1.5325284  1.45731953]]\n"
          ],
          "name": "stdout"
        },
        {
          "output_type": "stream",
          "text": [
            "\n",
            "\n",
            "\n",
            " 67%|██████▋   | 29/43 [00:55<00:30,  2.18s/it]\u001b[A\u001b[A\u001b[A"
          ],
          "name": "stderr"
        },
        {
          "output_type": "stream",
          "text": [
            "[[1.01985097 1.98021936]]\n"
          ],
          "name": "stdout"
        },
        {
          "output_type": "stream",
          "text": [
            "\n",
            "\n",
            "\n",
            " 70%|██████▉   | 30/43 [00:57<00:28,  2.18s/it]\u001b[A\u001b[A\u001b[A"
          ],
          "name": "stderr"
        },
        {
          "output_type": "stream",
          "text": [
            "[[1.91908199 1.08388475]]\n"
          ],
          "name": "stdout"
        },
        {
          "output_type": "stream",
          "text": [
            "\n",
            "\n",
            "\n",
            " 72%|███████▏  | 31/43 [00:59<00:26,  2.17s/it]\u001b[A\u001b[A\u001b[A"
          ],
          "name": "stderr"
        },
        {
          "output_type": "stream",
          "text": [
            "[[1.04357079 1.95976305]]\n"
          ],
          "name": "stdout"
        },
        {
          "output_type": "stream",
          "text": [
            "\n",
            "\n",
            "\n",
            " 74%|███████▍  | 32/43 [01:01<00:24,  2.21s/it]\u001b[A\u001b[A\u001b[A"
          ],
          "name": "stderr"
        },
        {
          "output_type": "stream",
          "text": [
            "[[1.08068496 1.93422657]]\n"
          ],
          "name": "stdout"
        },
        {
          "output_type": "stream",
          "text": [
            "\n",
            "\n",
            "\n",
            " 77%|███████▋  | 33/43 [01:04<00:22,  2.25s/it]\u001b[A\u001b[A\u001b[A"
          ],
          "name": "stderr"
        },
        {
          "output_type": "stream",
          "text": [
            "[[1.00267065 1.99789411]]\n"
          ],
          "name": "stdout"
        },
        {
          "output_type": "stream",
          "text": [
            "\n",
            "\n",
            "\n",
            " 79%|███████▉  | 34/43 [01:06<00:20,  2.28s/it]\u001b[A\u001b[A\u001b[A"
          ],
          "name": "stderr"
        },
        {
          "output_type": "stream",
          "text": [
            "[[1.01040077 1.98866999]]\n"
          ],
          "name": "stdout"
        },
        {
          "output_type": "stream",
          "text": [
            "\n",
            "\n",
            "\n",
            " 81%|████████▏ | 35/43 [01:09<00:18,  2.32s/it]\u001b[A\u001b[A\u001b[A"
          ],
          "name": "stderr"
        },
        {
          "output_type": "stream",
          "text": [
            "[[1.15433395 1.88324022]]\n"
          ],
          "name": "stdout"
        },
        {
          "output_type": "stream",
          "text": [
            "\n",
            "\n",
            "\n",
            " 84%|████████▎ | 36/43 [01:11<00:16,  2.33s/it]\u001b[A\u001b[A\u001b[A"
          ],
          "name": "stderr"
        },
        {
          "output_type": "stream",
          "text": [
            "[[1.18867821 1.85068977]]\n"
          ],
          "name": "stdout"
        },
        {
          "output_type": "stream",
          "text": [
            "\n",
            "\n",
            "\n",
            " 86%|████████▌ | 37/43 [01:13<00:14,  2.35s/it]\u001b[A\u001b[A\u001b[A"
          ],
          "name": "stderr"
        },
        {
          "output_type": "stream",
          "text": [
            "[[1.04918918 1.9578774 ]]\n"
          ],
          "name": "stdout"
        },
        {
          "output_type": "stream",
          "text": [
            "\n",
            "\n",
            "\n",
            " 88%|████████▊ | 38/43 [01:16<00:11,  2.39s/it]\u001b[A\u001b[A\u001b[A"
          ],
          "name": "stderr"
        },
        {
          "output_type": "stream",
          "text": [
            "[[1.36127383 1.67941475]]\n"
          ],
          "name": "stdout"
        },
        {
          "output_type": "stream",
          "text": [
            "\n",
            "\n",
            "\n",
            " 91%|█████████ | 39/43 [01:18<00:09,  2.43s/it]\u001b[A\u001b[A\u001b[A"
          ],
          "name": "stderr"
        },
        {
          "output_type": "stream",
          "text": [
            "[[1.83104038 1.14855495]]\n"
          ],
          "name": "stdout"
        },
        {
          "output_type": "stream",
          "text": [
            "\n",
            "\n",
            "\n",
            " 93%|█████████▎| 40/43 [01:21<00:07,  2.46s/it]\u001b[A\u001b[A\u001b[A"
          ],
          "name": "stderr"
        },
        {
          "output_type": "stream",
          "text": [
            "[[1.48178989 1.53261197]]\n"
          ],
          "name": "stdout"
        },
        {
          "output_type": "stream",
          "text": [
            "\n",
            "\n",
            "\n",
            " 95%|█████████▌| 41/43 [01:23<00:04,  2.47s/it]\u001b[A\u001b[A\u001b[A"
          ],
          "name": "stderr"
        },
        {
          "output_type": "stream",
          "text": [
            "[[1.67620867 1.33064213]]\n"
          ],
          "name": "stdout"
        },
        {
          "output_type": "stream",
          "text": [
            "\n",
            "\n",
            "\n",
            " 98%|█████████▊| 42/43 [01:26<00:02,  2.48s/it]\u001b[A\u001b[A\u001b[A"
          ],
          "name": "stderr"
        },
        {
          "output_type": "stream",
          "text": [
            "[[1.58702666 1.41764396]]\n"
          ],
          "name": "stdout"
        },
        {
          "output_type": "stream",
          "text": [
            "\n",
            "\n",
            "\n",
            "100%|██████████| 43/43 [01:28<00:00,  2.07s/it]"
          ],
          "name": "stderr"
        },
        {
          "output_type": "stream",
          "text": [
            "[[1.37498215 1.68002295]]\n",
            "정확도 :  0.4418604651162791\n"
          ],
          "name": "stdout"
        },
        {
          "output_type": "stream",
          "text": [
            "\n"
          ],
          "name": "stderr"
        },
        {
          "output_type": "display_data",
          "data": {
            "image/png": "[encoded data removed]",
            "text/plain": [
              "<Figure size 432x288 with 1 Axes>"
            ]
          },
          "metadata": {
            "tags": []
          }
        }
      ]
    },
    {
      "cell_type": "code",
      "metadata": {
        "id": "4-RPc_zs6lKV",
        "outputId": "3c4918a0-be78-4c3f-8ced-cc5ff7327394",
        "colab": {
          "base_uri": "https://localhost:8080/"
        }
      },
      "source": [
        "print(neg,pos)"
      ],
      "execution_count": 91,
      "outputs": [
        {
          "output_type": "stream",
          "text": [
            "19 24\n"
          ],
          "name": "stdout"
        }
      ]
    },
    {
      "cell_type": "code",
      "metadata": {
        "id": "7sO3yZOkG_22"
      },
      "source": [
        "#하나씩 예측하기\n",
        "image_pred('train_cough_data/neg_cough/0HIgO2EhOOW1msCbEw1kC8Qsx6D3cough-shallow.wav')"
      ],
      "execution_count": null,
      "outputs": []
    },
    {
      "cell_type": "code",
      "metadata": {
        "id": "usmqSbIOFoT8"
      },
      "source": [
        "/content/drive/My Drive/audio_predict/train_cough_data/neg_cough/01OCEf1yB4czsq8ygRoT51s96Ba2cough-shallow.wav\n",
        "/content/drive/My Drive/audio_predict/train_cough_data/neg_cough/0HIgO2EhOOW1msCbEw1kC8Qsx6D3cough-shallow.wav"
      ],
      "execution_count": null,
      "outputs": []
    }
  ]
}