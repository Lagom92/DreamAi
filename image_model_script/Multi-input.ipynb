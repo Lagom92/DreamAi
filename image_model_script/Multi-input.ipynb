{
 "cells": [
  {
   "cell_type": "markdown",
   "metadata": {},
   "source": [
    "## Import mudules"
   ]
  },
  {
   "cell_type": "code",
   "execution_count": 1,
   "metadata": {},
   "outputs": [],
   "source": [
    "import numpy as np\n",
    "from tqdm import tqdm\n",
    "import tensorflow as tf\n",
    "import matplotlib.pyplot as plt\n",
    "from tensorflow.keras.preprocessing import image\n",
    "from tensorflow.keras.models import Model, load_model\n",
    "from tensorflow.keras.layers import Input, Dense, Dropout, GlobalAveragePooling2D, Concatenate, BatchNormalization\n",
    "from keras.callbacks import ModelCheckpoint, EarlyStopping, ReduceLROnPlateau\n",
    "from tensorflow.keras.preprocessing.image import ImageDataGenerator\n",
    "from keras.optimizers import Adam"
   ]
  },
  {
   "cell_type": "markdown",
   "metadata": {},
   "source": [
    "## Multi-input ImageDataGenerator (audio : Mel-spectrogram / image : cropped CXR)"
   ]
  },
  {
   "cell_type": "code",
   "execution_count": 3,
   "metadata": {},
   "outputs": [
    {
     "name": "stdout",
     "output_type": "stream",
     "text": [
      "Found 5730 images belonging to 2 classes.\n",
      "Found 5730 images belonging to 2 classes.\n",
      "5730\n",
      "5730\n"
     ]
    }
   ],
   "source": [
    "image_path = '../image_data/cropped_train/'\n",
    "audio_path = '../audio_data/train_Mel/'\n",
    "\n",
    "image_size = 224\n",
    "batch_size = 32\n",
    "train_datagen = ImageDataGenerator(rescale=1./255.,\n",
    "                                   validation_split=0.2)\n",
    "\n",
    "\n",
    "generator_tra1 = train_datagen.flow_from_directory(\n",
    "                                    directory=image_path,\n",
    "                                    subset = 'training',\n",
    "                                    target_size = (image_size,image_size),\n",
    "                                    color_mode = 'rgb',\n",
    "                                    class_mode = 'binary',\n",
    "                                    batch_size = batch_size,\n",
    "                                    shuffle = True,\n",
    "                                    seed = 126)\n",
    "\n",
    "generator_tra2 = train_datagen.flow_from_directory(\n",
    "                                    directory=audio_path,\n",
    "                                    subset = 'training',\n",
    "                                    target_size = (image_size,image_size),\n",
    "                                    color_mode = 'rgb',\n",
    "                                    class_mode = 'binary',\n",
    "                                    batch_size = batch_size,\n",
    "                                    shuffle = True,\n",
    "                                    seed = 126)\n",
    "\n",
    "print(generator_tra1.n)\n",
    "print(generator_tra2.n)"
   ]
  },
  {
   "cell_type": "code",
   "execution_count": 4,
   "metadata": {},
   "outputs": [
    {
     "name": "stdout",
     "output_type": "stream",
     "text": [
      "Found 1431 images belonging to 2 classes.\n",
      "Found 1431 images belonging to 2 classes.\n",
      "1431\n",
      "1431\n"
     ]
    }
   ],
   "source": [
    "generator_val1 = train_datagen.flow_from_directory(\n",
    "                                    directory=image_path,\n",
    "                                    subset = 'validation',\n",
    "                                    target_size = (image_size,image_size),\n",
    "                                    color_mode = 'rgb',\n",
    "                                    class_mode = 'binary',\n",
    "                                    batch_size = batch_size,\n",
    "                                    shuffle = True,\n",
    "                                    seed = 126)\n",
    "\n",
    "generator_val2 = train_datagen.flow_from_directory(\n",
    "                                    directory=audio_path,\n",
    "                                    subset = 'validation',\n",
    "                                    target_size = (image_size,image_size),\n",
    "                                    color_mode = 'rgb',\n",
    "                                    class_mode = 'binary',\n",
    "                                    batch_size = batch_size,\n",
    "                                    shuffle = True,\n",
    "                                    seed = 126)\n",
    "\n",
    "print(generator_val1.n)\n",
    "print(generator_val2.n)"
   ]
  },
  {
   "cell_type": "code",
   "execution_count": 5,
   "metadata": {},
   "outputs": [],
   "source": [
    "# pos, neg 데이터의 수를 맞춰야 같은 라벨을 가져올 수 있다.\n",
    "def two_image_generator(gen1, gen2):\n",
    "\n",
    "    while True:\n",
    "        CXR, Y = gen1.next()\n",
    "        Audio, Y = gen2.next()\n",
    "\n",
    "        yield [CXR,Audio], Y  #X1i[1] is the label\n",
    "\n",
    "train_generator = two_image_generator(generator_tra1,generator_tra2)\n",
    "valid_generator = two_image_generator(generator_val1,generator_val2)"
   ]
  },
  {
   "cell_type": "code",
   "execution_count": 8,
   "metadata": {},
   "outputs": [],
   "source": [
    "feature_model = tf.keras.applications.DenseNet201(\n",
    "    include_top=False,\n",
    "    weights=\"imagenet\",\n",
    "    input_shape=(image_size,image_size,3),\n",
    ")\n",
    "\n",
    "# feature_model.summary()"
   ]
  },
  {
   "cell_type": "code",
   "execution_count": 58,
   "metadata": {},
   "outputs": [
    {
     "name": "stdout",
     "output_type": "stream",
     "text": [
      "Number of layers in the base model:  707\n",
      "Model: \"functional_9\"\n",
      "__________________________________________________________________________________________________\n",
      "Layer (type)                    Output Shape         Param #     Connected to                     \n",
      "==================================================================================================\n",
      "input_10 (InputLayer)           [(None, 224, 224, 3) 0                                            \n",
      "__________________________________________________________________________________________________\n",
      "input_11 (InputLayer)           [(None, 224, 224, 3) 0                                            \n",
      "__________________________________________________________________________________________________\n",
      "densenet201 (Functional)        (None, 7, 7, 1920)   18321984    input_10[0][0]                   \n",
      "                                                                 input_11[0][0]                   \n",
      "__________________________________________________________________________________________________\n",
      "functional_7 (Functional)       (None, 1)            2630657     densenet201[0][0]                \n",
      "                                                                 densenet201[1][0]                \n",
      "==================================================================================================\n",
      "Total params: 20,952,641\n",
      "Trainable params: 15,368,769\n",
      "Non-trainable params: 5,583,872\n",
      "__________________________________________________________________________________________________\n"
     ]
    }
   ],
   "source": [
    "# # 미세 조정을 하려면 처음부터 freezing을 풀어 놓아도 된다.\n",
    "# feature_model.trainable = True\n",
    "\n",
    "# print(\"Number of layers in the base model: \", len(feature_model.layers))\n",
    "# fine_tune_at = 350\n",
    "\n",
    "# for layer in feature_model.layers[:fine_tune_at]:\n",
    "#     layer.trainable =  False\n",
    "\n",
    "# finetune.summary()"
   ]
  },
  {
   "cell_type": "code",
   "execution_count": 80,
   "metadata": {},
   "outputs": [
    {
     "name": "stdout",
     "output_type": "stream",
     "text": [
      "Model: \"functional_9\"\n",
      "_________________________________________________________________\n",
      "Layer (type)                 Output Shape              Param #   \n",
      "=================================================================\n",
      "input_17 (InputLayer)        [(None, 224, 224, 3)]     0         \n",
      "_________________________________________________________________\n",
      "densenet201 (Functional)     (None, 7, 7, 1920)        18321984  \n",
      "_________________________________________________________________\n",
      "global_average_pooling2d_1 ( (None, 1920)              0         \n",
      "=================================================================\n",
      "Total params: 18,321,984\n",
      "Trainable params: 14,028,480\n",
      "Non-trainable params: 4,293,504\n",
      "_________________________________________________________________\n"
     ]
    }
   ],
   "source": [
    "# 이미지 데이터가 매우 많을 때는 featrue model 하단에 GAP레이어를 쌓아서 \n",
    "# numpy array로 저장되는 데이터의 수를 줄여준다.\n",
    "\n",
    "# def build_feature_model(feature_model):\n",
    "#     inputs = Input(shape=(image_size,image_size,3))\n",
    "#     x = feature_model(inputs)\n",
    "#     outputs = GlobalAveragePooling2D()(x)\n",
    "#     model = Model(inputs=inputs, outputs=outputs)\n",
    "    \n",
    "#     return model\n",
    "\n",
    "# feature_model_GAP = build_feature_model(feature_model)\n",
    "# feature_model_GAP.summary()"
   ]
  },
  {
   "cell_type": "markdown",
   "metadata": {},
   "source": [
    "## Extract features"
   ]
  },
  {
   "cell_type": "code",
   "execution_count": 38,
   "metadata": {},
   "outputs": [
    {
     "name": "stderr",
     "output_type": "stream",
     "text": [
      "100%|██████████| 179/179 [01:07<00:00,  2.65it/s]\n"
     ]
    },
    {
     "name": "stdout",
     "output_type": "stream",
     "text": [
      "(5728, 7, 7, 1920)\n",
      "(5728, 7, 7, 1920)\n",
      "(5728,)\n"
     ]
    }
   ],
   "source": [
    "train_labels = []\n",
    "train_img_features = []\n",
    "train_aud_features = []\n",
    "\n",
    "for i in tqdm(range(generator_tra1.n//batch_size)):\n",
    "    \n",
    "    [x1, x2] , y = train_generator.__next__()\n",
    "    \n",
    "    train_labels.extend(y)\n",
    "    \n",
    "    feature1, feature2 = feature_model.predict(x1), feature_model.predict(x2)\n",
    "    train_img_features.extend(feature1)\n",
    "    train_aud_features.extend(feature2)\n",
    "    \n",
    "train_img_features = np.array(train_img_features)\n",
    "train_aud_features = np.array(train_aud_features)\n",
    "train_labels = np.array(train_labels)\n",
    "\n",
    "print(train_img_features.shape)\n",
    "print(train_aud_features.shape)\n",
    "print(train_labels.shape)"
   ]
  },
  {
   "cell_type": "code",
   "execution_count": 39,
   "metadata": {},
   "outputs": [
    {
     "name": "stderr",
     "output_type": "stream",
     "text": [
      "100%|██████████| 44/44 [00:16<00:00,  2.63it/s]\n"
     ]
    },
    {
     "name": "stdout",
     "output_type": "stream",
     "text": [
      "(1408, 7, 7, 1920)\n",
      "(1408, 7, 7, 1920)\n",
      "(1408,)\n"
     ]
    }
   ],
   "source": [
    "# train 데이터는 수가 너무많음 따라서 이방법은 train데이터에는 사용 X\n",
    "valid_labels = []\n",
    "valid_img_features = []\n",
    "valid_aud_features = []\n",
    "\n",
    "for i in tqdm(range(generator_val1.n//batch_size)):\n",
    "    \n",
    "    [x1, x2] , y = valid_generator.__next__()\n",
    "    valid_labels.extend(y)\n",
    "    feature1, feature2 = feature_model.predict(x1), feature_model.predict(x2)\n",
    "    valid_img_features.extend(feature1)\n",
    "    valid_aud_features.extend(feature2)\n",
    "    \n",
    "valid_img_features = np.array(valid_img_features)\n",
    "valid_aud_features = np.array(valid_aud_features)\n",
    "valid_labels = np.array(valid_labels)\n",
    "\n",
    "print(valid_img_features.shape)\n",
    "print(valid_aud_features.shape)\n",
    "print(valid_labels.shape)"
   ]
  },
  {
   "cell_type": "markdown",
   "metadata": {},
   "source": [
    "## Save features"
   ]
  },
  {
   "cell_type": "code",
   "execution_count": 40,
   "metadata": {},
   "outputs": [],
   "source": [
    "train_img_path = 'mulit-input_features/train_img.npy'\n",
    "train_aud_path =  'mulit-input_features/train_aud.npy'\n",
    "train_labels_path =  'mulit-input_features/train_labels.npy'\n",
    "\n",
    "valid_img_path = 'mulit-input_features/valid_img.npy'\n",
    "valid_aud_path =  'mulit-input_features/valid_aud.npy'\n",
    "valid_labels_path =  'mulit-input_features/valid_labels.npy'"
   ]
  },
  {
   "cell_type": "code",
   "execution_count": 41,
   "metadata": {},
   "outputs": [],
   "source": [
    "np.save(train_img_path, train_img_features)\n",
    "np.save(train_aud_path, train_aud_features)\n",
    "np.save(train_labels_path, train_labels)"
   ]
  },
  {
   "cell_type": "code",
   "execution_count": 42,
   "metadata": {},
   "outputs": [],
   "source": [
    "np.save(valid_img_path, valid_img_features)\n",
    "np.save(valid_aud_path, valid_aud_features)\n",
    "np.save(valid_labels_path, valid_labels)"
   ]
  },
  {
   "cell_type": "markdown",
   "metadata": {},
   "source": [
    "## Load features"
   ]
  },
  {
   "cell_type": "code",
   "execution_count": null,
   "metadata": {},
   "outputs": [],
   "source": [
    "# train_img_features = np.load(train_img_path)\n",
    "# train_aud_features  = np.load(train_aud_path)\n",
    "# train_labels = np.load(train_labels_path)\n",
    "\n",
    "# valid_img_features = np.load(valid_img_path)\n",
    "# valid_aud_features = np.load(valid_aud_path)\n",
    "# valid_labels = np.load(valid_labels_path)"
   ]
  },
  {
   "cell_type": "markdown",
   "metadata": {},
   "source": [
    "## Build and Fit"
   ]
  },
  {
   "cell_type": "code",
   "execution_count": 48,
   "metadata": {},
   "outputs": [],
   "source": [
    "def build_model():\n",
    "    \n",
    "    inputs1 = Input(shape=feature_model.output.shape[1:])\n",
    "    inputs2 = Input(shape=feature_model.output.shape[1:])\n",
    "\n",
    "    merged = Concatenate(axis=1)([inputs1, inputs2])\n",
    "\n",
    "    x = GlobalAveragePooling2D()(merged)\n",
    "\n",
    "    x = Dense(1024, activation='relu')(x)\n",
    "    x = BatchNormalization()(x)\n",
    "    x = Dropout(0.5)(x)\n",
    "\n",
    "    x = Dense(512, activation='relu')(x)\n",
    "    x = BatchNormalization()(x)\n",
    "    x = Dropout(0.5)(x)\n",
    "    \n",
    "    x = Dense(256, activation='relu')(x)\n",
    "    x = BatchNormalization()(x)\n",
    "    x = Dropout(0.5)(x)\n",
    "    \n",
    "    outputs = Dense(1, activation='sigmoid')(x)\n",
    "\n",
    "    model = Model(inputs=[inputs1, inputs2],\n",
    "                 outputs = outputs)\n",
    "    \n",
    "    model.compile(optimizer=Adam(lr=4e-4),\n",
    "                  loss= 'binary_crossentropy',\n",
    "                  metrics='accuracy')\n",
    "    \n",
    "    return model"
   ]
  },
  {
   "cell_type": "code",
   "execution_count": 49,
   "metadata": {},
   "outputs": [
    {
     "name": "stdout",
     "output_type": "stream",
     "text": [
      "Model: \"functional_5\"\n",
      "__________________________________________________________________________________________________\n",
      "Layer (type)                    Output Shape         Param #     Connected to                     \n",
      "==================================================================================================\n",
      "input_6 (InputLayer)            [(None, 7, 7, 1920)] 0                                            \n",
      "__________________________________________________________________________________________________\n",
      "input_7 (InputLayer)            [(None, 7, 7, 1920)] 0                                            \n",
      "__________________________________________________________________________________________________\n",
      "concatenate_2 (Concatenate)     (None, 14, 7, 1920)  0           input_6[0][0]                    \n",
      "                                                                 input_7[0][0]                    \n",
      "__________________________________________________________________________________________________\n",
      "global_average_pooling2d_2 (Glo (None, 1920)         0           concatenate_2[0][0]              \n",
      "__________________________________________________________________________________________________\n",
      "dense_6 (Dense)                 (None, 1024)         1967104     global_average_pooling2d_2[0][0] \n",
      "__________________________________________________________________________________________________\n",
      "batch_normalization_4 (BatchNor (None, 1024)         4096        dense_6[0][0]                    \n",
      "__________________________________________________________________________________________________\n",
      "dropout_4 (Dropout)             (None, 1024)         0           batch_normalization_4[0][0]      \n",
      "__________________________________________________________________________________________________\n",
      "dense_7 (Dense)                 (None, 512)          524800      dropout_4[0][0]                  \n",
      "__________________________________________________________________________________________________\n",
      "batch_normalization_5 (BatchNor (None, 512)          2048        dense_7[0][0]                    \n",
      "__________________________________________________________________________________________________\n",
      "dropout_5 (Dropout)             (None, 512)          0           batch_normalization_5[0][0]      \n",
      "__________________________________________________________________________________________________\n",
      "dense_8 (Dense)                 (None, 256)          131328      dropout_5[0][0]                  \n",
      "__________________________________________________________________________________________________\n",
      "batch_normalization_6 (BatchNor (None, 256)          1024        dense_8[0][0]                    \n",
      "__________________________________________________________________________________________________\n",
      "dropout_6 (Dropout)             (None, 256)          0           batch_normalization_6[0][0]      \n",
      "__________________________________________________________________________________________________\n",
      "dense_9 (Dense)                 (None, 1)            257         dropout_6[0][0]                  \n",
      "==================================================================================================\n",
      "Total params: 2,630,657\n",
      "Trainable params: 2,627,073\n",
      "Non-trainable params: 3,584\n",
      "__________________________________________________________________________________________________\n"
     ]
    }
   ],
   "source": [
    "# 모델 구축\n",
    "model = build_model()\n",
    "\n",
    "model.summary()"
   ]
  },
  {
   "cell_type": "code",
   "execution_count": 50,
   "metadata": {},
   "outputs": [],
   "source": [
    "weight_path = \"testmodel/multi_model.h5\"\n",
    "\n",
    "cp = ModelCheckpoint(weight_path, monitor='val_accuracy', verbose=1,\n",
    "                        save_best_only=True, save_weights_only=True)\n",
    "\n",
    "reduceLROnPlat = ReduceLROnPlateau(monitor='val_loss', factor=0.5, \n",
    "                                   patience=5, \n",
    "                                   min_lr=1e-6)\n",
    "es = EarlyStopping(monitor=\"val_loss\", \n",
    "                      mode=\"min\", \n",
    "                      patience=30)\n",
    "callbacks_list = [cp, es, reduceLROnPlat]"
   ]
  },
  {
   "cell_type": "code",
   "execution_count": 51,
   "metadata": {
    "scrolled": true
   },
   "outputs": [
    {
     "name": "stdout",
     "output_type": "stream",
     "text": [
      "Epoch 1/100\n",
      "175/179 [============================>.] - ETA: 0s - loss: 0.5437 - accuracy: 0.7802\n",
      "Epoch 00001: val_accuracy improved from -inf to 0.90838, saving model to testmodel/multi_model.h5\n",
      "179/179 [==============================] - 3s 17ms/step - loss: 0.5406 - accuracy: 0.7819 - val_loss: 0.3243 - val_accuracy: 0.9084\n",
      "Epoch 2/100\n",
      "178/179 [============================>.] - ETA: 0s - loss: 0.2628 - accuracy: 0.9122\n",
      "Epoch 00002: val_accuracy improved from 0.90838 to 0.94460, saving model to testmodel/multi_model.h5\n",
      "179/179 [==============================] - 2s 13ms/step - loss: 0.2621 - accuracy: 0.9124 - val_loss: 0.1845 - val_accuracy: 0.9446\n",
      "Epoch 3/100\n",
      "178/179 [============================>.] - ETA: 0s - loss: 0.1868 - accuracy: 0.9408\n",
      "Epoch 00003: val_accuracy improved from 0.94460 to 0.95170, saving model to testmodel/multi_model.h5\n",
      "179/179 [==============================] - 2s 12ms/step - loss: 0.1860 - accuracy: 0.9412 - val_loss: 0.1553 - val_accuracy: 0.9517\n",
      "Epoch 4/100\n",
      "178/179 [============================>.] - ETA: 0s - loss: 0.1612 - accuracy: 0.9472\n",
      "Epoch 00004: val_accuracy did not improve from 0.95170\n",
      "179/179 [==============================] - 2s 12ms/step - loss: 0.1607 - accuracy: 0.9473 - val_loss: 0.1593 - val_accuracy: 0.9496\n",
      "Epoch 5/100\n",
      "175/179 [============================>.] - ETA: 0s - loss: 0.1408 - accuracy: 0.9552\n",
      "Epoch 00005: val_accuracy did not improve from 0.95170\n",
      "179/179 [==============================] - 2s 12ms/step - loss: 0.1425 - accuracy: 0.9546 - val_loss: 0.1451 - val_accuracy: 0.9517\n",
      "Epoch 6/100\n",
      "177/179 [============================>.] - ETA: 0s - loss: 0.1326 - accuracy: 0.9544\n",
      "Epoch 00006: val_accuracy did not improve from 0.95170\n",
      "179/179 [==============================] - 2s 12ms/step - loss: 0.1323 - accuracy: 0.9543 - val_loss: 0.1824 - val_accuracy: 0.9304\n",
      "Epoch 7/100\n",
      "175/179 [============================>.] - ETA: 0s - loss: 0.1104 - accuracy: 0.9621\n",
      "Epoch 00007: val_accuracy improved from 0.95170 to 0.95952, saving model to testmodel/multi_model.h5\n",
      "179/179 [==============================] - 2s 12ms/step - loss: 0.1123 - accuracy: 0.9612 - val_loss: 0.1163 - val_accuracy: 0.9595\n",
      "Epoch 8/100\n",
      "176/179 [============================>.] - ETA: 0s - loss: 0.0979 - accuracy: 0.9672\n",
      "Epoch 00008: val_accuracy did not improve from 0.95952\n",
      "179/179 [==============================] - 2s 12ms/step - loss: 0.0992 - accuracy: 0.9663 - val_loss: 0.1157 - val_accuracy: 0.9567\n",
      "Epoch 9/100\n",
      "174/179 [============================>.] - ETA: 0s - loss: 0.0905 - accuracy: 0.9704\n",
      "Epoch 00009: val_accuracy did not improve from 0.95952\n",
      "179/179 [==============================] - 2s 13ms/step - loss: 0.0912 - accuracy: 0.9700 - val_loss: 0.1306 - val_accuracy: 0.9496\n",
      "Epoch 10/100\n",
      "179/179 [==============================] - ETA: 0s - loss: 0.0844 - accuracy: 0.9688\n",
      "Epoch 00010: val_accuracy did not improve from 0.95952\n",
      "179/179 [==============================] - 2s 12ms/step - loss: 0.0844 - accuracy: 0.9688 - val_loss: 0.1184 - val_accuracy: 0.9574\n",
      "Epoch 11/100\n",
      "178/179 [============================>.] - ETA: 0s - loss: 0.0978 - accuracy: 0.9659\n",
      "Epoch 00011: val_accuracy improved from 0.95952 to 0.96023, saving model to testmodel/multi_model.h5\n",
      "179/179 [==============================] - 2s 13ms/step - loss: 0.0973 - accuracy: 0.9661 - val_loss: 0.1169 - val_accuracy: 0.9602\n",
      "Epoch 12/100\n",
      "177/179 [============================>.] - ETA: 0s - loss: 0.0849 - accuracy: 0.9682\n",
      "Epoch 00012: val_accuracy improved from 0.96023 to 0.96094, saving model to testmodel/multi_model.h5\n",
      "179/179 [==============================] - 2s 13ms/step - loss: 0.0845 - accuracy: 0.9684 - val_loss: 0.1214 - val_accuracy: 0.9609\n",
      "Epoch 13/100\n",
      "179/179 [==============================] - ETA: 0s - loss: 0.0795 - accuracy: 0.9733\n",
      "Epoch 00013: val_accuracy did not improve from 0.96094\n",
      "179/179 [==============================] - 2s 13ms/step - loss: 0.0795 - accuracy: 0.9733 - val_loss: 0.1242 - val_accuracy: 0.9503\n",
      "Epoch 14/100\n",
      "175/179 [============================>.] - ETA: 0s - loss: 0.0674 - accuracy: 0.9745\n",
      "Epoch 00014: val_accuracy did not improve from 0.96094\n",
      "179/179 [==============================] - 2s 12ms/step - loss: 0.0678 - accuracy: 0.9742 - val_loss: 0.1044 - val_accuracy: 0.9588\n",
      "Epoch 15/100\n",
      "175/179 [============================>.] - ETA: 0s - loss: 0.0564 - accuracy: 0.9784\n",
      "Epoch 00015: val_accuracy did not improve from 0.96094\n",
      "179/179 [==============================] - 2s 12ms/step - loss: 0.0556 - accuracy: 0.9787 - val_loss: 0.1097 - val_accuracy: 0.9574\n",
      "Epoch 16/100\n",
      "174/179 [============================>.] - ETA: 0s - loss: 0.0595 - accuracy: 0.9795\n",
      "Epoch 00016: val_accuracy did not improve from 0.96094\n",
      "179/179 [==============================] - 2s 12ms/step - loss: 0.0599 - accuracy: 0.9796 - val_loss: 0.1135 - val_accuracy: 0.9574\n",
      "Epoch 17/100\n",
      "174/179 [============================>.] - ETA: 0s - loss: 0.0543 - accuracy: 0.9815\n",
      "Epoch 00017: val_accuracy improved from 0.96094 to 0.96662, saving model to testmodel/multi_model.h5\n",
      "179/179 [==============================] - 2s 13ms/step - loss: 0.0547 - accuracy: 0.9810 - val_loss: 0.0931 - val_accuracy: 0.9666\n",
      "Epoch 18/100\n",
      "174/179 [============================>.] - ETA: 0s - loss: 0.0534 - accuracy: 0.9793\n",
      "Epoch 00018: val_accuracy did not improve from 0.96662\n",
      "179/179 [==============================] - 2s 12ms/step - loss: 0.0536 - accuracy: 0.9792 - val_loss: 0.0937 - val_accuracy: 0.9652\n",
      "Epoch 19/100\n",
      "176/179 [============================>.] - ETA: 0s - loss: 0.0436 - accuracy: 0.9838\n",
      "Epoch 00019: val_accuracy did not improve from 0.96662\n",
      "179/179 [==============================] - 2s 12ms/step - loss: 0.0440 - accuracy: 0.9838 - val_loss: 0.0970 - val_accuracy: 0.9624\n",
      "Epoch 20/100\n",
      "179/179 [==============================] - ETA: 0s - loss: 0.0464 - accuracy: 0.9839\n",
      "Epoch 00020: val_accuracy did not improve from 0.96662\n",
      "179/179 [==============================] - 2s 12ms/step - loss: 0.0464 - accuracy: 0.9839 - val_loss: 0.1134 - val_accuracy: 0.9553\n",
      "Epoch 21/100\n",
      "178/179 [============================>.] - ETA: 0s - loss: 0.0432 - accuracy: 0.9847\n",
      "Epoch 00021: val_accuracy did not improve from 0.96662\n",
      "179/179 [==============================] - 2s 13ms/step - loss: 0.0439 - accuracy: 0.9845 - val_loss: 0.1075 - val_accuracy: 0.9638\n",
      "Epoch 22/100\n",
      "177/179 [============================>.] - ETA: 0s - loss: 0.0404 - accuracy: 0.9848\n",
      "Epoch 00022: val_accuracy did not improve from 0.96662\n",
      "179/179 [==============================] - 2s 12ms/step - loss: 0.0400 - accuracy: 0.9850 - val_loss: 0.1014 - val_accuracy: 0.9652\n",
      "Epoch 23/100\n",
      "176/179 [============================>.] - ETA: 0s - loss: 0.0394 - accuracy: 0.9867\n",
      "Epoch 00023: val_accuracy did not improve from 0.96662\n",
      "179/179 [==============================] - 2s 12ms/step - loss: 0.0390 - accuracy: 0.9869 - val_loss: 0.0944 - val_accuracy: 0.9659\n",
      "Epoch 24/100\n",
      "175/179 [============================>.] - ETA: 0s - loss: 0.0357 - accuracy: 0.9870\n",
      "Epoch 00024: val_accuracy did not improve from 0.96662\n",
      "179/179 [==============================] - 2s 12ms/step - loss: 0.0350 - accuracy: 0.9873 - val_loss: 0.0976 - val_accuracy: 0.9624\n",
      "Epoch 25/100\n",
      "175/179 [============================>.] - ETA: 0s - loss: 0.0372 - accuracy: 0.9857\n",
      "Epoch 00025: val_accuracy did not improve from 0.96662\n",
      "179/179 [==============================] - 2s 12ms/step - loss: 0.0384 - accuracy: 0.9852 - val_loss: 0.0955 - val_accuracy: 0.9659\n",
      "Epoch 26/100\n",
      "177/179 [============================>.] - ETA: 0s - loss: 0.0403 - accuracy: 0.9852\n",
      "Epoch 00026: val_accuracy did not improve from 0.96662\n",
      "179/179 [==============================] - 2s 12ms/step - loss: 0.0404 - accuracy: 0.9852 - val_loss: 0.1036 - val_accuracy: 0.9624\n",
      "Epoch 27/100\n",
      "174/179 [============================>.] - ETA: 0s - loss: 0.0315 - accuracy: 0.9883\n",
      "Epoch 00027: val_accuracy did not improve from 0.96662\n",
      "179/179 [==============================] - 2s 12ms/step - loss: 0.0317 - accuracy: 0.9883 - val_loss: 0.0997 - val_accuracy: 0.9652\n",
      "Epoch 28/100\n",
      "177/179 [============================>.] - ETA: 0s - loss: 0.0294 - accuracy: 0.9898\n",
      "Epoch 00028: val_accuracy improved from 0.96662 to 0.96733, saving model to testmodel/multi_model.h5\n",
      "179/179 [==============================] - 2s 12ms/step - loss: 0.0300 - accuracy: 0.9895 - val_loss: 0.1039 - val_accuracy: 0.9673\n",
      "Epoch 29/100\n",
      "175/179 [============================>.] - ETA: 0s - loss: 0.0316 - accuracy: 0.9909\n",
      "Epoch 00029: val_accuracy did not improve from 0.96733\n",
      "179/179 [==============================] - 2s 12ms/step - loss: 0.0314 - accuracy: 0.9909 - val_loss: 0.1027 - val_accuracy: 0.9638\n",
      "Epoch 30/100\n",
      "179/179 [==============================] - ETA: 0s - loss: 0.0306 - accuracy: 0.9900\n",
      "Epoch 00030: val_accuracy did not improve from 0.96733\n",
      "179/179 [==============================] - 2s 12ms/step - loss: 0.0306 - accuracy: 0.9900 - val_loss: 0.0991 - val_accuracy: 0.9659\n",
      "Epoch 31/100\n",
      "177/179 [============================>.] - ETA: 0s - loss: 0.0244 - accuracy: 0.9933\n",
      "Epoch 00031: val_accuracy did not improve from 0.96733\n",
      "179/179 [==============================] - 2s 12ms/step - loss: 0.0243 - accuracy: 0.9932 - val_loss: 0.1015 - val_accuracy: 0.9638\n",
      "Epoch 32/100\n",
      "177/179 [============================>.] - ETA: 0s - loss: 0.0285 - accuracy: 0.9905\n",
      "Epoch 00032: val_accuracy did not improve from 0.96733\n",
      "179/179 [==============================] - 2s 12ms/step - loss: 0.0283 - accuracy: 0.9906 - val_loss: 0.1010 - val_accuracy: 0.9645\n",
      "Epoch 33/100\n",
      "176/179 [============================>.] - ETA: 0s - loss: 0.0257 - accuracy: 0.9913\n",
      "Epoch 00033: val_accuracy did not improve from 0.96733\n",
      "179/179 [==============================] - 2s 12ms/step - loss: 0.0254 - accuracy: 0.9914 - val_loss: 0.0999 - val_accuracy: 0.9638\n",
      "Epoch 34/100\n",
      "175/179 [============================>.] - ETA: 0s - loss: 0.0286 - accuracy: 0.9898\n",
      "Epoch 00034: val_accuracy did not improve from 0.96733\n",
      "179/179 [==============================] - 2s 12ms/step - loss: 0.0284 - accuracy: 0.9900 - val_loss: 0.1041 - val_accuracy: 0.9624\n",
      "Epoch 35/100\n",
      "174/179 [============================>.] - ETA: 0s - loss: 0.0251 - accuracy: 0.9925\n",
      "Epoch 00035: val_accuracy did not improve from 0.96733\n",
      "179/179 [==============================] - 2s 12ms/step - loss: 0.0253 - accuracy: 0.9925 - val_loss: 0.1002 - val_accuracy: 0.9631\n",
      "Epoch 36/100\n",
      "176/179 [============================>.] - ETA: 0s - loss: 0.0290 - accuracy: 0.9911\n",
      "Epoch 00036: val_accuracy did not improve from 0.96733\n",
      "179/179 [==============================] - 2s 12ms/step - loss: 0.0286 - accuracy: 0.9913 - val_loss: 0.0985 - val_accuracy: 0.9666\n",
      "Epoch 37/100\n",
      "179/179 [==============================] - ETA: 0s - loss: 0.0268 - accuracy: 0.9911\n",
      "Epoch 00037: val_accuracy did not improve from 0.96733\n",
      "179/179 [==============================] - 2s 13ms/step - loss: 0.0268 - accuracy: 0.9911 - val_loss: 0.0971 - val_accuracy: 0.9652\n",
      "Epoch 38/100\n",
      "177/179 [============================>.] - ETA: 0s - loss: 0.0252 - accuracy: 0.9913\n",
      "Epoch 00038: val_accuracy did not improve from 0.96733\n",
      "179/179 [==============================] - 2s 12ms/step - loss: 0.0251 - accuracy: 0.9914 - val_loss: 0.0999 - val_accuracy: 0.9652\n",
      "Epoch 39/100\n",
      "176/179 [============================>.] - ETA: 0s - loss: 0.0238 - accuracy: 0.9911\n",
      "Epoch 00039: val_accuracy did not improve from 0.96733\n",
      "179/179 [==============================] - 2s 12ms/step - loss: 0.0236 - accuracy: 0.9913 - val_loss: 0.1012 - val_accuracy: 0.9631\n",
      "Epoch 40/100\n",
      "175/179 [============================>.] - ETA: 0s - loss: 0.0307 - accuracy: 0.9879\n",
      "Epoch 00040: val_accuracy did not improve from 0.96733\n",
      "179/179 [==============================] - 2s 13ms/step - loss: 0.0304 - accuracy: 0.9880 - val_loss: 0.0990 - val_accuracy: 0.9645\n",
      "Epoch 41/100\n",
      "178/179 [============================>.] - ETA: 0s - loss: 0.0259 - accuracy: 0.9907\n",
      "Epoch 00041: val_accuracy did not improve from 0.96733\n",
      "179/179 [==============================] - 2s 12ms/step - loss: 0.0257 - accuracy: 0.9907 - val_loss: 0.0983 - val_accuracy: 0.9652\n",
      "Epoch 42/100\n",
      "175/179 [============================>.] - ETA: 0s - loss: 0.0252 - accuracy: 0.9914\n",
      "Epoch 00042: val_accuracy did not improve from 0.96733\n",
      "179/179 [==============================] - 2s 13ms/step - loss: 0.0252 - accuracy: 0.9914 - val_loss: 0.1008 - val_accuracy: 0.9638\n",
      "Epoch 43/100\n",
      "174/179 [============================>.] - ETA: 0s - loss: 0.0219 - accuracy: 0.9928\n",
      "Epoch 00043: val_accuracy did not improve from 0.96733\n",
      "179/179 [==============================] - 2s 13ms/step - loss: 0.0218 - accuracy: 0.9928 - val_loss: 0.1002 - val_accuracy: 0.9638\n",
      "Epoch 44/100\n",
      "175/179 [============================>.] - ETA: 0s - loss: 0.0297 - accuracy: 0.9911\n",
      "Epoch 00044: val_accuracy did not improve from 0.96733\n",
      "179/179 [==============================] - 2s 12ms/step - loss: 0.0293 - accuracy: 0.9913 - val_loss: 0.1004 - val_accuracy: 0.9638\n",
      "Epoch 45/100\n",
      "177/179 [============================>.] - ETA: 0s - loss: 0.0244 - accuracy: 0.9906\n",
      "Epoch 00045: val_accuracy did not improve from 0.96733\n",
      "179/179 [==============================] - 2s 12ms/step - loss: 0.0244 - accuracy: 0.9906 - val_loss: 0.1005 - val_accuracy: 0.9645\n",
      "Epoch 46/100\n",
      "179/179 [==============================] - ETA: 0s - loss: 0.0230 - accuracy: 0.9921\n",
      "Epoch 00046: val_accuracy did not improve from 0.96733\n",
      "179/179 [==============================] - 2s 12ms/step - loss: 0.0230 - accuracy: 0.9921 - val_loss: 0.0998 - val_accuracy: 0.9645\n",
      "Epoch 47/100\n",
      "179/179 [==============================] - ETA: 0s - loss: 0.0226 - accuracy: 0.9923\n",
      "Epoch 00047: val_accuracy did not improve from 0.96733\n",
      "179/179 [==============================] - 2s 12ms/step - loss: 0.0226 - accuracy: 0.9923 - val_loss: 0.0999 - val_accuracy: 0.9638\n",
      "Model: \"functional_5\"\n",
      "__________________________________________________________________________________________________\n",
      "Layer (type)                    Output Shape         Param #     Connected to                     \n",
      "==================================================================================================\n",
      "input_6 (InputLayer)            [(None, 7, 7, 1920)] 0                                            \n",
      "__________________________________________________________________________________________________\n",
      "input_7 (InputLayer)            [(None, 7, 7, 1920)] 0                                            \n",
      "__________________________________________________________________________________________________\n",
      "concatenate_2 (Concatenate)     (None, 14, 7, 1920)  0           input_6[0][0]                    \n",
      "                                                                 input_7[0][0]                    \n",
      "__________________________________________________________________________________________________\n",
      "global_average_pooling2d_2 (Glo (None, 1920)         0           concatenate_2[0][0]              \n",
      "__________________________________________________________________________________________________\n",
      "dense_6 (Dense)                 (None, 1024)         1967104     global_average_pooling2d_2[0][0] \n",
      "__________________________________________________________________________________________________\n",
      "batch_normalization_4 (BatchNor (None, 1024)         4096        dense_6[0][0]                    \n",
      "__________________________________________________________________________________________________\n",
      "dropout_4 (Dropout)             (None, 1024)         0           batch_normalization_4[0][0]      \n",
      "__________________________________________________________________________________________________\n",
      "dense_7 (Dense)                 (None, 512)          524800      dropout_4[0][0]                  \n",
      "__________________________________________________________________________________________________\n",
      "batch_normalization_5 (BatchNor (None, 512)          2048        dense_7[0][0]                    \n",
      "__________________________________________________________________________________________________\n",
      "dropout_5 (Dropout)             (None, 512)          0           batch_normalization_5[0][0]      \n",
      "__________________________________________________________________________________________________\n",
      "dense_8 (Dense)                 (None, 256)          131328      dropout_5[0][0]                  \n",
      "__________________________________________________________________________________________________\n",
      "batch_normalization_6 (BatchNor (None, 256)          1024        dense_8[0][0]                    \n",
      "__________________________________________________________________________________________________\n",
      "dropout_6 (Dropout)             (None, 256)          0           batch_normalization_6[0][0]      \n",
      "__________________________________________________________________________________________________\n",
      "dense_9 (Dense)                 (None, 1)            257         dropout_6[0][0]                  \n",
      "==================================================================================================\n",
      "Total params: 2,630,657\n",
      "Trainable params: 2,627,073\n",
      "Non-trainable params: 3,584\n",
      "__________________________________________________________________________________________________\n"
     ]
    }
   ],
   "source": [
    "initial_epochs = 100\n",
    "\n",
    "history = model.fit(x = [train_img_features, train_aud_features],\n",
    "                    y = train_labels,\n",
    "                    validation_data = ([valid_img_features, valid_aud_features], valid_labels),\n",
    "                    epochs = initial_epochs,\n",
    "                    steps_per_epoch = generator_tra1.n//batch_size,\n",
    "                    validation_steps = generator_val1.n//batch_size,\n",
    "                    batch_size=batch_size,\n",
    "                    callbacks = callbacks_list\n",
    "                    )\n",
    "\n",
    "model.summary()"
   ]
  },
  {
   "cell_type": "code",
   "execution_count": 52,
   "metadata": {},
   "outputs": [
    {
     "data": {
      "image/png": "[encoded data removed]",
      "text/plain": [
       "<Figure size 576x576 with 2 Axes>"
      ]
     },
     "metadata": {
      "needs_background": "light"
     },
     "output_type": "display_data"
    }
   ],
   "source": [
    "# 학습 곡선\n",
    "acc = history.history['accuracy']\n",
    "val_acc = history.history['val_accuracy']\n",
    "\n",
    "loss = history.history['loss']\n",
    "val_loss = history.history['val_loss']\n",
    "\n",
    "plt.figure(figsize=(8, 8))\n",
    "plt.subplot(2, 1, 1)\n",
    "plt.plot(acc, label='Training Accuracy')\n",
    "plt.plot(val_acc, label='Validation Accuracy')\n",
    "plt.legend(loc='lower right')\n",
    "plt.ylabel('Accuracy')\n",
    "plt.ylim([min(plt.ylim()),1])\n",
    "plt.title('Training and Validation Accuracy')\n",
    "\n",
    "plt.subplot(2, 1, 2)\n",
    "plt.plot(loss, label='Training Loss')\n",
    "plt.plot(val_loss, label='Validation Loss')\n",
    "plt.legend(loc='upper right')\n",
    "plt.ylabel('Cross Entropy')\n",
    "plt.ylim([0,1.2])\n",
    "plt.title('Training and Validation Loss')\n",
    "plt.xlabel('epoch')\n",
    "\n",
    "plt.savefig('Multi_model_graph.jpg')\n",
    "plt.show()"
   ]
  },
  {
   "cell_type": "code",
   "execution_count": 53,
   "metadata": {},
   "outputs": [
    {
     "name": "stdout",
     "output_type": "stream",
     "text": [
      "44/44 [==============================] - 0s 9ms/step - loss: 0.1039 - accuracy: 0.9673\n"
     ]
    },
    {
     "data": {
      "text/plain": [
       "[0.10391395539045334, 0.9673295617103577]"
      ]
     },
     "execution_count": 53,
     "metadata": {},
     "output_type": "execute_result"
    }
   ],
   "source": [
    "model2 = build_model()\n",
    "\n",
    "# 가중치 로드\n",
    "model2.load_weights(weight_path)\n",
    "\n",
    "# 모델 평가\n",
    "model2.evaluate([valid_img_features,valid_aud_features],valid_labels)"
   ]
  },
  {
   "cell_type": "code",
   "execution_count": 54,
   "metadata": {},
   "outputs": [
    {
     "name": "stdout",
     "output_type": "stream",
     "text": [
      "WARNING:tensorflow:From /usr/local/lib/python3.6/dist-packages/tensorflow/python/training/tracking/tracking.py:111: Model.state_updates (from tensorflow.python.keras.engine.training) is deprecated and will be removed in a future version.\n",
      "Instructions for updating:\n",
      "This property should not be used in TensorFlow 2.0, as updates are applied automatically.\n",
      "WARNING:tensorflow:From /usr/local/lib/python3.6/dist-packages/tensorflow/python/training/tracking/tracking.py:111: Layer.updates (from tensorflow.python.keras.engine.base_layer) is deprecated and will be removed in a future version.\n",
      "Instructions for updating:\n",
      "This property should not be used in TensorFlow 2.0, as updates are applied automatically.\n",
      "INFO:tensorflow:Assets written to: testmodel/multi_model/assets\n"
     ]
    }
   ],
   "source": [
    "model2.save('testmodel/multi_model')"
   ]
  },
  {
   "cell_type": "code",
   "execution_count": 1,
   "metadata": {},
   "outputs": [],
   "source": [
    "## 파인튜닝은 시간상 하지 않았다. 또한 오디오 데이터가 잘 정제된 것이 아니라서 큰 의미는 없을 것 같았다."
   ]
  },
  {
   "cell_type": "markdown",
   "metadata": {},
   "source": [
    "## Finetuning"
   ]
  },
  {
   "cell_type": "code",
   "execution_count": 59,
   "metadata": {},
   "outputs": [],
   "source": [
    "def build_finetuning(model, num_outputs=1):\n",
    "    \n",
    "    inputs1 = Input(shape=(image_size, image_size,3))\n",
    "    inputs2 = Input(shape=(image_size, image_size,3))\n",
    "    \n",
    "    x1 = feature_model(inputs1)\n",
    "    x2 = feature_model(inputs2)\n",
    "    \n",
    "    outputs = model([x1,x2])\n",
    "\n",
    "    model_fine = Model(inputs=[inputs1,inputs2],\n",
    "                 outputs = outputs)\n",
    "    init_lr = 2e-6\n",
    "    opt = Adam(lr=init_lr)\n",
    "    model_fine.compile(optimizer=opt, \n",
    "                    loss= 'binary_crossentropy',\n",
    "                    metrics='accuracy')\n",
    "        \n",
    "    return model_fine"
   ]
  },
  {
   "cell_type": "code",
   "execution_count": 60,
   "metadata": {},
   "outputs": [
    {
     "name": "stdout",
     "output_type": "stream",
     "text": [
      "Model: \"functional_11\"\n",
      "__________________________________________________________________________________________________\n",
      "Layer (type)                    Output Shape         Param #     Connected to                     \n",
      "==================================================================================================\n",
      "input_12 (InputLayer)           [(None, 224, 224, 3) 0                                            \n",
      "__________________________________________________________________________________________________\n",
      "input_13 (InputLayer)           [(None, 224, 224, 3) 0                                            \n",
      "__________________________________________________________________________________________________\n",
      "densenet201 (Functional)        (None, 7, 7, 1920)   18321984    input_12[0][0]                   \n",
      "                                                                 input_13[0][0]                   \n",
      "__________________________________________________________________________________________________\n",
      "functional_7 (Functional)       (None, 1)            2630657     densenet201[2][0]                \n",
      "                                                                 densenet201[3][0]                \n",
      "==================================================================================================\n",
      "Total params: 20,952,641\n",
      "Trainable params: 15,368,769\n",
      "Non-trainable params: 5,583,872\n",
      "__________________________________________________________________________________________________\n"
     ]
    }
   ],
   "source": [
    "\n",
    "finetune = build_finetuning(model2)\n",
    "finetune.summary()"
   ]
  },
  {
   "cell_type": "code",
   "execution_count": 61,
   "metadata": {},
   "outputs": [],
   "source": [
    "weight_path=\"testmodel/best_multi_finetuned.h5\"\n",
    "\n",
    "cp = ModelCheckpoint(weight_path, monitor='val_accuracy', verbose=1, \n",
    "                             save_best_only=True, save_weights_only=True)\n",
    "\n",
    "reduceLROnPlat = ReduceLROnPlateau(monitor='val_loss', factor=0.5, \n",
    "                                   patience=3, \n",
    "                                   min_lr=1e-7)\n",
    "es = EarlyStopping(monitor=\"val_loss\", \n",
    "                      mode=\"min\", \n",
    "                      patience=10) \n",
    "callbacks_list = [cp, es, reduceLROnPlat]"
   ]
  },
  {
   "cell_type": "code",
   "execution_count": 62,
   "metadata": {},
   "outputs": [
    {
     "name": "stdout",
     "output_type": "stream",
     "text": [
      "Epoch 47/150\n",
      "179/179 [==============================] - ETA: 0s - loss: 0.4150 - accuracy: 0.8963\n",
      "Epoch 00047: val_accuracy improved from -inf to 0.92352, saving model to testmodel/best_multi_finetuned.h5\n",
      "179/179 [==============================] - 68s 382ms/step - loss: 0.4150 - accuracy: 0.8963 - val_loss: 0.2966 - val_accuracy: 0.9235\n",
      "Epoch 48/150\n",
      "179/179 [==============================] - ETA: 0s - loss: 0.2200 - accuracy: 0.9342\n",
      "Epoch 00048: val_accuracy improved from 0.92352 to 0.92566, saving model to testmodel/best_multi_finetuned.h5\n",
      "179/179 [==============================] - 56s 313ms/step - loss: 0.2200 - accuracy: 0.9342 - val_loss: 0.3032 - val_accuracy: 0.9257\n",
      "Epoch 49/150\n",
      "179/179 [==============================] - ETA: 0s - loss: 0.1669 - accuracy: 0.9479\n",
      "Epoch 00049: val_accuracy did not improve from 0.92566\n",
      "179/179 [==============================] - 55s 309ms/step - loss: 0.1669 - accuracy: 0.9479 - val_loss: 0.2970 - val_accuracy: 0.9249\n",
      "Epoch 50/150\n",
      "179/179 [==============================] - ETA: 0s - loss: 0.1243 - accuracy: 0.9607\n",
      "Epoch 00050: val_accuracy improved from 0.92566 to 0.92924, saving model to testmodel/best_multi_finetuned.h5\n",
      "179/179 [==============================] - 56s 312ms/step - loss: 0.1243 - accuracy: 0.9607 - val_loss: 0.2727 - val_accuracy: 0.9292\n",
      "Epoch 51/150\n",
      "179/179 [==============================] - ETA: 0s - loss: 0.1013 - accuracy: 0.9679\n",
      "Epoch 00051: val_accuracy did not improve from 0.92924\n",
      "179/179 [==============================] - 55s 306ms/step - loss: 0.1013 - accuracy: 0.9679 - val_loss: 0.2680 - val_accuracy: 0.9278\n",
      "Epoch 52/150\n",
      "142/179 [======================>.......] - ETA: 9s - loss: 0.1017 - accuracy: 0.9661"
     ]
    },
    {
     "ename": "KeyboardInterrupt",
     "evalue": "",
     "output_type": "error",
     "traceback": [
      "\u001b[0;31m---------------------------------------------------------------------------\u001b[0m",
      "\u001b[0;31mKeyboardInterrupt\u001b[0m                         Traceback (most recent call last)",
      "\u001b[0;32m<ipython-input-62-c81feb6d077a>\u001b[0m in \u001b[0;36m<module>\u001b[0;34m\u001b[0m\n\u001b[1;32m     10\u001b[0m                     \u001b[0minitial_epoch\u001b[0m\u001b[0;34m=\u001b[0m \u001b[0mhistory\u001b[0m\u001b[0;34m.\u001b[0m\u001b[0mepoch\u001b[0m\u001b[0;34m[\u001b[0m\u001b[0;34m-\u001b[0m\u001b[0;36m1\u001b[0m\u001b[0;34m]\u001b[0m\u001b[0;34m,\u001b[0m\u001b[0;34m\u001b[0m\u001b[0;34m\u001b[0m\u001b[0m\n\u001b[1;32m     11\u001b[0m                     \u001b[0mbatch_size\u001b[0m \u001b[0;34m=\u001b[0m \u001b[0mbatch_size\u001b[0m\u001b[0;34m,\u001b[0m\u001b[0;34m\u001b[0m\u001b[0;34m\u001b[0m\u001b[0m\n\u001b[0;32m---> 12\u001b[0;31m                     \u001b[0mcallbacks\u001b[0m \u001b[0;34m=\u001b[0m \u001b[0mcallbacks_list\u001b[0m\u001b[0;34m\u001b[0m\u001b[0;34m\u001b[0m\u001b[0m\n\u001b[0m\u001b[1;32m     13\u001b[0m                     )\n\u001b[1;32m     14\u001b[0m \u001b[0;34m\u001b[0m\u001b[0m\n",
      "\u001b[0;32m/usr/local/lib/python3.6/dist-packages/tensorflow/python/keras/engine/training.py\u001b[0m in \u001b[0;36m_method_wrapper\u001b[0;34m(self, *args, **kwargs)\u001b[0m\n\u001b[1;32m    106\u001b[0m   \u001b[0;32mdef\u001b[0m \u001b[0m_method_wrapper\u001b[0m\u001b[0;34m(\u001b[0m\u001b[0mself\u001b[0m\u001b[0;34m,\u001b[0m \u001b[0;34m*\u001b[0m\u001b[0margs\u001b[0m\u001b[0;34m,\u001b[0m \u001b[0;34m**\u001b[0m\u001b[0mkwargs\u001b[0m\u001b[0;34m)\u001b[0m\u001b[0;34m:\u001b[0m\u001b[0;34m\u001b[0m\u001b[0;34m\u001b[0m\u001b[0m\n\u001b[1;32m    107\u001b[0m     \u001b[0;32mif\u001b[0m \u001b[0;32mnot\u001b[0m \u001b[0mself\u001b[0m\u001b[0;34m.\u001b[0m\u001b[0m_in_multi_worker_mode\u001b[0m\u001b[0;34m(\u001b[0m\u001b[0;34m)\u001b[0m\u001b[0;34m:\u001b[0m  \u001b[0;31m# pylint: disable=protected-access\u001b[0m\u001b[0;34m\u001b[0m\u001b[0;34m\u001b[0m\u001b[0m\n\u001b[0;32m--> 108\u001b[0;31m       \u001b[0;32mreturn\u001b[0m \u001b[0mmethod\u001b[0m\u001b[0;34m(\u001b[0m\u001b[0mself\u001b[0m\u001b[0;34m,\u001b[0m \u001b[0;34m*\u001b[0m\u001b[0margs\u001b[0m\u001b[0;34m,\u001b[0m \u001b[0;34m**\u001b[0m\u001b[0mkwargs\u001b[0m\u001b[0;34m)\u001b[0m\u001b[0;34m\u001b[0m\u001b[0;34m\u001b[0m\u001b[0m\n\u001b[0m\u001b[1;32m    109\u001b[0m \u001b[0;34m\u001b[0m\u001b[0m\n\u001b[1;32m    110\u001b[0m     \u001b[0;31m# Running inside `run_distribute_coordinator` already.\u001b[0m\u001b[0;34m\u001b[0m\u001b[0;34m\u001b[0m\u001b[0;34m\u001b[0m\u001b[0m\n",
      "\u001b[0;32m/usr/local/lib/python3.6/dist-packages/tensorflow/python/keras/engine/training.py\u001b[0m in \u001b[0;36mfit\u001b[0;34m(self, x, y, batch_size, epochs, verbose, callbacks, validation_split, validation_data, shuffle, class_weight, sample_weight, initial_epoch, steps_per_epoch, validation_steps, validation_batch_size, validation_freq, max_queue_size, workers, use_multiprocessing)\u001b[0m\n\u001b[1;32m   1096\u001b[0m                 batch_size=batch_size):\n\u001b[1;32m   1097\u001b[0m               \u001b[0mcallbacks\u001b[0m\u001b[0;34m.\u001b[0m\u001b[0mon_train_batch_begin\u001b[0m\u001b[0;34m(\u001b[0m\u001b[0mstep\u001b[0m\u001b[0;34m)\u001b[0m\u001b[0;34m\u001b[0m\u001b[0;34m\u001b[0m\u001b[0m\n\u001b[0;32m-> 1098\u001b[0;31m               \u001b[0mtmp_logs\u001b[0m \u001b[0;34m=\u001b[0m \u001b[0mtrain_function\u001b[0m\u001b[0;34m(\u001b[0m\u001b[0miterator\u001b[0m\u001b[0;34m)\u001b[0m\u001b[0;34m\u001b[0m\u001b[0;34m\u001b[0m\u001b[0m\n\u001b[0m\u001b[1;32m   1099\u001b[0m               \u001b[0;32mif\u001b[0m \u001b[0mdata_handler\u001b[0m\u001b[0;34m.\u001b[0m\u001b[0mshould_sync\u001b[0m\u001b[0;34m:\u001b[0m\u001b[0;34m\u001b[0m\u001b[0;34m\u001b[0m\u001b[0m\n\u001b[1;32m   1100\u001b[0m                 \u001b[0mcontext\u001b[0m\u001b[0;34m.\u001b[0m\u001b[0masync_wait\u001b[0m\u001b[0;34m(\u001b[0m\u001b[0;34m)\u001b[0m\u001b[0;34m\u001b[0m\u001b[0;34m\u001b[0m\u001b[0m\n",
      "\u001b[0;32m/usr/local/lib/python3.6/dist-packages/tensorflow/python/eager/def_function.py\u001b[0m in \u001b[0;36m__call__\u001b[0;34m(self, *args, **kwds)\u001b[0m\n\u001b[1;32m    778\u001b[0m       \u001b[0;32melse\u001b[0m\u001b[0;34m:\u001b[0m\u001b[0;34m\u001b[0m\u001b[0;34m\u001b[0m\u001b[0m\n\u001b[1;32m    779\u001b[0m         \u001b[0mcompiler\u001b[0m \u001b[0;34m=\u001b[0m \u001b[0;34m\"nonXla\"\u001b[0m\u001b[0;34m\u001b[0m\u001b[0;34m\u001b[0m\u001b[0m\n\u001b[0;32m--> 780\u001b[0;31m         \u001b[0mresult\u001b[0m \u001b[0;34m=\u001b[0m \u001b[0mself\u001b[0m\u001b[0;34m.\u001b[0m\u001b[0m_call\u001b[0m\u001b[0;34m(\u001b[0m\u001b[0;34m*\u001b[0m\u001b[0margs\u001b[0m\u001b[0;34m,\u001b[0m \u001b[0;34m**\u001b[0m\u001b[0mkwds\u001b[0m\u001b[0;34m)\u001b[0m\u001b[0;34m\u001b[0m\u001b[0;34m\u001b[0m\u001b[0m\n\u001b[0m\u001b[1;32m    781\u001b[0m \u001b[0;34m\u001b[0m\u001b[0m\n\u001b[1;32m    782\u001b[0m       \u001b[0mnew_tracing_count\u001b[0m \u001b[0;34m=\u001b[0m \u001b[0mself\u001b[0m\u001b[0;34m.\u001b[0m\u001b[0m_get_tracing_count\u001b[0m\u001b[0;34m(\u001b[0m\u001b[0;34m)\u001b[0m\u001b[0;34m\u001b[0m\u001b[0;34m\u001b[0m\u001b[0m\n",
      "\u001b[0;32m/usr/local/lib/python3.6/dist-packages/tensorflow/python/eager/def_function.py\u001b[0m in \u001b[0;36m_call\u001b[0;34m(self, *args, **kwds)\u001b[0m\n\u001b[1;32m    805\u001b[0m       \u001b[0;31m# In this case we have created variables on the first call, so we run the\u001b[0m\u001b[0;34m\u001b[0m\u001b[0;34m\u001b[0m\u001b[0;34m\u001b[0m\u001b[0m\n\u001b[1;32m    806\u001b[0m       \u001b[0;31m# defunned version which is guaranteed to never create variables.\u001b[0m\u001b[0;34m\u001b[0m\u001b[0;34m\u001b[0m\u001b[0;34m\u001b[0m\u001b[0m\n\u001b[0;32m--> 807\u001b[0;31m       \u001b[0;32mreturn\u001b[0m \u001b[0mself\u001b[0m\u001b[0;34m.\u001b[0m\u001b[0m_stateless_fn\u001b[0m\u001b[0;34m(\u001b[0m\u001b[0;34m*\u001b[0m\u001b[0margs\u001b[0m\u001b[0;34m,\u001b[0m \u001b[0;34m**\u001b[0m\u001b[0mkwds\u001b[0m\u001b[0;34m)\u001b[0m  \u001b[0;31m# pylint: disable=not-callable\u001b[0m\u001b[0;34m\u001b[0m\u001b[0;34m\u001b[0m\u001b[0m\n\u001b[0m\u001b[1;32m    808\u001b[0m     \u001b[0;32melif\u001b[0m \u001b[0mself\u001b[0m\u001b[0;34m.\u001b[0m\u001b[0m_stateful_fn\u001b[0m \u001b[0;32mis\u001b[0m \u001b[0;32mnot\u001b[0m \u001b[0;32mNone\u001b[0m\u001b[0;34m:\u001b[0m\u001b[0;34m\u001b[0m\u001b[0;34m\u001b[0m\u001b[0m\n\u001b[1;32m    809\u001b[0m       \u001b[0;31m# Release the lock early so that multiple threads can perform the call\u001b[0m\u001b[0;34m\u001b[0m\u001b[0;34m\u001b[0m\u001b[0;34m\u001b[0m\u001b[0m\n",
      "\u001b[0;32m/usr/local/lib/python3.6/dist-packages/tensorflow/python/eager/function.py\u001b[0m in \u001b[0;36m__call__\u001b[0;34m(self, *args, **kwargs)\u001b[0m\n\u001b[1;32m   2827\u001b[0m     \u001b[0;32mwith\u001b[0m \u001b[0mself\u001b[0m\u001b[0;34m.\u001b[0m\u001b[0m_lock\u001b[0m\u001b[0;34m:\u001b[0m\u001b[0;34m\u001b[0m\u001b[0;34m\u001b[0m\u001b[0m\n\u001b[1;32m   2828\u001b[0m       \u001b[0mgraph_function\u001b[0m\u001b[0;34m,\u001b[0m \u001b[0margs\u001b[0m\u001b[0;34m,\u001b[0m \u001b[0mkwargs\u001b[0m \u001b[0;34m=\u001b[0m \u001b[0mself\u001b[0m\u001b[0;34m.\u001b[0m\u001b[0m_maybe_define_function\u001b[0m\u001b[0;34m(\u001b[0m\u001b[0margs\u001b[0m\u001b[0;34m,\u001b[0m \u001b[0mkwargs\u001b[0m\u001b[0;34m)\u001b[0m\u001b[0;34m\u001b[0m\u001b[0;34m\u001b[0m\u001b[0m\n\u001b[0;32m-> 2829\u001b[0;31m     \u001b[0;32mreturn\u001b[0m \u001b[0mgraph_function\u001b[0m\u001b[0;34m.\u001b[0m\u001b[0m_filtered_call\u001b[0m\u001b[0;34m(\u001b[0m\u001b[0margs\u001b[0m\u001b[0;34m,\u001b[0m \u001b[0mkwargs\u001b[0m\u001b[0;34m)\u001b[0m  \u001b[0;31m# pylint: disable=protected-access\u001b[0m\u001b[0;34m\u001b[0m\u001b[0;34m\u001b[0m\u001b[0m\n\u001b[0m\u001b[1;32m   2830\u001b[0m \u001b[0;34m\u001b[0m\u001b[0m\n\u001b[1;32m   2831\u001b[0m   \u001b[0;34m@\u001b[0m\u001b[0mproperty\u001b[0m\u001b[0;34m\u001b[0m\u001b[0;34m\u001b[0m\u001b[0m\n",
      "\u001b[0;32m/usr/local/lib/python3.6/dist-packages/tensorflow/python/eager/function.py\u001b[0m in \u001b[0;36m_filtered_call\u001b[0;34m(self, args, kwargs, cancellation_manager)\u001b[0m\n\u001b[1;32m   1846\u001b[0m                            resource_variable_ops.BaseResourceVariable))],\n\u001b[1;32m   1847\u001b[0m         \u001b[0mcaptured_inputs\u001b[0m\u001b[0;34m=\u001b[0m\u001b[0mself\u001b[0m\u001b[0;34m.\u001b[0m\u001b[0mcaptured_inputs\u001b[0m\u001b[0;34m,\u001b[0m\u001b[0;34m\u001b[0m\u001b[0;34m\u001b[0m\u001b[0m\n\u001b[0;32m-> 1848\u001b[0;31m         cancellation_manager=cancellation_manager)\n\u001b[0m\u001b[1;32m   1849\u001b[0m \u001b[0;34m\u001b[0m\u001b[0m\n\u001b[1;32m   1850\u001b[0m   \u001b[0;32mdef\u001b[0m \u001b[0m_call_flat\u001b[0m\u001b[0;34m(\u001b[0m\u001b[0mself\u001b[0m\u001b[0;34m,\u001b[0m \u001b[0margs\u001b[0m\u001b[0;34m,\u001b[0m \u001b[0mcaptured_inputs\u001b[0m\u001b[0;34m,\u001b[0m \u001b[0mcancellation_manager\u001b[0m\u001b[0;34m=\u001b[0m\u001b[0;32mNone\u001b[0m\u001b[0;34m)\u001b[0m\u001b[0;34m:\u001b[0m\u001b[0;34m\u001b[0m\u001b[0;34m\u001b[0m\u001b[0m\n",
      "\u001b[0;32m/usr/local/lib/python3.6/dist-packages/tensorflow/python/eager/function.py\u001b[0m in \u001b[0;36m_call_flat\u001b[0;34m(self, args, captured_inputs, cancellation_manager)\u001b[0m\n\u001b[1;32m   1922\u001b[0m       \u001b[0;31m# No tape is watching; skip to running the function.\u001b[0m\u001b[0;34m\u001b[0m\u001b[0;34m\u001b[0m\u001b[0;34m\u001b[0m\u001b[0m\n\u001b[1;32m   1923\u001b[0m       return self._build_call_outputs(self._inference_function.call(\n\u001b[0;32m-> 1924\u001b[0;31m           ctx, args, cancellation_manager=cancellation_manager))\n\u001b[0m\u001b[1;32m   1925\u001b[0m     forward_backward = self._select_forward_and_backward_functions(\n\u001b[1;32m   1926\u001b[0m         \u001b[0margs\u001b[0m\u001b[0;34m,\u001b[0m\u001b[0;34m\u001b[0m\u001b[0;34m\u001b[0m\u001b[0m\n",
      "\u001b[0;32m/usr/local/lib/python3.6/dist-packages/tensorflow/python/eager/function.py\u001b[0m in \u001b[0;36mcall\u001b[0;34m(self, ctx, args, cancellation_manager)\u001b[0m\n\u001b[1;32m    548\u001b[0m               \u001b[0minputs\u001b[0m\u001b[0;34m=\u001b[0m\u001b[0margs\u001b[0m\u001b[0;34m,\u001b[0m\u001b[0;34m\u001b[0m\u001b[0;34m\u001b[0m\u001b[0m\n\u001b[1;32m    549\u001b[0m               \u001b[0mattrs\u001b[0m\u001b[0;34m=\u001b[0m\u001b[0mattrs\u001b[0m\u001b[0;34m,\u001b[0m\u001b[0;34m\u001b[0m\u001b[0;34m\u001b[0m\u001b[0m\n\u001b[0;32m--> 550\u001b[0;31m               ctx=ctx)\n\u001b[0m\u001b[1;32m    551\u001b[0m         \u001b[0;32melse\u001b[0m\u001b[0;34m:\u001b[0m\u001b[0;34m\u001b[0m\u001b[0;34m\u001b[0m\u001b[0m\n\u001b[1;32m    552\u001b[0m           outputs = execute.execute_with_cancellation(\n",
      "\u001b[0;32m/usr/local/lib/python3.6/dist-packages/tensorflow/python/eager/execute.py\u001b[0m in \u001b[0;36mquick_execute\u001b[0;34m(op_name, num_outputs, inputs, attrs, ctx, name)\u001b[0m\n\u001b[1;32m     58\u001b[0m     \u001b[0mctx\u001b[0m\u001b[0;34m.\u001b[0m\u001b[0mensure_initialized\u001b[0m\u001b[0;34m(\u001b[0m\u001b[0;34m)\u001b[0m\u001b[0;34m\u001b[0m\u001b[0;34m\u001b[0m\u001b[0m\n\u001b[1;32m     59\u001b[0m     tensors = pywrap_tfe.TFE_Py_Execute(ctx._handle, device_name, op_name,\n\u001b[0;32m---> 60\u001b[0;31m                                         inputs, attrs, num_outputs)\n\u001b[0m\u001b[1;32m     61\u001b[0m   \u001b[0;32mexcept\u001b[0m \u001b[0mcore\u001b[0m\u001b[0;34m.\u001b[0m\u001b[0m_NotOkStatusException\u001b[0m \u001b[0;32mas\u001b[0m \u001b[0me\u001b[0m\u001b[0;34m:\u001b[0m\u001b[0;34m\u001b[0m\u001b[0;34m\u001b[0m\u001b[0m\n\u001b[1;32m     62\u001b[0m     \u001b[0;32mif\u001b[0m \u001b[0mname\u001b[0m \u001b[0;32mis\u001b[0m \u001b[0;32mnot\u001b[0m \u001b[0;32mNone\u001b[0m\u001b[0;34m:\u001b[0m\u001b[0;34m\u001b[0m\u001b[0;34m\u001b[0m\u001b[0m\n",
      "\u001b[0;31mKeyboardInterrupt\u001b[0m: "
     ]
    }
   ],
   "source": [
    "fine_tune_epochs = 50\n",
    "\n",
    "total_epochs =  initial_epochs + fine_tune_epochs\n",
    "\n",
    "history_fine = finetune.fit(train_generator,\n",
    "                    validation_data = valid_generator,\n",
    "                    epochs = total_epochs,\n",
    "                    steps_per_epoch = generator_tra1.n//batch_size,\n",
    "                    validation_steps = generator_val1.n//batch_size,\n",
    "                    initial_epoch= history.epoch[-1],\n",
    "                    batch_size = batch_size,\n",
    "                    callbacks = callbacks_list\n",
    "                    )\n",
    "\n",
    "finetune.summary()"
   ]
  },
  {
   "cell_type": "code",
   "execution_count": null,
   "metadata": {},
   "outputs": [],
   "source": [
    "acc += history_fine.history['accuracy']\n",
    "val_acc += history_fine.history['val_accuracy']\n",
    "\n",
    "loss += history_fine.history['loss']\n",
    "val_loss += history_fine.history['val_loss']"
   ]
  },
  {
   "cell_type": "code",
   "execution_count": null,
   "metadata": {},
   "outputs": [],
   "source": [
    "plt.figure(figsize=(8, 8))\n",
    "plt.subplot(2, 1, 1)\n",
    "plt.plot(acc, label='Training Accuracy')\n",
    "plt.plot(val_acc, label='Validation Accuracy')\n",
    "plt.ylim([0.7, 1])\n",
    "plt.plot([101,101],\n",
    "          plt.ylim(), label='Start Fine Tuning')\n",
    "plt.legend(loc='lower left')\n",
    "plt.title('Training and Validation Accuracy')\n",
    "\n",
    "plt.subplot(2, 1, 2)\n",
    "plt.plot(loss, label='Training Loss')\n",
    "plt.plot(val_loss, label='Validation Loss')\n",
    "plt.ylim([0, 1.5])\n",
    "plt.plot([101,101],\n",
    "         plt.ylim(), label='Start Fine Tuning')\n",
    "plt.legend(loc='upper left')\n",
    "plt.title('Training and Validation Loss')\n",
    "plt.xlabel('epoch')\n",
    "\n",
    "plt.savefig('mult_finetune_graph.jpg')\n",
    "plt.show()"
   ]
  },
  {
   "cell_type": "code",
   "execution_count": null,
   "metadata": {},
   "outputs": [],
   "source": [
    "finetune.save('./Sunspot_traindata_models_and_features/model_tuned.h5')"
   ]
  },
  {
   "cell_type": "code",
   "execution_count": 164,
   "metadata": {},
   "outputs": [],
   "source": [
    "# # Make model == feature model\n",
    "# feature_model = keras.applications.DenseNet201(weights=\"imagenet\", include_top=False)\n",
    "# feature_model.trainable= False\n",
    "weight_path=\"testmodel/best_multi_finetuned.h5\"\n",
    "model3 = build_finetuning(model2)\n",
    "# 가중치 로드\n",
    "model3.load_weights(weight_path)\n",
    "\n",
    "# model3.save('./Sunspot_traindata_models_and_features/best_tuned_Adam_hsv.h5')\n",
    "# 모델 평가\n",
    "# valid_generator = two_image_generator(generator_val1,generator_val2) # 초기화\n",
    "# model3.evaluate(valid_generator)"
   ]
  },
  {
   "cell_type": "code",
   "execution_count": null,
   "metadata": {},
   "outputs": [],
   "source": [
    "model3.save('testmodel/best_multi_finetuned')"
   ]
  }
 ],
 "metadata": {
  "kernelspec": {
   "display_name": "Python 3",
   "language": "python",
   "name": "python3"
  },
  "language_info": {
   "codemirror_mode": {
    "name": "ipython",
    "version": 3
   },
   "file_extension": ".py",
   "mimetype": "text/x-python",
   "name": "python",
   "nbconvert_exporter": "python",
   "pygments_lexer": "ipython3",
   "version": "3.7.6"
  }
 },
 "nbformat": 4,
 "nbformat_minor": 4
}
