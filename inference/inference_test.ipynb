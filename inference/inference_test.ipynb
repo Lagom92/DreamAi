{
 "cells": [
  {
   "cell_type": "markdown",
   "metadata": {},
   "source": [
    "# Inference test using TF-TRT"
   ]
  },
  {
   "cell_type": "markdown",
   "metadata": {},
   "source": [
    "#### DenseNet201로 학습된 모델의 Inference 성능 향상을 위해 TensroRT를 사용해보자."
   ]
  },
  {
   "cell_type": "code",
   "execution_count": 1,
   "metadata": {},
   "outputs": [],
   "source": [
    "import tensorflow as tf\n",
    "import numpy as np\n",
    "import time\n",
    "import os\n",
    "\n",
    "from tqdm import tqdm\n",
    "from tensorflow.python.saved_model import tag_constants"
   ]
  },
  {
   "cell_type": "markdown",
   "metadata": {},
   "source": [
    "Check TensorFlow version"
   ]
  },
  {
   "cell_type": "code",
   "execution_count": 2,
   "metadata": {},
   "outputs": [
    {
     "data": {
      "text/plain": [
       "'2.3.1'"
      ]
     },
     "execution_count": 2,
     "metadata": {},
     "output_type": "execute_result"
    }
   ],
   "source": [
    "tf.__version__"
   ]
  },
  {
   "cell_type": "markdown",
   "metadata": {},
   "source": [
    "Check GPU"
   ]
  },
  {
   "cell_type": "code",
   "execution_count": 4,
   "metadata": {},
   "outputs": [],
   "source": [
    "# !nvidia-smi"
   ]
  },
  {
   "cell_type": "markdown",
   "metadata": {},
   "source": [
    "Check TensorRT version"
   ]
  },
  {
   "cell_type": "code",
   "execution_count": 7,
   "metadata": {},
   "outputs": [],
   "source": [
    "# print(\"TensorRT version: \")\n",
    "# !dpkg -l | grep nvinfer"
   ]
  },
  {
   "cell_type": "markdown",
   "metadata": {},
   "source": [
    "## PREDICT CODE"
   ]
  },
  {
   "cell_type": "code",
   "execution_count": 15,
   "metadata": {},
   "outputs": [],
   "source": [
    "img_size = (224, 224)\n",
    "label_list = ['COVID','non-COVID']"
   ]
  },
  {
   "cell_type": "code",
   "execution_count": 10,
   "metadata": {},
   "outputs": [
    {
     "name": "stdout",
     "output_type": "stream",
     "text": [
      "WARNING:tensorflow:No training configuration found in save file, so the model was *not* compiled. Compile it manually.\n"
     ]
    }
   ],
   "source": [
    "# LOAD model\n",
    "model = tf.keras.models.load_model('../models/image_models/DenseNet201')"
   ]
  },
  {
   "cell_type": "code",
   "execution_count": 21,
   "metadata": {},
   "outputs": [],
   "source": [
    "# !saved_model_cli show --all --dir ../models/image_models/DenseNet201"
   ]
  },
  {
   "cell_type": "code",
   "execution_count": 16,
   "metadata": {},
   "outputs": [],
   "source": [
    "# image path\n",
    "\n",
    "# COVID\n",
    "image_path=\"./test_data/covid-1.png\"\n",
    "\n",
    "# NON-COVID\n",
    "# image_path = \"./test_data/normal-1.jpg\""
   ]
  },
  {
   "cell_type": "code",
   "execution_count": 19,
   "metadata": {},
   "outputs": [
    {
     "name": "stdout",
     "output_type": "stream",
     "text": [
      "경과 시간:  0.08185672760009766\n",
      "val:  0.0004235157393850386\n",
      "label:  COVID\n"
     ]
    }
   ],
   "source": [
    "# LOAD image and data preprocessing\n",
    "start_time = time.time()\n",
    "\n",
    "img = tf.keras.preprocessing.image.load_img(image_path, target_size=img_size)\n",
    "img = tf.keras.preprocessing.image.img_to_array(img)\n",
    "img /= 255.0\n",
    "img = np.expand_dims(img, axis=0)\n",
    "\n",
    "prediction = model.predict(img)\n",
    "\n",
    "end_time = time.time()\n",
    "\n",
    "elapsed_time = end_time - start_time\n",
    "print(\"경과 시간: \", elapsed_time)\n",
    "\n",
    "# print(\"prediction: \", prediction)\n",
    "\n",
    "val = prediction.item(0)\n",
    "print(\"val: \", val)\n",
    "\n",
    "idx = int(np.round(val))\n",
    "# print(\"idx: \", idx)\n",
    "\n",
    "label = label_list[idx]\n",
    "print(\"label: \", label)"
   ]
  },
  {
   "cell_type": "markdown",
   "metadata": {},
   "source": [
    "# TensorRT"
   ]
  },
  {
   "cell_type": "markdown",
   "metadata": {},
   "source": [
    "## TF-TRT FP32 model"
   ]
  },
  {
   "cell_type": "code",
   "execution_count": 20,
   "metadata": {},
   "outputs": [],
   "source": [
    "import tensorflow as tf\n",
    "import numpy as np\n",
    "import time\n",
    "import os\n",
    "\n",
    "from tqdm import tqdm\n",
    "from tensorflow.python.saved_model import tag_constants\n",
    "from tensorflow.python.compiler.tensorrt import trt_convert as trt"
   ]
  },
  {
   "cell_type": "code",
   "execution_count": 22,
   "metadata": {},
   "outputs": [
    {
     "name": "stdout",
     "output_type": "stream",
     "text": [
      "Converting to TF-TRT FP32...\n",
      "INFO:tensorflow:Linked TensorRT version: (7, 2, 1)\n",
      "INFO:tensorflow:Loaded TensorRT version: (7, 2, 1)\n",
      "INFO:tensorflow:Could not find TRTEngineOp_0_0 in TF-TRT cache. This can happen if build() is not called, which means TensorRT engines will be built and cached at runtime.\n",
      "INFO:tensorflow:Assets written to: ./model/FP32_saved_model/assets\n"
     ]
    }
   ],
   "source": [
    "print('Converting to TF-TRT FP32...')\n",
    "conversion_params = trt.DEFAULT_TRT_CONVERSION_PARAMS._replace(precision_mode=trt.TrtPrecisionMode.FP32,\n",
    "                                                               max_workspace_size_bytes=8000000000)\n",
    "\n",
    "converter = trt.TrtGraphConverterV2(input_saved_model_dir='../models/image_models/DenseNet201',\n",
    "                                    conversion_params=conversion_params)\n",
    "\n",
    "converter.convert()\n",
    "converter.save(output_saved_model_dir='./model/FP32_saved_model')"
   ]
  },
  {
   "cell_type": "code",
   "execution_count": 24,
   "metadata": {},
   "outputs": [],
   "source": [
    "# !saved_model_cli show --all --dir model/FP32_saved_model"
   ]
  },
  {
   "cell_type": "code",
   "execution_count": 25,
   "metadata": {},
   "outputs": [],
   "source": [
    "# LOAD FP32 saved model\n",
    "input_saved_model = \"./model/FP32_saved_model\"\n",
    "\n",
    "saved_model_loaded = tf.saved_model.load(input_saved_model, tags=[tag_constants.SERVING])"
   ]
  },
  {
   "cell_type": "code",
   "execution_count": 26,
   "metadata": {},
   "outputs": [
    {
     "name": "stdout",
     "output_type": "stream",
     "text": [
      "(1, 224, 224, 3)\n"
     ]
    }
   ],
   "source": [
    "img_size = (224, 224)\n",
    "label_list = ['COVID','non-COVID']\n",
    "\n",
    "# image path\n",
    "# COVID\n",
    "image_path=\"./test_data/covid-1.png\"\n",
    "\n",
    "# NON-COVID\n",
    "# image_path = \"./test_data/normal-1.jpg\"\n",
    "\n",
    "# LOAD image and data preprocessing\n",
    "img = tf.keras.preprocessing.image.load_img(image_path, target_size=img_size)\n",
    "img = tf.keras.preprocessing.image.img_to_array(img)\n",
    "img /= 255.0\n",
    "img = np.expand_dims(img, axis=0)\n",
    "img = tf.constant(img)\n",
    "\n",
    "print(img.shape)"
   ]
  },
  {
   "cell_type": "code",
   "execution_count": 28,
   "metadata": {},
   "outputs": [
    {
     "name": "stdout",
     "output_type": "stream",
     "text": [
      "['serving_default']\n",
      "{'relu': TensorSpec(shape=<unknown>, dtype=tf.float32, name='relu')}\n",
      "relu\n",
      "0.0004235160013195127\n",
      "label:  COVID\n"
     ]
    }
   ],
   "source": [
    "signature_keys = list(saved_model_loaded.signatures.keys())\n",
    "print(signature_keys)\n",
    "\n",
    "infer = saved_model_loaded.signatures['serving_default']\n",
    "print(infer.structured_outputs)\n",
    "\n",
    "pred = infer(img)\n",
    "# print(pred)\n",
    "\n",
    "key = list(pred.keys())[0]\n",
    "print(key)\n",
    "\n",
    "val = pred[key].numpy().item(0)\n",
    "print(val)\n",
    "\n",
    "idx = int(np.round(val))\n",
    "label = label_list[idx]\n",
    "\n",
    "print(\"label: \", label)"
   ]
  },
  {
   "cell_type": "markdown",
   "metadata": {},
   "source": [
    "### Predict Function"
   ]
  },
  {
   "cell_type": "code",
   "execution_count": 29,
   "metadata": {},
   "outputs": [],
   "source": [
    "# MAKE inference Function\n",
    "def predict_cxr(image_path):\n",
    "    img_size = (224, 224)\n",
    "    label_list = ['COVID','non-COVID']\n",
    "    img = tf.keras.preprocessing.image.load_img(image_path, target_size=img_size)\n",
    "    img = tf.keras.preprocessing.image.img_to_array(img)\n",
    "    img /= 255.0\n",
    "    img = np.expand_dims(img, axis=0)\n",
    "    img = tf.constant(img)\n",
    "    \n",
    "    signature_keys = list(saved_model_loaded.signatures.keys())\n",
    "    \n",
    "    infer = saved_model_loaded.signatures['serving_default']\n",
    "    \n",
    "    pred = infer(img)\n",
    "    \n",
    "    key = list(pred.keys())[0]\n",
    "    val = pred[key].numpy().item(0)\n",
    "    \n",
    "    idx = int(np.round(val))\n",
    "    label = label_list[idx]\n",
    "\n",
    "    return label"
   ]
  },
  {
   "cell_type": "code",
   "execution_count": 30,
   "metadata": {},
   "outputs": [],
   "source": [
    "# image path\n",
    "# COVID\n",
    "image_path=\"./test_data/covid-1.png\"\n",
    "\n",
    "# NON-COVID\n",
    "# image_path = \"./test_data/normal-1.jpg\""
   ]
  },
  {
   "cell_type": "code",
   "execution_count": 32,
   "metadata": {},
   "outputs": [
    {
     "name": "stdout",
     "output_type": "stream",
     "text": [
      "경과 시간:  0.020002126693725586\n",
      "label:  COVID\n"
     ]
    }
   ],
   "source": [
    "# PREDICT CXR image\n",
    "start_time = time.time()\n",
    "label = predict_cxr(image_path)\n",
    "end_time = time.time()\n",
    "\n",
    "elapsed_time = end_time - start_time\n",
    "print(\"경과 시간: \", elapsed_time)\n",
    "\n",
    "print(\"label: \", label)"
   ]
  },
  {
   "cell_type": "markdown",
   "metadata": {},
   "source": [
    "## TF-TRT FP16 model"
   ]
  },
  {
   "cell_type": "code",
   "execution_count": 34,
   "metadata": {},
   "outputs": [
    {
     "name": "stdout",
     "output_type": "stream",
     "text": [
      "Converting to TF-TRT FP16...\n",
      "INFO:tensorflow:Linked TensorRT version: (7, 2, 1)\n",
      "INFO:tensorflow:Loaded TensorRT version: (7, 2, 1)\n",
      "INFO:tensorflow:Could not find TRTEngineOp_1_0 in TF-TRT cache. This can happen if build() is not called, which means TensorRT engines will be built and cached at runtime.\n",
      "INFO:tensorflow:Assets written to: ./model/FP16_saved_model/assets\n",
      "Done Converting to TF-TRT FP16\n"
     ]
    }
   ],
   "source": [
    "print('Converting to TF-TRT FP16...')\n",
    "\n",
    "conversion_params = trt.DEFAULT_TRT_CONVERSION_PARAMS._replace(\n",
    "    precision_mode=trt.TrtPrecisionMode.FP16,\n",
    "    max_workspace_size_bytes=8000000000)\n",
    "\n",
    "converter = trt.TrtGraphConverterV2(\n",
    "   input_saved_model_dir='../models/image_models/DenseNet201', conversion_params=conversion_params)\n",
    "\n",
    "converter.convert()\n",
    "\n",
    "converter.save(output_saved_model_dir='./model/FP16_saved_model')\n",
    "\n",
    "print('Done Converting to TF-TRT FP16')"
   ]
  },
  {
   "cell_type": "code",
   "execution_count": 35,
   "metadata": {},
   "outputs": [],
   "source": [
    "# LOAD FP16 saved model\n",
    "input_saved_model = \"./model/FP16_saved_model\"\n",
    "\n",
    "saved_model_loaded = tf.saved_model.load(input_saved_model, tags=[tag_constants.SERVING])"
   ]
  },
  {
   "cell_type": "code",
   "execution_count": 38,
   "metadata": {},
   "outputs": [],
   "source": [
    "# image path\n",
    "# COVID\n",
    "image_path=\"./test_data/covid-1.png\"\n",
    "\n",
    "# NON-COVID\n",
    "# image_path = \"./test_data/normal-1.jpg\""
   ]
  },
  {
   "cell_type": "code",
   "execution_count": 41,
   "metadata": {},
   "outputs": [
    {
     "name": "stdout",
     "output_type": "stream",
     "text": [
      "경과 시간:  0.01824784278869629\n",
      "label:  COVID\n"
     ]
    }
   ],
   "source": [
    "# PREDICT CXR image\n",
    "start_time = time.time()\n",
    "label = predict_cxr(image_path)\n",
    "end_time = time.time()\n",
    "\n",
    "elapsed_time = end_time - start_time\n",
    "print(\"경과 시간: \", elapsed_time)\n",
    "\n",
    "print(\"label: \", label)"
   ]
  },
  {
   "cell_type": "markdown",
   "metadata": {},
   "source": [
    "# 실행 시간 비교하기"
   ]
  },
  {
   "cell_type": "code",
   "execution_count": 44,
   "metadata": {},
   "outputs": [],
   "source": [
    "def predict_cxr(image_path, saved_model):\n",
    "    img_size = (224, 224)\n",
    "    label_list = ['COVID','non-COVID']\n",
    "    img = tf.keras.preprocessing.image.load_img(image_path, target_size=img_size)\n",
    "    img = tf.keras.preprocessing.image.img_to_array(img)\n",
    "    img /= 255.0\n",
    "    img = np.expand_dims(img, axis=0)\n",
    "    img = tf.constant(img)\n",
    "    signature_keys = list(saved_model.signatures.keys())\n",
    "    infer = saved_model.signatures['serving_default']\n",
    "    pred = infer(img)\n",
    "    key = list(pred.keys())[0]\n",
    "    val = pred[key].numpy().item(0)\n",
    "    idx = int(np.round(val))\n",
    "    label = label_list[idx]\n",
    "    \n",
    "    return label"
   ]
  },
  {
   "cell_type": "code",
   "execution_count": 45,
   "metadata": {},
   "outputs": [],
   "source": [
    "# image path\n",
    "# COVID\n",
    "image_path=\"./test_data/covid-1.png\"\n",
    "\n",
    "# NON-COVID\n",
    "# image_path = \"./test_data/normal-1.jpg\""
   ]
  },
  {
   "cell_type": "markdown",
   "metadata": {},
   "source": [
    "### Load model"
   ]
  },
  {
   "cell_type": "code",
   "execution_count": 46,
   "metadata": {},
   "outputs": [],
   "source": [
    "native_model = tf.saved_model.load(\"../models/image_models/DenseNet201\", tags=[tag_constants.SERVING])"
   ]
  },
  {
   "cell_type": "code",
   "execution_count": 47,
   "metadata": {},
   "outputs": [],
   "source": [
    "FP32_model = tf.saved_model.load(\"./model/FP32_saved_model\", tags=[tag_constants.SERVING])"
   ]
  },
  {
   "cell_type": "code",
   "execution_count": 48,
   "metadata": {},
   "outputs": [],
   "source": [
    "FP16_model = tf.saved_model.load(\"./model/FP16_saved_model\", tags=[tag_constants.SERVING])"
   ]
  },
  {
   "cell_type": "code",
   "execution_count": 60,
   "metadata": {},
   "outputs": [
    {
     "name": "stdout",
     "output_type": "stream",
     "text": [
      "<tensorflow.python.saved_model.load.Loader._recreate_base_user_object.<locals>._UserObject object at 0x7ef727a28208>\n",
      "label: COVID, 경과 시간: 0.03979849815368652\n"
     ]
    }
   ],
   "source": [
    "start_time = time.time()\n",
    "label = predict_cxr(image_path, native_model)\n",
    "end_time = time.time()\n",
    "print(native_model)\n",
    "print(f\"label: {label}, 경과 시간: {end_time-start_time}\")"
   ]
  },
  {
   "cell_type": "code",
   "execution_count": 62,
   "metadata": {},
   "outputs": [
    {
     "name": "stdout",
     "output_type": "stream",
     "text": [
      "<tensorflow.python.saved_model.load.Loader._recreate_base_user_object.<locals>._UserObject object at 0x7ef6e8f5b7f0>\n",
      "label: COVID, 경과 시간: 0.019219636917114258\n"
     ]
    }
   ],
   "source": [
    "start_time = time.time()\n",
    "label = predict_cxr(image_path, FP32_model)\n",
    "end_time = time.time()\n",
    "print(FP32_model)\n",
    "print(f\"label: {label}, 경과 시간: {end_time-start_time}\")"
   ]
  },
  {
   "cell_type": "code",
   "execution_count": 63,
   "metadata": {},
   "outputs": [
    {
     "name": "stdout",
     "output_type": "stream",
     "text": [
      "<tensorflow.python.saved_model.load.Loader._recreate_base_user_object.<locals>._UserObject object at 0x7ef6767d3b70>\n",
      "label: COVID, 경과 시간: 0.016704559326171875\n"
     ]
    }
   ],
   "source": [
    "start_time = time.time()\n",
    "label = predict_cxr(image_path, FP16_model)\n",
    "end_time = time.time()\n",
    "print(FP16_model)\n",
    "print(f\"label: {label}, 경과 시간: {end_time-start_time}\")"
   ]
  },
  {
   "cell_type": "markdown",
   "metadata": {},
   "source": [
    "### 여러개를 예측할때 비교"
   ]
  },
  {
   "cell_type": "code",
   "execution_count": null,
   "metadata": {},
   "outputs": [],
   "source": []
  }
 ],
 "metadata": {
  "kernelspec": {
   "display_name": "Python 3",
   "language": "python",
   "name": "python3"
  },
  "language_info": {
   "codemirror_mode": {
    "name": "ipython",
    "version": 3
   },
   "file_extension": ".py",
   "mimetype": "text/x-python",
   "name": "python",
   "nbconvert_exporter": "python",
   "pygments_lexer": "ipython3",
   "version": "3.6.9"
  }
 },
 "nbformat": 4,
 "nbformat_minor": 4
}
