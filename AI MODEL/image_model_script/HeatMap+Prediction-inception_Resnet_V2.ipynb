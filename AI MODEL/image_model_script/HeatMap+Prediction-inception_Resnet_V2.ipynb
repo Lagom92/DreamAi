{
 "cells": [
  {
   "cell_type": "markdown",
   "metadata": {
    "id": "vRF-jrQpKW99"
   },
   "source": [
    "## HeatMap + Prediction - inception_Resnet_V2"
   ]
  },
  {
   "cell_type": "code",
   "execution_count": 1,
   "metadata": {
    "id": "6CbjVh94KVVW"
   },
   "outputs": [],
   "source": [
    "from keras.models import load_model\n",
    "from tensorflow import keras\n",
    "import tensorflow as tf\n",
    "import matplotlib.cm as cm\n",
    "import matplotlib.pyplot as plt \n",
    "import cv2 \n",
    "import numpy as np \n",
    "from PIL import Image"
   ]
  },
  {
   "cell_type": "markdown",
   "metadata": {
    "id": "kuIippDNAKE_"
   },
   "source": [
    "## 모델 불러오기"
   ]
  },
  {
   "cell_type": "code",
   "execution_count": 6,
   "metadata": {
    "colab": {
     "base_uri": "https://localhost:8080/",
     "height": 35
    },
    "executionInfo": {
     "elapsed": 7053,
     "status": "ok",
     "timestamp": 1600751869689,
     "user": {
      "displayName": "하얀토마토",
      "photoUrl": "https://lh3.googleusercontent.com/a-/AOh14Gg6vDBrxCTQgLfR3k4Ki87kEMHbAng403bLeTrH=s64",
      "userId": "01056407583135415771"
     },
     "user_tz": -540
    },
    "id": "C8gWXXpbetXl",
    "outputId": "0aa3e08c-43c0-4abf-9449-21e0598359f2"
   },
   "outputs": [],
   "source": [
    "model = load_model('../image_models/3class/covid_model_size299_best_new.h5')\n",
    "feature_model = keras.applications.inception_resnet_v2.InceptionResNetV2(include_top=False,\n",
    "                                                                        weights=\"imagenet\")"
   ]
  },
  {
   "cell_type": "code",
   "execution_count": null,
   "metadata": {
    "colab": {
     "base_uri": "https://localhost:8080/",
     "height": 464
    },
    "executionInfo": {
     "elapsed": 834,
     "status": "ok",
     "timestamp": 1600665369589,
     "user": {
      "displayName": "하얀토마토",
      "photoUrl": "https://lh3.googleusercontent.com/a-/AOh14Gg6vDBrxCTQgLfR3k4Ki87kEMHbAng403bLeTrH=s64",
      "userId": "01056407583135415771"
     },
     "user_tz": -540
    },
    "id": "uVmJNg0T_im_",
    "outputId": "10ad3711-c436-4f71-c8a5-4eb341283aae"
   },
   "outputs": [
    {
     "name": "stdout",
     "output_type": "stream",
     "text": [
      "WARNING:tensorflow:Unresolved object in checkpoint: (root).optimizer.iter\n",
      "WARNING:tensorflow:Unresolved object in checkpoint: (root).optimizer.decay\n",
      "WARNING:tensorflow:Unresolved object in checkpoint: (root).optimizer.learning_rate\n",
      "WARNING:tensorflow:Unresolved object in checkpoint: (root).optimizer.momentum\n",
      "WARNING:tensorflow:Unresolved object in checkpoint: (root).optimizer.rho\n",
      "WARNING:tensorflow:A checkpoint was restored (e.g. tf.train.Checkpoint.restore or tf.keras.Model.load_weights) but not all checkpointed values were used. See above for specific issues. Use expect_partial() on the load status object, e.g. tf.train.Checkpoint.restore(...).expect_partial(), to silence these warnings, or use assert_consumed() to make the check explicit. See https://www.tensorflow.org/guide/checkpoint#loading_mechanics for details.\n",
      "Model: \"functional_7\"\n",
      "_________________________________________________________________\n",
      "Layer (type)                 Output Shape              Param #   \n",
      "=================================================================\n",
      "input_4 (InputLayer)         [(None, None, None, 1536) 0         \n",
      "_________________________________________________________________\n",
      "global_average_pooling2d_3 ( (None, 1536)              0         \n",
      "_________________________________________________________________\n",
      "dense_6 (Dense)              (None, 512)               786944    \n",
      "_________________________________________________________________\n",
      "dropout_3 (Dropout)          (None, 512)               0         \n",
      "_________________________________________________________________\n",
      "dense_7 (Dense)              (None, 3)                 1539      \n",
      "=================================================================\n",
      "Total params: 788,483\n",
      "Trainable params: 788,483\n",
      "Non-trainable params: 0\n",
      "_________________________________________________________________\n"
     ]
    }
   ],
   "source": [
    "# from tensorflow.keras.models import Model\n",
    "# from tensorflow.keras.layers import Dense, GlobalAveragePooling2D\n",
    "# from tensorflow.keras.layers import Input\n",
    "\n",
    "# checkpoint_path = '/content/drive/My Drive/인공지능 학습관련/covid19_detection_model_2'\n",
    "\n",
    "# def create_model():\n",
    "#     input = Input(shape=feature_model.output.shape[1:])\n",
    "\n",
    "#     x = GlobalAveragePooling2D()(input)\n",
    "\n",
    "#     x = Dense(512, activation='relu')(x)\n",
    "\n",
    "#     x = tf.keras.layers.Dropout(0.5)(x)\n",
    "\n",
    "#     predictions = Dense(3, activation='softmax')(x)\n",
    "\n",
    "#     model = Model(inputs=input, outputs=predictions)\n",
    "#     model.compile(tf.optimizers.RMSprop(0.0001), \n",
    "#                 loss = 'categorical_crossentropy',\n",
    "#                 metrics=['accuracy'])\n",
    "#     return model\n",
    "\n",
    "# model2 = create_model()\n",
    "# # 가중치 로드\n",
    "# model2.load_weights(checkpoint_path)\n",
    "# model2.summary()"
   ]
  },
  {
   "cell_type": "code",
   "execution_count": null,
   "metadata": {
    "id": "LtTpKAHWWs2q"
   },
   "outputs": [],
   "source": [
    "# model2 = load_model('/content/drive/My Drive/인공지능 학습관련/covid_model_size299_best.h5')\n",
    "# # feature_model2 = load_model('/content/drive/My Drive/인공지능 학습관련/feature_model299.h5')"
   ]
  },
  {
   "cell_type": "markdown",
   "metadata": {
    "id": "TD4Vay5lAHxG"
   },
   "source": [
    "## 함수들"
   ]
  },
  {
   "cell_type": "code",
   "execution_count": 20,
   "metadata": {
    "id": "A141UJts_l22"
   },
   "outputs": [],
   "source": [
    "# 이미지 전처리\n",
    "def get_img_array(img_path, size):\n",
    "    # `img` is a PIL image of size 224*224\n",
    "    img = keras.preprocessing.image.load_img(img_path, target_size=size)\n",
    "    # `array` is a float32 Numpy array of shape (299, 299, 3)\n",
    "    array = keras.preprocessing.image.img_to_array(img)\n",
    "    # We add a dimension to transform our array into a \"batch\"\n",
    "    # of size (1, 299, 299, 3)\n",
    "    array = np.expand_dims(array, axis=0)\n",
    "    return array\n",
    "\n",
    "#  히트맵 생성\n",
    "def make_gradcam_heatmap(img_path, classifier_model, last_conv_layer_model):\n",
    "    img_size = (299, 299)\n",
    "    img_array = preprocess_input(get_img_array(img_path, size=img_size))\n",
    "\n",
    "\n",
    "    with tf.GradientTape() as tape:\n",
    "        # Compute activations of the last conv layer and make the tape watch it\n",
    "        last_conv_layer_output = last_conv_layer_model(img_array)\n",
    "        tape.watch(last_conv_layer_output)\n",
    "        # Compute class predictions\n",
    "        preds = classifier_model(last_conv_layer_output)\n",
    "        print(preds)\n",
    "        top_pred_index = tf.argmax(preds[0])\n",
    "        print(top_pred_index)\n",
    "        top_class_channel = preds[:, top_pred_index]\n",
    "        print(top_class_channel)\n",
    "\n",
    "    # This is the gradient of the top predicted class with regard to\n",
    "    # the output feature map of the last conv layer\n",
    "    grads = tape.gradient(top_class_channel, last_conv_layer_output)\n",
    "    print(grads)\n",
    "    # print(top_class_channel.shape, last_conv_layer_output.shape)\n",
    "    # print(grads.shape)\n",
    "    # This is a vector where each entry is the mean intensity of the gradient\n",
    "    # over a specific feature map channel\n",
    "    pooled_grads = tf.reduce_mean(grads, axis=(0, 1, 2))\n",
    "\n",
    "    # We multiply each channel in the feature map array\n",
    "    # by \"how important this channel is\" with regard to the top predicted class\n",
    "    last_conv_layer_output = last_conv_layer_output.numpy()[0]\n",
    "    pooled_grads = pooled_grads.numpy()\n",
    "    for i in range(pooled_grads.shape[-1]):\n",
    "        last_conv_layer_output[:, :, i] *= pooled_grads[i]\n",
    "\n",
    "    # The channel-wise mean of the resulting feature map\n",
    "    # is our heatmap of class activation\n",
    "    heatmap = np.mean(last_conv_layer_output, axis=-1)\n",
    "\n",
    "    # For visualization purpose, we will also normalize the heatmap between 0 & 1\n",
    "    heatmap = np.maximum(heatmap, 0) / np.max(heatmap)\n",
    "\n",
    "    # 보정 -- 이미지의 최 외곽부 모두 0\n",
    "    a = np.vstack((np.zeros(heatmap[:1].shape),heatmap[1:-1]))\n",
    "    a = np.vstack((a[:-1],np.zeros(heatmap[-1:].shape)))\n",
    "    for i in a:\n",
    "        i[0] = 0\n",
    "        i[-1] = 0\n",
    "    heatmap = a\n",
    "\n",
    "    return heatmap\n",
    "\n",
    "# 감마보정\n",
    "# gamma correction \n",
    "def gamma_correction(img, c=1, g=2.2): \n",
    "    out = img.copy() \n",
    "    out /= 255. \n",
    "    out = (1/c * out) ** (1/g) \n",
    "    out *= 255 \n",
    "    out = out.astype(np.uint8) \n",
    "    return out \n",
    "\n",
    "# CAM이미지 + 원본\n",
    "def show_CAM(img_path, heatmap, prediction):\n",
    "    # We load the original image\n",
    "    img = keras.preprocessing.image.load_img(img_path)\n",
    "    img = keras.preprocessing.image.img_to_array(img)\n",
    "\n",
    "    # We rescale heatmap to a range 0-255\n",
    "    heatmap = np.uint8(255 * heatmap)\n",
    "\n",
    "    # We use jet colormap to colorize heatmap\n",
    "    jet = cm.get_cmap(\"Reds\")\n",
    "\n",
    "    # We use RGB values of the colormap\n",
    "    jet_colors = jet(np.arange(256))[:, :3]\n",
    "    jet_heatmap = jet_colors[heatmap]\n",
    "\n",
    "    # We create an image with RGB colorized heatmap\n",
    "    jet_heatmap = keras.preprocessing.image.array_to_img(jet_heatmap)\n",
    "    jet_heatmap = jet_heatmap.resize((img.shape[1], img.shape[0]))\n",
    "    jet_heatmap = keras.preprocessing.image.img_to_array(jet_heatmap)\n",
    "    \n",
    "    # gamma correction\n",
    "    jet_heatmap = gamma_correction(jet_heatmap, g=2.2)\n",
    "\n",
    "    # Superimpose the heatmap on original image\n",
    "    if prediction =='NORMAL':\n",
    "        superimposed_img = img\n",
    "    else:\n",
    "        superimposed_img = jet_heatmap *0.5 + img\n",
    "    superimposed_img = keras.preprocessing.image.array_to_img(superimposed_img)\n",
    "\n",
    "    return superimposed_img\n",
    "\n",
    "# 예측함수\n",
    "# opencv의 resize에서 오류가 발생하여 keras.preprocessing.image의 함수들을 사용하였다.\n",
    "def predict_CXR(image_path):\n",
    "\n",
    "    # 이미지 불러오기 및 이미지 크기 조정\n",
    "    img = keras.preprocessing.image.load_img(img_path, target_size=img_size)\n",
    "    \n",
    "    # 이미지를 array로 변경\n",
    "    img = keras.preprocessing.image.img_to_array(img)\n",
    "    # 각 픽셀값을 0과 1사이의 값으로 조정\n",
    "    img = img / 255.0\n",
    "    \n",
    "    # 모델의 인풋 타입에 맞게 차원을 하나 늘림\n",
    "    img = np.expand_dims(img, axis=0)\n",
    "\n",
    "    # feature_model에서 feature 추출\n",
    "    feature_vector = feature_model.predict(img)\n",
    "    # 앞서 생성한 model 분류기를 통해 예측 수행\n",
    "    prediction = model.predict(feature_vector)[0]\n",
    "    # print(prediction)\n",
    "    \n",
    "    unique_sorted_Y = ['COVID','NORMAL','PNEUMONIA']\n",
    "    #확률의 예측값을 5개 선출 \n",
    "    # 가장 예측값이 높은 인덱스를 반환\n",
    "    index = prediction.argmax()\n",
    "\n",
    "    # labels에 저장 \n",
    "    label = unique_sorted_Y[index]\n",
    "    # print(label)\n",
    "\n",
    "    top_3_predict = prediction.argsort()[::-1][:3]\n",
    "    # print(top_3_predict)\n",
    "    #labels에 저장 \n",
    "    labels = [unique_sorted_Y[index] for index in top_3_predict]\n",
    "    color = ['blue'] * 3\n",
    "\n",
    "\n",
    "    # show portion\n",
    "    text = []\n",
    "    text = prediction[top_3_predict][::-1] * 100\n",
    "    # print(text)\n",
    "    rects = plt.barh(range(3), text, color = color)\n",
    "    plt.yticks(np.arange(3), labels[::-1], rotation=45)\n",
    "    plt.xlim(0,100)\n",
    "\n",
    "    # plt.rc('font', size=10)\n",
    "    for i, rect in enumerate(rects):\n",
    "        plt.text(rect.get_width(), rect.get_y() + rect.get_height() / 2.0, str(round(text[i], 1)) + '%', ha='left', va='center')\n",
    "\n",
    "    plt.show()\n",
    "    return label"
   ]
  },
  {
   "cell_type": "markdown",
   "metadata": {
    "id": "h1zzvKCWNP8B"
   },
   "source": [
    "valid_data_path를 가져오기 위한 코드"
   ]
  },
  {
   "cell_type": "code",
   "execution_count": null,
   "metadata": {
    "colab": {
     "base_uri": "https://localhost:8080/",
     "height": 88
    },
    "executionInfo": {
     "elapsed": 1199,
     "status": "ok",
     "timestamp": 1600751877123,
     "user": {
      "displayName": "하얀토마토",
      "photoUrl": "https://lh3.googleusercontent.com/a-/AOh14Gg6vDBrxCTQgLfR3k4Ki87kEMHbAng403bLeTrH=s64",
      "userId": "01056407583135415771"
     },
     "user_tz": -540
    },
    "id": "Npt5aMJoNPIT",
    "outputId": "71359a90-d88f-4702-c886-6fceb572a5dc"
   },
   "outputs": [
    {
     "name": "stdout",
     "output_type": "stream",
     "text": [
      "Found 831 images belonging to 2 classes.\n",
      "Found 207 images belonging to 2 classes.\n",
      "831\n",
      "207\n"
     ]
    }
   ],
   "source": [
    "from tensorflow.python.keras.preprocessing.image import ImageDataGenerator\n",
    "from keras.applications.inception_resnet_v2 import preprocess_input\n",
    "\n",
    "image_size = 299\n",
    "batch_size = 1\n",
    "valid_size = 1\n",
    "# 학습 및 검증 데이터용 ImageDataGenerator 생성해 놓기 \n",
    "train_datagen = ImageDataGenerator(rescale=1./255., \n",
    "                                   validation_split = 0.20)\n",
    "\n",
    "#검증데이터는 정규화 외에 따로 조정 없음 \n",
    "valid_datagen = ImageDataGenerator(rescale=1./255., \n",
    "                                   validation_split = 0.20)\n",
    "\n",
    "#flow_from_directory()는 앞서 배운 flow()와 비슷, 단 경로를 통채로 가져올 수 있음 \n",
    "# seed 값이 같으므로 train subset과 validation subset이 중복될 일은 없다.\n",
    "# batch_size = 32, shuffle=True이므로 랜덤하게 32개의 이미지를 디렉토리에서 골라서 보강하여 반환한다.\n",
    "train_generator = train_datagen.flow_from_directory(directory = '/content/drive/My Drive/인공지능 학습관련/TEST용파일', #저장 경로 \n",
    "                                                    subset = 'training',   \n",
    "                                                    batch_size = batch_size,\n",
    "                                                    seed = 126,\n",
    "                                                    shuffle = True,\n",
    "                                                    class_mode = 'categorical',\n",
    "                                                    target_size = (image_size,image_size))\n",
    "\n",
    "valid_generator = valid_datagen.flow_from_directory(directory = '/content/drive/My Drive/인공지능 학습관련/TEST용파일',\n",
    "                                                    subset = 'validation',\n",
    "                                                    batch_size = valid_size,\n",
    "                                                    seed = 126,\n",
    "                                                    shuffle = True,\n",
    "                                                    class_mode = 'categorical',\n",
    "                                                    target_size = (image_size,image_size))\n",
    "print(train_generator.n)\n",
    "print(valid_generator.n)\n"
   ]
  },
  {
   "cell_type": "markdown",
   "metadata": {
    "id": "82NhlOP7A7lf"
   },
   "source": [
    "## 실행부분"
   ]
  },
  {
   "cell_type": "code",
   "execution_count": 21,
   "metadata": {
    "id": "1VgUooO8_l4_"
   },
   "outputs": [
    {
     "data": {
      "image/png": "[encoded data removed]",
      "text/plain": [
       "<Figure size 432x288 with 1 Axes>"
      ]
     },
     "metadata": {
      "needs_background": "light"
     },
     "output_type": "display_data"
    },
    {
     "name": "stdout",
     "output_type": "stream",
     "text": [
      "tf.Tensor([[9.9995732e-01 2.1152093e-05 2.1607531e-05]], shape=(1, 3), dtype=float32)\n",
      "tf.Tensor(0, shape=(), dtype=int64)\n",
      "tf.Tensor([0.9999573], shape=(1,), dtype=float32)\n",
      "tf.Tensor(\n",
      "[[[[-2.7505580e-08  1.5952260e-07 -7.8245151e-08 ...  1.0373347e-07\n",
      "    -8.5228351e-08  5.2250215e-07]\n",
      "   [-2.7505580e-08  1.5952260e-07 -7.8245151e-08 ...  1.0373347e-07\n",
      "    -8.5228351e-08  5.2250215e-07]\n",
      "   [-2.7505580e-08  1.5952260e-07 -7.8245151e-08 ...  1.0373347e-07\n",
      "    -8.5228351e-08  5.2250215e-07]\n",
      "   ...\n",
      "   [-2.7505580e-08  1.5952260e-07 -7.8245151e-08 ...  1.0373347e-07\n",
      "    -8.5228351e-08  5.2250215e-07]\n",
      "   [-2.7505580e-08  1.5952260e-07 -7.8245151e-08 ...  1.0373347e-07\n",
      "    -8.5228351e-08  5.2250215e-07]\n",
      "   [-2.7505580e-08  1.5952260e-07 -7.8245151e-08 ...  1.0373347e-07\n",
      "    -8.5228351e-08  5.2250215e-07]]\n",
      "\n",
      "  [[-2.7505580e-08  1.5952260e-07 -7.8245151e-08 ...  1.0373347e-07\n",
      "    -8.5228351e-08  5.2250215e-07]\n",
      "   [-2.7505580e-08  1.5952260e-07 -7.8245151e-08 ...  1.0373347e-07\n",
      "    -8.5228351e-08  5.2250215e-07]\n",
      "   [-2.7505580e-08  1.5952260e-07 -7.8245151e-08 ...  1.0373347e-07\n",
      "    -8.5228351e-08  5.2250215e-07]\n",
      "   ...\n",
      "   [-2.7505580e-08  1.5952260e-07 -7.8245151e-08 ...  1.0373347e-07\n",
      "    -8.5228351e-08  5.2250215e-07]\n",
      "   [-2.7505580e-08  1.5952260e-07 -7.8245151e-08 ...  1.0373347e-07\n",
      "    -8.5228351e-08  5.2250215e-07]\n",
      "   [-2.7505580e-08  1.5952260e-07 -7.8245151e-08 ...  1.0373347e-07\n",
      "    -8.5228351e-08  5.2250215e-07]]\n",
      "\n",
      "  [[-2.7505580e-08  1.5952260e-07 -7.8245151e-08 ...  1.0373347e-07\n",
      "    -8.5228351e-08  5.2250215e-07]\n",
      "   [-2.7505580e-08  1.5952260e-07 -7.8245151e-08 ...  1.0373347e-07\n",
      "    -8.5228351e-08  5.2250215e-07]\n",
      "   [-2.7505580e-08  1.5952260e-07 -7.8245151e-08 ...  1.0373347e-07\n",
      "    -8.5228351e-08  5.2250215e-07]\n",
      "   ...\n",
      "   [-2.7505580e-08  1.5952260e-07 -7.8245151e-08 ...  1.0373347e-07\n",
      "    -8.5228351e-08  5.2250215e-07]\n",
      "   [-2.7505580e-08  1.5952260e-07 -7.8245151e-08 ...  1.0373347e-07\n",
      "    -8.5228351e-08  5.2250215e-07]\n",
      "   [-2.7505580e-08  1.5952260e-07 -7.8245151e-08 ...  1.0373347e-07\n",
      "    -8.5228351e-08  5.2250215e-07]]\n",
      "\n",
      "  ...\n",
      "\n",
      "  [[-2.7505580e-08  1.5952260e-07 -7.8245151e-08 ...  1.0373347e-07\n",
      "    -8.5228351e-08  5.2250215e-07]\n",
      "   [-2.7505580e-08  1.5952260e-07 -7.8245151e-08 ...  1.0373347e-07\n",
      "    -8.5228351e-08  5.2250215e-07]\n",
      "   [-2.7505580e-08  1.5952260e-07 -7.8245151e-08 ...  1.0373347e-07\n",
      "    -8.5228351e-08  5.2250215e-07]\n",
      "   ...\n",
      "   [-2.7505580e-08  1.5952260e-07 -7.8245151e-08 ...  1.0373347e-07\n",
      "    -8.5228351e-08  5.2250215e-07]\n",
      "   [-2.7505580e-08  1.5952260e-07 -7.8245151e-08 ...  1.0373347e-07\n",
      "    -8.5228351e-08  5.2250215e-07]\n",
      "   [-2.7505580e-08  1.5952260e-07 -7.8245151e-08 ...  1.0373347e-07\n",
      "    -8.5228351e-08  5.2250215e-07]]\n",
      "\n",
      "  [[-2.7505580e-08  1.5952260e-07 -7.8245151e-08 ...  1.0373347e-07\n",
      "    -8.5228351e-08  5.2250215e-07]\n",
      "   [-2.7505580e-08  1.5952260e-07 -7.8245151e-08 ...  1.0373347e-07\n",
      "    -8.5228351e-08  5.2250215e-07]\n",
      "   [-2.7505580e-08  1.5952260e-07 -7.8245151e-08 ...  1.0373347e-07\n",
      "    -8.5228351e-08  5.2250215e-07]\n",
      "   ...\n",
      "   [-2.7505580e-08  1.5952260e-07 -7.8245151e-08 ...  1.0373347e-07\n",
      "    -8.5228351e-08  5.2250215e-07]\n",
      "   [-2.7505580e-08  1.5952260e-07 -7.8245151e-08 ...  1.0373347e-07\n",
      "    -8.5228351e-08  5.2250215e-07]\n",
      "   [-2.7505580e-08  1.5952260e-07 -7.8245151e-08 ...  1.0373347e-07\n",
      "    -8.5228351e-08  5.2250215e-07]]\n",
      "\n",
      "  [[-2.7505580e-08  1.5952260e-07 -7.8245151e-08 ...  1.0373347e-07\n",
      "    -8.5228351e-08  5.2250215e-07]\n",
      "   [-2.7505580e-08  1.5952260e-07 -7.8245151e-08 ...  1.0373347e-07\n",
      "    -8.5228351e-08  5.2250215e-07]\n",
      "   [-2.7505580e-08  1.5952260e-07 -7.8245151e-08 ...  1.0373347e-07\n",
      "    -8.5228351e-08  5.2250215e-07]\n",
      "   ...\n",
      "   [-2.7505580e-08  1.5952260e-07 -7.8245151e-08 ...  1.0373347e-07\n",
      "    -8.5228351e-08  5.2250215e-07]\n",
      "   [-2.7505580e-08  1.5952260e-07 -7.8245151e-08 ...  1.0373347e-07\n",
      "    -8.5228351e-08  5.2250215e-07]\n",
      "   [-2.7505580e-08  1.5952260e-07 -7.8245151e-08 ...  1.0373347e-07\n",
      "    -8.5228351e-08  5.2250215e-07]]]], shape=(1, 8, 8, 1536), dtype=float32)\n",
      "COVID negative\n"
     ]
    },
    {
     "data": {
      "image/png": "[encoded data removed]",
      "text/plain": [
       "<Figure size 432x288 with 1 Axes>"
      ]
     },
     "metadata": {
      "needs_background": "light"
     },
     "output_type": "display_data"
    }
   ],
   "source": [
    "from keras.applications.inception_resnet_v2 import preprocess_input\n",
    "import random\n",
    "\n",
    "img_size = (299, 299)\n",
    "iter = 1\n",
    "# plt.figure(figsize=(16,iter*3))\n",
    "predictY = []\n",
    "realY = []\n",
    "\n",
    "\n",
    "for i in range(iter):\n",
    "    # The local path to our target image\n",
    "    img_path = '../test/negative/normal18.jpg'\n",
    "    real_y = img_path.split('/')[-2]\n",
    "\n",
    "    # prediction\n",
    "    prediction = predict_CXR(img_path)\n",
    "\n",
    "#     Generate class activation map\n",
    "    heatmap = make_gradcam_heatmap(img_path, model, feature_model)\n",
    "    # Calss Activation Map with image\n",
    "    cam_image = show_CAM(img_path, heatmap, prediction)\n",
    "    plt.subplot(iter, 2, i+1)\n",
    "    plt.imshow(cam_image)\n",
    "    plt.title(prediction)\n",
    "    plt.axis('off')\n",
    "\n",
    "    #  # Save the superimposed image\n",
    "    save_path = \"CXR_cam.jpg\"\n",
    "    cam_image.save(save_path)\n",
    "\n",
    "    predictY.append(prediction)\n",
    "    realY.append(real_y)\n",
    "    print(prediction, real_y)\n",
    "    # print(prediction)\n",
    "    \n",
    "\n"
   ]
  },
  {
   "cell_type": "markdown",
   "metadata": {
    "id": "CByYhWw4aUkb"
   },
   "source": [
    "이미지 전처리 방법 --- opencv의 resize는 오류가 발생(colab에서는 잘 돌아감)\n"
   ]
  },
  {
   "cell_type": "code",
   "execution_count": null,
   "metadata": {
    "colab": {
     "base_uri": "https://localhost:8080/",
     "height": 284
    },
    "executionInfo": {
     "elapsed": 1956,
     "status": "ok",
     "timestamp": 1600318492106,
     "user": {
      "displayName": "하얀토마토",
      "photoUrl": "https://lh3.googleusercontent.com/a-/AOh14Gg6vDBrxCTQgLfR3k4Ki87kEMHbAng403bLeTrH=s64",
      "userId": "01056407583135415771"
     },
     "user_tz": -540
    },
    "id": "NzhGdK9a_mAm",
    "outputId": "7d7d6a27-6492-470a-beaa-337dc3452d6a"
   },
   "outputs": [
    {
     "name": "stdout",
     "output_type": "stream",
     "text": [
      "(299, 299, 3)\n"
     ]
    },
    {
     "data": {
      "text/plain": [
       "(-0.5, 298.5, 298.5, -0.5)"
      ]
     },
     "execution_count": 11,
     "metadata": {
      "tags": []
     },
     "output_type": "execute_result"
    },
    {
     "data": {
      "image/png": "[encoded data removed]",
      "text/plain": [
       "<Figure size 432x288 with 1 Axes>"
      ]
     },
     "metadata": {
      "needs_background": "light",
      "tags": []
     },
     "output_type": "display_data"
    }
   ],
   "source": [
    "img_path = random.choice(valid_generator.filepaths)\n",
    "img_size = (299, 299)\n",
    "# img_array = preprocess_input(get_img_array(img_path, size=img_size))\n",
    "\n",
    "img = keras.preprocessing.image.load_img(img_path, target_size=img_size)\n",
    "img = keras.preprocessing.image.img_to_array(img)\n",
    "print(img.shape)\n",
    "img = keras.preprocessing.image.array_to_img(img)\n",
    "plt.imshow(img)\n",
    "\n",
    "plt.axis('off')"
   ]
  },
  {
   "cell_type": "code",
   "execution_count": null,
   "metadata": {
    "id": "q6qj_KnF_mCy"
   },
   "outputs": [],
   "source": [
    "import os\n",
    "def predict_CXR(image_path, model, feature_model):\n",
    "\n",
    "    img_size = (299, 299)\n",
    "    \n",
    "    # image = Image.open(image_path)\n",
    "    # image_type = image.filename.split('.')[-1] # 확장자\n",
    "    # print(image_type)\n",
    "    # image_dir = image.filename.split('.')[0] # 파일 디렉토리\n",
    "    # if str.lower(image_type) != 'jpg':\n",
    "    #     image = image.convert(\"RGB\")\n",
    "    #     new_dir = image_dir + '.jpg'\n",
    "    #     image.save(  new_dir , 'jpeg')\n",
    "    #     os.remove(image_path)\n",
    "    #     image_path = new_dir  # 새로운 확장자 디렉토리\n",
    "    #     print(new_dir)\n",
    "    real_y = image_path.split('/')[-2]\n",
    "    if real_y == 'ViralPneumonia' or real_y =='BacterialPneumonia':\n",
    "        real_y = 'PNEUMONIA'\n",
    "    elif real_y == 'Normal':\n",
    "        real_y = 'NORMAL'\n",
    "    elif real_y == 'COVID-19':\n",
    "        real_y = 'COVID'\n",
    "\n",
    "    \n",
    "\n",
    "    # 이미지 불러오기 및 이미지 크기 조정   \n",
    "    img = keras.preprocessing.image.load_img(image_path, target_size=img_size)\n",
    "    # 이미지를 array로 변경\n",
    "    img = keras.preprocessing.image.img_to_array(img)\n",
    "    # 각 픽셀값을 0과 1사이의 값으로 조정\n",
    "    img = img / 255.0\n",
    "    # 모델의 인풋 타입에 맞게 차원을 하나 늘림\n",
    "    img = np.expand_dims(img, axis=0)\n",
    "    # feature_model에서 feature 추출\n",
    "    feature_vector = feature_model.predict(img)\n",
    "    # 앞서 생성한 model 분류기를 통해 예측 수행\n",
    "    prediction = model.predict(feature_vector)[0]\n",
    "    # print(prediction)\n",
    "    unique_sorted_Y = ['COVID19','NORMAL','PNEUMONIA']\n",
    "\n",
    "    top_3_predict = prediction.argsort()[::-1][:3]\n",
    "    # print(top_3_predict)\n",
    "    #labels에 저장 \n",
    "    labels = [unique_sorted_Y[index] for index in top_3_predict]\n",
    "    # color = ['blue'] * 3\n",
    "\n",
    "\n",
    "    # # show portion\n",
    "    # text = []\n",
    "    # text = prediction[top_3_predict][::-1] * 100\n",
    "    # # print(text)\n",
    "    # rects = plt.barh(range(3), text, color = color)\n",
    "    # plt.yticks(np.arange(3), labels[::-1], rotation=45)\n",
    "    # plt.xlim(0,100)\n",
    "\n",
    "    # # plt.rc('font', size=10)\n",
    "    # for i, rect in enumerate(rects):\n",
    "    #     plt.text(rect.get_width(), rect.get_y() + rect.get_height() / 2.0, str(round(text[i], 1)) + '%', ha='left', va='center')\n",
    "\n",
    "    # plt.show()\n",
    "    # plt.draw()\n",
    "    # plt.savefig('media/prediction_plot.jpg')\n",
    "    # plot = keras.preprocessing.image.load_img('media/prediction_plot.jpg')\n",
    "    # os.remove('media/prediction_plot.jpg')\n",
    "    # plt.clf()\n",
    "\n",
    "    # os.remove(image_path)\n",
    "    print(labels[0], real_y)\n",
    "    return labels[0]\n",
    "\n",
    "\n",
    "iter = 100\n",
    "for i in range(iter):\n",
    "    img_path = random.choice(valid_generator.filepaths)\n",
    "    # img_path = '/content/lobar-pneumonia.jpg'\n",
    "    prediction = predict_CXR(img_path, model, feature_model)\n",
    "    # print(prediction)"
   ]
  },
  {
   "cell_type": "code",
   "execution_count": null,
   "metadata": {
    "id": "Y14xVbJi_mE2"
   },
   "outputs": [],
   "source": [
    "model = load_model('/content/drive/My Drive/인공지능 학습관련/covid_model_size299_4_best')"
   ]
  },
  {
   "cell_type": "code",
   "execution_count": null,
   "metadata": {
    "id": "Dv5X64q5399Y"
   },
   "outputs": [],
   "source": []
  }
 ],
 "metadata": {
  "accelerator": "GPU",
  "colab": {
   "authorship_tag": "ABX9TyPxqHaYymrtEZC9DUzckctp",
   "collapsed_sections": [],
   "machine_shape": "hm",
   "mount_file_id": "1ixkOFzHgOPCDKlL7-2sNW6BARVMddk1i",
   "name": "HeatMap+Prediction-inception_Resnet_V2.ipynb",
   "provenance": [],
   "toc_visible": true
  },
  "kernelspec": {
   "display_name": "Python 3",
   "language": "python",
   "name": "python3"
  },
  "language_info": {
   "codemirror_mode": {
    "name": "ipython",
    "version": 3
   },
   "file_extension": ".py",
   "mimetype": "text/x-python",
   "name": "python",
   "nbconvert_exporter": "python",
   "pygments_lexer": "ipython3",
   "version": "3.7.6"
  }
 },
 "nbformat": 4,
 "nbformat_minor": 1
}
